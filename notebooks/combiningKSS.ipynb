{
 "cells": [
  {
   "cell_type": "markdown",
   "id": "a3258aba",
   "metadata": {
    "toc": true
   },
   "source": [
    "<h1>Table of Contents<span class=\"tocSkip\"></span></h1>\n",
    "<div class=\"toc\"><ul class=\"toc-item\"></ul></div>"
   ]
  },
  {
   "cell_type": "code",
   "execution_count": null,
   "id": "4fe22e2a",
   "metadata": {},
   "outputs": [],
   "source": [
    "## files and direcotries\n",
    "kdd_dir = 'path'\n",
    "file_path = '/Users/zohre/code/Jackfn96/dataset/with_annotation/videos/'\n",
    "\n",
    "files = [f[:-4] for f in os.listdir(file_path) if os.path.isfile(os.path.join(file_path, f))]\n",
    "files.sort()\n",
    "print(len(files))"
   ]
  },
  {
   "cell_type": "code",
   "execution_count": null,
   "id": "714e1e86",
   "metadata": {},
   "outputs": [],
   "source": [
    "## parameters\n",
    "fps = 1/2 # \n",
    "for file_name in files:\n",
    "    video_annot_df = pd.read_csv(f'{root_dir}{file_name}.mp4.csv', sep=';')\n",
    "    video_annot_df.drop('Unnamed: 0', inplace=True, axis=1)\n",
    "    video_annot_df['exp_id'] = file_name\n",
    "    video_annot_df = timestamp_formatting(video_annot_df, 'timestamp_lena')\n",
    "    video_annot_df['event_onset'] = video_annot_df['Instant']/1000\n",
    "    video_annot_df['event_end'] = video_annot_df['event_onset'] + video_annot_df['duree']\n",
    "    print('the shape of video annotation dataframe is', video_annot_df.shape)\n",
    "\n",
    "    ## kss dataframe\n",
    "    df = pd.read_csv(f'{root_dir}{file_name}.csv', sep=';') # temporary df to load kss file\n",
    "    df.drop(columns = ['Unnamed: 0', 'Unnamed: 4'], inplace=True, axis=1)\n",
    "    video_dur = df.iloc[4, :].values\n",
    "    print(f'{file_name} : {video_dur}')\n",
    "    column_names = df.iloc[6, :].values\n",
    "    kss_raw_df = pd.DataFrame(df.iloc[7:, :].values, columns = column_names)\n",
    "    kss_raw_df.drop('Buffer', inplace = True, axis=1)\n",
    "    print('the shape of kss data frame is', kss_raw_df.shape)\n",
    "    \n",
    "    ## correction of kss_raw_df\n",
    "    frame_numbers = int(video_dur[1])*60 + int(video_dur[2])\n",
    "    onset= int(kss_raw_df.iloc[0,0].split('-')[0].split(':')[1])\n",
    "    ## alternatively if you don't have the interval columns, you can use \n",
    "    # hand_sign = df.iloc[3, :].values\n",
    "    # onset =  int(hand_sign[1])*60 + int(hand_sign[2])\n",
    "    \n",
    "    ## kss_interval is probably constant for all experiments ~ 300s\n",
    "    kss_interval = int(kss_raw_df.iloc[0,0].split('-')[1].split(':')[0])*60\n",
    "    \n",
    "    \n",
    "    video_timing_df = pd.DataFrame.from_records([{'duration': frame_numbers, \n",
    "                                                  'kss_onset':onset,\n",
    "                                                  'kss_interval': kss_interval,\n",
    "                                                  'fps': fps}])\n",
    "    ## from here on you should repeat the kss accoring to the sampling rate of HRV recording,\n",
    "    ## I had 2frames per seconds \n",
    "    recording_time = np.arange(0, frame_numbers, fps).tolist() \n",
    "    \n",
    "    ## populating a dataframe according to the fps with corresponding kss values\n",
    "    kss_impute = np.zeros(len(recording_time))\n",
    "    interval = int(kss_interval / fps)\n",
    "    for i in range(kss_raw_df.shape[0]):\n",
    "        kss_impute[i*interval+onset: (i+1)*interval+onset] = kss_raw_df.iloc[i, 1]\n",
    "    # x = downsample_to_proportion(kss_impute, .03333)\n",
    "    plt.plot(kss_impute)\n",
    "    \n",
    "    ## merging the kss annotation with frames \n",
    "    kss_annotations = {'time_points': recording_time, 'kss_value': kss_impute }\n",
    "    kss_annotations_df = pd.DataFrame.from_dict(kss_annotations)\n",
    "\n",
    "    \n",
    "    ## saving\n",
    "    kss_annotations_df.to_csv(f'{kdd_dir}kss_{file_name}.csv')\n"
   ]
  }
 ],
 "metadata": {
  "kernelspec": {
   "display_name": "Python 3 (ipykernel)",
   "language": "python",
   "name": "python3"
  },
  "language_info": {
   "codemirror_mode": {
    "name": "ipython",
    "version": 3
   },
   "file_extension": ".py",
   "mimetype": "text/x-python",
   "name": "python",
   "nbconvert_exporter": "python",
   "pygments_lexer": "ipython3",
   "version": "3.8.12"
  },
  "latex_envs": {
   "LaTeX_envs_menu_present": true,
   "autoclose": false,
   "autocomplete": true,
   "bibliofile": "biblio.bib",
   "cite_by": "apalike",
   "current_citInitial": 1,
   "eqLabelWithNumbers": true,
   "eqNumInitial": 1,
   "hotkeys": {
    "equation": "Ctrl-E",
    "itemize": "Ctrl-I"
   },
   "labels_anchors": false,
   "latex_user_defs": false,
   "report_style_numbering": false,
   "user_envs_cfg": false
  },
  "toc": {
   "base_numbering": 1,
   "nav_menu": {},
   "number_sections": true,
   "sideBar": true,
   "skip_h1_title": false,
   "title_cell": "Table of Contents",
   "title_sidebar": "Contents",
   "toc_cell": true,
   "toc_position": {},
   "toc_section_display": true,
   "toc_window_display": false
  }
 },
 "nbformat": 4,
 "nbformat_minor": 5
}
