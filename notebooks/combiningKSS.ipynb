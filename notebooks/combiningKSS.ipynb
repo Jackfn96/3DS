{
 "cells": [
  {
   "cell_type": "markdown",
   "id": "a3258aba",
   "metadata": {
    "toc": true
   },
   "source": [
    "<h1>Table of Contents<span class=\"tocSkip\"></span></h1>\n",
    "<div class=\"toc\"><ul class=\"toc-item\"><li><span><a href=\"#Downloading-HRVfrom-Drive\" data-toc-modified-id=\"Downloading-HRVfrom-Drive-1\"><span class=\"toc-item-num\">1&nbsp;&nbsp;</span>Downloading HRVfrom Drive</a></span></li></ul></div>"
   ]
  },
  {
   "cell_type": "code",
   "execution_count": 24,
   "id": "4fe22e2a",
   "metadata": {},
   "outputs": [
    {
     "name": "stdout",
     "output_type": "stream",
     "text": [
      "39\n"
     ]
    }
   ],
   "source": [
    "## files and direcotries\n",
    "import os\n",
    "import pandas as pd\n",
    "kdd_dir = 'path'\n",
    "file_path = '/home/jfrasern/code/Jackfn96/auto evaluation'\n",
    "\n",
    "files = [f[:-4] for f in os.listdir(file_path) if os.path.isfile(os.path.join(file_path, f))]\n",
    "files.sort()\n",
    "print(len(files))"
   ]
  },
  {
   "cell_type": "code",
   "execution_count": 25,
   "id": "ac06e245",
   "metadata": {},
   "outputs": [
    {
     "data": {
      "text/plain": [
       "['kss_2021-10-22 12-35-46..csv',\n",
       " 'kss_2021-10-28 15-04-13 g..csv',\n",
       " 'kss_2021-11-24 11-01-03 eca..csv',\n",
       " 'annotation_kss_2021-11-17 10-58-38 e99.xlsx',\n",
       " '2021-11-26 15-16-28 ea9 (1).xlsx',\n",
       " 'kss_2021-12-07 14-35-11 ea9 (1)..csv',\n",
       " 'kss_2021-11-22 11-26-24 ea9..csv',\n",
       " '2021-10-25 10-31-58 c27.xlsx',\n",
       " '2021-11-29 13-48-17 eca.xlsx',\n",
       " 'kss_2021-11-02 15-23-39 g..csv',\n",
       " 'kss_2022-01-05 15-25-18..csv',\n",
       " 'kss_2021-11-26 12-34-32 1c3..csv',\n",
       " '2021-11-05 13-59-29 ea9.xlsx',\n",
       " 'annotation_kss_2021-11-24 15-36-04 e99.xlsx',\n",
       " 'kss_2021-10-26 13-32-50..csv',\n",
       " '2022-01-07 14-02-27.xlsx',\n",
       " 'kss_2021-11-29 13-48-17 eca..csv',\n",
       " 'kss_2021-11-05 13-59-29 ea9..csv',\n",
       " 'kss_2021-11-30 16-16-03..csv',\n",
       " '2021-11-30 16-16-03.xlsx',\n",
       " '2021-11-22 11-26-24 ea9.xlsx',\n",
       " '2021-11-04 11-01-00.xlsx',\n",
       " '2021-11-02 15-23-39 g.xlsx',\n",
       " '2021-10-28 15-04-13 g.xlsx',\n",
       " 'kss_2021-11-04 11-01-00..csv',\n",
       " '2021-10-22 12-35-46.xlsx',\n",
       " '2021-11-26 12-34-32 1c3.xlsx',\n",
       " '2021-10-26 13-32-50.xlsx',\n",
       " 'kss_2021-11-26 15-16-28 ea9 (1)..csv',\n",
       " '2021-11-19 13-38-33.xlsx',\n",
       " 'kss_2021-11-19 13-38-33..csv',\n",
       " 'annotation_kss_2021-12-01 13-20-00 e99.xlsx',\n",
       " 'annotation_kss (1) PIERRE BOIVIN.xlsx',\n",
       " 'annotation_kss_2021-11-18 13-21-41 e99.xlsx',\n",
       " '2021-12-07 14-35-11 ea9 (1).xlsx',\n",
       " '2022-01-05 15-25-18.xlsx',\n",
       " '2021-11-24 11-01-03 eca.xlsx',\n",
       " 'kss_2021-10-25 10-31-58 c27..csv',\n",
       " 'kss_2022-01-07 14-02-27..csv']"
      ]
     },
     "execution_count": 25,
     "metadata": {},
     "output_type": "execute_result"
    }
   ],
   "source": [
    "# from os.path import dirname, abspath\n",
    "# d = os.path.join(os.path.dirname(os.getcwd()), 'raw_data')\n",
    "\n",
    "# files = [f[:-4] for f in os.listdir(file_path) if os.path.isfile(os.path.join(file_path, f))]\n",
    "# files.sort()\n",
    "# print(len(files))\n",
    "os.listdir(file_path)"
   ]
  },
  {
   "cell_type": "code",
   "execution_count": 26,
   "id": "c67c2b7d",
   "metadata": {},
   "outputs": [
    {
     "data": {
      "text/plain": [
       "'/home/jfrasern/code/Jackfn96/auto evaluation/'"
      ]
     },
     "execution_count": 26,
     "metadata": {},
     "output_type": "execute_result"
    }
   ],
   "source": [
    "from os.path import dirname, abspath\n",
    "d = os.path.join(os.path.dirname(os.getcwd()))\n",
    "parent = os.path.abspath(os.path.join(d, '../'))\n",
    "root_dir = os.path.join(parent, 'auto evaluation/')\n",
    "root_dir"
   ]
  },
  {
   "cell_type": "code",
   "execution_count": 27,
   "id": "536605c1",
   "metadata": {},
   "outputs": [
    {
     "name": "stdout",
     "output_type": "stream",
     "text": [
      "Requirement already satisfied: openpyxl in /home/jfrasern/.pyenv/versions/3.8.12/envs/3DS/lib/python3.8/site-packages (3.0.9)\n",
      "Requirement already satisfied: et-xmlfile in /home/jfrasern/.pyenv/versions/3.8.12/envs/3DS/lib/python3.8/site-packages (from openpyxl) (1.1.0)\n",
      "\u001b[33mWARNING: You are using pip version 21.1.1; however, version 22.0.3 is available.\n",
      "You should consider upgrading via the '/home/jfrasern/.pyenv/versions/3.8.12/envs/3DS/bin/python -m pip install --upgrade pip' command.\u001b[0m\n"
     ]
    }
   ],
   "source": [
    "!pip install openpyxl"
   ]
  },
  {
   "cell_type": "code",
   "execution_count": 28,
   "id": "ff4a3e30",
   "metadata": {},
   "outputs": [],
   "source": [
    "df = pd.read_excel(f'{root_dir}{files[0]}xlsx') # temporary df to load kss file\n",
    "df = df.drop(columns = ['Unnamed: 0'], inplace=True, axis=1)\n",
    "\n",
    "df"
   ]
  },
  {
   "cell_type": "code",
   "execution_count": 29,
   "id": "6deb4dc3",
   "metadata": {},
   "outputs": [],
   "source": [
    "df"
   ]
  },
  {
   "cell_type": "code",
   "execution_count": 30,
   "id": "e7196e52",
   "metadata": {},
   "outputs": [
    {
     "name": "stdout",
     "output_type": "stream",
     "text": [
      "2021-10-22 12-35-46.\n",
      "2021-10-25 10-31-58 c27.\n",
      "2021-10-26 13-32-50.\n",
      "2021-10-28 15-04-13 g.\n",
      "2021-11-02 15-23-39 g.\n",
      "2021-11-04 11-01-00.\n",
      "2021-11-05 13-59-29 ea9.\n",
      "2021-11-19 13-38-33.\n",
      "2021-11-22 11-26-24 ea9.\n",
      "2021-11-24 11-01-03 eca.\n",
      "2021-11-26 12-34-32 1c3.\n",
      "2021-11-26 15-16-28 ea9 (1).\n",
      "2021-11-29 13-48-17 eca.\n",
      "2021-11-30 16-16-03.\n",
      "2021-12-07 14-35-11 ea9 (1).\n",
      "2022-01-05 15-25-18.\n",
      "2022-01-07 14-02-27.\n",
      "annotation_kss (1) PIERRE BOIVIN.\n",
      "annotation_kss_2021-11-17 10-58-38 e99.\n",
      "annotation_kss_2021-11-18 13-21-41 e99.\n",
      "annotation_kss_2021-11-24 15-36-04 e99.\n",
      "annotation_kss_2021-12-01 13-20-00 e99.\n",
      "kss_2021-10-22 12-35-46.\n",
      "kss_2021-10-25 10-31-58 c27.\n",
      "kss_2021-10-26 13-32-50.\n",
      "kss_2021-10-28 15-04-13 g.\n",
      "kss_2021-11-02 15-23-39 g.\n",
      "kss_2021-11-04 11-01-00.\n",
      "kss_2021-11-05 13-59-29 ea9.\n",
      "kss_2021-11-19 13-38-33.\n",
      "kss_2021-11-22 11-26-24 ea9.\n",
      "kss_2021-11-24 11-01-03 eca.\n",
      "kss_2021-11-26 12-34-32 1c3.\n",
      "kss_2021-11-26 15-16-28 ea9 (1).\n",
      "kss_2021-11-29 13-48-17 eca.\n",
      "kss_2021-11-30 16-16-03.\n",
      "kss_2021-12-07 14-35-11 ea9 (1).\n",
      "kss_2022-01-05 15-25-18.\n",
      "kss_2022-01-07 14-02-27.\n"
     ]
    }
   ],
   "source": [
    "for file_name in files:\n",
    "    print(file_name)"
   ]
  },
  {
   "cell_type": "code",
   "execution_count": 31,
   "id": "1383572a",
   "metadata": {},
   "outputs": [
    {
     "data": {
      "text/plain": [
       "39"
      ]
     },
     "execution_count": 31,
     "metadata": {},
     "output_type": "execute_result"
    }
   ],
   "source": [
    "len(files)"
   ]
  },
  {
   "cell_type": "code",
   "execution_count": 32,
   "id": "714e1e86",
   "metadata": {
    "scrolled": true
   },
   "outputs": [
    {
     "name": "stdout",
     "output_type": "stream",
     "text": [
      "2021-10-22 12-35-46. : ['Video duration' 62 5]\n",
      "the shape of kss data frame is (13, 2)\n",
      "0\n",
      "2021-10-25 10-31-58 c27. : ['Video duration' 43 23]\n",
      "the shape of kss data frame is (9, 2)\n",
      "1\n",
      "2021-10-26 13-32-50. : ['Video duration' 70 7]\n",
      "the shape of kss data frame is (14, 2)\n",
      "2\n",
      "2021-10-28 15-04-13 g. : ['Video duration' 68 24]\n",
      "the shape of kss data frame is (14, 2)\n",
      "3\n",
      "2021-11-02 15-23-39 g. : ['Video duration' 67 38]\n",
      "the shape of kss data frame is (14, 2)\n",
      "4\n",
      "2021-11-04 11-01-00. : ['Video duration' 69 23]\n",
      "the shape of kss data frame is (14, 2)\n",
      "5\n",
      "2021-11-05 13-59-29 ea9. : ['Video duration' 66 17]\n",
      "the shape of kss data frame is (14, 2)\n",
      "6\n",
      "2021-11-19 13-38-33. : ['Video duration' 67 33]\n",
      "the shape of kss data frame is (14, 2)\n",
      "7\n",
      "2021-11-22 11-26-24 ea9. : ['Video duration' 66 27]\n",
      "the shape of kss data frame is (14, 2)\n",
      "8\n",
      "2021-11-24 11-01-03 eca. : ['Video duration' 66 54]\n",
      "the shape of kss data frame is (14, 2)\n",
      "9\n",
      "2021-11-26 12-34-32 1c3. : ['Video duration' 67 16]\n",
      "the shape of kss data frame is (14, 2)\n",
      "10\n",
      "2021-11-26 15-16-28 ea9 (1). : ['Video duration' 67 16]\n",
      "the shape of kss data frame is (14, 2)\n",
      "11\n",
      "2021-11-29 13-48-17 eca. : ['Video duration' 66 13]\n",
      "the shape of kss data frame is (14, 2)\n",
      "12\n",
      "2021-11-30 16-16-03. : ['Video duration' 66 1]\n",
      "the shape of kss data frame is (14, 2)\n",
      "13\n",
      "2021-12-07 14-35-11 ea9 (1). : ['Video duration' 65 33]\n",
      "the shape of kss data frame is (14, 2)\n",
      "14\n",
      "2022-01-05 15-25-18. : ['Video duration' 67 38]\n",
      "the shape of kss data frame is (14, 2)\n",
      "15\n",
      "2022-01-07 14-02-27. : ['Video duration' 66 28]\n",
      "the shape of kss data frame is (14, 2)\n",
      "16\n",
      "annotation_kss (1) PIERRE BOIVIN. : ['Video duration' 62 nan]\n",
      "the shape of kss data frame is (13, 2)\n",
      "17\n"
     ]
    },
    {
     "ename": "ValueError",
     "evalue": "cannot convert float NaN to integer",
     "output_type": "error",
     "traceback": [
      "\u001b[0;31m---------------------------------------------------------------------------\u001b[0m",
      "\u001b[0;31mValueError\u001b[0m                                Traceback (most recent call last)",
      "Input \u001b[0;32mIn [32]\u001b[0m, in \u001b[0;36m<module>\u001b[0;34m\u001b[0m\n\u001b[1;32m     24\u001b[0m \u001b[38;5;28mprint\u001b[39m(df_num)\n\u001b[1;32m     25\u001b[0m \u001b[38;5;66;03m## correction of kss_raw_df\u001b[39;00m\n\u001b[0;32m---> 26\u001b[0m frame_numbers \u001b[38;5;241m=\u001b[39m \u001b[38;5;28mint\u001b[39m(video_dur[\u001b[38;5;241m1\u001b[39m])\u001b[38;5;241m*\u001b[39m\u001b[38;5;241m60\u001b[39m \u001b[38;5;241m+\u001b[39m \u001b[38;5;28;43mint\u001b[39;49m\u001b[43m(\u001b[49m\u001b[43mvideo_dur\u001b[49m\u001b[43m[\u001b[49m\u001b[38;5;241;43m2\u001b[39;49m\u001b[43m]\u001b[49m\u001b[43m)\u001b[49m\n\u001b[1;32m     27\u001b[0m onset\u001b[38;5;241m=\u001b[39m \u001b[38;5;28mint\u001b[39m(kss_raw_df\u001b[38;5;241m.\u001b[39miloc[\u001b[38;5;241m0\u001b[39m,\u001b[38;5;241m0\u001b[39m]\u001b[38;5;241m.\u001b[39msplit(\u001b[38;5;124m'\u001b[39m\u001b[38;5;124m-\u001b[39m\u001b[38;5;124m'\u001b[39m)[\u001b[38;5;241m0\u001b[39m]\u001b[38;5;241m.\u001b[39msplit(\u001b[38;5;124m'\u001b[39m\u001b[38;5;124m:\u001b[39m\u001b[38;5;124m'\u001b[39m)[\u001b[38;5;241m1\u001b[39m])\n\u001b[1;32m     28\u001b[0m \u001b[38;5;66;03m## alternatively if you don't have the interval columns, you can use \u001b[39;00m\n\u001b[1;32m     29\u001b[0m \u001b[38;5;66;03m# hand_sign = df.iloc[3, :].values\u001b[39;00m\n\u001b[1;32m     30\u001b[0m \u001b[38;5;66;03m# onset =  int(hand_sign[1])*60 + int(hand_sign[2])\u001b[39;00m\n\u001b[1;32m     31\u001b[0m \n\u001b[1;32m     32\u001b[0m \u001b[38;5;66;03m## kss_interval is probably constant for all experiments ~ 300s\u001b[39;00m\n",
      "\u001b[0;31mValueError\u001b[0m: cannot convert float NaN to integer"
     ]
    }
   ],
   "source": [
    "## parameters\n",
    "kssdfs = {}\n",
    "df_num = 0\n",
    "\n",
    "import numpy as np\n",
    "fps = 1/2 # \n",
    "for file_name in files:\n",
    "#     video_annot_df = pd.read_csv(f'{root_dir}{file_name}.mp4.csv', sep=';')\n",
    "#     video_annot_df.drop('Unnamed: 0', inplace=True, axis=1)\n",
    "#     video_annot_df['exp_id'] = file_name\n",
    "#     video_annot_df = timestamp_formatting(video_annot_df, 'timestamp_lena')\n",
    "#     video_annot_df['event_onset'] = video_annot_df['Instant']/1000\n",
    "#     video_annot_df['event_end'] = video_annot_df['event_onset'] + video_annot_df['duree']\n",
    "#     print('the shape of video annotation dataframe is', video_annot_df.shape)\n",
    "    ## kss dataframe\n",
    "    df = pd.read_excel(f'{root_dir}{file_name}xlsx') # temporary df to load kss file\n",
    "    df.drop(columns = ['Unnamed: 0'], inplace=True, axis=1)\n",
    "    video_dur = df.iloc[4, :].values\n",
    "    print(f'{file_name} : {video_dur}')\n",
    "    column_names = df.iloc[6, :].values\n",
    "    kss_raw_df = pd.DataFrame(df.iloc[7:, :].values, columns = column_names)\n",
    "    kss_raw_df.drop('Buffer', inplace = True, axis=1)\n",
    "    print('the shape of kss data frame is', kss_raw_df.shape)\n",
    "    print(df_num)\n",
    "    ## correction of kss_raw_df\n",
    "    frame_numbers = int(video_dur[1])*60 + int(video_dur[2])\n",
    "    onset= int(kss_raw_df.iloc[0,0].split('-')[0].split(':')[1])\n",
    "    ## alternatively if you don't have the interval columns, you can use \n",
    "    # hand_sign = df.iloc[3, :].values\n",
    "    # onset =  int(hand_sign[1])*60 + int(hand_sign[2])\n",
    "    \n",
    "    ## kss_interval is probably constant for all experiments ~ 300s\n",
    "    kss_interval = int(kss_raw_df.iloc[0,0].split('-')[1].split(':')[0])*60\n",
    "    \n",
    "    \n",
    "    video_timing_df = pd.DataFrame.from_records([{'duration': frame_numbers, \n",
    "                                                  'kss_onset':onset,\n",
    "                                                  'kss_interval': kss_interval,\n",
    "                                                  'fps': fps}])\n",
    "    ## from here on you should repeat the kss accoring to the sampling rate of HRV recording,\n",
    "    ## I had 2frames per seconds \n",
    "    recording_time = np.arange(0, frame_numbers, fps).tolist() \n",
    "    \n",
    "    ## populating a dataframe according to the fps with corresponding kss values\n",
    "    kss_impute = np.zeros(len(recording_time))\n",
    "    interval = int(kss_interval / fps)\n",
    "    for i in range(kss_raw_df.shape[0]):\n",
    "        kss_impute[i*interval+onset: (i+1)*interval+onset] = kss_raw_df.iloc[i, 1]\n",
    "    # x = downsample_to_proportion(kss_impute, .03333)\n",
    "#     plt.plot(kss_impute)\n",
    "    \n",
    "    ## merging the kss annotation with frames \n",
    "    kss_annotations = {'time_points': recording_time, 'kss_value': kss_impute }\n",
    "    kss_annotations_df = pd.DataFrame.from_dict(kss_annotations)\n",
    "\n",
    "    kssdfs[file_name.split(' ')[0]] = kss_annotations_df\n",
    "    df_num+=1\n",
    "    ## saving\n",
    "#     kss_annotations_df.to_csv(f'{root_dir}kss_{file_name}.csv')\n"
   ]
  },
  {
   "cell_type": "code",
   "execution_count": 33,
   "id": "7beb4970",
   "metadata": {},
   "outputs": [
    {
     "data": {
      "text/plain": [
       "7976"
      ]
     },
     "execution_count": 33,
     "metadata": {},
     "output_type": "execute_result"
    }
   ],
   "source": [
    "ans = (66 * 60 + 28) * 2\n",
    "ans"
   ]
  },
  {
   "cell_type": "code",
   "execution_count": 34,
   "id": "622b6e40",
   "metadata": {},
   "outputs": [
    {
     "data": {
      "text/html": [
       "<div>\n",
       "<style scoped>\n",
       "    .dataframe tbody tr th:only-of-type {\n",
       "        vertical-align: middle;\n",
       "    }\n",
       "\n",
       "    .dataframe tbody tr th {\n",
       "        vertical-align: top;\n",
       "    }\n",
       "\n",
       "    .dataframe thead th {\n",
       "        text-align: right;\n",
       "    }\n",
       "</style>\n",
       "<table border=\"1\" class=\"dataframe\">\n",
       "  <thead>\n",
       "    <tr style=\"text-align: right;\">\n",
       "      <th></th>\n",
       "      <th>time_points</th>\n",
       "      <th>kss_value</th>\n",
       "    </tr>\n",
       "  </thead>\n",
       "  <tbody>\n",
       "    <tr>\n",
       "      <th>0</th>\n",
       "      <td>0.0</td>\n",
       "      <td>0.0</td>\n",
       "    </tr>\n",
       "    <tr>\n",
       "      <th>1</th>\n",
       "      <td>0.5</td>\n",
       "      <td>0.0</td>\n",
       "    </tr>\n",
       "    <tr>\n",
       "      <th>2</th>\n",
       "      <td>1.0</td>\n",
       "      <td>0.0</td>\n",
       "    </tr>\n",
       "    <tr>\n",
       "      <th>3</th>\n",
       "      <td>1.5</td>\n",
       "      <td>0.0</td>\n",
       "    </tr>\n",
       "    <tr>\n",
       "      <th>4</th>\n",
       "      <td>2.0</td>\n",
       "      <td>0.0</td>\n",
       "    </tr>\n",
       "    <tr>\n",
       "      <th>...</th>\n",
       "      <td>...</td>\n",
       "      <td>...</td>\n",
       "    </tr>\n",
       "    <tr>\n",
       "      <th>7445</th>\n",
       "      <td>3722.5</td>\n",
       "      <td>3.0</td>\n",
       "    </tr>\n",
       "    <tr>\n",
       "      <th>7446</th>\n",
       "      <td>3723.0</td>\n",
       "      <td>3.0</td>\n",
       "    </tr>\n",
       "    <tr>\n",
       "      <th>7447</th>\n",
       "      <td>3723.5</td>\n",
       "      <td>3.0</td>\n",
       "    </tr>\n",
       "    <tr>\n",
       "      <th>7448</th>\n",
       "      <td>3724.0</td>\n",
       "      <td>3.0</td>\n",
       "    </tr>\n",
       "    <tr>\n",
       "      <th>7449</th>\n",
       "      <td>3724.5</td>\n",
       "      <td>3.0</td>\n",
       "    </tr>\n",
       "  </tbody>\n",
       "</table>\n",
       "<p>7450 rows × 2 columns</p>\n",
       "</div>"
      ],
      "text/plain": [
       "      time_points  kss_value\n",
       "0             0.0        0.0\n",
       "1             0.5        0.0\n",
       "2             1.0        0.0\n",
       "3             1.5        0.0\n",
       "4             2.0        0.0\n",
       "...           ...        ...\n",
       "7445       3722.5        3.0\n",
       "7446       3723.0        3.0\n",
       "7447       3723.5        3.0\n",
       "7448       3724.0        3.0\n",
       "7449       3724.5        3.0\n",
       "\n",
       "[7450 rows x 2 columns]"
      ]
     },
     "execution_count": 34,
     "metadata": {},
     "output_type": "execute_result"
    }
   ],
   "source": [
    "kssdfs['2021-10-22']"
   ]
  },
  {
   "cell_type": "markdown",
   "id": "c306408e",
   "metadata": {},
   "source": [
    "# Downloading HRVfrom Drive"
   ]
  },
  {
   "cell_type": "code",
   "execution_count": 35,
   "id": "afaf2dcf",
   "metadata": {},
   "outputs": [],
   "source": [
    "%load_ext autoreload\n",
    "%autoreload 2"
   ]
  },
  {
   "cell_type": "code",
   "execution_count": 36,
   "id": "4961bcd4",
   "metadata": {},
   "outputs": [
    {
     "ename": "RefreshError",
     "evalue": "('invalid_grant: Token has been expired or revoked.', {'error': 'invalid_grant', 'error_description': 'Token has been expired or revoked.'})",
     "output_type": "error",
     "traceback": [
      "\u001b[0;31m---------------------------------------------------------------------------\u001b[0m",
      "\u001b[0;31mRefreshError\u001b[0m                              Traceback (most recent call last)",
      "Input \u001b[0;32mIn [36]\u001b[0m, in \u001b[0;36m<module>\u001b[0;34m\u001b[0m\n\u001b[0;32m----> 1\u001b[0m drive \u001b[38;5;241m=\u001b[39m \u001b[43mDrive\u001b[49m\u001b[43m(\u001b[49m\u001b[43m)\u001b[49m\n",
      "File \u001b[0;32m~/code/Jackfn96/3DS/DDDS/drive.py:48\u001b[0m, in \u001b[0;36mDrive.__init__\u001b[0;34m(self, exclude, debug)\u001b[0m\n\u001b[1;32m     45\u001b[0m \u001b[38;5;28;01mif\u001b[39;00m \u001b[38;5;129;01mnot\u001b[39;00m creds \u001b[38;5;129;01mor\u001b[39;00m \u001b[38;5;129;01mnot\u001b[39;00m creds\u001b[38;5;241m.\u001b[39mvalid:\n\u001b[1;32m     46\u001b[0m     \u001b[38;5;28;01mif\u001b[39;00m creds \u001b[38;5;129;01mand\u001b[39;00m creds\u001b[38;5;241m.\u001b[39mexpired \u001b[38;5;129;01mand\u001b[39;00m creds\u001b[38;5;241m.\u001b[39mrefresh_token:\n\u001b[1;32m     47\u001b[0m         \u001b[38;5;66;03m# Try to refresh the token\u001b[39;00m\n\u001b[0;32m---> 48\u001b[0m         \u001b[43mcreds\u001b[49m\u001b[38;5;241;43m.\u001b[39;49m\u001b[43mrefresh\u001b[49m\u001b[43m(\u001b[49m\u001b[43mRequest\u001b[49m\u001b[43m(\u001b[49m\u001b[43m)\u001b[49m\u001b[43m)\u001b[49m\n\u001b[1;32m     49\u001b[0m         \u001b[38;5;28;01mtry\u001b[39;00m:\n\u001b[1;32m     50\u001b[0m             \u001b[38;5;28;01mwith\u001b[39;00m \u001b[38;5;28mopen\u001b[39m(\u001b[38;5;28mself\u001b[39m\u001b[38;5;241m.\u001b[39mTOKEN_PATH, \u001b[38;5;124m'\u001b[39m\u001b[38;5;124mw\u001b[39m\u001b[38;5;124m'\u001b[39m) \u001b[38;5;28;01mas\u001b[39;00m token:\n",
      "File \u001b[0;32m~/.pyenv/versions/3.8.12/envs/3DS/lib/python3.8/site-packages/google/oauth2/credentials.py:302\u001b[0m, in \u001b[0;36mCredentials.refresh\u001b[0;34m(self, request)\u001b[0m\n\u001b[1;32m    284\u001b[0m \u001b[38;5;28;01mif\u001b[39;00m (\n\u001b[1;32m    285\u001b[0m     \u001b[38;5;28mself\u001b[39m\u001b[38;5;241m.\u001b[39m_refresh_token \u001b[38;5;129;01mis\u001b[39;00m \u001b[38;5;28;01mNone\u001b[39;00m\n\u001b[1;32m    286\u001b[0m     \u001b[38;5;129;01mor\u001b[39;00m \u001b[38;5;28mself\u001b[39m\u001b[38;5;241m.\u001b[39m_token_uri \u001b[38;5;129;01mis\u001b[39;00m \u001b[38;5;28;01mNone\u001b[39;00m\n\u001b[1;32m    287\u001b[0m     \u001b[38;5;129;01mor\u001b[39;00m \u001b[38;5;28mself\u001b[39m\u001b[38;5;241m.\u001b[39m_client_id \u001b[38;5;129;01mis\u001b[39;00m \u001b[38;5;28;01mNone\u001b[39;00m\n\u001b[1;32m    288\u001b[0m     \u001b[38;5;129;01mor\u001b[39;00m \u001b[38;5;28mself\u001b[39m\u001b[38;5;241m.\u001b[39m_client_secret \u001b[38;5;129;01mis\u001b[39;00m \u001b[38;5;28;01mNone\u001b[39;00m\n\u001b[1;32m    289\u001b[0m ):\n\u001b[1;32m    290\u001b[0m     \u001b[38;5;28;01mraise\u001b[39;00m exceptions\u001b[38;5;241m.\u001b[39mRefreshError(\n\u001b[1;32m    291\u001b[0m         \u001b[38;5;124m\"\u001b[39m\u001b[38;5;124mThe credentials do not contain the necessary fields need to \u001b[39m\u001b[38;5;124m\"\u001b[39m\n\u001b[1;32m    292\u001b[0m         \u001b[38;5;124m\"\u001b[39m\u001b[38;5;124mrefresh the access token. You must specify refresh_token, \u001b[39m\u001b[38;5;124m\"\u001b[39m\n\u001b[1;32m    293\u001b[0m         \u001b[38;5;124m\"\u001b[39m\u001b[38;5;124mtoken_uri, client_id, and client_secret.\u001b[39m\u001b[38;5;124m\"\u001b[39m\n\u001b[1;32m    294\u001b[0m     )\n\u001b[1;32m    296\u001b[0m (\n\u001b[1;32m    297\u001b[0m     access_token,\n\u001b[1;32m    298\u001b[0m     refresh_token,\n\u001b[1;32m    299\u001b[0m     expiry,\n\u001b[1;32m    300\u001b[0m     grant_response,\n\u001b[1;32m    301\u001b[0m     rapt_token,\n\u001b[0;32m--> 302\u001b[0m ) \u001b[38;5;241m=\u001b[39m \u001b[43mreauth\u001b[49m\u001b[38;5;241;43m.\u001b[39;49m\u001b[43mrefresh_grant\u001b[49m\u001b[43m(\u001b[49m\n\u001b[1;32m    303\u001b[0m \u001b[43m    \u001b[49m\u001b[43mrequest\u001b[49m\u001b[43m,\u001b[49m\n\u001b[1;32m    304\u001b[0m \u001b[43m    \u001b[49m\u001b[38;5;28;43mself\u001b[39;49m\u001b[38;5;241;43m.\u001b[39;49m\u001b[43m_token_uri\u001b[49m\u001b[43m,\u001b[49m\n\u001b[1;32m    305\u001b[0m \u001b[43m    \u001b[49m\u001b[38;5;28;43mself\u001b[39;49m\u001b[38;5;241;43m.\u001b[39;49m\u001b[43m_refresh_token\u001b[49m\u001b[43m,\u001b[49m\n\u001b[1;32m    306\u001b[0m \u001b[43m    \u001b[49m\u001b[38;5;28;43mself\u001b[39;49m\u001b[38;5;241;43m.\u001b[39;49m\u001b[43m_client_id\u001b[49m\u001b[43m,\u001b[49m\n\u001b[1;32m    307\u001b[0m \u001b[43m    \u001b[49m\u001b[38;5;28;43mself\u001b[39;49m\u001b[38;5;241;43m.\u001b[39;49m\u001b[43m_client_secret\u001b[49m\u001b[43m,\u001b[49m\n\u001b[1;32m    308\u001b[0m \u001b[43m    \u001b[49m\u001b[43mscopes\u001b[49m\u001b[38;5;241;43m=\u001b[39;49m\u001b[43mscopes\u001b[49m\u001b[43m,\u001b[49m\n\u001b[1;32m    309\u001b[0m \u001b[43m    \u001b[49m\u001b[43mrapt_token\u001b[49m\u001b[38;5;241;43m=\u001b[39;49m\u001b[38;5;28;43mself\u001b[39;49m\u001b[38;5;241;43m.\u001b[39;49m\u001b[43m_rapt_token\u001b[49m\u001b[43m,\u001b[49m\n\u001b[1;32m    310\u001b[0m \u001b[43m    \u001b[49m\u001b[43menable_reauth_refresh\u001b[49m\u001b[38;5;241;43m=\u001b[39;49m\u001b[38;5;28;43mself\u001b[39;49m\u001b[38;5;241;43m.\u001b[39;49m\u001b[43m_enable_reauth_refresh\u001b[49m\u001b[43m,\u001b[49m\n\u001b[1;32m    311\u001b[0m \u001b[43m\u001b[49m\u001b[43m)\u001b[49m\n\u001b[1;32m    313\u001b[0m \u001b[38;5;28mself\u001b[39m\u001b[38;5;241m.\u001b[39mtoken \u001b[38;5;241m=\u001b[39m access_token\n\u001b[1;32m    314\u001b[0m \u001b[38;5;28mself\u001b[39m\u001b[38;5;241m.\u001b[39mexpiry \u001b[38;5;241m=\u001b[39m expiry\n",
      "File \u001b[0;32m~/.pyenv/versions/3.8.12/envs/3DS/lib/python3.8/site-packages/google/oauth2/reauth.py:347\u001b[0m, in \u001b[0;36mrefresh_grant\u001b[0;34m(request, token_uri, refresh_token, client_id, client_secret, scopes, rapt_token, enable_reauth_refresh)\u001b[0m\n\u001b[1;32m    342\u001b[0m     (response_status_ok, response_data) \u001b[38;5;241m=\u001b[39m _client\u001b[38;5;241m.\u001b[39m_token_endpoint_request_no_throw(\n\u001b[1;32m    343\u001b[0m         request, token_uri, body\n\u001b[1;32m    344\u001b[0m     )\n\u001b[1;32m    346\u001b[0m \u001b[38;5;28;01mif\u001b[39;00m \u001b[38;5;129;01mnot\u001b[39;00m response_status_ok:\n\u001b[0;32m--> 347\u001b[0m     \u001b[43m_client\u001b[49m\u001b[38;5;241;43m.\u001b[39;49m\u001b[43m_handle_error_response\u001b[49m\u001b[43m(\u001b[49m\u001b[43mresponse_data\u001b[49m\u001b[43m)\u001b[49m\n\u001b[1;32m    348\u001b[0m \u001b[38;5;28;01mreturn\u001b[39;00m _client\u001b[38;5;241m.\u001b[39m_handle_refresh_grant_response(response_data, refresh_token) \u001b[38;5;241m+\u001b[39m (\n\u001b[1;32m    349\u001b[0m     rapt_token,\n\u001b[1;32m    350\u001b[0m )\n",
      "File \u001b[0;32m~/.pyenv/versions/3.8.12/envs/3DS/lib/python3.8/site-packages/google/oauth2/_client.py:60\u001b[0m, in \u001b[0;36m_handle_error_response\u001b[0;34m(response_data)\u001b[0m\n\u001b[1;32m     57\u001b[0m \u001b[38;5;28;01mexcept\u001b[39;00m (\u001b[38;5;167;01mKeyError\u001b[39;00m, \u001b[38;5;167;01mValueError\u001b[39;00m):\n\u001b[1;32m     58\u001b[0m     error_details \u001b[38;5;241m=\u001b[39m json\u001b[38;5;241m.\u001b[39mdumps(response_data)\n\u001b[0;32m---> 60\u001b[0m \u001b[38;5;28;01mraise\u001b[39;00m exceptions\u001b[38;5;241m.\u001b[39mRefreshError(error_details, response_data)\n",
      "\u001b[0;31mRefreshError\u001b[0m: ('invalid_grant: Token has been expired or revoked.', {'error': 'invalid_grant', 'error_description': 'Token has been expired or revoked.'})"
     ]
    }
   ],
   "source": [
    "drive = Drive()"
   ]
  },
  {
   "cell_type": "code",
   "execution_count": 20,
   "id": "7dddb06c",
   "metadata": {},
   "outputs": [
    {
     "ename": "RefreshError",
     "evalue": "('invalid_grant: Token has been expired or revoked.', {'error': 'invalid_grant', 'error_description': 'Token has been expired or revoked.'})",
     "output_type": "error",
     "traceback": [
      "\u001b[0;31m---------------------------------------------------------------------------\u001b[0m",
      "\u001b[0;31mRefreshError\u001b[0m                              Traceback (most recent call last)",
      "Input \u001b[0;32mIn [20]\u001b[0m, in \u001b[0;36m<module>\u001b[0;34m\u001b[0m\n\u001b[1;32m      1\u001b[0m \u001b[38;5;28;01mfrom\u001b[39;00m \u001b[38;5;21;01mDDDS\u001b[39;00m\u001b[38;5;21;01m.\u001b[39;00m\u001b[38;5;21;01mhrv\u001b[39;00m \u001b[38;5;28;01mimport\u001b[39;00m HRV\n\u001b[0;32m----> 2\u001b[0m hrv \u001b[38;5;241m=\u001b[39m \u001b[43mHRV\u001b[49m\u001b[43m(\u001b[49m\u001b[43m)\u001b[49m\n",
      "File \u001b[0;32m~/code/Jackfn96/3DS/DDDS/hrv.py:9\u001b[0m, in \u001b[0;36mHRV.__init__\u001b[0;34m(self, debug)\u001b[0m\n\u001b[1;32m      7\u001b[0m \u001b[38;5;28;01mdef\u001b[39;00m \u001b[38;5;21m__init__\u001b[39m(\u001b[38;5;28mself\u001b[39m, debug\u001b[38;5;241m=\u001b[39m\u001b[38;5;28;01mFalse\u001b[39;00m):\n\u001b[1;32m      8\u001b[0m     \u001b[38;5;28msuper\u001b[39m()\u001b[38;5;241m.\u001b[39m\u001b[38;5;21m__init__\u001b[39m(debug)\n\u001b[0;32m----> 9\u001b[0m     \u001b[38;5;28mself\u001b[39m\u001b[38;5;241m.\u001b[39mdrive \u001b[38;5;241m=\u001b[39m \u001b[43mDrive\u001b[49m\u001b[43m(\u001b[49m\u001b[43m)\u001b[49m\n\u001b[1;32m     11\u001b[0m     list_hrv_files \u001b[38;5;241m=\u001b[39m \u001b[38;5;28mself\u001b[39m\u001b[38;5;241m.\u001b[39mget_files_list()\n\u001b[1;32m     12\u001b[0m     \u001b[38;5;28mself\u001b[39m\u001b[38;5;241m.\u001b[39mdict_hrv_files \u001b[38;5;241m=\u001b[39m \u001b[38;5;28mself\u001b[39m\u001b[38;5;241m.\u001b[39msplit_lists(list_hrv_files)\n",
      "File \u001b[0;32m~/code/Jackfn96/3DS/DDDS/drive.py:48\u001b[0m, in \u001b[0;36mDrive.__init__\u001b[0;34m(self, exclude, debug)\u001b[0m\n\u001b[1;32m     45\u001b[0m \u001b[38;5;28;01mif\u001b[39;00m \u001b[38;5;129;01mnot\u001b[39;00m creds \u001b[38;5;129;01mor\u001b[39;00m \u001b[38;5;129;01mnot\u001b[39;00m creds\u001b[38;5;241m.\u001b[39mvalid:\n\u001b[1;32m     46\u001b[0m     \u001b[38;5;28;01mif\u001b[39;00m creds \u001b[38;5;129;01mand\u001b[39;00m creds\u001b[38;5;241m.\u001b[39mexpired \u001b[38;5;129;01mand\u001b[39;00m creds\u001b[38;5;241m.\u001b[39mrefresh_token:\n\u001b[1;32m     47\u001b[0m         \u001b[38;5;66;03m# Try to refresh the token\u001b[39;00m\n\u001b[0;32m---> 48\u001b[0m         \u001b[43mcreds\u001b[49m\u001b[38;5;241;43m.\u001b[39;49m\u001b[43mrefresh\u001b[49m\u001b[43m(\u001b[49m\u001b[43mRequest\u001b[49m\u001b[43m(\u001b[49m\u001b[43m)\u001b[49m\u001b[43m)\u001b[49m\n\u001b[1;32m     49\u001b[0m         \u001b[38;5;28;01mtry\u001b[39;00m:\n\u001b[1;32m     50\u001b[0m             \u001b[38;5;28;01mwith\u001b[39;00m \u001b[38;5;28mopen\u001b[39m(\u001b[38;5;28mself\u001b[39m\u001b[38;5;241m.\u001b[39mTOKEN_PATH, \u001b[38;5;124m'\u001b[39m\u001b[38;5;124mw\u001b[39m\u001b[38;5;124m'\u001b[39m) \u001b[38;5;28;01mas\u001b[39;00m token:\n",
      "File \u001b[0;32m~/.pyenv/versions/3.8.12/envs/3DS/lib/python3.8/site-packages/google/oauth2/credentials.py:302\u001b[0m, in \u001b[0;36mCredentials.refresh\u001b[0;34m(self, request)\u001b[0m\n\u001b[1;32m    284\u001b[0m \u001b[38;5;28;01mif\u001b[39;00m (\n\u001b[1;32m    285\u001b[0m     \u001b[38;5;28mself\u001b[39m\u001b[38;5;241m.\u001b[39m_refresh_token \u001b[38;5;129;01mis\u001b[39;00m \u001b[38;5;28;01mNone\u001b[39;00m\n\u001b[1;32m    286\u001b[0m     \u001b[38;5;129;01mor\u001b[39;00m \u001b[38;5;28mself\u001b[39m\u001b[38;5;241m.\u001b[39m_token_uri \u001b[38;5;129;01mis\u001b[39;00m \u001b[38;5;28;01mNone\u001b[39;00m\n\u001b[1;32m    287\u001b[0m     \u001b[38;5;129;01mor\u001b[39;00m \u001b[38;5;28mself\u001b[39m\u001b[38;5;241m.\u001b[39m_client_id \u001b[38;5;129;01mis\u001b[39;00m \u001b[38;5;28;01mNone\u001b[39;00m\n\u001b[1;32m    288\u001b[0m     \u001b[38;5;129;01mor\u001b[39;00m \u001b[38;5;28mself\u001b[39m\u001b[38;5;241m.\u001b[39m_client_secret \u001b[38;5;129;01mis\u001b[39;00m \u001b[38;5;28;01mNone\u001b[39;00m\n\u001b[1;32m    289\u001b[0m ):\n\u001b[1;32m    290\u001b[0m     \u001b[38;5;28;01mraise\u001b[39;00m exceptions\u001b[38;5;241m.\u001b[39mRefreshError(\n\u001b[1;32m    291\u001b[0m         \u001b[38;5;124m\"\u001b[39m\u001b[38;5;124mThe credentials do not contain the necessary fields need to \u001b[39m\u001b[38;5;124m\"\u001b[39m\n\u001b[1;32m    292\u001b[0m         \u001b[38;5;124m\"\u001b[39m\u001b[38;5;124mrefresh the access token. You must specify refresh_token, \u001b[39m\u001b[38;5;124m\"\u001b[39m\n\u001b[1;32m    293\u001b[0m         \u001b[38;5;124m\"\u001b[39m\u001b[38;5;124mtoken_uri, client_id, and client_secret.\u001b[39m\u001b[38;5;124m\"\u001b[39m\n\u001b[1;32m    294\u001b[0m     )\n\u001b[1;32m    296\u001b[0m (\n\u001b[1;32m    297\u001b[0m     access_token,\n\u001b[1;32m    298\u001b[0m     refresh_token,\n\u001b[1;32m    299\u001b[0m     expiry,\n\u001b[1;32m    300\u001b[0m     grant_response,\n\u001b[1;32m    301\u001b[0m     rapt_token,\n\u001b[0;32m--> 302\u001b[0m ) \u001b[38;5;241m=\u001b[39m \u001b[43mreauth\u001b[49m\u001b[38;5;241;43m.\u001b[39;49m\u001b[43mrefresh_grant\u001b[49m\u001b[43m(\u001b[49m\n\u001b[1;32m    303\u001b[0m \u001b[43m    \u001b[49m\u001b[43mrequest\u001b[49m\u001b[43m,\u001b[49m\n\u001b[1;32m    304\u001b[0m \u001b[43m    \u001b[49m\u001b[38;5;28;43mself\u001b[39;49m\u001b[38;5;241;43m.\u001b[39;49m\u001b[43m_token_uri\u001b[49m\u001b[43m,\u001b[49m\n\u001b[1;32m    305\u001b[0m \u001b[43m    \u001b[49m\u001b[38;5;28;43mself\u001b[39;49m\u001b[38;5;241;43m.\u001b[39;49m\u001b[43m_refresh_token\u001b[49m\u001b[43m,\u001b[49m\n\u001b[1;32m    306\u001b[0m \u001b[43m    \u001b[49m\u001b[38;5;28;43mself\u001b[39;49m\u001b[38;5;241;43m.\u001b[39;49m\u001b[43m_client_id\u001b[49m\u001b[43m,\u001b[49m\n\u001b[1;32m    307\u001b[0m \u001b[43m    \u001b[49m\u001b[38;5;28;43mself\u001b[39;49m\u001b[38;5;241;43m.\u001b[39;49m\u001b[43m_client_secret\u001b[49m\u001b[43m,\u001b[49m\n\u001b[1;32m    308\u001b[0m \u001b[43m    \u001b[49m\u001b[43mscopes\u001b[49m\u001b[38;5;241;43m=\u001b[39;49m\u001b[43mscopes\u001b[49m\u001b[43m,\u001b[49m\n\u001b[1;32m    309\u001b[0m \u001b[43m    \u001b[49m\u001b[43mrapt_token\u001b[49m\u001b[38;5;241;43m=\u001b[39;49m\u001b[38;5;28;43mself\u001b[39;49m\u001b[38;5;241;43m.\u001b[39;49m\u001b[43m_rapt_token\u001b[49m\u001b[43m,\u001b[49m\n\u001b[1;32m    310\u001b[0m \u001b[43m    \u001b[49m\u001b[43menable_reauth_refresh\u001b[49m\u001b[38;5;241;43m=\u001b[39;49m\u001b[38;5;28;43mself\u001b[39;49m\u001b[38;5;241;43m.\u001b[39;49m\u001b[43m_enable_reauth_refresh\u001b[49m\u001b[43m,\u001b[49m\n\u001b[1;32m    311\u001b[0m \u001b[43m\u001b[49m\u001b[43m)\u001b[49m\n\u001b[1;32m    313\u001b[0m \u001b[38;5;28mself\u001b[39m\u001b[38;5;241m.\u001b[39mtoken \u001b[38;5;241m=\u001b[39m access_token\n\u001b[1;32m    314\u001b[0m \u001b[38;5;28mself\u001b[39m\u001b[38;5;241m.\u001b[39mexpiry \u001b[38;5;241m=\u001b[39m expiry\n",
      "File \u001b[0;32m~/.pyenv/versions/3.8.12/envs/3DS/lib/python3.8/site-packages/google/oauth2/reauth.py:347\u001b[0m, in \u001b[0;36mrefresh_grant\u001b[0;34m(request, token_uri, refresh_token, client_id, client_secret, scopes, rapt_token, enable_reauth_refresh)\u001b[0m\n\u001b[1;32m    342\u001b[0m     (response_status_ok, response_data) \u001b[38;5;241m=\u001b[39m _client\u001b[38;5;241m.\u001b[39m_token_endpoint_request_no_throw(\n\u001b[1;32m    343\u001b[0m         request, token_uri, body\n\u001b[1;32m    344\u001b[0m     )\n\u001b[1;32m    346\u001b[0m \u001b[38;5;28;01mif\u001b[39;00m \u001b[38;5;129;01mnot\u001b[39;00m response_status_ok:\n\u001b[0;32m--> 347\u001b[0m     \u001b[43m_client\u001b[49m\u001b[38;5;241;43m.\u001b[39;49m\u001b[43m_handle_error_response\u001b[49m\u001b[43m(\u001b[49m\u001b[43mresponse_data\u001b[49m\u001b[43m)\u001b[49m\n\u001b[1;32m    348\u001b[0m \u001b[38;5;28;01mreturn\u001b[39;00m _client\u001b[38;5;241m.\u001b[39m_handle_refresh_grant_response(response_data, refresh_token) \u001b[38;5;241m+\u001b[39m (\n\u001b[1;32m    349\u001b[0m     rapt_token,\n\u001b[1;32m    350\u001b[0m )\n",
      "File \u001b[0;32m~/.pyenv/versions/3.8.12/envs/3DS/lib/python3.8/site-packages/google/oauth2/_client.py:60\u001b[0m, in \u001b[0;36m_handle_error_response\u001b[0;34m(response_data)\u001b[0m\n\u001b[1;32m     57\u001b[0m \u001b[38;5;28;01mexcept\u001b[39;00m (\u001b[38;5;167;01mKeyError\u001b[39;00m, \u001b[38;5;167;01mValueError\u001b[39;00m):\n\u001b[1;32m     58\u001b[0m     error_details \u001b[38;5;241m=\u001b[39m json\u001b[38;5;241m.\u001b[39mdumps(response_data)\n\u001b[0;32m---> 60\u001b[0m \u001b[38;5;28;01mraise\u001b[39;00m exceptions\u001b[38;5;241m.\u001b[39mRefreshError(error_details, response_data)\n",
      "\u001b[0;31mRefreshError\u001b[0m: ('invalid_grant: Token has been expired or revoked.', {'error': 'invalid_grant', 'error_description': 'Token has been expired or revoked.'})"
     ]
    }
   ],
   "source": [
    "from DDDS.hrv import HRV\n",
    "hrv = HRV()"
   ]
  },
  {
   "cell_type": "code",
   "execution_count": null,
   "id": "cb9ffe8f",
   "metadata": {},
   "outputs": [],
   "source": [
    "dataframes = hrv.get_dataframes()"
   ]
  }
 ],
 "metadata": {
  "kernelspec": {
   "display_name": "Python 3 (ipykernel)",
   "language": "python",
   "name": "python3"
  },
  "language_info": {
   "codemirror_mode": {
    "name": "ipython",
    "version": 3
   },
   "file_extension": ".py",
   "mimetype": "text/x-python",
   "name": "python",
   "nbconvert_exporter": "python",
   "pygments_lexer": "ipython3",
   "version": "3.8.12"
  },
  "latex_envs": {
   "LaTeX_envs_menu_present": true,
   "autoclose": false,
   "autocomplete": true,
   "bibliofile": "biblio.bib",
   "cite_by": "apalike",
   "current_citInitial": 1,
   "eqLabelWithNumbers": true,
   "eqNumInitial": 1,
   "hotkeys": {
    "equation": "Ctrl-E",
    "itemize": "Ctrl-I"
   },
   "labels_anchors": false,
   "latex_user_defs": false,
   "report_style_numbering": false,
   "user_envs_cfg": false
  },
  "toc": {
   "base_numbering": 1,
   "nav_menu": {},
   "number_sections": true,
   "sideBar": true,
   "skip_h1_title": false,
   "title_cell": "Table of Contents",
   "title_sidebar": "Contents",
   "toc_cell": true,
   "toc_position": {},
   "toc_section_display": true,
   "toc_window_display": false
  }
 },
 "nbformat": 4,
 "nbformat_minor": 5
}
