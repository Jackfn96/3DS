{
 "cells": [
  {
   "cell_type": "markdown",
   "id": "08cb19ba",
   "metadata": {
    "toc": true
   },
   "source": [
    "<h1>Table of Contents<span class=\"tocSkip\"></span></h1>\n",
    "<div class=\"toc\"><ul class=\"toc-item\"><li><span><a href=\"#baseline_model\" data-toc-modified-id=\"baseline_model-1\"><span class=\"toc-item-num\">1&nbsp;&nbsp;</span>baseline_model</a></span></li></ul></div>"
   ]
  },
  {
   "cell_type": "markdown",
   "id": "85be8010",
   "metadata": {},
   "source": [
    "# baseline_model"
   ]
  },
  {
   "cell_type": "code",
   "execution_count": null,
   "id": "d1d7465f",
   "metadata": {},
   "outputs": [],
   "source": [
    "from sklearn.model_selection import train_test_split\n",
    "from sklearn.metrics import classification_report\n",
    "import keras\n",
    "from keras.preprocessing import image   # for preprocessing the images\n",
    "from keras.utils import np_utils\n",
    "from keras.models import Sequential\n",
    "from keras.applications.vgg16 import VGG16\n",
    "from keras.layers import Dense, InputLayer, Dropout, Flatten\n",
    "from keras.layers import Conv2D, MaxPooling2D, GlobalMaxPooling2D\n",
    "from keras.preprocessing import image\n",
    "from keras.models import Sequential\n",
    "from keras.layers import Conv2D, MaxPooling2D\n",
    "from keras.layers import Activation, Dropout, Flatten, Dense\n",
    "from keras.regularizers import l2\n",
    "from keras.preprocessing.image import ImageDataGenerator, array_to_img, img_to_array, load_img\n",
    "from sklearn.model_selection import train_test_split\n",
    "from tensorflow.keras.preprocessing.image import ImageDataGenerator\n",
    "from tensorflow.keras.applications import VGG16\n",
    "from tensorflow.keras.layers import Dropout, Flatten, Dense, Input\n",
    "from tensorflow.keras.models import Model\n",
    "from tensorflow.keras.optimizers import SGD"
   ]
  },
  {
   "cell_type": "code",
   "execution_count": null,
   "id": "c27c8f5f",
   "metadata": {},
   "outputs": [],
   "source": [
    "model_base = Sequential()\n",
    "# model_base.add(Conv2D(32, (3, 3), input_shape=(224, 224, 3), activation = 'relu', kernel_regularizer=l2(0.01)))\n",
    "# model_base.add(MaxPooling2D(pool_size=(2, 2), padding='same'))\n",
    "# model_base.add(Conv2D(32, (3, 3), activation = 'relu', padding='same', kernel_regularizer=l2(0.01)))\n",
    "# model_base.add(MaxPooling2D(pool_size=(2, 2), padding='same'))\n",
    "# model_base.add(Conv2D(64, (3, 3), activation = 'relu', padding='same', kernel_regularizer=l2(0.01)))\n",
    "# model_base.add(MaxPooling2D(pool_size=(2, 2), padding='same'))\n",
    "# model_base.add(Dense(64, activation = 'relu', kernel_regularizer=l2(0.01)))\n",
    "# model_base.add(Dropout(0.5))\n",
    "# model_base.add(Dense(count_classes, kernel_regularizer=l2(0.01), activation = 'softmax'))\n",
    "\n",
    "model_base.add(Conv2D(32, (3, 3), activation='relu',\n",
    "                      kernel_initializer='he_uniform', kernel_regularizer=l2(0.01), \n",
    "                      padding='same', input_shape=(244, 244, 3)))\n",
    "model_base.add(Conv2D(32, (3, 3), activation='relu', kernel_initializer='he_uniform', \n",
    "                      kernel_regularizer=l2(0.01), padding='same'))\n",
    "model_base.add(MaxPooling2D((2, 2)))\n",
    "\n",
    "model_base.add(Conv2D(64, (3, 3), activation='relu',kernel_initializer='he_uniform', \n",
    "                      kernel_regularizer=l2(0.01), padding='same'))\n",
    "model_base.add(Conv2D(64, (3, 3), activation='relu',kernel_initializer='he_uniform',\n",
    "                      kernel_regularizer=l2(0.01), padding='same'))\n",
    "model_base.add(MaxPooling2D((2, 2)))\n",
    "\n",
    "# flattenign the 3D features\n",
    "# example output part of the model\n",
    "model_base.add(Flatten())\n",
    "model_base.add(Dense(128, activation='relu', kernel_initializer='he_uniform',\n",
    "                kernel_regularizer=l2(0.01)))\n",
    "model_base.add(Dense(count_classes, activation='softmax', kernel_regularizer=l2(0.01)))\n",
    "model_base.compile(loss='categorical_crossentropy',\n",
    "#               optimizer='rmsprop',\n",
    "               optimizer='adam',\n",
    "              metrics=['accuracy'])\n",
    "model_base.summary()"
   ]
  }
 ],
 "metadata": {
  "kernelspec": {
   "display_name": "Python 3 (ipykernel)",
   "language": "python",
   "name": "python3"
  },
  "language_info": {
   "codemirror_mode": {
    "name": "ipython",
    "version": 3
   },
   "file_extension": ".py",
   "mimetype": "text/x-python",
   "name": "python",
   "nbconvert_exporter": "python",
   "pygments_lexer": "ipython3",
   "version": "3.8.12"
  },
  "latex_envs": {
   "LaTeX_envs_menu_present": true,
   "autoclose": false,
   "autocomplete": true,
   "bibliofile": "biblio.bib",
   "cite_by": "apalike",
   "current_citInitial": 1,
   "eqLabelWithNumbers": true,
   "eqNumInitial": 1,
   "hotkeys": {
    "equation": "Ctrl-E",
    "itemize": "Ctrl-I"
   },
   "labels_anchors": false,
   "latex_user_defs": false,
   "report_style_numbering": false,
   "user_envs_cfg": false
  },
  "toc": {
   "base_numbering": 1,
   "nav_menu": {},
   "number_sections": true,
   "sideBar": true,
   "skip_h1_title": false,
   "title_cell": "Table of Contents",
   "title_sidebar": "Contents",
   "toc_cell": true,
   "toc_position": {},
   "toc_section_display": true,
   "toc_window_display": false
  }
 },
 "nbformat": 4,
 "nbformat_minor": 5
}
