{
 "cells": [
  {
   "cell_type": "markdown",
   "id": "gJ0qKYRxYC-g",
   "metadata": {
    "id": "gJ0qKYRxYC-g"
   },
   "source": [
    "## Imports"
   ]
  },
  {
   "cell_type": "code",
   "execution_count": 1,
   "id": "6IeJ9YOSDevA",
   "metadata": {
    "id": "6IeJ9YOSDevA"
   },
   "outputs": [],
   "source": [
    "import os, glob\n",
    "import pandas as pd\n",
    "import math"
   ]
  },
  {
   "cell_type": "markdown",
   "id": "61fafa2d",
   "metadata": {
    "heading_collapsed": true
   },
   "source": [
    "## Google Colab - use this part"
   ]
  },
  {
   "cell_type": "markdown",
   "id": "_konY8UYX4fs",
   "metadata": {
    "heading_collapsed": true,
    "hidden": true,
    "id": "_konY8UYX4fs"
   },
   "source": [
    "### Google Drive pre-requisite"
   ]
  },
  {
   "cell_type": "code",
   "execution_count": null,
   "id": "Kxh8vZQ86hL8",
   "metadata": {
    "colab": {
     "base_uri": "https://localhost:8080/"
    },
    "hidden": true,
    "id": "Kxh8vZQ86hL8",
    "outputId": "9a9df6e0-99ee-4cbf-b599-f398c67ac48f"
   },
   "outputs": [],
   "source": [
    "# Only works within Google Colab\n",
    "from google.colab import drive\n",
    "drive.mount('/content/drive')"
   ]
  },
  {
   "cell_type": "markdown",
   "id": "1e3222a2",
   "metadata": {
    "heading_collapsed": true,
    "hidden": true
   },
   "source": [
    "### Loading the list of HRV files"
   ]
  },
  {
   "cell_type": "code",
   "execution_count": null,
   "id": "kUPaxxvX8C9u",
   "metadata": {
    "hidden": true,
    "id": "kUPaxxvX8C9u"
   },
   "outputs": [],
   "source": [
    "# Change of directory to be in the folder where HRV files are\n",
    "path_to_hrv_files = '/content/drive/MyDrive/core simulateur/data/'\n",
    "os.chdir(path_to_hrv_files)"
   ]
  },
  {
   "cell_type": "code",
   "execution_count": null,
   "id": "4x8c5aH5C83N",
   "metadata": {
    "hidden": true,
    "id": "4x8c5aH5C83N"
   },
   "outputs": [],
   "source": [
    "# Create a list that contains all of the files present in the \"data\" directory ending with \".txt\"\n",
    "list_hrv_files = []\n",
    "for file in glob.glob(\"*.txt\"):\n",
    "    list_hrv_files.append(file)"
   ]
  },
  {
   "cell_type": "markdown",
   "id": "45b25014",
   "metadata": {},
   "source": [
    "## Jupyter Notebook - use this part"
   ]
  },
  {
   "cell_type": "code",
   "execution_count": 2,
   "id": "5ed57d36",
   "metadata": {},
   "outputs": [],
   "source": [
    "%load_ext autoreload\n",
    "%autoreload 2"
   ]
  },
  {
   "cell_type": "code",
   "execution_count": 3,
   "id": "83698a32",
   "metadata": {},
   "outputs": [],
   "source": [
    "from DDDS.drive import Drive\n",
    "import pandas as pd"
   ]
  },
  {
   "cell_type": "code",
   "execution_count": 4,
   "id": "72b99fc1",
   "metadata": {},
   "outputs": [
    {
     "name": "stdout",
     "output_type": "stream",
     "text": [
      "Connected successfully!\n"
     ]
    }
   ],
   "source": [
    "drive = Drive()"
   ]
  },
  {
   "cell_type": "code",
   "execution_count": 5,
   "id": "4214b2e1",
   "metadata": {},
   "outputs": [],
   "source": [
    "files_list = drive.list('txt')"
   ]
  },
  {
   "cell_type": "code",
   "execution_count": 6,
   "id": "3eaaf096",
   "metadata": {},
   "outputs": [],
   "source": [
    "try:\n",
    "    files_list.remove({'id': '1-RP7PFAXBlDnUsWAb2ck9mcJ_6uePpbh', 'name': 'Signaux HRV Garmin.txt'})\n",
    "except:\n",
    "    pass"
   ]
  },
  {
   "cell_type": "code",
   "execution_count": 7,
   "id": "4bd6bce5",
   "metadata": {},
   "outputs": [],
   "source": [
    "try:\n",
    "    files_list.remove({'id': '1-LZsP3Nm4FfSC7jC47NQBBqW1dfYQoJ2', 'name': 'Signaux HRV multi-capteurs.txt'})\n",
    "except:\n",
    "    pass"
   ]
  },
  {
   "cell_type": "code",
   "execution_count": 8,
   "id": "e55eaa61",
   "metadata": {},
   "outputs": [],
   "source": [
    "files_df = pd.DataFrame(files_list)"
   ]
  },
  {
   "cell_type": "code",
   "execution_count": 44,
   "id": "f86a37b7",
   "metadata": {},
   "outputs": [
    {
     "data": {
      "text/html": [
       "<div>\n",
       "<style scoped>\n",
       "    .dataframe tbody tr th:only-of-type {\n",
       "        vertical-align: middle;\n",
       "    }\n",
       "\n",
       "    .dataframe tbody tr th {\n",
       "        vertical-align: top;\n",
       "    }\n",
       "\n",
       "    .dataframe thead th {\n",
       "        text-align: right;\n",
       "    }\n",
       "</style>\n",
       "<table border=\"1\" class=\"dataframe\">\n",
       "  <thead>\n",
       "    <tr style=\"text-align: right;\">\n",
       "      <th></th>\n",
       "      <th>id</th>\n",
       "      <th>name</th>\n",
       "    </tr>\n",
       "  </thead>\n",
       "  <tbody>\n",
       "    <tr>\n",
       "      <th>1</th>\n",
       "      <td>13odd1HA5dv4w2fHFZSpOBk5odAPuPb64</td>\n",
       "      <td>22_11_2021_15_38 eb0.txt</td>\n",
       "    </tr>\n",
       "  </tbody>\n",
       "</table>\n",
       "</div>"
      ],
      "text/plain": [
       "                                  id                      name\n",
       "1  13odd1HA5dv4w2fHFZSpOBk5odAPuPb64  22_11_2021_15_38 eb0.txt"
      ]
     },
     "execution_count": 44,
     "metadata": {},
     "output_type": "execute_result"
    }
   ],
   "source": [
    "files_df[files_df.name == \"22_11_2021_15_38 eb0.txt\"]"
   ]
  },
  {
   "cell_type": "code",
   "execution_count": 9,
   "id": "4e4ed778",
   "metadata": {},
   "outputs": [],
   "source": [
    "list_hrv_files = list(files_df.name)"
   ]
  },
  {
   "cell_type": "markdown",
   "id": "e52d3097",
   "metadata": {},
   "source": [
    "## HRV signals"
   ]
  },
  {
   "cell_type": "markdown",
   "id": "TBriksdNYa9a",
   "metadata": {
    "id": "TBriksdNYa9a"
   },
   "source": [
    "### Generating list of HRV files to download\n",
    "\n",
    "*   HRV simple sensor 1\n",
    "*   HRV simple sensor 2\n",
    "*   HRV garmin sensor"
   ]
  },
  {
   "cell_type": "code",
   "execution_count": 10,
   "id": "eGGFi3u2Ll4o",
   "metadata": {
    "id": "eGGFi3u2Ll4o"
   },
   "outputs": [],
   "source": [
    "# Create two lists from the list of HRV files - 1 for simple sensor & 1 for garmin sensor\n",
    "list_hrv_files_simple_sensor = [elem for elem in list_hrv_files if elem.find('garmin') == -1]\n",
    "list_hrv_files_garmin = [elem for elem in list_hrv_files if elem.find('garmin') != -1]"
   ]
  },
  {
   "cell_type": "code",
   "execution_count": 11,
   "id": "G9PqpG8-NNed",
   "metadata": {
    "id": "G9PqpG8-NNed"
   },
   "outputs": [],
   "source": [
    "# Create a list that would be needed to split the simple sensor list into two lists\n",
    "# It is due to differences in the output of simple sensor files\n",
    "key_list = []\n",
    "for key in range(20,31):\n",
    "    key_list.append(str(key) + '_10_2021')"
   ]
  },
  {
   "cell_type": "code",
   "execution_count": 12,
   "id": "xAgwBTe3OT9q",
   "metadata": {
    "id": "xAgwBTe3OT9q"
   },
   "outputs": [],
   "source": [
    "# Create the two lists from the simple sensor list\n",
    "list_hrv_files_simple_sensor_1 = []\n",
    "list_hrv_files_simple_sensor_2 = []\n",
    "for file in list_hrv_files_simple_sensor:\n",
    "    if (file[:10] in key_list) and (file != '29_10_2021_13_32 982.txt'):\n",
    "        list_hrv_files_simple_sensor_2.append(file)\n",
    "    else:\n",
    "        list_hrv_files_simple_sensor_1.append(file)"
   ]
  },
  {
   "cell_type": "code",
   "execution_count": 13,
   "id": "umW_YyMWExnW",
   "metadata": {
    "id": "umW_YyMWExnW"
   },
   "outputs": [],
   "source": [
    "# Create list of Headers for each type of HRV files\n",
    "headers_list_simple_sensor = ['Timestamp_Google', 'Timestamp_Device', 'Device_id', 'Heart_Rate', 'RR_rate']\n",
    "headers_list_garmin_sensor = ['Timestamp_Google', 'Timestamp_Device', 'RR_rate']\n",
    "headers_list_simple_sensor_2 = ['Timestamp_Google', 'Device_id', 'Heart_Rate', 'RR_rate']"
   ]
  },
  {
   "cell_type": "code",
   "execution_count": 14,
   "id": "DvV2x1yGagpZ",
   "metadata": {
    "id": "DvV2x1yGagpZ"
   },
   "outputs": [],
   "source": [
    "# Create a dictionary to match each HRV file with its associated Headers\n",
    "dict_hrv_files = {\n",
    "    'sensors_list':[list_hrv_files_simple_sensor_1,list_hrv_files_simple_sensor_2,list_hrv_files_garmin],\n",
    "    'headers_type':[headers_list_simple_sensor, headers_list_simple_sensor_2, headers_list_garmin_sensor]\n",
    "}"
   ]
  },
  {
   "cell_type": "markdown",
   "id": "1cdb0569",
   "metadata": {},
   "source": [
    "### Create the list of dataframes"
   ]
  },
  {
   "cell_type": "markdown",
   "id": "192c236b",
   "metadata": {
    "heading_collapsed": true
   },
   "source": [
    "#### Within Google Colab"
   ]
  },
  {
   "cell_type": "code",
   "execution_count": null,
   "id": "Av74m4oQVW7u",
   "metadata": {
    "hidden": true,
    "id": "Av74m4oQVW7u"
   },
   "outputs": [],
   "source": [
    "# Create the list of dataframes of all the HRV files\n",
    "def list_dataframes(path_to_hrv_files, dict_hrv_files):\n",
    "    df_list = []\n",
    "    index = 0\n",
    "\n",
    "    for sensor_list in dict_hrv_files['sensors_list']:\n",
    "        for sensor in sensor_list:\n",
    "            df = pd.read_csv(path_to_hrv_files + sensor, sep=\";\", header=None, names=dict_hrv_files['headers_type'][index])\n",
    "            df['file_name'] = sensor\n",
    "            if sensor.find('garmin') != -1:\n",
    "                df['Garmin'] = 1\n",
    "            else:\n",
    "                df['Garmin'] = 0\n",
    "            df_list.append(df)\n",
    "        index += 1\n",
    "\n",
    "    return df_list"
   ]
  },
  {
   "cell_type": "code",
   "execution_count": null,
   "id": "09w_luG9vyxz",
   "metadata": {
    "hidden": true,
    "id": "09w_luG9vyxz"
   },
   "outputs": [],
   "source": [
    "dataframes = list_dataframes(path_to_hrv_files, dict_hrv_files)"
   ]
  },
  {
   "cell_type": "markdown",
   "id": "219357a6",
   "metadata": {},
   "source": [
    "#### Within Jupyter Notebook"
   ]
  },
  {
   "cell_type": "code",
   "execution_count": 54,
   "id": "273f21f4",
   "metadata": {},
   "outputs": [],
   "source": [
    "# Create the list of dataframes of all the HRV files\n",
    "def list_dataframes(files_df, dict_hrv_files):\n",
    "    df_list = []\n",
    "    index = 0\n",
    "\n",
    "    for sensor_list in dict_hrv_files['sensors_list']:\n",
    "        for sensor in sensor_list:\n",
    "            file_id = list(files_df[files_df.name == sensor].id)[0]\n",
    "            file = drive.download(file_id)\n",
    "            df = pd.read_csv(file, sep=\";\", header=None, names=dict_hrv_files['headers_type'][index])\n",
    "            df['file_name'] = sensor\n",
    "            if sensor.find('garmin') != -1:\n",
    "                df['Garmin'] = 1\n",
    "            else:\n",
    "                df['Garmin'] = 0\n",
    "            df_list.append(df)\n",
    "        index += 1\n",
    "\n",
    "    return df_list"
   ]
  },
  {
   "cell_type": "code",
   "execution_count": 55,
   "id": "c1cfefd2",
   "metadata": {},
   "outputs": [],
   "source": [
    "dataframes = list_dataframes(files_df, dict_hrv_files)"
   ]
  },
  {
   "cell_type": "code",
   "execution_count": 56,
   "id": "4c37f238",
   "metadata": {},
   "outputs": [
    {
     "data": {
      "text/html": [
       "<div>\n",
       "<style scoped>\n",
       "    .dataframe tbody tr th:only-of-type {\n",
       "        vertical-align: middle;\n",
       "    }\n",
       "\n",
       "    .dataframe tbody tr th {\n",
       "        vertical-align: top;\n",
       "    }\n",
       "\n",
       "    .dataframe thead th {\n",
       "        text-align: right;\n",
       "    }\n",
       "</style>\n",
       "<table border=\"1\" class=\"dataframe\">\n",
       "  <thead>\n",
       "    <tr style=\"text-align: right;\">\n",
       "      <th></th>\n",
       "      <th>Timestamp_Google</th>\n",
       "      <th>Timestamp_Device</th>\n",
       "      <th>Device_id</th>\n",
       "      <th>Heart_Rate</th>\n",
       "      <th>RR_rate</th>\n",
       "      <th>file_name</th>\n",
       "      <th>Garmin</th>\n",
       "    </tr>\n",
       "  </thead>\n",
       "  <tbody>\n",
       "    <tr>\n",
       "      <th>0</th>\n",
       "      <td>1637591965428</td>\n",
       "      <td>1637591965655</td>\n",
       "      <td>FD:9E:84:03:87:71</td>\n",
       "      <td>77</td>\n",
       "      <td>[]</td>\n",
       "      <td>22_11_2021_15_38 eb0.txt</td>\n",
       "      <td>0</td>\n",
       "    </tr>\n",
       "    <tr>\n",
       "      <th>1</th>\n",
       "      <td>1637591965599</td>\n",
       "      <td>1637591965827</td>\n",
       "      <td>CA:93:07:67:1E:FF</td>\n",
       "      <td>80</td>\n",
       "      <td>[779, 743]</td>\n",
       "      <td>22_11_2021_15_38 eb0.txt</td>\n",
       "      <td>0</td>\n",
       "    </tr>\n",
       "    <tr>\n",
       "      <th>2</th>\n",
       "      <td>1637591965832</td>\n",
       "      <td>1637591966046</td>\n",
       "      <td>CD:87:AB:E8:05:12</td>\n",
       "      <td>88</td>\n",
       "      <td>[724, 832]</td>\n",
       "      <td>22_11_2021_15_38 eb0.txt</td>\n",
       "      <td>0</td>\n",
       "    </tr>\n",
       "    <tr>\n",
       "      <th>3</th>\n",
       "      <td>1637591965867</td>\n",
       "      <td>1637591966093</td>\n",
       "      <td>FD:9E:84:03:87:71</td>\n",
       "      <td>77</td>\n",
       "      <td>[]</td>\n",
       "      <td>22_11_2021_15_38 eb0.txt</td>\n",
       "      <td>0</td>\n",
       "    </tr>\n",
       "    <tr>\n",
       "      <th>4</th>\n",
       "      <td>1637591966391</td>\n",
       "      <td>1637591966608</td>\n",
       "      <td>FD:9E:84:03:87:71</td>\n",
       "      <td>78</td>\n",
       "      <td>[794]</td>\n",
       "      <td>22_11_2021_15_38 eb0.txt</td>\n",
       "      <td>0</td>\n",
       "    </tr>\n",
       "    <tr>\n",
       "      <th>...</th>\n",
       "      <td>...</td>\n",
       "      <td>...</td>\n",
       "      <td>...</td>\n",
       "      <td>...</td>\n",
       "      <td>...</td>\n",
       "      <td>...</td>\n",
       "      <td>...</td>\n",
       "    </tr>\n",
       "    <tr>\n",
       "      <th>16725</th>\n",
       "      <td>1637596124599</td>\n",
       "      <td>1637596124821</td>\n",
       "      <td>FD:9E:84:03:87:71</td>\n",
       "      <td>0</td>\n",
       "      <td>[]</td>\n",
       "      <td>22_11_2021_15_38 eb0.txt</td>\n",
       "      <td>0</td>\n",
       "    </tr>\n",
       "    <tr>\n",
       "      <th>16726</th>\n",
       "      <td>1637596124676</td>\n",
       "      <td>1637596124899</td>\n",
       "      <td>CD:87:AB:E8:05:12</td>\n",
       "      <td>97</td>\n",
       "      <td>[1240, 621]</td>\n",
       "      <td>22_11_2021_15_38 eb0.txt</td>\n",
       "      <td>0</td>\n",
       "    </tr>\n",
       "    <tr>\n",
       "      <th>16727</th>\n",
       "      <td>1637596125129</td>\n",
       "      <td>1637596125352</td>\n",
       "      <td>FD:9E:84:03:87:71</td>\n",
       "      <td>0</td>\n",
       "      <td>[]</td>\n",
       "      <td>22_11_2021_15_38 eb0.txt</td>\n",
       "      <td>0</td>\n",
       "    </tr>\n",
       "    <tr>\n",
       "      <th>16728</th>\n",
       "      <td>1637596125612</td>\n",
       "      <td>1637596125852</td>\n",
       "      <td>FD:9E:84:03:87:71</td>\n",
       "      <td>0</td>\n",
       "      <td>[]</td>\n",
       "      <td>22_11_2021_15_38 eb0.txt</td>\n",
       "      <td>0</td>\n",
       "    </tr>\n",
       "    <tr>\n",
       "      <th>16729</th>\n",
       "      <td>1637596125642</td>\n",
       "      <td>1637596125868</td>\n",
       "      <td>CD:87:AB:E8:05:12</td>\n",
       "      <td>97</td>\n",
       "      <td>[638, 602]</td>\n",
       "      <td>22_11_2021_15_38 eb0.txt</td>\n",
       "      <td>0</td>\n",
       "    </tr>\n",
       "  </tbody>\n",
       "</table>\n",
       "<p>16730 rows × 7 columns</p>\n",
       "</div>"
      ],
      "text/plain": [
       "       Timestamp_Google  Timestamp_Device          Device_id  Heart_Rate  \\\n",
       "0         1637591965428     1637591965655  FD:9E:84:03:87:71          77   \n",
       "1         1637591965599     1637591965827  CA:93:07:67:1E:FF          80   \n",
       "2         1637591965832     1637591966046  CD:87:AB:E8:05:12          88   \n",
       "3         1637591965867     1637591966093  FD:9E:84:03:87:71          77   \n",
       "4         1637591966391     1637591966608  FD:9E:84:03:87:71          78   \n",
       "...                 ...               ...                ...         ...   \n",
       "16725     1637596124599     1637596124821  FD:9E:84:03:87:71           0   \n",
       "16726     1637596124676     1637596124899  CD:87:AB:E8:05:12          97   \n",
       "16727     1637596125129     1637596125352  FD:9E:84:03:87:71           0   \n",
       "16728     1637596125612     1637596125852  FD:9E:84:03:87:71           0   \n",
       "16729     1637596125642     1637596125868  CD:87:AB:E8:05:12          97   \n",
       "\n",
       "           RR_rate                 file_name  Garmin  \n",
       "0               []  22_11_2021_15_38 eb0.txt       0  \n",
       "1       [779, 743]  22_11_2021_15_38 eb0.txt       0  \n",
       "2       [724, 832]  22_11_2021_15_38 eb0.txt       0  \n",
       "3               []  22_11_2021_15_38 eb0.txt       0  \n",
       "4            [794]  22_11_2021_15_38 eb0.txt       0  \n",
       "...            ...                       ...     ...  \n",
       "16725           []  22_11_2021_15_38 eb0.txt       0  \n",
       "16726  [1240, 621]  22_11_2021_15_38 eb0.txt       0  \n",
       "16727           []  22_11_2021_15_38 eb0.txt       0  \n",
       "16728           []  22_11_2021_15_38 eb0.txt       0  \n",
       "16729   [638, 602]  22_11_2021_15_38 eb0.txt       0  \n",
       "\n",
       "[16730 rows x 7 columns]"
      ]
     },
     "execution_count": 56,
     "metadata": {},
     "output_type": "execute_result"
    }
   ],
   "source": [
    "dataframes[0]"
   ]
  },
  {
   "cell_type": "markdown",
   "id": "ITaucWDJTEOk",
   "metadata": {
    "id": "ITaucWDJTEOk"
   },
   "source": [
    "### Combined all HRV dataframes into a main one (HRV_df)"
   ]
  },
  {
   "cell_type": "code",
   "execution_count": 57,
   "id": "WDgUfrJj-iJK",
   "metadata": {
    "id": "WDgUfrJj-iJK"
   },
   "outputs": [],
   "source": [
    "# Create a main dataframe containing all HRV dataframes combined\n",
    "def combine_df(df_list):\n",
    "    for index, df in enumerate(df_list):\n",
    "        if index == 0:\n",
    "            HRV_df = df.copy()\n",
    "        if index != 0:\n",
    "            HRV_df = pd.concat([HRV_df,df], axis=0, ignore_index=True)\n",
    "    return HRV_df"
   ]
  },
  {
   "cell_type": "code",
   "execution_count": 58,
   "id": "kmvDRvEKu71W",
   "metadata": {
    "id": "kmvDRvEKu71W"
   },
   "outputs": [],
   "source": [
    "HRV_df = combine_df(dataframes)"
   ]
  },
  {
   "cell_type": "markdown",
   "id": "rsGjRF5-hccY",
   "metadata": {
    "id": "rsGjRF5-hccY"
   },
   "source": [
    "### Formatting"
   ]
  },
  {
   "cell_type": "code",
   "execution_count": 59,
   "id": "RENxrvyNhnWj",
   "metadata": {
    "id": "RENxrvyNhnWj"
   },
   "outputs": [],
   "source": [
    "# Format the Timestamp features\n",
    "def timestamp_formatting(df, *args):\n",
    "    for timestamp in args:\n",
    "        df[timestamp] = df[timestamp].apply(lambda x: pd.Timestamp(x, unit=\"ms\"))\n",
    "    return df"
   ]
  },
  {
   "cell_type": "code",
   "execution_count": 60,
   "id": "3RzEarWriul3",
   "metadata": {
    "id": "3RzEarWriul3"
   },
   "outputs": [],
   "source": [
    "# Allow to drop useless columns\n",
    "def drop_columns(df, *args):\n",
    "    for column in args:\n",
    "        df.drop(column, axis=1, inplace=True)\n",
    "    return df"
   ]
  },
  {
   "cell_type": "code",
   "execution_count": 61,
   "id": "_OJh-9eXiVoN",
   "metadata": {
    "id": "_OJh-9eXiVoN"
   },
   "outputs": [],
   "source": [
    "HRV_df = timestamp_formatting(HRV_df, 'Timestamp_Google', 'Timestamp_Device')\n",
    "HRV_df = drop_columns(HRV_df)"
   ]
  },
  {
   "cell_type": "markdown",
   "id": "91f462c2",
   "metadata": {},
   "source": [
    "### Combined DataFrame"
   ]
  },
  {
   "cell_type": "code",
   "execution_count": 62,
   "id": "05fbd87a",
   "metadata": {},
   "outputs": [
    {
     "data": {
      "text/html": [
       "<div>\n",
       "<style scoped>\n",
       "    .dataframe tbody tr th:only-of-type {\n",
       "        vertical-align: middle;\n",
       "    }\n",
       "\n",
       "    .dataframe tbody tr th {\n",
       "        vertical-align: top;\n",
       "    }\n",
       "\n",
       "    .dataframe thead th {\n",
       "        text-align: right;\n",
       "    }\n",
       "</style>\n",
       "<table border=\"1\" class=\"dataframe\">\n",
       "  <thead>\n",
       "    <tr style=\"text-align: right;\">\n",
       "      <th></th>\n",
       "      <th>Timestamp_Google</th>\n",
       "      <th>Timestamp_Device</th>\n",
       "      <th>Device_id</th>\n",
       "      <th>Heart_Rate</th>\n",
       "      <th>RR_rate</th>\n",
       "      <th>file_name</th>\n",
       "      <th>Garmin</th>\n",
       "    </tr>\n",
       "  </thead>\n",
       "  <tbody>\n",
       "    <tr>\n",
       "      <th>0</th>\n",
       "      <td>2021-11-22 14:39:25.428</td>\n",
       "      <td>2021-11-22 14:39:25.655</td>\n",
       "      <td>FD:9E:84:03:87:71</td>\n",
       "      <td>77</td>\n",
       "      <td>[]</td>\n",
       "      <td>22_11_2021_15_38 eb0.txt</td>\n",
       "      <td>0</td>\n",
       "    </tr>\n",
       "    <tr>\n",
       "      <th>1</th>\n",
       "      <td>2021-11-22 14:39:25.599</td>\n",
       "      <td>2021-11-22 14:39:25.827</td>\n",
       "      <td>CA:93:07:67:1E:FF</td>\n",
       "      <td>80</td>\n",
       "      <td>[779, 743]</td>\n",
       "      <td>22_11_2021_15_38 eb0.txt</td>\n",
       "      <td>0</td>\n",
       "    </tr>\n",
       "    <tr>\n",
       "      <th>2</th>\n",
       "      <td>2021-11-22 14:39:25.832</td>\n",
       "      <td>2021-11-22 14:39:26.046</td>\n",
       "      <td>CD:87:AB:E8:05:12</td>\n",
       "      <td>88</td>\n",
       "      <td>[724, 832]</td>\n",
       "      <td>22_11_2021_15_38 eb0.txt</td>\n",
       "      <td>0</td>\n",
       "    </tr>\n",
       "    <tr>\n",
       "      <th>3</th>\n",
       "      <td>2021-11-22 14:39:25.867</td>\n",
       "      <td>2021-11-22 14:39:26.093</td>\n",
       "      <td>FD:9E:84:03:87:71</td>\n",
       "      <td>77</td>\n",
       "      <td>[]</td>\n",
       "      <td>22_11_2021_15_38 eb0.txt</td>\n",
       "      <td>0</td>\n",
       "    </tr>\n",
       "    <tr>\n",
       "      <th>4</th>\n",
       "      <td>2021-11-22 14:39:26.391</td>\n",
       "      <td>2021-11-22 14:39:26.608</td>\n",
       "      <td>FD:9E:84:03:87:71</td>\n",
       "      <td>78</td>\n",
       "      <td>[794]</td>\n",
       "      <td>22_11_2021_15_38 eb0.txt</td>\n",
       "      <td>0</td>\n",
       "    </tr>\n",
       "    <tr>\n",
       "      <th>...</th>\n",
       "      <td>...</td>\n",
       "      <td>...</td>\n",
       "      <td>...</td>\n",
       "      <td>...</td>\n",
       "      <td>...</td>\n",
       "      <td>...</td>\n",
       "      <td>...</td>\n",
       "    </tr>\n",
       "    <tr>\n",
       "      <th>1425346</th>\n",
       "      <td>2021-11-05 14:06:56.219</td>\n",
       "      <td>2021-11-05 14:06:55.489</td>\n",
       "      <td>NaN</td>\n",
       "      <td>NaN</td>\n",
       "      <td>809</td>\n",
       "      <td>05_11_2021_13_34_garmin ea9.txt</td>\n",
       "      <td>1</td>\n",
       "    </tr>\n",
       "    <tr>\n",
       "      <th>1425347</th>\n",
       "      <td>2021-11-05 14:06:57.182</td>\n",
       "      <td>2021-11-05 14:06:56.452</td>\n",
       "      <td>NaN</td>\n",
       "      <td>NaN</td>\n",
       "      <td>951</td>\n",
       "      <td>05_11_2021_13_34_garmin ea9.txt</td>\n",
       "      <td>1</td>\n",
       "    </tr>\n",
       "    <tr>\n",
       "      <th>1425348</th>\n",
       "      <td>2021-11-05 14:06:57.188</td>\n",
       "      <td>2021-11-05 14:06:56.458</td>\n",
       "      <td>NaN</td>\n",
       "      <td>NaN</td>\n",
       "      <td>951</td>\n",
       "      <td>05_11_2021_13_34_garmin ea9.txt</td>\n",
       "      <td>1</td>\n",
       "    </tr>\n",
       "    <tr>\n",
       "      <th>1425349</th>\n",
       "      <td>2021-11-05 14:06:58.155</td>\n",
       "      <td>2021-11-05 14:06:57.425</td>\n",
       "      <td>NaN</td>\n",
       "      <td>NaN</td>\n",
       "      <td>838</td>\n",
       "      <td>05_11_2021_13_34_garmin ea9.txt</td>\n",
       "      <td>1</td>\n",
       "    </tr>\n",
       "    <tr>\n",
       "      <th>1425350</th>\n",
       "      <td>2021-11-05 14:06:58.160</td>\n",
       "      <td>2021-11-05 14:06:57.430</td>\n",
       "      <td>NaN</td>\n",
       "      <td>NaN</td>\n",
       "      <td>838</td>\n",
       "      <td>05_11_2021_13_34_garmin ea9.txt</td>\n",
       "      <td>1</td>\n",
       "    </tr>\n",
       "  </tbody>\n",
       "</table>\n",
       "<p>1425351 rows × 7 columns</p>\n",
       "</div>"
      ],
      "text/plain": [
       "               Timestamp_Google        Timestamp_Device          Device_id  \\\n",
       "0       2021-11-22 14:39:25.428 2021-11-22 14:39:25.655  FD:9E:84:03:87:71   \n",
       "1       2021-11-22 14:39:25.599 2021-11-22 14:39:25.827  CA:93:07:67:1E:FF   \n",
       "2       2021-11-22 14:39:25.832 2021-11-22 14:39:26.046  CD:87:AB:E8:05:12   \n",
       "3       2021-11-22 14:39:25.867 2021-11-22 14:39:26.093  FD:9E:84:03:87:71   \n",
       "4       2021-11-22 14:39:26.391 2021-11-22 14:39:26.608  FD:9E:84:03:87:71   \n",
       "...                         ...                     ...                ...   \n",
       "1425346 2021-11-05 14:06:56.219 2021-11-05 14:06:55.489                NaN   \n",
       "1425347 2021-11-05 14:06:57.182 2021-11-05 14:06:56.452                NaN   \n",
       "1425348 2021-11-05 14:06:57.188 2021-11-05 14:06:56.458                NaN   \n",
       "1425349 2021-11-05 14:06:58.155 2021-11-05 14:06:57.425                NaN   \n",
       "1425350 2021-11-05 14:06:58.160 2021-11-05 14:06:57.430                NaN   \n",
       "\n",
       "        Heart_Rate     RR_rate                        file_name  Garmin  \n",
       "0               77          []         22_11_2021_15_38 eb0.txt       0  \n",
       "1               80  [779, 743]         22_11_2021_15_38 eb0.txt       0  \n",
       "2               88  [724, 832]         22_11_2021_15_38 eb0.txt       0  \n",
       "3               77          []         22_11_2021_15_38 eb0.txt       0  \n",
       "4               78       [794]         22_11_2021_15_38 eb0.txt       0  \n",
       "...            ...         ...                              ...     ...  \n",
       "1425346        NaN         809  05_11_2021_13_34_garmin ea9.txt       1  \n",
       "1425347        NaN         951  05_11_2021_13_34_garmin ea9.txt       1  \n",
       "1425348        NaN         951  05_11_2021_13_34_garmin ea9.txt       1  \n",
       "1425349        NaN         838  05_11_2021_13_34_garmin ea9.txt       1  \n",
       "1425350        NaN         838  05_11_2021_13_34_garmin ea9.txt       1  \n",
       "\n",
       "[1425351 rows x 7 columns]"
      ]
     },
     "execution_count": 62,
     "metadata": {},
     "output_type": "execute_result"
    }
   ],
   "source": [
    "HRV_df"
   ]
  },
  {
   "cell_type": "code",
   "execution_count": 63,
   "id": "Vs9mBkwDd2xK",
   "metadata": {
    "colab": {
     "base_uri": "https://localhost:8080/",
     "height": 423
    },
    "id": "Vs9mBkwDd2xK",
    "outputId": "35d8a7fe-c168-471a-c246-6f59982a015d"
   },
   "outputs": [],
   "source": [
    "ddf = HRV_df[(HRV_df.file_name == '22_11_2021_15_38 eb0.txt') & (HRV_df.Device_id == 'CA:93:07:67:1E:FF')]"
   ]
  },
  {
   "cell_type": "code",
   "execution_count": 64,
   "id": "bbb2881d",
   "metadata": {},
   "outputs": [
    {
     "data": {
      "text/plain": [
       "1        [779, 743]\n",
       "5             [773]\n",
       "9             [806]\n",
       "13            [847]\n",
       "17       [799, 779]\n",
       "            ...    \n",
       "16699            []\n",
       "16703            []\n",
       "16706            []\n",
       "16710            []\n",
       "16714            []\n",
       "Name: RR_rate, Length: 4156, dtype: object"
      ]
     },
     "execution_count": 64,
     "metadata": {},
     "output_type": "execute_result"
    }
   ],
   "source": [
    "ddf.RR_rate"
   ]
  },
  {
   "cell_type": "code",
   "execution_count": 65,
   "id": "522f1d77",
   "metadata": {},
   "outputs": [],
   "source": [
    "list_RR = []\n",
    "for i in ddf.RR_rate:\n",
    "    if len(i) == 5:\n",
    "        list_RR.append(int(i[1:4]))\n",
    "    elif len(i) == 10:\n",
    "        list_RR.append(int(i[1:4]))\n",
    "        list_RR.append(int(i[6:9]))\n",
    "    else:\n",
    "        pass"
   ]
  },
  {
   "cell_type": "code",
   "execution_count": 66,
   "id": "dbfeaaf2",
   "metadata": {},
   "outputs": [],
   "source": [
    "x_RR = []\n",
    "cumul = 0\n",
    "for i in list_RR:\n",
    "    cumul += i\n",
    "    x_RR.append(cumul)"
   ]
  },
  {
   "cell_type": "code",
   "execution_count": 67,
   "id": "5e6c608b",
   "metadata": {},
   "outputs": [],
   "source": [
    "window_start, window_end = 40, 200"
   ]
  },
  {
   "cell_type": "code",
   "execution_count": 68,
   "id": "81528b2e",
   "metadata": {
    "collapsed": true
   },
   "outputs": [
    {
     "data": {
      "text/plain": [
       "[816,\n",
       " 838,\n",
       " 853,\n",
       " 843,\n",
       " 829,\n",
       " 800,\n",
       " 810,\n",
       " 812,\n",
       " 798,\n",
       " 746,\n",
       " 767,\n",
       " 767,\n",
       " 779,\n",
       " 758,\n",
       " 750,\n",
       " 714,\n",
       " 693,\n",
       " 690,\n",
       " 701,\n",
       " 720,\n",
       " 719,\n",
       " 712,\n",
       " 779,\n",
       " 833,\n",
       " 830,\n",
       " 854,\n",
       " 814,\n",
       " 774,\n",
       " 759,\n",
       " 721,\n",
       " 714,\n",
       " 728,\n",
       " 789,\n",
       " 791,\n",
       " 805,\n",
       " 855,\n",
       " 882,\n",
       " 825,\n",
       " 743,\n",
       " 725,\n",
       " 701,\n",
       " 698,\n",
       " 826,\n",
       " 803,\n",
       " 760,\n",
       " 838,\n",
       " 863,\n",
       " 916,\n",
       " 930,\n",
       " 840,\n",
       " 848,\n",
       " 854,\n",
       " 867,\n",
       " 828,\n",
       " 759,\n",
       " 772,\n",
       " 786,\n",
       " 809,\n",
       " 836,\n",
       " 795,\n",
       " 819,\n",
       " 860,\n",
       " 920,\n",
       " 878,\n",
       " 794,\n",
       " 803,\n",
       " 798,\n",
       " 799,\n",
       " 762,\n",
       " 731,\n",
       " 747,\n",
       " 722,\n",
       " 708,\n",
       " 671,\n",
       " 677,\n",
       " 747,\n",
       " 881,\n",
       " 876,\n",
       " 833,\n",
       " 810,\n",
       " 838,\n",
       " 832,\n",
       " 743,\n",
       " 707,\n",
       " 685,\n",
       " 666,\n",
       " 708,\n",
       " 714,\n",
       " 701,\n",
       " 756,\n",
       " 825,\n",
       " 848,\n",
       " 772,\n",
       " 754,\n",
       " 770,\n",
       " 869,\n",
       " 857,\n",
       " 853,\n",
       " 845,\n",
       " 813,\n",
       " 840,\n",
       " 845,\n",
       " 824,\n",
       " 744,\n",
       " 761,\n",
       " 776,\n",
       " 806,\n",
       " 800,\n",
       " 741,\n",
       " 754,\n",
       " 757,\n",
       " 770,\n",
       " 730,\n",
       " 735,\n",
       " 759,\n",
       " 830,\n",
       " 813,\n",
       " 837,\n",
       " 844,\n",
       " 813,\n",
       " 758,\n",
       " 761,\n",
       " 767,\n",
       " 799,\n",
       " 800,\n",
       " 755,\n",
       " 784,\n",
       " 831,\n",
       " 852,\n",
       " 848,\n",
       " 763,\n",
       " 767,\n",
       " 807,\n",
       " 841,\n",
       " 791,\n",
       " 783,\n",
       " 764,\n",
       " 771,\n",
       " 719,\n",
       " 736,\n",
       " 744,\n",
       " 740,\n",
       " 751,\n",
       " 773,\n",
       " 803,\n",
       " 790,\n",
       " 743,\n",
       " 748,\n",
       " 761,\n",
       " 777,\n",
       " 742,\n",
       " 720,\n",
       " 760,\n",
       " 769,\n",
       " 764,\n",
       " 815,\n",
       " 836,\n",
       " 818,\n",
       " 766,\n",
       " 777,\n",
       " 792]"
      ]
     },
     "execution_count": 68,
     "metadata": {},
     "output_type": "execute_result"
    }
   ],
   "source": [
    "list_RR[window_start:window_end+1]"
   ]
  },
  {
   "cell_type": "code",
   "execution_count": 69,
   "id": "5440d78a",
   "metadata": {},
   "outputs": [],
   "source": [
    "import matplotlib.pyplot as plt"
   ]
  },
  {
   "cell_type": "code",
   "execution_count": 71,
   "id": "0ded4482",
   "metadata": {},
   "outputs": [
    {
     "data": {
      "text/plain": [
       "[<matplotlib.lines.Line2D at 0x12a3e8eb0>]"
      ]
     },
     "execution_count": 71,
     "metadata": {},
     "output_type": "execute_result"
    },
    {
     "data": {
      "image/png": "[encoded data removed]",
      "text/plain": [
       "<Figure size 432x288 with 1 Axes>"
      ]
     },
     "metadata": {
      "needs_background": "light"
     },
     "output_type": "display_data"
    }
   ],
   "source": [
    "plt.plot(x_RR[window_start:window_end+1], list_RR[window_start:window_end+1])"
   ]
  },
  {
   "cell_type": "markdown",
   "id": "4e3dab88",
   "metadata": {},
   "source": [
    "## Creating the window"
   ]
  },
  {
   "cell_type": "code",
   "execution_count": 108,
   "id": "0db02707",
   "metadata": {},
   "outputs": [],
   "source": [
    "x_series = pd.Series(x_RR) - pd.Series(list_RR)"
   ]
  },
  {
   "cell_type": "code",
   "execution_count": 112,
   "id": "a5278abf",
   "metadata": {},
   "outputs": [],
   "source": [
    "df_window = pd.DataFrame(x_series, columns=['Milliseconds'])"
   ]
  },
  {
   "cell_type": "code",
   "execution_count": 113,
   "id": "d74696e4",
   "metadata": {},
   "outputs": [],
   "source": [
    "df_window['RR_rate'] = pd.Series(list_RR)"
   ]
  },
  {
   "cell_type": "code",
   "execution_count": 114,
   "id": "e6a2a523",
   "metadata": {},
   "outputs": [
    {
     "data": {
      "text/html": [
       "<div>\n",
       "<style scoped>\n",
       "    .dataframe tbody tr th:only-of-type {\n",
       "        vertical-align: middle;\n",
       "    }\n",
       "\n",
       "    .dataframe tbody tr th {\n",
       "        vertical-align: top;\n",
       "    }\n",
       "\n",
       "    .dataframe thead th {\n",
       "        text-align: right;\n",
       "    }\n",
       "</style>\n",
       "<table border=\"1\" class=\"dataframe\">\n",
       "  <thead>\n",
       "    <tr style=\"text-align: right;\">\n",
       "      <th></th>\n",
       "      <th>Milliseconds</th>\n",
       "      <th>RR_rate</th>\n",
       "    </tr>\n",
       "  </thead>\n",
       "  <tbody>\n",
       "    <tr>\n",
       "      <th>0</th>\n",
       "      <td>0</td>\n",
       "      <td>779</td>\n",
       "    </tr>\n",
       "    <tr>\n",
       "      <th>1</th>\n",
       "      <td>779</td>\n",
       "      <td>743</td>\n",
       "    </tr>\n",
       "    <tr>\n",
       "      <th>2</th>\n",
       "      <td>1522</td>\n",
       "      <td>773</td>\n",
       "    </tr>\n",
       "    <tr>\n",
       "      <th>3</th>\n",
       "      <td>2295</td>\n",
       "      <td>806</td>\n",
       "    </tr>\n",
       "    <tr>\n",
       "      <th>4</th>\n",
       "      <td>3101</td>\n",
       "      <td>847</td>\n",
       "    </tr>\n",
       "    <tr>\n",
       "      <th>...</th>\n",
       "      <td>...</td>\n",
       "      <td>...</td>\n",
       "    </tr>\n",
       "    <tr>\n",
       "      <th>5362</th>\n",
       "      <td>4228137</td>\n",
       "      <td>682</td>\n",
       "    </tr>\n",
       "    <tr>\n",
       "      <th>5363</th>\n",
       "      <td>4228819</td>\n",
       "      <td>656</td>\n",
       "    </tr>\n",
       "    <tr>\n",
       "      <th>5364</th>\n",
       "      <td>4229475</td>\n",
       "      <td>636</td>\n",
       "    </tr>\n",
       "    <tr>\n",
       "      <th>5365</th>\n",
       "      <td>4230111</td>\n",
       "      <td>611</td>\n",
       "    </tr>\n",
       "    <tr>\n",
       "      <th>5366</th>\n",
       "      <td>4230722</td>\n",
       "      <td>813</td>\n",
       "    </tr>\n",
       "  </tbody>\n",
       "</table>\n",
       "<p>5367 rows × 2 columns</p>\n",
       "</div>"
      ],
      "text/plain": [
       "      Milliseconds  RR_rate\n",
       "0                0      779\n",
       "1              779      743\n",
       "2             1522      773\n",
       "3             2295      806\n",
       "4             3101      847\n",
       "...            ...      ...\n",
       "5362       4228137      682\n",
       "5363       4228819      656\n",
       "5364       4229475      636\n",
       "5365       4230111      611\n",
       "5366       4230722      813\n",
       "\n",
       "[5367 rows x 2 columns]"
      ]
     },
     "execution_count": 114,
     "metadata": {},
     "output_type": "execute_result"
    }
   ],
   "source": [
    "df_window"
   ]
  },
  {
   "cell_type": "code",
   "execution_count": 124,
   "id": "b59959af",
   "metadata": {},
   "outputs": [],
   "source": [
    "def window(df, start=0, end=10000, column='Milliseconds'):\n",
    "    return df[(df[column] >= start) & (df[column] <= end)]"
   ]
  },
  {
   "cell_type": "code",
   "execution_count": 125,
   "id": "75055d7e",
   "metadata": {},
   "outputs": [
    {
     "data": {
      "text/html": [
       "<div>\n",
       "<style scoped>\n",
       "    .dataframe tbody tr th:only-of-type {\n",
       "        vertical-align: middle;\n",
       "    }\n",
       "\n",
       "    .dataframe tbody tr th {\n",
       "        vertical-align: top;\n",
       "    }\n",
       "\n",
       "    .dataframe thead th {\n",
       "        text-align: right;\n",
       "    }\n",
       "</style>\n",
       "<table border=\"1\" class=\"dataframe\">\n",
       "  <thead>\n",
       "    <tr style=\"text-align: right;\">\n",
       "      <th></th>\n",
       "      <th>Milliseconds</th>\n",
       "      <th>RR_rate</th>\n",
       "    </tr>\n",
       "  </thead>\n",
       "  <tbody>\n",
       "    <tr>\n",
       "      <th>0</th>\n",
       "      <td>0</td>\n",
       "      <td>779</td>\n",
       "    </tr>\n",
       "    <tr>\n",
       "      <th>1</th>\n",
       "      <td>779</td>\n",
       "      <td>743</td>\n",
       "    </tr>\n",
       "    <tr>\n",
       "      <th>2</th>\n",
       "      <td>1522</td>\n",
       "      <td>773</td>\n",
       "    </tr>\n",
       "    <tr>\n",
       "      <th>3</th>\n",
       "      <td>2295</td>\n",
       "      <td>806</td>\n",
       "    </tr>\n",
       "    <tr>\n",
       "      <th>4</th>\n",
       "      <td>3101</td>\n",
       "      <td>847</td>\n",
       "    </tr>\n",
       "    <tr>\n",
       "      <th>5</th>\n",
       "      <td>3948</td>\n",
       "      <td>799</td>\n",
       "    </tr>\n",
       "    <tr>\n",
       "      <th>6</th>\n",
       "      <td>4747</td>\n",
       "      <td>779</td>\n",
       "    </tr>\n",
       "    <tr>\n",
       "      <th>7</th>\n",
       "      <td>5526</td>\n",
       "      <td>840</td>\n",
       "    </tr>\n",
       "    <tr>\n",
       "      <th>8</th>\n",
       "      <td>6366</td>\n",
       "      <td>887</td>\n",
       "    </tr>\n",
       "    <tr>\n",
       "      <th>9</th>\n",
       "      <td>7253</td>\n",
       "      <td>923</td>\n",
       "    </tr>\n",
       "    <tr>\n",
       "      <th>10</th>\n",
       "      <td>8176</td>\n",
       "      <td>844</td>\n",
       "    </tr>\n",
       "    <tr>\n",
       "      <th>11</th>\n",
       "      <td>9020</td>\n",
       "      <td>812</td>\n",
       "    </tr>\n",
       "    <tr>\n",
       "      <th>12</th>\n",
       "      <td>9832</td>\n",
       "      <td>838</td>\n",
       "    </tr>\n",
       "  </tbody>\n",
       "</table>\n",
       "</div>"
      ],
      "text/plain": [
       "    Milliseconds  RR_rate\n",
       "0              0      779\n",
       "1            779      743\n",
       "2           1522      773\n",
       "3           2295      806\n",
       "4           3101      847\n",
       "5           3948      799\n",
       "6           4747      779\n",
       "7           5526      840\n",
       "8           6366      887\n",
       "9           7253      923\n",
       "10          8176      844\n",
       "11          9020      812\n",
       "12          9832      838"
      ]
     },
     "execution_count": 125,
     "metadata": {},
     "output_type": "execute_result"
    }
   ],
   "source": [
    "window(df_window)"
   ]
  },
  {
   "cell_type": "markdown",
   "id": "58906e71",
   "metadata": {},
   "source": [
    "## Creating the features"
   ]
  },
  {
   "cell_type": "code",
   "execution_count": 72,
   "id": "d5a28fef",
   "metadata": {
    "scrolled": true
   },
   "outputs": [],
   "source": [
    "series_RR = pd.Series(list_RR)"
   ]
  },
  {
   "cell_type": "code",
   "execution_count": 73,
   "id": "5eb03c07",
   "metadata": {},
   "outputs": [],
   "source": [
    "# Standard deviation of NN-intervals in analyzed period\n",
    "SDNN = series_RR.std()"
   ]
  },
  {
   "cell_type": "code",
   "execution_count": 74,
   "id": "e63e4d2c",
   "metadata": {},
   "outputs": [
    {
     "data": {
      "text/plain": [
       "64.46742400856908"
      ]
     },
     "execution_count": 74,
     "metadata": {},
     "output_type": "execute_result"
    }
   ],
   "source": [
    "SDNN"
   ]
  },
  {
   "cell_type": "code",
   "execution_count": 76,
   "id": "ed51874d",
   "metadata": {},
   "outputs": [],
   "source": [
    "RR_diff = series_RR.shift(1) - series_RR"
   ]
  },
  {
   "cell_type": "code",
   "execution_count": 77,
   "id": "f3117bb4",
   "metadata": {},
   "outputs": [],
   "source": [
    "# Standard deviation of successive differences\n",
    "SDSD = RR_diff.std()"
   ]
  },
  {
   "cell_type": "code",
   "execution_count": 78,
   "id": "d48645de",
   "metadata": {},
   "outputs": [
    {
     "data": {
      "text/plain": [
       "39.199819751020414"
      ]
     },
     "execution_count": 78,
     "metadata": {},
     "output_type": "execute_result"
    }
   ],
   "source": [
    "SDSD"
   ]
  },
  {
   "cell_type": "code",
   "execution_count": 132,
   "id": "00496b12",
   "metadata": {},
   "outputs": [],
   "source": [
    "iterations = int(df_window.Milliseconds.max() / 300000)"
   ]
  },
  {
   "cell_type": "code",
   "execution_count": 133,
   "id": "352b5379",
   "metadata": {},
   "outputs": [],
   "source": [
    "list_mean = []\n",
    "for i in range(iterations):\n",
    "    list_mean.append(window(df_window, start=i*300000, end=(i+1)*300000).RR_rate.mean())"
   ]
  },
  {
   "cell_type": "code",
   "execution_count": 140,
   "id": "255b69bf",
   "metadata": {},
   "outputs": [],
   "source": [
    "# Standard deviation of the mean NN-intervals for each five-minute epoch of a long-term recording\n",
    "SDANN = pd.Series(list_mean).std()"
   ]
  },
  {
   "cell_type": "code",
   "execution_count": 141,
   "id": "4adb96fe",
   "metadata": {},
   "outputs": [
    {
     "data": {
      "text/plain": [
       "14.318593773083126"
      ]
     },
     "execution_count": 141,
     "metadata": {},
     "output_type": "execute_result"
    }
   ],
   "source": [
    "SDANN"
   ]
  },
  {
   "cell_type": "code",
   "execution_count": 142,
   "id": "9e34faaf",
   "metadata": {},
   "outputs": [],
   "source": [
    "list_std = []\n",
    "for i in range(iterations):\n",
    "    list_std.append(window(df_window, start=i*300000, end=(i+1)*300000).RR_rate.std())"
   ]
  },
  {
   "cell_type": "code",
   "execution_count": 145,
   "id": "912e2cbe",
   "metadata": {},
   "outputs": [],
   "source": [
    "# Mean of the standard deviation of the NN-intervals for each five-minute epoch in a long-term recording\n",
    "SDNN_index = pd.Series(list_std).mean()"
   ]
  },
  {
   "cell_type": "code",
   "execution_count": 146,
   "id": "a15fec18",
   "metadata": {},
   "outputs": [
    {
     "data": {
      "text/plain": [
       "61.270046213947005"
      ]
     },
     "execution_count": 146,
     "metadata": {},
     "output_type": "execute_result"
    }
   ],
   "source": [
    "SDNN_index"
   ]
  },
  {
   "cell_type": "code",
   "execution_count": 79,
   "id": "0b0e211b",
   "metadata": {},
   "outputs": [],
   "source": [
    "# Root mean square of successive differences of the NN-intervals. Each successive difference between NN-intervals\n",
    "# is squared and then RMSSD equals the square root of the mean of all squared differences\n",
    "RMSDD = math.sqrt((RR_diff**2).mean())"
   ]
  },
  {
   "cell_type": "code",
   "execution_count": 80,
   "id": "cba48db0",
   "metadata": {},
   "outputs": [
    {
     "data": {
      "text/plain": [
       "39.19616748210377"
      ]
     },
     "execution_count": 80,
     "metadata": {},
     "output_type": "execute_result"
    }
   ],
   "source": [
    "RMSDD"
   ]
  },
  {
   "cell_type": "code",
   "execution_count": 196,
   "id": "8180393d",
   "metadata": {},
   "outputs": [],
   "source": [
    "df_diff = pd.DataFrame(RR_diff.abs(), columns=['Diff'])"
   ]
  },
  {
   "cell_type": "code",
   "execution_count": 197,
   "id": "e7973097",
   "metadata": {},
   "outputs": [],
   "source": [
    "df_diff['50ms'] = (df_diff.Diff >= 50) * 1"
   ]
  },
  {
   "cell_type": "code",
   "execution_count": 198,
   "id": "e87588ac",
   "metadata": {},
   "outputs": [],
   "source": [
    "df_diff['50ms_diff'] = df_diff['50ms'].shift(1)"
   ]
  },
  {
   "cell_type": "code",
   "execution_count": 199,
   "id": "62922389",
   "metadata": {},
   "outputs": [],
   "source": [
    "df_diff['50ms_diff2'] = df_diff['50ms'].shift(2)"
   ]
  },
  {
   "cell_type": "code",
   "execution_count": 206,
   "id": "e913d189",
   "metadata": {},
   "outputs": [],
   "source": [
    "df_diff['count_successive_50ms'] = (((df_diff['50ms'] == 1) & (df_diff['50ms_diff'] == 1)) | ((df_diff['50ms'] == 0) & (df_diff['50ms_diff'] == 1) & (df_diff['50ms_diff2'] == 1))) * 1"
   ]
  },
  {
   "cell_type": "code",
   "execution_count": 209,
   "id": "a102ca69",
   "metadata": {},
   "outputs": [],
   "source": [
    "# Number of successive difference of intervals larger than 50 ms\n",
    "NN50 = df_diff.count_successive_50ms.sum()"
   ]
  },
  {
   "cell_type": "code",
   "execution_count": 210,
   "id": "bf8adfa6",
   "metadata": {},
   "outputs": [
    {
     "data": {
      "text/plain": [
       "327"
      ]
     },
     "execution_count": 210,
     "metadata": {},
     "output_type": "execute_result"
    }
   ],
   "source": [
    "NN50"
   ]
  },
  {
   "cell_type": "code",
   "execution_count": 227,
   "id": "9e4dc956",
   "metadata": {},
   "outputs": [],
   "source": [
    "# Number of successive difference of intervals larger than 50 ms as a percentage of the total number of NN-intervals analyzed\n",
    "pNN50 = (NN50 / len(series_RR)) * 100"
   ]
  },
  {
   "cell_type": "code",
   "execution_count": 228,
   "id": "14d07706",
   "metadata": {},
   "outputs": [
    {
     "name": "stdout",
     "output_type": "stream",
     "text": [
      "6.092789267747345 %\n"
     ]
    }
   ],
   "source": [
    "print(pNN50, \"%\")"
   ]
  },
  {
   "cell_type": "code",
   "execution_count": 81,
   "id": "5d337a5d",
   "metadata": {},
   "outputs": [],
   "source": [
    "# Average difference between maximum and minimum HR during every respiration cycle\n",
    "# HRmax_HRmin // We do not have this info"
   ]
  },
  {
   "cell_type": "code",
   "execution_count": 223,
   "id": "a885537c",
   "metadata": {},
   "outputs": [
    {
     "data": {
      "text/plain": [
       "785"
      ]
     },
     "execution_count": 223,
     "metadata": {},
     "output_type": "execute_result"
    }
   ],
   "source": [
    "series_RR.mode()[0]"
   ]
  },
  {
   "cell_type": "code",
   "execution_count": 224,
   "id": "24d1a5b1",
   "metadata": {},
   "outputs": [],
   "source": [
    "# HRV triangular index. Calculated by dividing the total number of NN-intervals in the time series by the number\n",
    "# of times the most frequent interval value occurs\n",
    "HTI = len(series_RR) / series_RR.mode()[0]"
   ]
  },
  {
   "cell_type": "code",
   "execution_count": 225,
   "id": "44789adb",
   "metadata": {},
   "outputs": [
    {
     "data": {
      "text/plain": [
       "6.836942675159236"
      ]
     },
     "execution_count": 225,
     "metadata": {},
     "output_type": "execute_result"
    }
   ],
   "source": [
    "HTI"
   ]
  },
  {
   "cell_type": "code",
   "execution_count": null,
   "id": "35bcf50b",
   "metadata": {},
   "outputs": [],
   "source": [
    "# Triangular interpolation of NN-interval histogram (Requires at least 20 min of recording)\n",
    "# TINN"
   ]
  },
  {
   "cell_type": "code",
   "execution_count": null,
   "id": "6e5193c3",
   "metadata": {},
   "outputs": [],
   "source": []
  }
 ],
 "metadata": {
  "colab": {
   "collapsed_sections": [],
   "name": "Simon.ipynb",
   "provenance": [],
   "toc_visible": true
  },
  "kernelspec": {
   "display_name": "Python 3 (ipykernel)",
   "language": "python",
   "name": "python3"
  },
  "language_info": {
   "codemirror_mode": {
    "name": "ipython",
    "version": 3
   },
   "file_extension": ".py",
   "mimetype": "text/x-python",
   "name": "python",
   "nbconvert_exporter": "python",
   "pygments_lexer": "ipython3",
   "version": "3.8.12"
  },
  "toc": {
   "base_numbering": 1,
   "nav_menu": {},
   "number_sections": true,
   "sideBar": true,
   "skip_h1_title": false,
   "title_cell": "Table of Contents",
   "title_sidebar": "Contents",
   "toc_cell": false,
   "toc_position": {},
   "toc_section_display": true,
   "toc_window_display": false
  }
 },
 "nbformat": 4,
 "nbformat_minor": 5
}
