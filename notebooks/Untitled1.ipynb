{
 "cells": [
  {
   "cell_type": "code",
   "execution_count": 1,
   "id": "78a9296b",
   "metadata": {},
   "outputs": [
    {
     "data": {
      "text/plain": [
       "Pipeline(steps=[('transformers',\n",
       "                 ColumnTransformer(remainder='passthrough',\n",
       "                                   transformers=[('minmaxscaler',\n",
       "                                                  MinMaxScaler(),\n",
       "                                                  ['one_min_RR_avg']),\n",
       "                                                 ('robustscaler',\n",
       "                                                  RobustScaler(),\n",
       "                                                  ['Heart_Rate'])])),\n",
       "                ('model_knn', KNeighborsClassifier(n_neighbors=3))])"
      ]
     },
     "execution_count": 1,
     "metadata": {},
     "output_type": "execute_result"
    }
   ],
   "source": [
    "import pickle\n",
    "\n",
    "# # Export pipeline as pickle file\n",
    "# with open(\"pipeline.pkl\", \"wb\") as file:\n",
    "#     pickle.dump(pipe_tuned, file)\n",
    "\n",
    "# Load pipeline from pickle file\n",
    "my_pipeline = pickle.load(open(\"pipeline_knn.pkl\",\"rb\"))\n",
    "\n",
    "my_pipeline"
   ]
  },
  {
   "cell_type": "code",
   "execution_count": null,
   "id": "dfa7e09d",
   "metadata": {},
   "outputs": [],
   "source": []
  }
 ],
 "metadata": {
  "kernelspec": {
   "display_name": "Python 3 (ipykernel)",
   "language": "python",
   "name": "python3"
  },
  "language_info": {
   "codemirror_mode": {
    "name": "ipython",
    "version": 3
   },
   "file_extension": ".py",
   "mimetype": "text/x-python",
   "name": "python",
   "nbconvert_exporter": "python",
   "pygments_lexer": "ipython3",
   "version": "3.8.12"
  },
  "toc": {
   "base_numbering": 1,
   "nav_menu": {},
   "number_sections": true,
   "sideBar": true,
   "skip_h1_title": false,
   "title_cell": "Table of Contents",
   "title_sidebar": "Contents",
   "toc_cell": false,
   "toc_position": {},
   "toc_section_display": true,
   "toc_window_display": false
  }
 },
 "nbformat": 4,
 "nbformat_minor": 5
}
