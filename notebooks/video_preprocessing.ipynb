{
 "cells": [
  {
   "cell_type": "markdown",
   "id": "8e88344f",
   "metadata": {
    "toc": true
   },
   "source": [
    "<h1>Table of Contents<span class=\"tocSkip\"></span></h1>\n",
    "<div class=\"toc\"><ul class=\"toc-item\"><li><span><a href=\"#Video-preprocessing\" data-toc-modified-id=\"Video-preprocessing-1\"><span class=\"toc-item-num\">1&nbsp;&nbsp;</span>Video preprocessing</a></span><ul class=\"toc-item\"><li><span><a href=\"#video-to-frame-conversion\" data-toc-modified-id=\"video-to-frame-conversion-1.1\"><span class=\"toc-item-num\">1.1&nbsp;&nbsp;</span>video to frame conversion</a></span></li><li><span><a href=\"#detection-of-face-coordinates\" data-toc-modified-id=\"detection-of-face-coordinates-1.2\"><span class=\"toc-item-num\">1.2&nbsp;&nbsp;</span>detection of face coordinates</a></span></li><li><span><a href=\"#face-detection-in-the-frames-and-cropping\" data-toc-modified-id=\"face-detection-in-the-frames-and-cropping-1.3\"><span class=\"toc-item-num\">1.3&nbsp;&nbsp;</span>face detection in the frames and cropping</a></span></li></ul></li></ul></div>"
   ]
  },
  {
   "cell_type": "markdown",
   "id": "a3440230",
   "metadata": {},
   "source": [
    "# Video preprocessing"
   ]
  },
  {
   "cell_type": "markdown",
   "id": "909febfa",
   "metadata": {},
   "source": [
    "## video to frame conversion "
   ]
  },
  {
   "cell_type": "code",
<<<<<<< HEAD
   "execution_count": null,
   "id": "47fdbca9-7b19-4420-b1f9-68cba4031544",
   "metadata": {},
   "outputs": [],
   "source": [
    "# command = f'ffmpeg -i ../../2021-10-25_10-31-58_c27.mp4 -vf fps=1/60 ../../frames/f-%03d.jpg'\n",
    "command = f'ffmpeg -i {file} -vf fps=1/120 {frame}/f-%03d.jpg'\n",
    "os.system(command)"
   ]
  },
  {
   "cell_type": "code",
   "execution_count": 12,
   "id": "b6045e20",
   "metadata": {},
   "outputs": [],
   "source": [
    "# fps is numebr of frames per second\n",
    "import os, cv2\n",
    "video_file = os.path.abspath(os.path.join('..', 'data', 'video.mp4'))\n",
    "frames_path = os.path.abspath(os.path.join('..', 'data', 'frames'))\n",
    "face_path = os.path.abspath(os.path.join('..', 'data', 'face'))"
=======
   "execution_count": 11,
   "id": "b6045e20",
   "metadata": {},
   "outputs": [
    {
     "name": "stderr",
     "output_type": "stream",
     "text": [
      "ffmpeg version 4.3.2 Copyright (c) 2000-2021 the FFmpeg developers\n",
      "  built with clang version 12.0.1\n",
      "  configuration: --prefix=/Users/runner/miniforge3/conda-bld/ffmpeg_1645955491330/_h_env_placehold_placehold_placehold_placehold_placehold_placehold_placehold_placehold_placehold_placehold_placehold_placehold_placehold_placehold_placehold_placehold_placehold_placehold_placehold_pl --cc=arm64-apple-darwin20.0.0-clang --disable-doc --disable-openssl --enable-avresample --enable-gnutls --enable-gpl --enable-hardcoded-tables --enable-libfreetype --enable-libopenh264 --enable-libx264 --enable-pic --enable-pthreads --enable-shared --disable-static --enable-version3 --enable-zlib --enable-libmp3lame --pkg-config=/Users/runner/miniforge3/conda-bld/ffmpeg_1645955491330/_build_env/bin/pkg-config --enable-cross-compile --arch=arm64 --target-os=darwin --cross-prefix=arm64-apple-darwin20.0.0- --host-cc=/Users/runner/miniforge3/conda-bld/ffmpeg_1645955491330/_build_env/bin/x86_64-apple-darwin13.4.0-clang\n",
      "  libavutil      56. 51.100 / 56. 51.100\n",
      "  libavcodec     58. 91.100 / 58. 91.100\n",
      "  libavformat    58. 45.100 / 58. 45.100\n",
      "  libavdevice    58. 10.100 / 58. 10.100\n",
      "  libavfilter     7. 85.100 /  7. 85.100\n",
      "  libavresample   4.  0.  0 /  4.  0.  0\n",
      "  libswscale      5.  7.100 /  5.  7.100\n",
      "  libswresample   3.  7.100 /  3.  7.100\n",
      "  libpostproc    55.  7.100 / 55.  7.100\n",
      "Input #0, mov,mp4,m4a,3gp,3g2,mj2, from '../../2021-10-25_10-31-58_c27.mp4':\n",
      "  Metadata:\n",
      "    major_brand     : isom\n",
      "    minor_version   : 512\n",
      "    compatible_brands: isomiso2avc1mp41\n",
      "    encoder         : Lavf59.16.100\n",
      "  Duration: 00:43:23.43, start: 0.000000, bitrate: 1160 kb/s\n",
      "    Stream #0:0(und): Video: h264 (High) (avc1 / 0x31637661), yuv420p(tv, bt470bg/bt709/bt709), 1280x720 [SAR 1:1 DAR 16:9], 1040 kb/s, 30 fps, 30 tbr, 15360 tbn, 60 tbc (default)\n",
      "    Metadata:\n",
      "      handler_name    : VideoHandler\n",
      "    Stream #0:1(und): Audio: aac (LC) (mp4a / 0x6134706D), 44100 Hz, stereo, fltp, 108 kb/s (default)\n",
      "    Metadata:\n",
      "      handler_name    : SoundHandler\n",
      "Stream mapping:\n",
      "  Stream #0:0 -> #0:0 (h264 (native) -> mjpeg (native))\n",
      "Press [q] to stop, [?] for help\n",
      "[swscaler @ 0x130048000] deprecated pixel format used, make sure you did set range correctly\n",
      "[mjpeg @ 0x13c00e800] bitrate tolerance 4000000 too small for bitrate 200000, overriding\n",
      "Output #0, image2, to '../../frames_2/f-%03d.jpg':\n",
      "  Metadata:\n",
      "    major_brand     : isom\n",
      "    minor_version   : 512\n",
      "    compatible_brands: isomiso2avc1mp41\n",
      "    encoder         : Lavf58.45.100\n",
      "    Stream #0:0(und): Video: mjpeg, yuvj420p(pc), 1280x720 [SAR 1:1 DAR 16:9], q=2-31, 200 kb/s, 0.01 fps, 0.01 tbn, 0.01 tbc (default)\n",
      "    Metadata:\n",
      "      handler_name    : VideoHandler\n",
      "      encoder         : Lavc58.91.100 mjpeg\n",
      "    Side data:\n",
      "      cpb: bitrate max/min/avg: 0/0/200000 buffer size: 0 vbv_delay: N/A\n",
      "frame=   22 fps=1.0 q=1.6 Lsize=N/A time=00:44:00.00 bitrate=N/A speed= 116x    \n",
      "video:1626kB audio:0kB subtitle:0kB other streams:0kB global headers:0kB muxing overhead: unknown\n"
     ]
    },
    {
     "data": {
      "text/plain": [
       "0"
      ]
     },
     "execution_count": 11,
     "metadata": {},
     "output_type": "execute_result"
    }
   ],
   "source": [
    "# fps is numebr of frames per second\n",
    "import os\n",
    "file_ = '../../2021-10-25_10-31-58_c27'\n",
    "frame_ = 'f'\n",
    "# command = f'ffmpeg -i ../../2021-10-25_10-31-58_c27.mp4 -vf fps=1/60 ../../frames/f-%03d.jpg'\n",
    "command = f'ffmpeg -i {file_}.mp4 -vf fps=1/120 ../../frames_2/{frame_}-%03d.jpg'\n",
    "os.system(command)"
>>>>>>> 02123e1297c77dc0b72a1588af662f175cc7ab11
   ]
  },
  {
   "cell_type": "markdown",
   "id": "12070d58",
   "metadata": {},
   "source": [
    "## detection of face coordinates"
   ]
  },
  {
   "cell_type": "code",
<<<<<<< HEAD
   "execution_count": 2,
   "id": "d336768b",
   "metadata": {},
   "outputs": [
    {
     "name": "stdout",
     "output_type": "stream",
     "text": [
      "x= 1280\n",
      "y= 720\n"
     ]
    },
    {
     "data": {
      "text/plain": [
       "<matplotlib.image.AxesImage at 0x7f5618b38070>"
      ]
     },
     "execution_count": 2,
     "metadata": {},
     "output_type": "execute_result"
    },
    {
     "data": {
      "image/png": "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\n",
      "text/plain": [
       "<Figure size 432x288 with 1 Axes>"
      ]
     },
     "metadata": {
      "needs_background": "light"
     },
     "output_type": "display_data"
    }
   ],
   "source": [
    "from pylab import *\n",
    "\n",
    "file = 'f-003.jpg'\n",
    "img = cv2.imread(os.path.join(frames_path, file))\n",
=======
   "execution_count": null,
   "id": "d336768b",
   "metadata": {},
   "outputs": [],
   "source": [
    "import cv2\n",
    "from pylab import *\n",
    "\n",
    "frame_path = '../../frames/'\n",
    "file = 'f-003.jpg'\n",
    "img = cv2.imread('%s%s' % (frame_path, file))\n",
>>>>>>> 02123e1297c77dc0b72a1588af662f175cc7ab11
    "x = img.shape[1]\n",
    "y = img.shape[0]\n",
    "print(\"x=\", x)\n",
    "print(\"y=\", y)\n",
    "imshow(img)"
   ]
  },
  {
   "cell_type": "markdown",
   "id": "f7e68fcf",
   "metadata": {},
   "source": [
    "This function open a image and you can choose the approximate location of the center of the face, (try to do it within 5 second)"
   ]
  },
  {
   "cell_type": "code",
<<<<<<< HEAD
   "execution_count": 3,
=======
   "execution_count": 12,
>>>>>>> 02123e1297c77dc0b72a1588af662f175cc7ab11
   "id": "53947261",
   "metadata": {},
   "outputs": [],
   "source": [
<<<<<<< HEAD
=======
    "# importing the module\n",
    "import cv2 \n",
>>>>>>> 02123e1297c77dc0b72a1588af662f175cc7ab11
    "# function to display the coordinates of\n",
    "# of the points clicked on the image\n",
    "def click_event(event, x, y, flags, params):\n",
    "    # checking for left mouse clicks\n",
    "    if event == cv2.EVENT_LBUTTONDOWN:\n",
    "        # displaying the coordinates\n",
    "        # on the Shell\n",
    "        print(x, ' ', y)\n",
    "        \n",
    "        # displaying the coordinates\n",
    "        # on the image window\n",
    "        font = cv2.FONT_HERSHEY_SIMPLEX\n",
    "        cv2.putText(img, str(x) + ',' +\n",
    "                    str(y), (x,y), font,\n",
    "                    1, (255, 0, 0), 2)\n",
    "        cv2.imshow('image', img)\n",
    "    # checking for right mouse clicks    \n",
    "    if event==cv2.EVENT_RBUTTONDOWN:\n",
    "        # displaying the coordinates\n",
    "        # on the Shell\n",
    "        print(x, ' ', y)\n",
    "        \n",
    "        # displaying the coordinates\n",
    "        # on the image window\n",
    "        font = cv2.FONT_HERSHEY_SIMPLEX\n",
    "        b = img[y, x, 0]\n",
    "        g = img[y, x, 1]\n",
    "        r = img[y, x, 2]\n",
    "        cv2.putText(img, str(b) + ',' +\n",
    "                    str(g) + ',' + str(r),\n",
    "                    (x,y), font, 1,\n",
    "                    (255, 255, 0), 2)\n",
    "        cv2.imshow('image', img)\n"
   ]
  },
  {
   "cell_type": "code",
   "execution_count": null,
   "id": "8d442663",
   "metadata": {},
   "outputs": [],
   "source": [
<<<<<<< HEAD
    "img = cv2.imread(os.path.join(frames_path, file))\n",
=======
    "frame_path = '../../frames/'\n",
    "file = 'f-003.jpg'\n",
    "img = cv2.imread('%s%s' % (frame_path, file))\n",
>>>>>>> 02123e1297c77dc0b72a1588af662f175cc7ab11
    "cv2.imshow('image', img)\n",
    "cv2.setMouseCallback('image', click_event)\n",
    "cv2.waitKey(5000)\n",
    "cv2.destroyAllWindows()\n",
<<<<<<< HEAD
    "crop_img = cv2.cvtColor(crop_img, cv2.COLOR_BGR2RGB)\n",
=======
    "# crop_img = cv2.cvtColor(crop_img, cv2.COLOR_BGR2RGB)\n",
>>>>>>> 02123e1297c77dc0b72a1588af662f175cc7ab11
    "# plt.imshow(crop_img)\n",
    "# plt.show()"
   ]
  },
  {
   "cell_type": "markdown",
   "id": "1f6d66e7",
   "metadata": {},
   "source": [
    "By running this over all the videos, we can extract the x and y position of the faces. But, I think all of them probably are in the same spot. So, we might not even need to repeat this step for all the videos. I have run it once and for the video I had, x= 1094 and y = 199. "
   ]
  },
  {
   "cell_type": "markdown",
   "id": "144d1b94",
   "metadata": {},
   "source": [
    "## face detection in the frames and cropping"
   ]
  },
  {
   "cell_type": "code",
<<<<<<< HEAD
   "execution_count": 3,
=======
   "execution_count": 13,
>>>>>>> 02123e1297c77dc0b72a1588af662f175cc7ab11
   "id": "6b668cf6",
   "metadata": {},
   "outputs": [],
   "source": [
    "# coordiante of the face (approximately center)\n",
<<<<<<< HEAD
    "x = 1100\n",
    "y = 200"
=======
    "x = 1094\n",
    "y = 199"
>>>>>>> 02123e1297c77dc0b72a1588af662f175cc7ab11
   ]
  },
  {
   "cell_type": "code",
<<<<<<< HEAD
   "execution_count": 37,
=======
   "execution_count": 14,
>>>>>>> 02123e1297c77dc0b72a1588af662f175cc7ab11
   "id": "6f796a35",
   "metadata": {},
   "outputs": [],
   "source": [
    "from mtcnn import MTCNN # via conda-forge mtccn, via pip mtcnn_cv2\n",
    "import cv2 # python_opencv\n",
    "import pandas as pd\n",
    "import os\n",
    "\n",
    "def bounding_box_check(faces, x, y):\n",
    "    # check the center\n",
    "    for face in faces:\n",
    "        bounding_box = face['box']\n",
    "        if (bounding_box[1] < 0):\n",
    "            bounding_box[1] = 0\n",
    "        if (bounding_box[0] < 0):\n",
    "            bounding_box[0] = 0\n",
<<<<<<< HEAD
    "        if (bounding_box[0] - 100 > x\n",
    "                or bounding_box[0] + bounding_box[2] + 100 < x):\n",
=======
    "        if (bounding_box[0] - 50 > x\n",
    "                or bounding_box[0] + bounding_box[2] + 50 < x):\n",
>>>>>>> 02123e1297c77dc0b72a1588af662f175cc7ab11
    "            print('change person from')\n",
    "            print(bounding_box)\n",
    "            print('to')\n",
    "            continue\n",
<<<<<<< HEAD
    "        if (bounding_box[1] - 100 > y\n",
    "                or bounding_box[1] + bounding_box[3] + 100 < y):\n",
=======
    "        if (bounding_box[1] - 50 > y\n",
    "                or bounding_box[1] + bounding_box[3] + 50 < y):\n",
>>>>>>> 02123e1297c77dc0b72a1588af662f175cc7ab11
    "            print('change person from')\n",
    "            print(bounding_box)\n",
    "            print('to')\n",
    "            continue\n",
    "        return bounding_box\n",
    "\n",
<<<<<<< HEAD
    "def face_detect(frame_path, detector, x_pos, y_pos):\n",
    "    name = file.replace('.jpg', '').split('-')\n",
    "    x = x_pos\n",
    "    y = y_pos\n",
    "    img = cv2.imread(frame_path)\n",
=======
    "def face_detect(file, detector, frame_path, x_pos, y_pos):\n",
    "    name = file.replace('.jpg', '').split('-')\n",
    "    x = x_pos\n",
    "    y = y_pos\n",
    "    img = cv2.imread('%s%s' % (frame_path, file ))\n",
>>>>>>> 02123e1297c77dc0b72a1588af662f175cc7ab11
    "    faces = detector.detect_faces(img)\n",
    "    # check if detected faces\n",
    "    if (len(faces) == 0):\n",
    "        print('no face detect: ' + file)\n",
    "        return  #no face\n",
    "    bounding_box = bounding_box_check(faces, x, y)\n",
    "    if (bounding_box == None):\n",
    "        print('face is not related to given coord: ' + file)\n",
    "        return\n",
    "    print(file, \" \", bounding_box)\n",
    "    print(file, \" \", x, y)\n",
    "    crop_img = img[bounding_box[1]:bounding_box[1] + bounding_box[3],\n",
    "                   bounding_box[0]:bounding_box[0] + bounding_box[2]]\n",
<<<<<<< HEAD
    "    crop_img = cv2.resize(crop_img, (244, 244))\n",
    "    cv2.imwrite('%s/frame_' % output_dir + frame_path.split('/')[-1],\n",
=======
    "    crop_img = cv2.resize(crop_img, (160, 160))\n",
    "    cv2.imwrite('%s/frame_' % output_dir + name[0] + '_' + name[1] + '.jpg',\n",
>>>>>>> 02123e1297c77dc0b72a1588af662f175cc7ab11
    "                crop_img)\n",
    "    "
   ]
  },
  {
   "cell_type": "code",
<<<<<<< HEAD
   "execution_count": 38,
   "id": "98907bf5",
   "metadata": {},
   "outputs": [
    {
     "name": "stdout",
     "output_type": "stream",
     "text": [
      "/home/jan/code/Jackfn96/3DS/data/frames/f-010.jpg\n",
      "f-003.jpg   [1060, 140, 142, 170]\n",
      "f-003.jpg   1100 200\n",
      "/home/jan/code/Jackfn96/3DS/data/frames/f-011.jpg\n",
      "f-003.jpg   [1063, 141, 140, 167]\n",
      "f-003.jpg   1100 200\n",
      "/home/jan/code/Jackfn96/3DS/data/frames/f-012.jpg\n",
      "f-003.jpg   [1021, 234, 136, 147]\n",
      "f-003.jpg   1100 200\n",
      "/home/jan/code/Jackfn96/3DS/data/frames/f-013.jpg\n",
      "f-003.jpg   [1067, 139, 138, 164]\n",
      "f-003.jpg   1100 200\n",
      "/home/jan/code/Jackfn96/3DS/data/frames/f-014.jpg\n",
      "f-003.jpg   [1060, 144, 141, 169]\n",
      "f-003.jpg   1100 200\n",
      "/home/jan/code/Jackfn96/3DS/data/frames/f-015.jpg\n",
      "f-003.jpg   [1060, 150, 137, 164]\n",
      "f-003.jpg   1100 200\n",
      "/home/jan/code/Jackfn96/3DS/data/frames/f-016.jpg\n",
      "f-003.jpg   [1066, 152, 137, 160]\n",
      "f-003.jpg   1100 200\n",
      "/home/jan/code/Jackfn96/3DS/data/frames/f-017.jpg\n",
      "f-003.jpg   [1052, 153, 142, 164]\n",
      "f-003.jpg   1100 200\n",
      "/home/jan/code/Jackfn96/3DS/data/frames/f-018.jpg\n",
      "f-003.jpg   [1055, 160, 139, 164]\n",
      "f-003.jpg   1100 200\n",
      "/home/jan/code/Jackfn96/3DS/data/frames/f-019.jpg\n",
      "f-003.jpg   [1054, 165, 133, 159]\n",
      "f-003.jpg   1100 200\n"
     ]
    }
   ],
   "source": [
    "detect_range = (10, 20)\n",
    "detector = MTCNN()\n",
    "output_dir = face_path  # output directroy to save the files\n",
    "for i in range(detect_range[0], detect_range[1]):\n",
    "    frame_path = os.path.join(frames_path, \"f-%03d.jpg\" % (i))\n",
    "    print(frame_path)\n",
    "    if (not os.path.exists(frame_path)):\n",
    "        print('cannot find input: ' + frame_path)\n",
    "        continue\n",
    "    face_detect(frame_path, detector, x, y)"
   ]
  },
  {
   "cell_type": "markdown",
   "id": "f2236623-250b-4262-9f69-8b3a713412a6",
   "metadata": {},
   "source": [
    "# Tensorflow"
   ]
  },
  {
   "cell_type": "code",
   "execution_count": 27,
   "id": "f012f970-67ae-4229-8b80-86d4b5ab63bb",
   "metadata": {},
   "outputs": [],
   "source": [
    "from tensorflow.keras.models import load_model"
   ]
  },
  {
   "cell_type": "code",
   "execution_count": null,
   "id": "af4913db-0b77-47c1-affd-85d2eca5b85c",
   "metadata": {},
   "outputs": [],
   "source": []
  },
  {
   "cell_type": "code",
   "execution_count": 31,
   "id": "b1037bb8-bbaf-4d01-b988-14f40ac00466",
   "metadata": {},
   "outputs": [],
   "source": [
    "from sklearn.model_selection import train_test_split\n",
    "from sklearn.metrics import classification_report\n",
    "import keras\n",
    "from keras.preprocessing import image   # for preprocessing the images\n",
    "from keras.utils import np_utils\n",
    "from keras.models import Sequential\n",
    "from keras.applications.vgg16 import VGG16\n",
    "from keras.layers import Dense, InputLayer, Dropout, Flatten\n",
    "from keras.layers import Conv2D, MaxPooling2D, GlobalMaxPooling2D\n",
    "from keras.preprocessing import image\n",
    "from keras.models import Sequential\n",
    "from keras.layers import Conv2D, MaxPooling2D\n",
    "from keras.layers import Activation, Dropout, Flatten, Dense\n",
    "from keras.regularizers import l2\n",
    "from keras.preprocessing.image import ImageDataGenerator, array_to_img, img_to_array, load_img\n",
    "from sklearn.model_selection import train_test_split\n",
    "from tensorflow.keras.preprocessing.image import ImageDataGenerator\n",
    "from tensorflow.keras.applications import VGG16\n",
    "from tensorflow.keras.layers import Dropout, Flatten, Dense, Input\n",
    "from tensorflow.keras.models import Model\n",
    "from tensorflow.keras.optimizers import SGD"
   ]
  },
  {
   "cell_type": "code",
   "execution_count": 33,
   "id": "c74e819c-b7cf-4417-a9fa-ca50dbe838d6",
   "metadata": {},
   "outputs": [
    {
     "name": "stdout",
     "output_type": "stream",
     "text": [
      "Model: \"sequential_1\"\n",
      "_________________________________________________________________\n",
      " Layer (type)                Output Shape              Param #   \n",
      "=================================================================\n",
      " conv2d_148 (Conv2D)         (None, 244, 244, 32)      896       \n",
      "                                                                 \n",
      " conv2d_149 (Conv2D)         (None, 244, 244, 32)      9248      \n",
      "                                                                 \n",
      " max_pooling2d_74 (MaxPoolin  (None, 122, 122, 32)     0         \n",
      " g2D)                                                            \n",
      "                                                                 \n",
      " conv2d_150 (Conv2D)         (None, 122, 122, 64)      18496     \n",
      "                                                                 \n",
      " conv2d_151 (Conv2D)         (None, 122, 122, 64)      36928     \n",
      "                                                                 \n",
      " max_pooling2d_75 (MaxPoolin  (None, 61, 61, 64)       0         \n",
      " g2D)                                                            \n",
      "                                                                 \n",
      " flatten_25 (Flatten)        (None, 238144)            0         \n",
      "                                                                 \n",
      " dense_85 (Dense)            (None, 128)               30482560  \n",
      "                                                                 \n",
      " dense_86 (Dense)            (None, 10)                1290      \n",
      "                                                                 \n",
      "=================================================================\n",
      "Total params: 30,549,418\n",
      "Trainable params: 30,549,418\n",
      "Non-trainable params: 0\n",
      "_________________________________________________________________\n"
     ]
    }
   ],
   "source": [
    "model_base = Sequential()\n",
    "# model_base.add(Conv2D(32, (3, 3), input_shape=(224, 224, 3), activation = 'relu', kernel_regularizer=l2(0.01)))\n",
    "# model_base.add(MaxPooling2D(pool_size=(2, 2), padding='same'))\n",
    "# model_base.add(Conv2D(32, (3, 3), activation = 'relu', padding='same', kernel_regularizer=l2(0.01)))\n",
    "# model_base.add(MaxPooling2D(pool_size=(2, 2), padding='same'))\n",
    "# model_base.add(Conv2D(64, (3, 3), activation = 'relu', padding='same', kernel_regularizer=l2(0.01)))\n",
    "# model_base.add(MaxPooling2D(pool_size=(2, 2), padding='same'))\n",
    "# model_base.add(Dense(64, activation = 'relu', kernel_regularizer=l2(0.01)))\n",
    "# model_base.add(Dropout(0.5))\n",
    "# model_base.add(Dense(count_classes, kernel_regularizer=l2(0.01), activation = 'softmax'))\n",
    "\n",
    "model_base.add(Conv2D(32, (3, 3), activation='relu',\n",
    "                      kernel_initializer='he_uniform', kernel_regularizer=l2(0.01), \n",
    "                      padding='same', input_shape=(244, 244, 3)))\n",
    "model_base.add(Conv2D(32, (3, 3), activation='relu', kernel_initializer='he_uniform', \n",
    "                      kernel_regularizer=l2(0.01), padding='same'))\n",
    "model_base.add(MaxPooling2D((2, 2)))\n",
    "\n",
    "model_base.add(Conv2D(64, (3, 3), activation='relu',kernel_initializer='he_uniform', \n",
    "                      kernel_regularizer=l2(0.01), padding='same'))\n",
    "model_base.add(Conv2D(64, (3, 3), activation='relu',kernel_initializer='he_uniform',\n",
    "                      kernel_regularizer=l2(0.01), padding='same'))\n",
    "model_base.add(MaxPooling2D((2, 2)))\n",
    "\n",
    "# flattenign the 3D features\n",
    "# example output part of the model\n",
    "model_base.add(Flatten())\n",
    "model_base.add(Dense(128, activation='relu', kernel_initializer='he_uniform',\n",
    "                kernel_regularizer=l2(0.01)))\n",
    "model_base.add(Dense(10, activation='softmax', kernel_regularizer=l2(0.01)))\n",
    "model_base.compile(loss='categorical_crossentropy',\n",
    "#               optimizer='rmsprop',\n",
    "               optimizer='adam',\n",
    "              metrics=['accuracy'])\n",
    "model_base.summary()"
   ]
  },
  {
   "cell_type": "code",
   "execution_count": 35,
   "id": "c015c59a-175a-4e1c-a7ae-f90d70c83346",
   "metadata": {},
   "outputs": [],
   "source": [
    "model_base.load_weights(os.path.join('..', 'models', 'model_base.h5'))"
   ]
  },
  {
   "cell_type": "markdown",
   "id": "70fccb26-46cd-4612-ab5f-7890c0c47e07",
   "metadata": {},
   "source": [
    "# THE TEST!"
   ]
  },
  {
   "cell_type": "code",
   "execution_count": 36,
   "id": "874386c1-08ab-41a3-9e9c-dd140def0aca",
   "metadata": {},
   "outputs": [],
   "source": [
    "face = os.path.join('..', 'data', 'face', 'frame_f-019.jpg')"
   ]
  },
  {
   "cell_type": "code",
   "execution_count": 39,
   "id": "0fa4919e-0432-4cc3-9d34-d107f6d6f352",
   "metadata": {},
   "outputs": [],
   "source": [
    "face_img = cv2.imread(face)"
   ]
  },
  {
   "cell_type": "code",
   "execution_count": 46,
   "id": "2c1e3dd1-bd6a-4141-9f03-d8ee508295b1",
   "metadata": {},
   "outputs": [],
   "source": [
    "inp = np.expand_dims(face_img, axis=0)"
   ]
  },
  {
   "cell_type": "code",
   "execution_count": 47,
   "id": "15586f02-cd86-4415-bb97-3e3149229388",
   "metadata": {},
   "outputs": [
    {
     "data": {
      "text/plain": [
       "array([[0.00695841, 0.00193589, 0.02526542, 0.23824106, 0.10624173,\n",
       "        0.12739828, 0.1404126 , 0.1318026 , 0.10217046, 0.11957355]],\n",
       "      dtype=float32)"
      ]
     },
     "execution_count": 47,
     "metadata": {},
     "output_type": "execute_result"
    }
   ],
   "source": [
    "model_base.predict(inp)"
   ]
  },
  {
   "cell_type": "code",
   "execution_count": null,
   "id": "041eac17-66a6-45da-9212-d46669a04036",
   "metadata": {},
   "outputs": [],
   "source": []
=======
   "execution_count": null,
   "id": "98907bf5",
   "metadata": {},
   "outputs": [],
   "source": [
    "detect_range = (1, 11)\n",
    "detector = MTCNN()\n",
    "output_dir = '../../face_input'  # output directroy to save the files\n",
    "frame_path = '../../frames/'\n",
    "for i in range(detect_range[0], detect_range[1]):\n",
    "    file_name = \"f-%03d.jpg\" % (i)\n",
    "    print(file_name)\n",
    "    if (not os.path.exists('%s%s' % (frame_path, file_name))):\n",
    "        print('cannot find input: ' + '%s%s' % (frame_path, file_name))\n",
    "        continue\n",
    "    face_detect(file_name, detector, frame_path, x, y)"
   ]
>>>>>>> 02123e1297c77dc0b72a1588af662f175cc7ab11
  }
 ],
 "metadata": {
  "kernelspec": {
   "display_name": "Python 3 (ipykernel)",
   "language": "python",
   "name": "python3"
  },
  "language_info": {
   "codemirror_mode": {
    "name": "ipython",
    "version": 3
   },
   "file_extension": ".py",
   "mimetype": "text/x-python",
   "name": "python",
   "nbconvert_exporter": "python",
   "pygments_lexer": "ipython3",
   "version": "3.8.12"
  },
  "latex_envs": {
   "LaTeX_envs_menu_present": true,
   "autoclose": false,
   "autocomplete": true,
   "bibliofile": "biblio.bib",
   "cite_by": "apalike",
   "current_citInitial": 1,
   "eqLabelWithNumbers": true,
   "eqNumInitial": 1,
   "hotkeys": {
    "equation": "Ctrl-E",
    "itemize": "Ctrl-I"
   },
   "labels_anchors": false,
   "latex_user_defs": false,
   "report_style_numbering": false,
   "user_envs_cfg": false
  },
  "toc": {
   "base_numbering": 1,
   "nav_menu": {},
   "number_sections": true,
   "sideBar": true,
   "skip_h1_title": false,
   "title_cell": "Table of Contents",
   "title_sidebar": "Contents",
   "toc_cell": true,
   "toc_position": {},
   "toc_section_display": true,
   "toc_window_display": false
  }
 },
 "nbformat": 4,
 "nbformat_minor": 5
}
