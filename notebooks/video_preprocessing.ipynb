{
 "cells": [
  {
   "cell_type": "markdown",
   "id": "8e88344f",
   "metadata": {
    "toc": true
   },
   "source": [
    "<h1>Table of Contents<span class=\"tocSkip\"></span></h1>\n",
    "<div class=\"toc\"><ul class=\"toc-item\"><li><span><a href=\"#Video-preprocessing\" data-toc-modified-id=\"Video-preprocessing-1\"><span class=\"toc-item-num\">1&nbsp;&nbsp;</span>Video preprocessing</a></span><ul class=\"toc-item\"><li><span><a href=\"#video-to-frame-conversion\" data-toc-modified-id=\"video-to-frame-conversion-1.1\"><span class=\"toc-item-num\">1.1&nbsp;&nbsp;</span>video to frame conversion</a></span></li><li><span><a href=\"#detection-of-face-coordinates\" data-toc-modified-id=\"detection-of-face-coordinates-1.2\"><span class=\"toc-item-num\">1.2&nbsp;&nbsp;</span>detection of face coordinates</a></span></li><li><span><a href=\"#face-detection-in-the-frames-and-cropping\" data-toc-modified-id=\"face-detection-in-the-frames-and-cropping-1.3\"><span class=\"toc-item-num\">1.3&nbsp;&nbsp;</span>face detection in the frames and cropping</a></span></li></ul></li></ul></div>"
   ]
  },
  {
   "cell_type": "markdown",
   "id": "a3440230",
   "metadata": {},
   "source": [
    "# Video preprocessing"
   ]
  },
  {
   "cell_type": "markdown",
   "id": "909febfa",
   "metadata": {},
   "source": [
    "## video to frame conversion "
   ]
  },
  {
   "cell_type": "code",
   "execution_count": 11,
   "id": "b6045e20",
   "metadata": {},
   "outputs": [
    {
     "name": "stderr",
     "output_type": "stream",
     "text": [
      "ffmpeg version 4.3.2 Copyright (c) 2000-2021 the FFmpeg developers\n",
      "  built with clang version 12.0.1\n",
      "  configuration: --prefix=/Users/runner/miniforge3/conda-bld/ffmpeg_1645955491330/_h_env_placehold_placehold_placehold_placehold_placehold_placehold_placehold_placehold_placehold_placehold_placehold_placehold_placehold_placehold_placehold_placehold_placehold_placehold_placehold_pl --cc=arm64-apple-darwin20.0.0-clang --disable-doc --disable-openssl --enable-avresample --enable-gnutls --enable-gpl --enable-hardcoded-tables --enable-libfreetype --enable-libopenh264 --enable-libx264 --enable-pic --enable-pthreads --enable-shared --disable-static --enable-version3 --enable-zlib --enable-libmp3lame --pkg-config=/Users/runner/miniforge3/conda-bld/ffmpeg_1645955491330/_build_env/bin/pkg-config --enable-cross-compile --arch=arm64 --target-os=darwin --cross-prefix=arm64-apple-darwin20.0.0- --host-cc=/Users/runner/miniforge3/conda-bld/ffmpeg_1645955491330/_build_env/bin/x86_64-apple-darwin13.4.0-clang\n",
      "  libavutil      56. 51.100 / 56. 51.100\n",
      "  libavcodec     58. 91.100 / 58. 91.100\n",
      "  libavformat    58. 45.100 / 58. 45.100\n",
      "  libavdevice    58. 10.100 / 58. 10.100\n",
      "  libavfilter     7. 85.100 /  7. 85.100\n",
      "  libavresample   4.  0.  0 /  4.  0.  0\n",
      "  libswscale      5.  7.100 /  5.  7.100\n",
      "  libswresample   3.  7.100 /  3.  7.100\n",
      "  libpostproc    55.  7.100 / 55.  7.100\n",
      "Input #0, mov,mp4,m4a,3gp,3g2,mj2, from '../../2021-10-25_10-31-58_c27.mp4':\n",
      "  Metadata:\n",
      "    major_brand     : isom\n",
      "    minor_version   : 512\n",
      "    compatible_brands: isomiso2avc1mp41\n",
      "    encoder         : Lavf59.16.100\n",
      "  Duration: 00:43:23.43, start: 0.000000, bitrate: 1160 kb/s\n",
      "    Stream #0:0(und): Video: h264 (High) (avc1 / 0x31637661), yuv420p(tv, bt470bg/bt709/bt709), 1280x720 [SAR 1:1 DAR 16:9], 1040 kb/s, 30 fps, 30 tbr, 15360 tbn, 60 tbc (default)\n",
      "    Metadata:\n",
      "      handler_name    : VideoHandler\n",
      "    Stream #0:1(und): Audio: aac (LC) (mp4a / 0x6134706D), 44100 Hz, stereo, fltp, 108 kb/s (default)\n",
      "    Metadata:\n",
      "      handler_name    : SoundHandler\n",
      "Stream mapping:\n",
      "  Stream #0:0 -> #0:0 (h264 (native) -> mjpeg (native))\n",
      "Press [q] to stop, [?] for help\n",
      "[swscaler @ 0x130048000] deprecated pixel format used, make sure you did set range correctly\n",
      "[mjpeg @ 0x13c00e800] bitrate tolerance 4000000 too small for bitrate 200000, overriding\n",
      "Output #0, image2, to '../../frames_2/f-%03d.jpg':\n",
      "  Metadata:\n",
      "    major_brand     : isom\n",
      "    minor_version   : 512\n",
      "    compatible_brands: isomiso2avc1mp41\n",
      "    encoder         : Lavf58.45.100\n",
      "    Stream #0:0(und): Video: mjpeg, yuvj420p(pc), 1280x720 [SAR 1:1 DAR 16:9], q=2-31, 200 kb/s, 0.01 fps, 0.01 tbn, 0.01 tbc (default)\n",
      "    Metadata:\n",
      "      handler_name    : VideoHandler\n",
      "      encoder         : Lavc58.91.100 mjpeg\n",
      "    Side data:\n",
      "      cpb: bitrate max/min/avg: 0/0/200000 buffer size: 0 vbv_delay: N/A\n",
      "frame=   22 fps=1.0 q=1.6 Lsize=N/A time=00:44:00.00 bitrate=N/A speed= 116x    \n",
      "video:1626kB audio:0kB subtitle:0kB other streams:0kB global headers:0kB muxing overhead: unknown\n"
     ]
    },
    {
     "data": {
      "text/plain": [
       "0"
      ]
     },
     "execution_count": 11,
     "metadata": {},
     "output_type": "execute_result"
    }
   ],
   "source": [
    "# fps is numebr of frames per second\n",
    "import os\n",
    "file_ = '../../2021-10-25_10-31-58_c27'\n",
    "frame_ = 'f'\n",
    "# command = f'ffmpeg -i ../../2021-10-25_10-31-58_c27.mp4 -vf fps=1/60 ../../frames/f-%03d.jpg'\n",
    "command = f'ffmpeg -i {file_}.mp4 -vf fps=1/120 ../../frames_2/{frame_}-%03d.jpg'\n",
    "os.system(command)"
   ]
  },
  {
   "cell_type": "markdown",
   "id": "12070d58",
   "metadata": {},
   "source": [
    "## detection of face coordinates"
   ]
  },
  {
   "cell_type": "code",
   "execution_count": null,
   "id": "d336768b",
   "metadata": {},
   "outputs": [],
   "source": [
    "import cv2\n",
    "from pylab import *\n",
    "\n",
    "frame_path = '../../frames/'\n",
    "file = 'f-003.jpg'\n",
    "img = cv2.imread('%s%s' % (frame_path, file))\n",
    "x = img.shape[1]\n",
    "y = img.shape[0]\n",
    "print(\"x=\", x)\n",
    "print(\"y=\", y)\n",
    "imshow(img)"
   ]
  },
  {
   "cell_type": "markdown",
   "id": "f7e68fcf",
   "metadata": {},
   "source": [
    "This function open a image and you can choose the approximate location of the center of the face, (try to do it within 5 second)"
   ]
  },
  {
   "cell_type": "code",
   "execution_count": 12,
   "id": "53947261",
   "metadata": {},
   "outputs": [],
   "source": [
    "# importing the module\n",
    "import cv2 \n",
    "# function to display the coordinates of\n",
    "# of the points clicked on the image\n",
    "def click_event(event, x, y, flags, params):\n",
    "    # checking for left mouse clicks\n",
    "    if event == cv2.EVENT_LBUTTONDOWN:\n",
    "        # displaying the coordinates\n",
    "        # on the Shell\n",
    "        print(x, ' ', y)\n",
    "        \n",
    "        # displaying the coordinates\n",
    "        # on the image window\n",
    "        font = cv2.FONT_HERSHEY_SIMPLEX\n",
    "        cv2.putText(img, str(x) + ',' +\n",
    "                    str(y), (x,y), font,\n",
    "                    1, (255, 0, 0), 2)\n",
    "        cv2.imshow('image', img)\n",
    "    # checking for right mouse clicks    \n",
    "    if event==cv2.EVENT_RBUTTONDOWN:\n",
    "        # displaying the coordinates\n",
    "        # on the Shell\n",
    "        print(x, ' ', y)\n",
    "        \n",
    "        # displaying the coordinates\n",
    "        # on the image window\n",
    "        font = cv2.FONT_HERSHEY_SIMPLEX\n",
    "        b = img[y, x, 0]\n",
    "        g = img[y, x, 1]\n",
    "        r = img[y, x, 2]\n",
    "        cv2.putText(img, str(b) + ',' +\n",
    "                    str(g) + ',' + str(r),\n",
    "                    (x,y), font, 1,\n",
    "                    (255, 255, 0), 2)\n",
    "        cv2.imshow('image', img)\n"
   ]
  },
  {
   "cell_type": "code",
   "execution_count": null,
   "id": "8d442663",
   "metadata": {},
   "outputs": [],
   "source": [
    "frame_path = '../../frames/'\n",
    "file = 'f-003.jpg'\n",
    "img = cv2.imread('%s%s' % (frame_path, file))\n",
    "cv2.imshow('image', img)\n",
    "cv2.setMouseCallback('image', click_event)\n",
    "cv2.waitKey(5000)\n",
    "cv2.destroyAllWindows()\n",
    "# crop_img = cv2.cvtColor(crop_img, cv2.COLOR_BGR2RGB)\n",
    "# plt.imshow(crop_img)\n",
    "# plt.show()"
   ]
  },
  {
   "cell_type": "markdown",
   "id": "1f6d66e7",
   "metadata": {},
   "source": [
    "By running this over all the videos, we can extract the x and y position of the faces. But, I think all of them probably are in the same spot. So, we might not even need to repeat this step for all the videos. I have run it once and for the video I had, x= 1094 and y = 199. "
   ]
  },
  {
   "cell_type": "markdown",
   "id": "144d1b94",
   "metadata": {},
   "source": [
    "## face detection in the frames and cropping"
   ]
  },
  {
   "cell_type": "code",
   "execution_count": 13,
   "id": "6b668cf6",
   "metadata": {},
   "outputs": [],
   "source": [
    "# coordiante of the face (approximately center)\n",
    "x = 1094\n",
    "y = 199"
   ]
  },
  {
   "cell_type": "code",
   "execution_count": 14,
   "id": "6f796a35",
   "metadata": {},
   "outputs": [],
   "source": [
    "from mtcnn import MTCNN # via conda-forge mtccn, via pip mtcnn_cv2\n",
    "import cv2 # python_opencv\n",
    "import pandas as pd\n",
    "import os\n",
    "\n",
    "def bounding_box_check(faces, x, y):\n",
    "    # check the center\n",
    "    for face in faces:\n",
    "        bounding_box = face['box']\n",
    "        if (bounding_box[1] < 0):\n",
    "            bounding_box[1] = 0\n",
    "        if (bounding_box[0] < 0):\n",
    "            bounding_box[0] = 0\n",
    "        if (bounding_box[0] - 50 > x\n",
    "                or bounding_box[0] + bounding_box[2] + 50 < x):\n",
    "            print('change person from')\n",
    "            print(bounding_box)\n",
    "            print('to')\n",
    "            continue\n",
    "        if (bounding_box[1] - 50 > y\n",
    "                or bounding_box[1] + bounding_box[3] + 50 < y):\n",
    "            print('change person from')\n",
    "            print(bounding_box)\n",
    "            print('to')\n",
    "            continue\n",
    "        return bounding_box\n",
    "\n",
    "def face_detect(file, detector, frame_path, x_pos, y_pos):\n",
    "    name = file.replace('.jpg', '').split('-')\n",
    "    x = x_pos\n",
    "    y = y_pos\n",
    "    img = cv2.imread('%s%s' % (frame_path, file ))\n",
    "    faces = detector.detect_faces(img)\n",
    "    # check if detected faces\n",
    "    if (len(faces) == 0):\n",
    "        print('no face detect: ' + file)\n",
    "        return  #no face\n",
    "    bounding_box = bounding_box_check(faces, x, y)\n",
    "    if (bounding_box == None):\n",
    "        print('face is not related to given coord: ' + file)\n",
    "        return\n",
    "    print(file, \" \", bounding_box)\n",
    "    print(file, \" \", x, y)\n",
    "    crop_img = img[bounding_box[1]:bounding_box[1] + bounding_box[3],\n",
    "                   bounding_box[0]:bounding_box[0] + bounding_box[2]]\n",
    "    crop_img = cv2.resize(crop_img, (160, 160))\n",
    "    cv2.imwrite('%s/frame_' % output_dir + name[0] + '_' + name[1] + '.jpg',\n",
    "                crop_img)\n",
    "    "
   ]
  },
  {
   "cell_type": "code",
   "execution_count": null,
   "id": "98907bf5",
   "metadata": {},
   "outputs": [],
   "source": [
    "detect_range = (1, 11)\n",
    "detector = MTCNN()\n",
    "output_dir = '../../face_input'  # output directroy to save the files\n",
    "frame_path = '../../frames/'\n",
    "for i in range(detect_range[0], detect_range[1]):\n",
    "    file_name = \"f-%03d.jpg\" % (i)\n",
    "    print(file_name)\n",
    "    if (not os.path.exists('%s%s' % (frame_path, file_name))):\n",
    "        print('cannot find input: ' + '%s%s' % (frame_path, file_name))\n",
    "        continue\n",
    "    face_detect(file_name, detector, frame_path, x, y)"
   ]
  }
 ],
 "metadata": {
  "kernelspec": {
   "display_name": "Python 3 (ipykernel)",
   "language": "python",
   "name": "python3"
  },
  "language_info": {
   "codemirror_mode": {
    "name": "ipython",
    "version": 3
   },
   "file_extension": ".py",
   "mimetype": "text/x-python",
   "name": "python",
   "nbconvert_exporter": "python",
   "pygments_lexer": "ipython3",
   "version": "3.8.12"
  },
  "latex_envs": {
   "LaTeX_envs_menu_present": true,
   "autoclose": false,
   "autocomplete": true,
   "bibliofile": "biblio.bib",
   "cite_by": "apalike",
   "current_citInitial": 1,
   "eqLabelWithNumbers": true,
   "eqNumInitial": 1,
   "hotkeys": {
    "equation": "Ctrl-E",
    "itemize": "Ctrl-I"
   },
   "labels_anchors": false,
   "latex_user_defs": false,
   "report_style_numbering": false,
   "user_envs_cfg": false
  },
  "toc": {
   "base_numbering": 1,
   "nav_menu": {},
   "number_sections": true,
   "sideBar": true,
   "skip_h1_title": false,
   "title_cell": "Table of Contents",
   "title_sidebar": "Contents",
   "toc_cell": true,
   "toc_position": {},
   "toc_section_display": true,
   "toc_window_display": false
  }
 },
 "nbformat": 4,
 "nbformat_minor": 5
}
