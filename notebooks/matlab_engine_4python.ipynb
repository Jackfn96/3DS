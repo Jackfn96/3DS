{
 "cells": [
  {
   "cell_type": "markdown",
   "id": "109b02d7",
   "metadata": {
    "toc": true
   },
   "source": [
    "<h1>Table of Contents<span class=\"tocSkip\"></span></h1>\n",
    "<div class=\"toc\"><ul class=\"toc-item\"><li><span><a href=\"#Using-matlab-engine-in-python\" data-toc-modified-id=\"Using-matlab-engine-in-python-1\"><span class=\"toc-item-num\">1&nbsp;&nbsp;</span>Using matlab engine in python</a></span><ul class=\"toc-item\"><li><span><a href=\"#The-hard-way!\" data-toc-modified-id=\"The-hard-way!-1.1\"><span class=\"toc-item-num\">1.1&nbsp;&nbsp;</span>The hard way!</a></span></li><li><span><a href=\"#The-easy-way!\" data-toc-modified-id=\"The-easy-way!-1.2\"><span class=\"toc-item-num\">1.2&nbsp;&nbsp;</span>The easy way!</a></span></li></ul></li><li><span><a href=\"#Video-preprocessing\" data-toc-modified-id=\"Video-preprocessing-2\"><span class=\"toc-item-num\">2&nbsp;&nbsp;</span>Video preprocessing</a></span><ul class=\"toc-item\"><li><span><a href=\"#face-detection-and-croping-the-face\" data-toc-modified-id=\"face-detection-and-croping-the-face-2.1\"><span class=\"toc-item-num\">2.1&nbsp;&nbsp;</span>face detection and croping the face</a></span></li></ul></li></ul></div>"
   ]
  },
  {
   "cell_type": "markdown",
   "id": "1859b545",
   "metadata": {},
   "source": [
    "# Using matlab engine in python"
   ]
  },
  {
   "cell_type": "markdown",
   "id": "3ecab478",
   "metadata": {},
   "source": [
    "## The hard way! "
   ]
  },
  {
   "cell_type": "markdown",
   "id": "a0ab300e",
   "metadata": {},
   "source": [
    "Defining the variable in python, setting them into MATLAB workspace and then calling MATLAB \n",
    "function inside **eval** function, however the variable defined here should be transformed to matrix sing **cell2mat** function.\n"
   ]
  },
  {
   "cell_type": "code",
   "execution_count": null,
   "id": "af6c90ec",
   "metadata": {},
   "outputs": [],
   "source": [
    "import numpy as np\n",
    "samples = 1000\n",
    "x = np.linspace(-10, 10, samples)\n",
    "y = np.zeros(len(x))\n",
    "i = 0\n",
    "for j in range(samples):\n",
    "    if -1 < x[j] < 1:\n",
    "        y[j] = 1\n",
    "    i = i + 1"
   ]
  },
  {
   "cell_type": "code",
   "execution_count": null,
   "id": "1a4d27e5",
   "metadata": {},
   "outputs": [],
   "source": [
    "eng.workspace['y']=y.tolist()\n",
    "eng.workspace['x']=x.tolist()\n",
    "eng.eval(\"subplot(2,1,1);\")\n",
    "eng.eval(\"plot(cell2mat(x), cell2mat(y));\")\n",
    "eng.eval(\"title('Step signal u(t + 1) – u(-t + 1)');\")\n",
    "eng.eval(\"ylabel('Amplitude');\")\n",
    "eng.eval(\"xlabel('Sample points [t]');\")\n",
    "\n",
    "eng.eval(\"subplot(2,1,2);\")\n",
    "eng.eval(\"plot(abs(fftshift(fft(cell2mat(y)))));\")\n",
    "eng.eval(\"title('FFT of Step signal u(t + 1) – u(-t + 1)');\")\n",
    "eng.eval(\"ylabel('DFT Values');\")\n",
    "eng.eval(\"xlabel('Sample points');\")"
   ]
  },
  {
   "cell_type": "code",
   "execution_count": null,
   "id": "eca21672",
   "metadata": {},
   "outputs": [],
   "source": [
    "# import matlab.engine\n",
    "# import io\n",
    "# from IPython.core.magic import register_cell_magic\n",
    "# ip = get_ipython()\n",
    "\n",
    "# out = io.StringIO()\n",
    "# err = io.StringIO()\n",
    "\n",
    "# # Setup matlab cell magic #\n",
    "# @register_cell_magic\n",
    "# def matlab_magic(line,cells):\n",
    "#     out.truncate(0)\n",
    "#     out.seek(0)\n",
    "#     err.truncate(0)\n",
    "#     err.truncate(0)\n",
    "# #     print(f\"line: {line}\")\n",
    "# #     print(f\"cell: {cells}\")\n",
    "#     cells_split = cells.split(\";\")\n",
    "#     variables_def = [cell for cell in cells_split if \"=\" in cell]\n",
    "#     n_variables = len(variables_def)\n",
    "#     varaible_names = [var_def.partition('=')[0] for var_def in variables_def]\n",
    "#     # setting the variables from python to MATLAB workspace\n",
    "#     for variable in varaible_names:\n",
    "#         var = '''{line}.workspace['{x}']={x}.tolist()'''\n",
    "#         ip.run_cell(var.format(line=line, x=variable.strip()))\n",
    "#     commands = cells_split[n_variables:-1]\n",
    "#     for command in commands:\n",
    "#         print(command)\n",
    "#         raw = '''{line}.eval(\"{command}\", nargout=0, stdout=out, stderr=err)'''\n",
    "#         print(raw)\n",
    "#         ip.run_cell(raw.format(line=line, command=command))\n",
    "# #     print(out.getvalue())\n",
    "# #     print(err.getvalue())\n",
    "# eng = matlab.engine.start_matlab()\n",
    "# %%matlab_magic eng\n",
    "\n",
    "# y = np.linspace(0,1,10);\n",
    "# plot(y);\n"
   ]
  },
  {
   "cell_type": "markdown",
   "id": "49d9490a",
   "metadata": {},
   "source": [
    "## The easy way!"
   ]
  },
  {
   "cell_type": "markdown",
   "id": "453ea161",
   "metadata": {},
   "source": [
    "By using magic function it's possible to use the function and programming convention in MATLAB and employ them directly in python. you need a running MATLAB on your device. The important steps are:  \n",
    "  \n",
    "  \n",
    "      1- running the cell below  \n",
    "      2- defining MATLAB engine  \n",
    "      3- assigning the variables and use the function in MATLAB convention.  "
   ]
  },
  {
   "cell_type": "code",
   "execution_count": 1,
   "id": "91e1a38d",
   "metadata": {},
   "outputs": [
    {
     "ename": "ModuleNotFoundError",
     "evalue": "No module named 'matlab'",
     "output_type": "error",
     "traceback": [
      "\u001b[0;31m---------------------------------------------------------------------------\u001b[0m",
      "\u001b[0;31mModuleNotFoundError\u001b[0m                       Traceback (most recent call last)",
      "Input \u001b[0;32mIn [1]\u001b[0m, in \u001b[0;36m<module>\u001b[0;34m\u001b[0m\n\u001b[0;32m----> 1\u001b[0m \u001b[38;5;28;01mimport\u001b[39;00m \u001b[38;5;21;01mmatlab\u001b[39;00m\u001b[38;5;21;01m.\u001b[39;00m\u001b[38;5;21;01mengine\u001b[39;00m\n\u001b[1;32m      2\u001b[0m \u001b[38;5;28;01mimport\u001b[39;00m \u001b[38;5;21;01mio\u001b[39;00m\n\u001b[1;32m      3\u001b[0m \u001b[38;5;28;01mfrom\u001b[39;00m \u001b[38;5;21;01mIPython\u001b[39;00m\u001b[38;5;21;01m.\u001b[39;00m\u001b[38;5;21;01mcore\u001b[39;00m\u001b[38;5;21;01m.\u001b[39;00m\u001b[38;5;21;01mmagic\u001b[39;00m \u001b[38;5;28;01mimport\u001b[39;00m register_cell_magic\n",
      "\u001b[0;31mModuleNotFoundError\u001b[0m: No module named 'matlab'"
     ]
    }
   ],
   "source": [
    "import matlab.engine\n",
    "import io\n",
    "from IPython.core.magic import register_cell_magic\n",
    "ip = get_ipython()\n",
    "\n",
    "out = io.StringIO()\n",
    "err = io.StringIO()\n",
    "\n",
    "# Setup matlab cell magic #\n",
    "@register_cell_magic\n",
    "def matlab_magic(line,cell):\n",
    "    out.truncate(0)\n",
    "    out.seek(0)\n",
    "    err.truncate(0)\n",
    "    err.truncate(0)\n",
    "    raw = '''{line}.eval(\"\"\"{cell}\"\"\", nargout=0, stdout=out, stderr=err)'''\n",
    "    ip.run_cell(raw.format(line=line, cell=cell))\n",
    "    print(out.getvalue())\n",
    "    print(err.getvalue())"
   ]
  },
  {
   "cell_type": "code",
   "execution_count": null,
   "id": "ee8e85c9",
   "metadata": {},
   "outputs": [],
   "source": [
    "eng = matlab.engine.start_matlab()"
   ]
  },
  {
   "cell_type": "code",
   "execution_count": null,
   "id": "57665679",
   "metadata": {},
   "outputs": [],
   "source": [
    "%%matlab_magic eng\n",
    "\n",
    "x = linspace(-10,10, 100);\n",
    "y = x.^2;\n",
    "plot(y);b\n",
    "hold on;\n",
    "plot(x.^3);"
   ]
  },
  {
   "cell_type": "markdown",
   "id": "43878084",
   "metadata": {},
   "source": [
    "# Video preprocessing"
   ]
  },
  {
   "cell_type": "markdown",
   "id": "e0fc07ab",
   "metadata": {},
   "source": [
    "## face detection and croping the face"
   ]
  },
  {
   "cell_type": "code",
   "execution_count": 27,
   "id": "724af2f2",
   "metadata": {},
   "outputs": [],
   "source": [
    "from mtcnn import MTCNN\n",
    "import cv2\n",
    "import pandas as pd\n",
    "import os\n",
    "\n",
    "\n",
    "def bounding_box_check(faces, x, y):\n",
    "    # check the center\n",
    "    for face in faces:\n",
    "        bounding_box = face['box']\n",
    "        if (bounding_box[1] < 0):\n",
    "            bounding_box[1] = 0\n",
    "        if (bounding_box[0] < 0):\n",
    "            bounding_box[0] = 0\n",
    "        if (bounding_box[0] - 50 > x\n",
    "                or bounding_box[0] + bounding_box[2] + 50 < x):\n",
    "            print('change person from')\n",
    "            print(bounding_box)\n",
    "            print('to')\n",
    "            continue\n",
    "        if (bounding_box[1] - 50 > y\n",
    "                or bounding_box[1] + bounding_box[3] + 50 < y):\n",
    "            print('change person from')\n",
    "            print(bounding_box)\n",
    "            print('to')\n",
    "            continue\n",
    "        return bounding_box\n",
    "\n",
    "def face_detect(file, detector, frame_path, x_pos, y_pos):\n",
    "    name = file.replace('.jpg', '').split('-')\n",
    "    x = x_pos\n",
    "    y = y_pos\n",
    "    img = cv2.imread('%s%s' % (frame_path, file ))\n",
    "    faces = detector.detect_faces(img)\n",
    "    # check if detected faces\n",
    "    if (len(faces) == 0):\n",
    "        print('no face detect: ' + file)\n",
    "        return  #no face\n",
    "    bounding_box = bounding_box_check(faces, x, y)\n",
    "    if (bounding_box == None):\n",
    "        print('face is not related to given coord: ' + file)\n",
    "        return\n",
    "    print(file, \" \", bounding_box)\n",
    "    print(file, \" \", x, y)\n",
    "    crop_img = img[bounding_box[1]:bounding_box[1] + bounding_box[3],\n",
    "                   bounding_box[0]:bounding_box[0] + bounding_box[2]]\n",
    "    crop_img = cv2.resize(crop_img, (160, 160))\n",
    "    cv2.imwrite('%s/frame_' % output_dir + name[0] + '_' + name[1] + '.jpg',\n",
    "                crop_img)\n",
    "    #crop_img = cv2.cvtColor(crop_img, cv2.COLOR_BGR2RGB)\n",
    "    #plt.imshow(crop_img)\n",
    "    #plt.show()\n",
    "\n",
    "\n"
   ]
  },
  {
   "cell_type": "code",
   "execution_count": 24,
   "id": "69e3ff86",
   "metadata": {},
   "outputs": [
    {
     "name": "stdout",
     "output_type": "stream",
     "text": [
      "/Users/zohre/code/Jackfn96/3DS/notebooks\r\n"
     ]
    }
   ],
   "source": [
    "!pwd"
   ]
  },
  {
   "cell_type": "code",
   "execution_count": 29,
   "id": "cb8d92ab",
   "metadata": {},
   "outputs": [
    {
     "name": "stdout",
     "output_type": "stream",
     "text": [
      "f-001.jpg   [1043, 122, 150, 183]\n",
      "f-001.jpg   1094 199\n"
     ]
    }
   ],
   "source": [
    "detector = MTCNN()\n",
    "output_dir = '../../face_input'\n",
    "file = 'f-001.jpg'\n",
    "frame_path = '../../frames/'\n",
    "# # frame_path = '/Users/zohre/code/zohrea/cocktail_effect/notebooks/frames/'\n",
    "# # file = '1-01.jpg'\n",
    "# img = cv2.imread('%s%s' % (frame_path, file ))\n",
    "# imshow(img)\n",
    "# faces = detector.detect_faces(img)\n",
    "# bounding_box = bounding_box_check(faces, x, y)\n",
    "# print(file, \" \", bounding_box)\n",
    "# print(file, \" \", x, y)\n",
    "# crop_img = img[bounding_box[1]:bounding_box[1] + bounding_box[3],\n",
    "#                    bounding_box[0]:bounding_box[0] + bounding_box[2]]\n",
    "# crop_img = cv2.resize(crop_img, (160, 160))\n",
    "# cv2.imwrite('%s/frame_' % output_dir + name[0] + '_' + name[1] + '.jpg',\n",
    "#                 crop_img)\n",
    "\n",
    "face_detect(file, detector, frame_path, x, y)"
   ]
  },
  {
   "cell_type": "code",
   "execution_count": 31,
   "id": "fc7a4571",
   "metadata": {},
   "outputs": [],
   "source": [
    "detect_range = (1, 11)"
   ]
  },
  {
   "cell_type": "code",
   "execution_count": 32,
   "id": "a85fab00",
   "metadata": {},
   "outputs": [
    {
     "name": "stdout",
     "output_type": "stream",
     "text": [
      "f-001.jpg\n",
      "f-001.jpg   [1043, 122, 150, 183]\n",
      "f-001.jpg   1094 199\n",
      "f-002.jpg\n",
      "f-002.jpg   [1057, 112, 142, 178]\n",
      "f-002.jpg   1094 199\n",
      "f-003.jpg\n",
      "no face detect: f-003.jpg\n",
      "f-004.jpg\n",
      "no face detect: f-004.jpg\n",
      "f-005.jpg\n",
      "no face detect: f-005.jpg\n",
      "f-006.jpg\n",
      "no face detect: f-006.jpg\n",
      "f-007.jpg\n",
      "f-007.jpg   [1059, 111, 142, 186]\n",
      "f-007.jpg   1094 199\n",
      "f-008.jpg\n",
      "f-008.jpg   [1044, 117, 155, 181]\n",
      "f-008.jpg   1094 199\n",
      "f-009.jpg\n",
      "f-009.jpg   [1034, 105, 160, 204]\n",
      "f-009.jpg   1094 199\n",
      "f-010.jpg\n",
      "f-010.jpg   [1045, 107, 152, 200]\n",
      "f-010.jpg   1094 199\n"
     ]
    }
   ],
   "source": [
    "detector = MTCNN()\n",
    "output_dir = '../../face_input'\n",
    "frame_path = '../../frames/'\n",
    "for i in range(detect_range[0], detect_range[1]):\n",
    "    file_name = \"f-%03d.jpg\" % (i)\n",
    "    print(file_name)\n",
    "    if (not os.path.exists('%s%s' % (frame_path, file_name))):\n",
    "        print('cannot find input: ' + '%s%s' % (frame_path, file_name))\n",
    "        continue\n",
    "    face_detect(file_name, detector, frame_path, x, y)"
   ]
  }
 ],
 "metadata": {
  "kernelspec": {
   "display_name": "Python 3 (ipykernel)",
   "language": "python",
   "name": "python3"
  },
  "language_info": {
   "codemirror_mode": {
    "name": "ipython",
    "version": 3
   },
   "file_extension": ".py",
   "mimetype": "text/x-python",
   "name": "python",
   "nbconvert_exporter": "python",
   "pygments_lexer": "ipython3",
   "version": "3.8.12"
  },
  "latex_envs": {
   "LaTeX_envs_menu_present": true,
   "autoclose": false,
   "autocomplete": true,
   "bibliofile": "biblio.bib",
   "cite_by": "apalike",
   "current_citInitial": 1,
   "eqLabelWithNumbers": true,
   "eqNumInitial": 1,
   "hotkeys": {
    "equation": "Ctrl-E",
    "itemize": "Ctrl-I"
   },
   "labels_anchors": false,
   "latex_user_defs": false,
   "report_style_numbering": false,
   "user_envs_cfg": false
  },
  "toc": {
   "base_numbering": 1,
   "nav_menu": {},
   "number_sections": true,
   "sideBar": true,
   "skip_h1_title": false,
   "title_cell": "Table of Contents",
   "title_sidebar": "Contents",
   "toc_cell": true,
   "toc_position": {},
   "toc_section_display": true,
   "toc_window_display": false
  }
 },
 "nbformat": 4,
 "nbformat_minor": 5
}
