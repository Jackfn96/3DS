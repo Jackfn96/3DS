{
 "cells": [
  {
   "cell_type": "markdown",
   "id": "9d3eb414-1fed-4f49-b641-5c0a3619785c",
   "metadata": {},
   "source": [
    "# Imports and setup"
   ]
  },
  {
   "cell_type": "code",
   "execution_count": 1,
   "id": "bb3c4dcb-2641-4ddc-a2bd-91d7c77024b3",
   "metadata": {},
   "outputs": [],
   "source": [
    "%load_ext autoreload\n",
    "%autoreload 2"
   ]
  },
  {
   "cell_type": "code",
   "execution_count": 2,
   "id": "a9fb2442-787c-4700-924c-81497250c0a5",
   "metadata": {},
   "outputs": [],
   "source": [
    "from DDDS.drive import Drive\n",
    "import pandas as pd"
   ]
  },
  {
   "cell_type": "code",
   "execution_count": 3,
   "id": "40ff18f0-3d55-4a9f-ab97-3ba6aa4f9bb4",
   "metadata": {},
   "outputs": [
    {
     "name": "stdout",
     "output_type": "stream",
     "text": [
      "Connected successfully!\n"
     ]
    }
   ],
   "source": [
    "drive = Drive()"
   ]
  },
  {
   "cell_type": "code",
   "execution_count": 4,
   "id": "f31f8d3c-6b31-4572-b5ba-d1af3944c443",
   "metadata": {
    "tags": []
   },
   "outputs": [
    {
     "data": {
      "text/plain": [
       "[{'id': '1-AspS9GBqIj-pzA5KM6F03o-9fviuBq2', 'name': 'échantillon'},\n",
       " {'id': '1-yIXpLgb_gMzgnaT2Wxl0ckHhRmp47KU', 'name': 'Video validations'},\n",
       " {'id': '17UaFCmIylltkftISr0rthJoSS66bJYlt', 'name': 'Validations'},\n",
       " {'id': '1i22RM6oJNZr8opAhLK8BrRZTfjh5caOC', 'name': 'Video annotations'},\n",
       " {'id': '15nrMZnD_YgMchc43zIFoyWxEMiXYVIP9', 'name': 'data non utilisés'},\n",
       " {'id': '15lelEwAZMbPUeUhFrjiwo-hN6d1up8H8',\n",
       "  'name': 'Videos archives non utilsés'},\n",
       " {'id': '1i-BUr1yQTLSXl2dk5US7ZNtrdZHXhQ0n', 'name': 'non utilisé'},\n",
       " {'id': '13hPk0MqNH_yNnRGRNTIMUfyT_4HfxJuG', 'name': 'auto evaluation'},\n",
       " {'id': '1-IHttqHaNoz0nKEh5TPPGUh7xeKFhBnr', 'name': 'capture ecrans'},\n",
       " {'id': '1-2v2QM1S74j789YGMkUInShLyQVu_gjL', 'name': 'annotations'}]"
      ]
     },
     "execution_count": 4,
     "metadata": {},
     "output_type": "execute_result"
    }
   ],
   "source": [
    "folders = drive.list('folder')\n",
    "folders"
   ]
  },
  {
   "cell_type": "markdown",
   "id": "1c8559c3-3615-46f1-ba1f-1f45cd517da6",
   "metadata": {},
   "source": [
    "## Look for validated annotation files"
   ]
  },
  {
   "cell_type": "code",
   "execution_count": 5,
   "id": "89e304a5-6747-470a-a98b-f1392da9b0d7",
   "metadata": {
    "tags": []
   },
   "outputs": [
    {
     "data": {
      "text/plain": [
       "'1-yIXpLgb_gMzgnaT2Wxl0ckHhRmp47KU'"
      ]
     },
     "execution_count": 5,
     "metadata": {},
     "output_type": "execute_result"
    }
   ],
   "source": [
    "# folder ID with validated annotation files\n",
    "validations_folder = [folder['id'] for folder in folders if folder['name'] == 'Video validations'][0]\n",
    "validations_folder"
   ]
  },
  {
   "cell_type": "code",
   "execution_count": 6,
   "id": "b93eea27-459b-4550-a3f4-69370e5abf09",
   "metadata": {
    "scrolled": true,
    "tags": []
   },
   "outputs": [
    {
     "data": {
      "text/plain": [
       "[{'id': '11D-Lanp1cp03piT0y7FcvdTP3b27LP9O',\n",
       "  'name': 'Christophe-2021-10-28 09-28-56 844.flv.csv'},\n",
       " {'id': '11mnlOUXETTsZO6w0R5jCxKkPPDcosNpL',\n",
       "  'name': 'validateur-2021-11-22 15-40-50 eb0.flv.csv'},\n",
       " {'id': '1HEjJJt7lX77D2dO8c9p6hR5KYYtK3FSC',\n",
       "  'name': 'validateur-2021-11-25 13-45-12 ed2.flv.csv'},\n",
       " {'id': '11_6AdcMIdoajeJ3PqToNWxpYmvZszP5o',\n",
       "  'name': 'Christophe-2021-11-17 10-58-38 e99.flv.csv'},\n",
       " {'id': '11YSruFD5BIvon23xF0wu1GYX0mzSGNx9',\n",
       "  'name': 'Christophe-2021-10-25 10-31-58 c27.flv.csv'},\n",
       " {'id': '1FQIYDGcHM4o7Olhgg0DQr5aU2UGxtYGr',\n",
       "  'name': 'validateur-2021-11-04 13-51-55 ed2.flv.csv'},\n",
       " {'id': '18o3ZjAVuQoqkLlYfTd_Skvv7u34GuqSV',\n",
       "  'name': 'Zakaria-2021-12-01 13-20-00 e99.flv.csv'},\n",
       " {'id': '18kM5KV4h3riTCRUxG1lcSuBuGOr5yTgC',\n",
       "  'name': 'Zakaria-2021-11-24 15-36-04 e99.flv.csv'},\n",
       " {'id': '18i0DQAsu9hAV17Cj3FtawH0grIKpO9Bs',\n",
       "  'name': 'Zakaria-2021-12-07 14-35-11 ea9.flv.csv'},\n",
       " {'id': '11YLe6ccK6uf751T0KwG_n-fJx_2OwEU3',\n",
       "  'name': 'Christophe-2021-11-30 16-16-03 ece.flv.csv'},\n",
       " {'id': '18fMnEM12Fn7o6KHqPojO2yaLLPZBpwg8',\n",
       "  'name': 'Zakaria-2021-11-30 12-34-51 eb0.flv.csv'},\n",
       " {'id': '18XRmXNICPqTBbT0-leNd_8F2x1iUf2T8',\n",
       "  'name': 'Zakaria-2021-11-05 10-51-58 ed2.flv.csv'},\n",
       " {'id': '18W9wEt9lpNqQWOoOZPhG41WNh5ndyC6C',\n",
       "  'name': 'Zakaria-2021-11-22 11-26-24 ea9.flv.csv'},\n",
       " {'id': '1UuYLZR-ZfmWeU31481gjTcFVItD-yA-c',\n",
       "  'name': 'validateur-2021-11-24 13-46-43 038.flv.csv'},\n",
       " {'id': '18T03i4Gnidtq6F7zLRPpINJzLlevpxT6',\n",
       "  'name': 'Zakaria-2021-11-02 15-23-39 1c3.flv.csv'},\n",
       " {'id': '18NiqzGSPd2AXxLtXeRFBvRyFeMtKUNeC',\n",
       "  'name': 'Zakaria-2021-11-29 13-48-17 eca.flv.csv'},\n",
       " {'id': '1rcZwtKQtSIwYZGntv_o3rZoBK89IhUjN',\n",
       "  'name': 'validateur-2021-11-05 13-59-29 ea9.flv.csv'},\n",
       " {'id': '11VTxtJWEQ08vgzRmpTRpBOkkiQpsyNH4',\n",
       "  'name': 'Christophe-2021-10-28 15-04-13 1c3.flv.csv'},\n",
       " {'id': '11VGnQ_vb2qlL0nfg7owZbCY-V4hi87k8',\n",
       "  'name': 'Christophe-2021-10-26 10-58-19 c04.flv.csv'},\n",
       " {'id': '1sMWKMDUPLptaBhhJJPMq3JE5ecf19m-s',\n",
       "  'name': 'validateur-2021-11-02 14-03-50 eb0.flv.csv'},\n",
       " {'id': '18E7a0woeg37G-1Xe7NzsM4Mmo6WE8MFI',\n",
       "  'name': 'Zakaria-2021-10-26 13-32-50 c27.flv.csv'},\n",
       " {'id': '1wep0zrNAE2n0ZBuUY6PZ6svVKCQDSeES',\n",
       "  'name': 'validateur-2021-11-19 13-38-33 ece.flv.csv'},\n",
       " {'id': '11F5Rv-xRp35Sihw79fy10CHqM_yo8-PB',\n",
       "  'name': 'Christophe-2021-10-28 10-52-59 982.flv.csv'},\n",
       " {'id': '11BWSG-VdSRmKP2iagIrKOYlookyTwksE',\n",
       "  'name': 'Christophe-2021-11-24 11-01-03 eca.flv.csv'},\n",
       " {'id': '117Ij5lD9-Z-zNJImtNmbdFjacbHSDdit',\n",
       "  'name': 'Christophe-2021-11-26 12-34-32 1c3.flv.csv'},\n",
       " {'id': '113N_GMh7E-HwkAidkRSelIjoJbyHsQoB',\n",
       "  'name': 'Christophe-2021-11-25 10-41-47 038.flv.csv'},\n",
       " {'id': '1D2R8aBQPsSvjHHxIlnHnqw0yYBCaSF_z',\n",
       "  'name': 'validateur-2021-11-26 15-16-28 ea9.flv.csv'},\n",
       " {'id': '1FokDzQTbeu6WT_gRSKIMNOcFtGzw01Cy',\n",
       "  'name': 'validateur-2021-11-26 10-50-59 ed2.flv.csv'},\n",
       " {'id': '1Mj3isj4V38Ec8_g2qenaVWcOd-8XKWea',\n",
       "  'name': 'validateur-2021-10-27 15-07-46 844.flv.csv'},\n",
       " {'id': '111jNE8sObk2TeLqAOwPp8btBlOAbJWBG',\n",
       "  'name': 'Christophe-2021-11-04 11-01-00 eca.flv.csv'},\n",
       " {'id': '10xp8LcmlecoJGHinEPA2yqUwOY2AoAG7',\n",
       "  'name': 'Christophe-2021-11-18 13-21-41 e99.flv.csv'},\n",
       " {'id': '10b4yCQ87EyRqa95IMTMCPh74c_D66mnm',\n",
       "  'name': 'Christophe-2021-10-25 15-01-22 c04.flv.csv'},\n",
       " {'id': '18-A9AzvFTMaTL6f61hn_gpeBBmMAfxup',\n",
       "  'name': 'Zakaria-2021-10-29 11-36-20 87e.flv.csv'},\n",
       " {'id': '18tYYhjslkjo5OJ9OSoT4WGEt13yU565E',\n",
       "  'name': 'Christophe-2021-10-27 13-49-59 87e.flv.csv'},\n",
       " {'id': '1-yd3x4ev3REErOoqhZBnMMgTI84qu5ap',\n",
       "  'name': 'Christophe-2021-10-29 13-32-34 982.flv.csv'}]"
      ]
     },
     "execution_count": 6,
     "metadata": {},
     "output_type": "execute_result"
    }
   ],
   "source": [
    "# Files in \"Video validations\" folder\n",
    "validated_videos = drive.list('csv', add_query=f\"'{validations_folder}' in parents\")\n",
    "validated_videos"
   ]
  },
  {
   "cell_type": "markdown",
   "id": "444036f7-cc68-432b-bedf-5274ff2255d2",
   "metadata": {
    "tags": []
   },
   "source": [
    "## Get \"id\" of the file to obtain sync file and HRV reading file"
   ]
  },
  {
   "cell_type": "code",
   "execution_count": 7,
   "id": "3371c565-5641-490d-ac8f-137a9f3f0b05",
   "metadata": {},
   "outputs": [],
   "source": [
    "def get_date_time_id(file_name):\n",
    "    \"\"\"\n",
    "    Takes validated annotation name as an argument (files in 'Video validations' folder)\n",
    "    Returns tuple of year, month, day, hour, minute, driver_id\n",
    "    \"\"\"\n",
    "    space_split = file_name.split(' ')\n",
    "    date_split = space_split[0].split('-')\n",
    "    time_split = space_split[1].split('-')\n",
    "    driver_id = space_split[-1].split('.')\n",
    "    # year, month, day, hour, minute, driver_id\n",
    "    return (date_split[1], date_split[2], date_split[3], time_split[0], time_split[1], driver_id[0])"
   ]
  },
  {
   "cell_type": "code",
   "execution_count": 8,
   "id": "770033f4-3033-4025-8790-f35ac9564b6b",
   "metadata": {
    "tags": []
   },
   "outputs": [],
   "source": [
    "date_time_ids = []\n",
    "for video in validated_videos:\n",
    "    date_time_ids.append(get_date_time_id(video['name']))"
   ]
  },
  {
   "cell_type": "code",
   "execution_count": 9,
   "id": "77965619-a8d3-458f-aac1-4af24174fb88",
   "metadata": {},
   "outputs": [],
   "source": [
    "def get_hrv_format_date_id(date_time_id):\n",
    "    \"\"\"\n",
    "    Takes result of get_date_time_id as argument\n",
    "    Returns tuple of date in HRV format and driver id\n",
    "    \"\"\"\n",
    "    return f\"{date_time_id[2]}_{date_time_id[1]}_{date_time_id[0]}\", date_time_id[5]"
   ]
  },
  {
   "cell_type": "code",
   "execution_count": 10,
   "id": "a3c539aa-1672-468e-bef3-5da3b44cb4df",
   "metadata": {},
   "outputs": [],
   "source": [
    "dates_drivers = []\n",
    "for date_time_id in date_time_ids:\n",
    "    dates_drivers.append(get_hrv_format_date_id(date_time_id))"
   ]
  },
  {
   "cell_type": "markdown",
   "id": "371b5090-61b1-40d7-a3db-3481daf9bee1",
   "metadata": {},
   "source": [
    "## Get sync files"
   ]
  },
  {
   "cell_type": "code",
   "execution_count": 11,
   "id": "5b4348f1-805f-4ba0-833d-fdd2b8da71d2",
   "metadata": {},
   "outputs": [],
   "source": [
    "def get_sync_file(date, driver, connection=drive):\n",
    "    \"\"\"\n",
    "    Searches for sync file with timestamps for experiment stary\n",
    "    \"\"\"\n",
    "    return connection.list('csv', add_query=f\"(name contains 'annotation_{date}' and name contains '{driver}')\")"
   ]
  },
  {
   "cell_type": "code",
   "execution_count": 12,
   "id": "02f7012a-f9b5-4836-a446-9f7aa5bf761a",
   "metadata": {},
   "outputs": [],
   "source": [
    "sync_files = []\n",
    "for date_driver in dates_drivers:\n",
    "    sync_files += get_sync_file(*date_driver)"
   ]
  },
  {
   "cell_type": "code",
   "execution_count": 13,
   "id": "6fd2ae12-c7bd-4188-b675-babbeba94a93",
   "metadata": {
    "scrolled": true,
    "tags": []
   },
   "outputs": [
    {
     "data": {
      "text/plain": [
       "[{'id': '11KmJHEHeZC1WSx_zRbcW27AaAPxrajtK',\n",
       "  'name': 'annotation_28_10_2021_09_22 844.csv'},\n",
       " {'id': '141ck31WFIXrxcNOQLUbXx6YP6YRoupMv',\n",
       "  'name': 'annotation_22_11_2021_15_38 eb0.csv'},\n",
       " {'id': '15PQ-lCo-CIXOnO9qNRw_1zOmkwzTXGOn',\n",
       "  'name': 'annotation_25_11_2021_13_42 ed2.csv'},\n",
       " {'id': '133iDeUWQYFTQ9YxGqCU2M327_tPv04Nh',\n",
       "  'name': 'annotation_17_11_2021_10_57 e99.csv'},\n",
       " {'id': '10G5_JbxA6LaG9C1reqtw-e1PI0umXWBH',\n",
       "  'name': 'annotation_25_10_2021_10_26 c27.csv'},\n",
       " {'id': '12BYPDLSQXiyYWb-5a-lMluVarAoHkS6z',\n",
       "  'name': 'annotation_04_11_2021_13_43 ed2.csv'},\n",
       " {'id': '16A9SKfL1OiGbriakm3n8CP9RG_5CTtcE',\n",
       "  'name': 'annotation_01_12_2021_13_17 e99.csv'},\n",
       " {'id': '14aLzPjOHicUeoV4hwsj0Dns16l0r-Gs8',\n",
       "  'name': 'annotation_24_11_2021_15_34 e99.csv'},\n",
       " {'id': '16SEKAkMs9SyzeX9CrQfcmnJeWSxZtZA6',\n",
       "  'name': 'annotation_07_12_2021_14_35 ea9.csv'},\n",
       " {'id': '166GqPGOCosTC1PTLsM_ZqpYbo3iqYQCL',\n",
       "  'name': 'annotation_30_11_2021_16_12 ece.csv'},\n",
       " {'id': '15vNSh2CcaV75FzGO2s-dhEBC_2UdIT1s',\n",
       "  'name': 'annotation_30_11_2021_12_32 eb0.csv'},\n",
       " {'id': '12TtWDiMyvxFjpE4u0os3BxIXsqA70uSe',\n",
       "  'name': 'annotation_05_11_2021_10_44 ed2.csv'},\n",
       " {'id': '13msUvL3VZj0cyYRk3WuWWT7Ym-WAnzgC',\n",
       "  'name': 'annotation_22_11_2021_11_22 ea9.csv'},\n",
       " {'id': '14CiAdpUrl6bDZzO73fn8MN_RmmRZl9ns',\n",
       "  'name': 'annotation_24_11_2021_13_40 038.csv'},\n",
       " {'id': '12h8E72Wif_hD5yHxNNR_c5vG7i8vKzSp',\n",
       "  'name': 'annotation_02_11_2021_15_17 1c3.csv'},\n",
       " {'id': '15p2-XiMa4Tiv1cQkr1UYjEvMWTKr8ma8',\n",
       "  'name': 'annotation_29_11_2021_13_47 eca.csv'},\n",
       " {'id': '12q2K4n70gqDI4rCR2sKjrfMhq0gYtcZq',\n",
       "  'name': 'annotation_05_11_2021_13_34 ea9.csv'},\n",
       " {'id': '11W44MAmL2lWkokzHYMZoY9yG9fisBS-A',\n",
       "  'name': 'annotation_28_10_2021_14_57 1c3.csv'},\n",
       " {'id': '10lMqFlADQIVdtqkZQRPo1vsAJbcysTdI',\n",
       "  'name': 'annotation_26_10_2021_10_52 c04.csv'},\n",
       " {'id': '12UxdB7ctTl6CRFM4eQ3M3xFQP5qgPfQM',\n",
       "  'name': 'annotation_02_11_2021_13_55 eb0.csv'},\n",
       " {'id': '1135xLFALSIvV_vE-2ZlpXibN7cyw_QO5',\n",
       "  'name': 'annotation_26_10_2021_13_29 c27.csv'},\n",
       " {'id': '13hm1O-tTtNfYlmffsSLKqnZuD3MWoBLG',\n",
       "  'name': 'annotation_19_11_2021_13_11 ece.csv'},\n",
       " {'id': '11PRiWdN3l2KwwPvWqG-OYgFZ9xN1wk0f',\n",
       "  'name': 'annotation_28_10_2021_10_47 982.csv'},\n",
       " {'id': '145VT8ilgdAMkjwXoZB0P8979BdAfiT8h',\n",
       "  'name': 'annotation_24_11_2021_10_52 eca.csv'},\n",
       " {'id': '15MtvdKTENkCWJeZ_OkCd0zIWdz2uimnp',\n",
       "  'name': 'annotation_26_11_2021_12_31 1c3.csv'},\n",
       " {'id': '155TDZE2rDhfVPJECTbyi4q6fPqUeAz-X',\n",
       "  'name': 'annotation_25_11_2021_10_42 038.csv'},\n",
       " {'id': '15mDOEIXo3QwmKgDtnY8GekurFBs7xaLV',\n",
       "  'name': 'annotation_26_11_2021_15_09 ea9.csv'},\n",
       " {'id': '15M2cyYtzySRUUV6pCULKW_Ld7WvI86kU',\n",
       "  'name': 'annotation_26_11_2021_10_50 ed2.csv'},\n",
       " {'id': '11IU3J3mv_s6L_A91iN02EGB47l-k3g5L',\n",
       "  'name': 'annotation_27_10_2021_15_04 844.csv'},\n",
       " {'id': '12jSyHJiA9xnfOZzPpqu4Z946eI0iaOzK',\n",
       "  'name': 'annotation_04_11_2021_10_57 eca.csv'},\n",
       " {'id': '13Nmpc6pvpYOEi38NyMQ3-NUHud6FbPLL',\n",
       "  'name': 'annotation_18_11_2021_13_19 e99.csv'},\n",
       " {'id': '18q9CcS8S54Z4hwl9btb9lh69binRXdaV',\n",
       "  'name': 'annotation_25_10_2021_14_52 c04.csv'},\n",
       " {'id': '11d7I95Zy911dIgLQQ_v6vr24LFShogrd',\n",
       "  'name': 'annotation_29_10_2021_11_29 87e.csv'},\n",
       " {'id': '11EW-0v4Ti4eaJB8FggHB2P_IM8I2C9TL',\n",
       "  'name': 'annotation_27_10_2021_13_44 87e.csv'},\n",
       " {'id': '11zd2QsknwXPJZaIqo7IGy48i-FThVSGJ',\n",
       "  'name': 'annotation_29_10_2021_13_32 982.csv'}]"
      ]
     },
     "execution_count": 13,
     "metadata": {},
     "output_type": "execute_result"
    }
   ],
   "source": [
    "sync_files"
   ]
  },
  {
   "cell_type": "markdown",
   "id": "c50edd4b-29d4-4541-b443-544e526faf3f",
   "metadata": {},
   "source": [
    "# Download HRV file (using DDDS.hrv)"
   ]
  },
  {
   "cell_type": "code",
   "execution_count": 14,
   "id": "c4ddd0b4-08d4-4da7-9ec7-572bddacc081",
   "metadata": {},
   "outputs": [
    {
     "name": "stdout",
     "output_type": "stream",
     "text": [
      "Connected successfully!\n"
     ]
    }
   ],
   "source": [
    "from DDDS.hrv import HRV\n",
    "drive = Drive()"
   ]
  },
  {
   "cell_type": "code",
   "execution_count": 15,
   "id": "f693f74b-cdd4-4055-9c57-28a9f4781996",
   "metadata": {},
   "outputs": [
    {
     "name": "stdout",
     "output_type": "stream",
     "text": [
      "Connected successfully!\n"
     ]
    }
   ],
   "source": [
    "hrv = HRV()"
   ]
  },
  {
   "cell_type": "code",
   "execution_count": 16,
   "id": "d82f89ca-5fa2-485f-9591-eca4c13501ce",
   "metadata": {},
   "outputs": [
    {
     "name": "stdout",
     "output_type": "stream",
     "text": [
      "Progress: |██████████████████████████████████████████████████| 100.0% Complete\n"
     ]
    }
   ],
   "source": [
    "dataframes = hrv.get_dataframes()"
   ]
  },
  {
   "cell_type": "code",
   "execution_count": 19,
   "id": "8da59a9e-96c6-40fd-a2a0-f6663b9a2ece",
   "metadata": {},
   "outputs": [],
   "source": [
    "def get_hrv_id(date, driver):\n",
    "    \"\"\"\n",
    "    Returns key in hrv.dataframes dictionary corresponding to date and driver\n",
    "    \"\"\"\n",
    "    for key in dataframes.keys():\n",
    "        if date in key and driver in key:\n",
    "            return key"
   ]
  },
  {
   "cell_type": "code",
   "execution_count": 20,
   "id": "16a275f6",
   "metadata": {},
   "outputs": [
    {
     "data": {
      "text/plain": [
       "[('28_10_2021', '844'),\n",
       " ('22_11_2021', 'eb0'),\n",
       " ('25_11_2021', 'ed2'),\n",
       " ('17_11_2021', 'e99'),\n",
       " ('25_10_2021', 'c27'),\n",
       " ('04_11_2021', 'ed2'),\n",
       " ('01_12_2021', 'e99'),\n",
       " ('24_11_2021', 'e99'),\n",
       " ('07_12_2021', 'ea9'),\n",
       " ('30_11_2021', 'ece'),\n",
       " ('30_11_2021', 'eb0'),\n",
       " ('05_11_2021', 'ed2'),\n",
       " ('22_11_2021', 'ea9'),\n",
       " ('24_11_2021', '038'),\n",
       " ('02_11_2021', '1c3'),\n",
       " ('29_11_2021', 'eca'),\n",
       " ('05_11_2021', 'ea9'),\n",
       " ('28_10_2021', '1c3'),\n",
       " ('26_10_2021', 'c04'),\n",
       " ('02_11_2021', 'eb0'),\n",
       " ('26_10_2021', 'c27'),\n",
       " ('19_11_2021', 'ece'),\n",
       " ('28_10_2021', '982'),\n",
       " ('24_11_2021', 'eca'),\n",
       " ('26_11_2021', '1c3'),\n",
       " ('25_11_2021', '038'),\n",
       " ('26_11_2021', 'ea9'),\n",
       " ('26_11_2021', 'ed2'),\n",
       " ('27_10_2021', '844'),\n",
       " ('04_11_2021', 'eca'),\n",
       " ('18_11_2021', 'e99'),\n",
       " ('25_10_2021', 'c04'),\n",
       " ('29_10_2021', '87e'),\n",
       " ('27_10_2021', '87e'),\n",
       " ('29_10_2021', '982')]"
      ]
     },
     "execution_count": 20,
     "metadata": {},
     "output_type": "execute_result"
    }
   ],
   "source": [
    "dates_drivers"
   ]
  },
  {
   "cell_type": "code",
   "execution_count": 21,
   "id": "a1ef0ccb-aa02-4d1e-ad71-997b80fb97d9",
   "metadata": {},
   "outputs": [
    {
     "data": {
      "text/plain": [
       "'28_10_2021_09_22 844'"
      ]
     },
     "execution_count": 21,
     "metadata": {},
     "output_type": "execute_result"
    }
   ],
   "source": [
    "key = get_hrv_id(*dates_drivers[0])\n",
    "key"
   ]
  },
  {
   "cell_type": "code",
   "execution_count": 22,
   "id": "bf004b5c-a9f6-45a8-a26e-6182bfe10350",
   "metadata": {},
   "outputs": [
    {
     "data": {
      "text/html": [
       "<div>\n",
       "<style scoped>\n",
       "    .dataframe tbody tr th:only-of-type {\n",
       "        vertical-align: middle;\n",
       "    }\n",
       "\n",
       "    .dataframe tbody tr th {\n",
       "        vertical-align: top;\n",
       "    }\n",
       "\n",
       "    .dataframe thead th {\n",
       "        text-align: right;\n",
       "    }\n",
       "</style>\n",
       "<table border=\"1\" class=\"dataframe\">\n",
       "  <thead>\n",
       "    <tr style=\"text-align: right;\">\n",
       "      <th></th>\n",
       "      <th>Timestamp_Google</th>\n",
       "      <th>Device_id</th>\n",
       "      <th>Heart_Rate</th>\n",
       "      <th>RR_rate</th>\n",
       "      <th>Garmin</th>\n",
       "    </tr>\n",
       "  </thead>\n",
       "  <tbody>\n",
       "    <tr>\n",
       "      <th>0</th>\n",
       "      <td>2021-10-28 07:25:39.949</td>\n",
       "      <td>E3:C6:1E:14:37:C8</td>\n",
       "      <td>90</td>\n",
       "      <td>[]</td>\n",
       "      <td>1</td>\n",
       "    </tr>\n",
       "    <tr>\n",
       "      <th>1</th>\n",
       "      <td>2021-10-28 07:25:39.981</td>\n",
       "      <td>E3:C6:1E:14:37:C8</td>\n",
       "      <td>90</td>\n",
       "      <td>[]</td>\n",
       "      <td>1</td>\n",
       "    </tr>\n",
       "    <tr>\n",
       "      <th>2</th>\n",
       "      <td>2021-10-28 07:25:40.231</td>\n",
       "      <td>CB:42:7F:0A:7E:0C</td>\n",
       "      <td>84</td>\n",
       "      <td>[1276]</td>\n",
       "      <td>1</td>\n",
       "    </tr>\n",
       "    <tr>\n",
       "      <th>3</th>\n",
       "      <td>2021-10-28 07:25:40.262</td>\n",
       "      <td>E8:AC:14:80:83:29</td>\n",
       "      <td>92</td>\n",
       "      <td>[688]</td>\n",
       "      <td>1</td>\n",
       "    </tr>\n",
       "    <tr>\n",
       "      <th>4</th>\n",
       "      <td>2021-10-28 07:25:40.434</td>\n",
       "      <td>E3:C6:1E:14:37:C8</td>\n",
       "      <td>90</td>\n",
       "      <td>[]</td>\n",
       "      <td>1</td>\n",
       "    </tr>\n",
       "    <tr>\n",
       "      <th>...</th>\n",
       "      <td>...</td>\n",
       "      <td>...</td>\n",
       "      <td>...</td>\n",
       "      <td>...</td>\n",
       "      <td>...</td>\n",
       "    </tr>\n",
       "    <tr>\n",
       "      <th>26402</th>\n",
       "      <td>2021-10-28 08:38:46.142</td>\n",
       "      <td>E3:C6:1E:14:37:C8</td>\n",
       "      <td>88</td>\n",
       "      <td>[573]</td>\n",
       "      <td>1</td>\n",
       "    </tr>\n",
       "    <tr>\n",
       "      <th>26403</th>\n",
       "      <td>2021-10-28 08:38:46.174</td>\n",
       "      <td>E3:C6:1E:14:37:C8</td>\n",
       "      <td>88</td>\n",
       "      <td>[]</td>\n",
       "      <td>1</td>\n",
       "    </tr>\n",
       "    <tr>\n",
       "      <th>26404</th>\n",
       "      <td>2021-10-28 08:38:46.502</td>\n",
       "      <td>CB:42:7F:0A:7E:0C</td>\n",
       "      <td>98</td>\n",
       "      <td>[841, 665]</td>\n",
       "      <td>1</td>\n",
       "    </tr>\n",
       "    <tr>\n",
       "      <th>26405</th>\n",
       "      <td>2021-10-28 08:38:46.689</td>\n",
       "      <td>E3:C6:1E:14:37:C8</td>\n",
       "      <td>0</td>\n",
       "      <td>[]</td>\n",
       "      <td>1</td>\n",
       "    </tr>\n",
       "    <tr>\n",
       "      <th>26406</th>\n",
       "      <td>2021-10-28 08:38:46.736</td>\n",
       "      <td>E3:C6:1E:14:37:C8</td>\n",
       "      <td>0</td>\n",
       "      <td>[]</td>\n",
       "      <td>1</td>\n",
       "    </tr>\n",
       "  </tbody>\n",
       "</table>\n",
       "<p>26407 rows × 5 columns</p>\n",
       "</div>"
      ],
      "text/plain": [
       "             Timestamp_Google          Device_id  Heart_Rate     RR_rate  \\\n",
       "0     2021-10-28 07:25:39.949  E3:C6:1E:14:37:C8          90          []   \n",
       "1     2021-10-28 07:25:39.981  E3:C6:1E:14:37:C8          90          []   \n",
       "2     2021-10-28 07:25:40.231  CB:42:7F:0A:7E:0C          84      [1276]   \n",
       "3     2021-10-28 07:25:40.262  E8:AC:14:80:83:29          92       [688]   \n",
       "4     2021-10-28 07:25:40.434  E3:C6:1E:14:37:C8          90          []   \n",
       "...                       ...                ...         ...         ...   \n",
       "26402 2021-10-28 08:38:46.142  E3:C6:1E:14:37:C8          88       [573]   \n",
       "26403 2021-10-28 08:38:46.174  E3:C6:1E:14:37:C8          88          []   \n",
       "26404 2021-10-28 08:38:46.502  CB:42:7F:0A:7E:0C          98  [841, 665]   \n",
       "26405 2021-10-28 08:38:46.689  E3:C6:1E:14:37:C8           0          []   \n",
       "26406 2021-10-28 08:38:46.736  E3:C6:1E:14:37:C8           0          []   \n",
       "\n",
       "       Garmin  \n",
       "0           1  \n",
       "1           1  \n",
       "2           1  \n",
       "3           1  \n",
       "4           1  \n",
       "...       ...  \n",
       "26402       1  \n",
       "26403       1  \n",
       "26404       1  \n",
       "26405       1  \n",
       "26406       1  \n",
       "\n",
       "[26407 rows x 5 columns]"
      ]
     },
     "execution_count": 22,
     "metadata": {},
     "output_type": "execute_result"
    }
   ],
   "source": [
    "dataframes[key]\n",
    "# round timestamps by second\n",
    "# group by second\n",
    "# average heart rate values\n",
    "# add in kss values by second group\n",
    "# impute with first values of group / avg?"
   ]
  },
  {
   "cell_type": "markdown",
   "id": "b903e77a-2742-4f7e-8209-396a1338f615",
   "metadata": {},
   "source": [
    "# Download sync files"
   ]
  },
  {
   "cell_type": "code",
   "execution_count": 23,
   "id": "481a4321-8e11-4206-8cb4-5fc282c63e9d",
   "metadata": {},
   "outputs": [
    {
     "name": "stdout",
     "output_type": "stream",
     "text": [
      "Progress: |██████████████████████████████████████████████████| 100.0% Complete\n"
     ]
    }
   ],
   "source": [
    "sync_files_content = drive.download([file['id'] for file in sync_files])"
   ]
  },
  {
   "cell_type": "code",
   "execution_count": 24,
   "id": "7fc38892-d999-45b2-bf97-3d72ae029ac9",
   "metadata": {},
   "outputs": [],
   "source": [
    "exp_start_timestamps = []\n",
    "for file in sync_files_content:\n",
    "    df = pd.read_csv(file, index_col=[0])\n",
    "    # Get 'exp_start' first column\n",
    "    # usually it's timestamp_goole but sometimes timetamp\n",
    "    exp_start_timestamps.append(df.loc['exp_start'][df.columns[0]])"
   ]
  },
  {
   "cell_type": "code",
   "execution_count": 25,
   "id": "3bcf82ca-6789-4a1c-94fe-d8c810e7f2d7",
   "metadata": {
    "collapsed": true
   },
   "outputs": [
    {
     "data": {
      "text/plain": [
       "[1635406301149,\n",
       " 1637592073636.0,\n",
       " 1637844329071.0,\n",
       " 1637143133345,\n",
       " 1635150767939,\n",
       " 1636030325621,\n",
       " 1638361218488,\n",
       " 1637764600414,\n",
       " 1638884143409,\n",
       " 1638285387835,\n",
       " 1638272172006.0,\n",
       " 1636105938693.0,\n",
       " 1637576812727,\n",
       " 1637758026197,\n",
       " 1635863051616,\n",
       " 1638190109130,\n",
       " 1636117193360,\n",
       " 1635426282196,\n",
       " 1635238766304,\n",
       " 1635238766304,\n",
       " 1635858260425,\n",
       " 1635248018146,\n",
       " 1637325536836,\n",
       " 1635411216417,\n",
       " 1637748099738,\n",
       " 1637926486597.0,\n",
       " 1637833449252,\n",
       " 1637936234646,\n",
       " 1637920268951.0,\n",
       " 1635340092992,\n",
       " 1636020074260.0,\n",
       " 1637238112621.0,\n",
       " 1635166948028,\n",
       " 1635500213838,\n",
       " 1635335425399,\n",
       " 1635507210158]"
      ]
     },
     "execution_count": 25,
     "metadata": {},
     "output_type": "execute_result"
    }
   ],
   "source": [
    "exp_start_timestamps"
   ]
  },
  {
   "cell_type": "markdown",
   "id": "23b0d331-8cbd-42f1-aac1-4e2934549f07",
   "metadata": {},
   "source": [
    "# Download annotation files"
   ]
  },
  {
   "cell_type": "code",
   "execution_count": 26,
   "id": "fa89447c-967a-46b5-a3f3-11c6456d58ec",
   "metadata": {},
   "outputs": [
    {
     "name": "stdout",
     "output_type": "stream",
     "text": [
      "Progress: |██████████████████████████████████████████████████| 100.0% Complete\n"
     ]
    }
   ],
   "source": [
    "annotation_content = drive.download([video['id'] for video in validated_videos])"
   ]
  },
  {
   "cell_type": "code",
   "execution_count": 27,
   "id": "da1b952b-b1e1-462f-a9f7-1758f44d98e1",
   "metadata": {},
   "outputs": [],
   "source": [
    "annotation_csvs = []\n",
    "for file in annotation_content:\n",
    "    # Read CSV and drop useless columns\n",
    "    df = pd.read_csv(file).drop(columns=['timestamp_lena', 'Unnamed: 0'])\n",
    "    # Select only confirmed events\n",
    "    df = df[df['validation'] == 1]\n",
    "    df['aligned_instant'] = df['Instant'] - df.iloc[0]['Instant']\n",
    "    annotation_csvs.append(df)"
   ]
  },
  {
   "cell_type": "code",
   "execution_count": 28,
   "id": "c1e6ece4-2651-4d5d-b93c-a78cbf85a740",
   "metadata": {},
   "outputs": [
    {
     "data": {
      "text/html": [
       "<div>\n",
       "<style scoped>\n",
       "    .dataframe tbody tr th:only-of-type {\n",
       "        vertical-align: middle;\n",
       "    }\n",
       "\n",
       "    .dataframe tbody tr th {\n",
       "        vertical-align: top;\n",
       "    }\n",
       "\n",
       "    .dataframe thead th {\n",
       "        text-align: right;\n",
       "    }\n",
       "</style>\n",
       "<table border=\"1\" class=\"dataframe\">\n",
       "  <thead>\n",
       "    <tr style=\"text-align: right;\">\n",
       "      <th></th>\n",
       "      <th>Instant</th>\n",
       "      <th>duree</th>\n",
       "      <th>evenement</th>\n",
       "      <th>validation</th>\n",
       "      <th>aligned_instant</th>\n",
       "    </tr>\n",
       "  </thead>\n",
       "  <tbody>\n",
       "    <tr>\n",
       "      <th>0</th>\n",
       "      <td>16388</td>\n",
       "      <td>1.000000</td>\n",
       "      <td>Experience start</td>\n",
       "      <td>1</td>\n",
       "      <td>0</td>\n",
       "    </tr>\n",
       "    <tr>\n",
       "      <th>2</th>\n",
       "      <td>374301</td>\n",
       "      <td>0.341190</td>\n",
       "      <td>Debut conduite</td>\n",
       "      <td>1</td>\n",
       "      <td>357913</td>\n",
       "    </tr>\n",
       "    <tr>\n",
       "      <th>4</th>\n",
       "      <td>535656</td>\n",
       "      <td>0.934461</td>\n",
       "      <td>Grattez\\frottez</td>\n",
       "      <td>1</td>\n",
       "      <td>519268</td>\n",
       "    </tr>\n",
       "    <tr>\n",
       "      <th>5</th>\n",
       "      <td>535934</td>\n",
       "      <td>1.496705</td>\n",
       "      <td>Grattez\\frottez</td>\n",
       "      <td>1</td>\n",
       "      <td>519546</td>\n",
       "    </tr>\n",
       "    <tr>\n",
       "      <th>6</th>\n",
       "      <td>568722</td>\n",
       "      <td>2.303948</td>\n",
       "      <td>Grattez\\frottez</td>\n",
       "      <td>1</td>\n",
       "      <td>552334</td>\n",
       "    </tr>\n",
       "    <tr>\n",
       "      <th>...</th>\n",
       "      <td>...</td>\n",
       "      <td>...</td>\n",
       "      <td>...</td>\n",
       "      <td>...</td>\n",
       "      <td>...</td>\n",
       "    </tr>\n",
       "    <tr>\n",
       "      <th>313</th>\n",
       "      <td>3768965</td>\n",
       "      <td>4.822157</td>\n",
       "      <td>C.Position</td>\n",
       "      <td>1</td>\n",
       "      <td>3752577</td>\n",
       "    </tr>\n",
       "    <tr>\n",
       "      <th>314</th>\n",
       "      <td>3769101</td>\n",
       "      <td>2.321809</td>\n",
       "      <td>C.Position</td>\n",
       "      <td>1</td>\n",
       "      <td>3752713</td>\n",
       "    </tr>\n",
       "    <tr>\n",
       "      <th>315</th>\n",
       "      <td>3888199</td>\n",
       "      <td>7.406835</td>\n",
       "      <td>Baillements</td>\n",
       "      <td>1</td>\n",
       "      <td>3871811</td>\n",
       "    </tr>\n",
       "    <tr>\n",
       "      <th>316</th>\n",
       "      <td>3892496</td>\n",
       "      <td>2.618438</td>\n",
       "      <td>Baillements</td>\n",
       "      <td>1</td>\n",
       "      <td>3876108</td>\n",
       "    </tr>\n",
       "    <tr>\n",
       "      <th>318</th>\n",
       "      <td>4085034</td>\n",
       "      <td>0.124733</td>\n",
       "      <td>Fin Experience</td>\n",
       "      <td>1</td>\n",
       "      <td>4068646</td>\n",
       "    </tr>\n",
       "  </tbody>\n",
       "</table>\n",
       "<p>310 rows × 5 columns</p>\n",
       "</div>"
      ],
      "text/plain": [
       "     Instant     duree         evenement  validation  aligned_instant\n",
       "0      16388  1.000000  Experience start           1                0\n",
       "2     374301  0.341190    Debut conduite           1           357913\n",
       "4     535656  0.934461   Grattez\\frottez           1           519268\n",
       "5     535934  1.496705   Grattez\\frottez           1           519546\n",
       "6     568722  2.303948   Grattez\\frottez           1           552334\n",
       "..       ...       ...               ...         ...              ...\n",
       "313  3768965  4.822157        C.Position           1          3752577\n",
       "314  3769101  2.321809        C.Position           1          3752713\n",
       "315  3888199  7.406835       Baillements           1          3871811\n",
       "316  3892496  2.618438       Baillements           1          3876108\n",
       "318  4085034  0.124733    Fin Experience           1          4068646\n",
       "\n",
       "[310 rows x 5 columns]"
      ]
     },
     "execution_count": 28,
     "metadata": {},
     "output_type": "execute_result"
    }
   ],
   "source": [
    "annotation_csvs[2]"
   ]
  },
  {
   "cell_type": "markdown",
   "id": "7a790b58-395e-43e9-81b4-b5b15aa8ae6f",
   "metadata": {},
   "source": [
    "## Not finished, completed inside module file (.py)"
   ]
  },
  {
   "cell_type": "code",
   "execution_count": null,
   "id": "98d28014-c04d-4827-a56e-739bc0615952",
   "metadata": {},
   "outputs": [],
   "source": [
    "annotations_df = pd.read_csv(drive.download('1HEjJJt7lX77D2dO8c9p6hR5KYYtK3FSC'), index_col=0).drop(columns='timestamp_lena')"
   ]
  },
  {
   "cell_type": "code",
   "execution_count": null,
   "id": "4a0d0c11-1fd7-4834-86ce-8df48e32ffb3",
   "metadata": {},
   "outputs": [],
   "source": [
    "annotations_df['aligned_instant'] = annotations_df['Instant'] - annotations_df.iloc[0]['Instant']\n",
    "annotations_df"
   ]
  },
  {
   "cell_type": "code",
   "execution_count": null,
   "id": "587dda38-3864-43b8-b5a3-59242c443e60",
   "metadata": {},
   "outputs": [],
   "source": [
    "annotations_df['Timestamp_Google'] = pd.to_timedelta(annotations_df['aligned_instant'], unit='ms') + exp_start['timestamp_google']"
   ]
  },
  {
   "cell_type": "code",
   "execution_count": null,
   "id": "8d410f3f-f3b2-4ffb-aee7-c2fdb6aca246",
   "metadata": {},
   "outputs": [],
   "source": [
    "annotations_df"
   ]
  },
  {
   "cell_type": "markdown",
   "id": "c1157fc9-17d2-46c0-9aab-dc4d1aaa91d2",
   "metadata": {},
   "source": [
    "# Test"
   ]
  },
  {
   "cell_type": "code",
   "execution_count": null,
   "id": "4aa0c98d",
   "metadata": {},
   "outputs": [],
   "source": [
    "pip install opencv-python"
   ]
  },
  {
   "cell_type": "code",
   "execution_count": null,
   "id": "bce50d1b-828b-4896-9626-df0cec568c25",
   "metadata": {},
   "outputs": [],
   "source": [
    "from DDDS.annotations import Annotations"
   ]
  },
  {
   "cell_type": "code",
   "execution_count": null,
   "id": "025e7412-2feb-4944-9433-cf5b93655fac",
   "metadata": {},
   "outputs": [],
   "source": [
    "annots = Annotations()"
   ]
  },
  {
   "cell_type": "code",
   "execution_count": null,
   "id": "30d950d3-0c47-45f6-a7ea-7e2d3d662155",
   "metadata": {},
   "outputs": [],
   "source": [
    "annots.annotations[0]"
   ]
  },
  {
   "cell_type": "markdown",
   "id": "fb1e55ba",
   "metadata": {},
   "source": [
    "# Aligning annotations to HRV per file"
   ]
  },
  {
   "cell_type": "code",
   "execution_count": 29,
   "id": "2e875ebc",
   "metadata": {},
   "outputs": [
    {
     "name": "stdout",
     "output_type": "stream",
     "text": [
      "Connected successfully!\n"
     ]
    }
   ],
   "source": [
    "from DDDS.drive import Drive\n",
    "\n",
    "drive = Drive()"
   ]
  },
  {
   "cell_type": "code",
   "execution_count": 30,
   "id": "0b764ec3",
   "metadata": {},
   "outputs": [
    {
     "name": "stdout",
     "output_type": "stream",
     "text": [
      "Connected successfully!\n"
     ]
    }
   ],
   "source": [
    "from DDDS.hrv import HRV\n",
    "hrv = HRV()"
   ]
  },
  {
   "cell_type": "code",
   "execution_count": 31,
   "id": "0b3a2017",
   "metadata": {},
   "outputs": [
    {
     "name": "stdout",
     "output_type": "stream",
     "text": [
      "Progress: |██████████████████████████████████████████████████| 100.0% Complete\n"
     ]
    },
    {
     "ename": "ValueError",
     "evalue": "could not convert string to Timestamp",
     "output_type": "error",
     "traceback": [
      "\u001b[0;31m---------------------------------------------------------------------------\u001b[0m",
      "\u001b[0;31mParserError\u001b[0m                               Traceback (most recent call last)",
      "File \u001b[0;32m~/.pyenv/versions/3.8.12/envs/3DS/lib/python3.8/site-packages/pandas/_libs/tslibs/conversion.pyx:649\u001b[0m, in \u001b[0;36mpandas._libs.tslibs.conversion._convert_str_to_tsobject\u001b[0;34m()\u001b[0m\n",
      "File \u001b[0;32m~/.pyenv/versions/3.8.12/envs/3DS/lib/python3.8/site-packages/pandas/_libs/tslibs/parsing.pyx:281\u001b[0m, in \u001b[0;36mpandas._libs.tslibs.parsing.parse_datetime_string\u001b[0;34m()\u001b[0m\n",
      "File \u001b[0;32m~/.pyenv/versions/3.8.12/envs/3DS/lib/python3.8/site-packages/dateutil/parser/_parser.py:1368\u001b[0m, in \u001b[0;36mparse\u001b[0;34m(timestr, parserinfo, **kwargs)\u001b[0m\n\u001b[1;32m   1367\u001b[0m \u001b[38;5;28;01melse\u001b[39;00m:\n\u001b[0;32m-> 1368\u001b[0m     \u001b[38;5;28;01mreturn\u001b[39;00m \u001b[43mDEFAULTPARSER\u001b[49m\u001b[38;5;241;43m.\u001b[39;49m\u001b[43mparse\u001b[49m\u001b[43m(\u001b[49m\u001b[43mtimestr\u001b[49m\u001b[43m,\u001b[49m\u001b[43m \u001b[49m\u001b[38;5;241;43m*\u001b[39;49m\u001b[38;5;241;43m*\u001b[39;49m\u001b[43mkwargs\u001b[49m\u001b[43m)\u001b[49m\n",
      "File \u001b[0;32m~/.pyenv/versions/3.8.12/envs/3DS/lib/python3.8/site-packages/dateutil/parser/_parser.py:643\u001b[0m, in \u001b[0;36mparser.parse\u001b[0;34m(self, timestr, default, ignoretz, tzinfos, **kwargs)\u001b[0m\n\u001b[1;32m    642\u001b[0m \u001b[38;5;28;01mif\u001b[39;00m res \u001b[38;5;129;01mis\u001b[39;00m \u001b[38;5;28;01mNone\u001b[39;00m:\n\u001b[0;32m--> 643\u001b[0m     \u001b[38;5;28;01mraise\u001b[39;00m ParserError(\u001b[38;5;124m\"\u001b[39m\u001b[38;5;124mUnknown string format: \u001b[39m\u001b[38;5;132;01m%s\u001b[39;00m\u001b[38;5;124m\"\u001b[39m, timestr)\n\u001b[1;32m    645\u001b[0m \u001b[38;5;28;01mif\u001b[39;00m \u001b[38;5;28mlen\u001b[39m(res) \u001b[38;5;241m==\u001b[39m \u001b[38;5;241m0\u001b[39m:\n",
      "\u001b[0;31mParserError\u001b[0m: Unknown string format: 2021-10-25 10-31-58 c27.xlsx",
      "\nDuring handling of the above exception, another exception occurred:\n",
      "\u001b[0;31mValueError\u001b[0m                                Traceback (most recent call last)",
      "Input \u001b[0;32mIn [31]\u001b[0m, in \u001b[0;36m<module>\u001b[0;34m\u001b[0m\n\u001b[0;32m----> 1\u001b[0m dataframes \u001b[38;5;241m=\u001b[39m \u001b[43mhrv\u001b[49m\u001b[38;5;241;43m.\u001b[39;49m\u001b[43mget_dataframes\u001b[49m\u001b[43m(\u001b[49m\u001b[43m)\u001b[49m\n",
      "File \u001b[0;32m~/code/Jackfn96/3DS/DDDS/hrv.py:80\u001b[0m, in \u001b[0;36mHRV.get_dataframes\u001b[0;34m(self)\u001b[0m\n\u001b[1;32m     77\u001b[0m \u001b[38;5;28;01melse\u001b[39;00m:\n\u001b[1;32m     78\u001b[0m     df[\u001b[38;5;124m'\u001b[39m\u001b[38;5;124mGarmin\u001b[39m\u001b[38;5;124m'\u001b[39m] \u001b[38;5;241m=\u001b[39m \u001b[38;5;241m0\u001b[39m\n\u001b[0;32m---> 80\u001b[0m df \u001b[38;5;241m=\u001b[39m \u001b[38;5;28;43mself\u001b[39;49m\u001b[38;5;241;43m.\u001b[39;49m\u001b[43mtimestamp_formatting\u001b[49m\u001b[43m(\u001b[49m\u001b[43mdf\u001b[49m\u001b[43m,\u001b[49m\u001b[43m \u001b[49m\u001b[38;5;124;43m\"\u001b[39;49m\u001b[38;5;124;43mTimestamp_Google\u001b[39;49m\u001b[38;5;124;43m\"\u001b[39;49m\u001b[43m,\u001b[49m\u001b[43m \u001b[49m\u001b[38;5;124;43m\"\u001b[39;49m\u001b[38;5;124;43mTimestamp_Device\u001b[39;49m\u001b[38;5;124;43m\"\u001b[39;49m\u001b[43m)\u001b[49m\n\u001b[1;32m     81\u001b[0m df_list[files[index][\u001b[38;5;124m'\u001b[39m\u001b[38;5;124mname\u001b[39m\u001b[38;5;124m'\u001b[39m]\u001b[38;5;241m.\u001b[39mrstrip(\u001b[38;5;124m'\u001b[39m\u001b[38;5;124m.txt\u001b[39m\u001b[38;5;124m'\u001b[39m)] \u001b[38;5;241m=\u001b[39m df\n\u001b[1;32m     82\u001b[0m index \u001b[38;5;241m+\u001b[39m\u001b[38;5;241m=\u001b[39m \u001b[38;5;241m1\u001b[39m\n",
      "File \u001b[0;32m~/code/Jackfn96/3DS/DDDS/hrv.py:110\u001b[0m, in \u001b[0;36mHRV.timestamp_formatting\u001b[0;34m(self, df, *args)\u001b[0m\n\u001b[1;32m    108\u001b[0m \u001b[38;5;28;01mfor\u001b[39;00m timestamp \u001b[38;5;129;01min\u001b[39;00m args:\n\u001b[1;32m    109\u001b[0m     \u001b[38;5;28;01mif\u001b[39;00m timestamp \u001b[38;5;129;01min\u001b[39;00m df\u001b[38;5;241m.\u001b[39mcolumns:\n\u001b[0;32m--> 110\u001b[0m         df[timestamp] \u001b[38;5;241m=\u001b[39m \u001b[43mdf\u001b[49m\u001b[43m[\u001b[49m\u001b[43mtimestamp\u001b[49m\u001b[43m]\u001b[49m\u001b[38;5;241;43m.\u001b[39;49m\u001b[43mapply\u001b[49m\u001b[43m(\u001b[49m\u001b[38;5;28;43;01mlambda\u001b[39;49;00m\u001b[43m \u001b[49m\u001b[43mx\u001b[49m\u001b[43m:\u001b[49m\u001b[43m \u001b[49m\u001b[43mpd\u001b[49m\u001b[38;5;241;43m.\u001b[39;49m\u001b[43mTimestamp\u001b[49m\u001b[43m(\u001b[49m\u001b[43mx\u001b[49m\u001b[43m,\u001b[49m\u001b[43m \u001b[49m\u001b[43munit\u001b[49m\u001b[38;5;241;43m=\u001b[39;49m\u001b[38;5;124;43m\"\u001b[39;49m\u001b[38;5;124;43mms\u001b[39;49m\u001b[38;5;124;43m\"\u001b[39;49m\u001b[43m)\u001b[49m\u001b[43m)\u001b[49m\n\u001b[1;32m    111\u001b[0m \u001b[38;5;28;01mreturn\u001b[39;00m df\n",
      "File \u001b[0;32m~/.pyenv/versions/3.8.12/envs/3DS/lib/python3.8/site-packages/pandas/core/series.py:4433\u001b[0m, in \u001b[0;36mSeries.apply\u001b[0;34m(self, func, convert_dtype, args, **kwargs)\u001b[0m\n\u001b[1;32m   4323\u001b[0m \u001b[38;5;28;01mdef\u001b[39;00m \u001b[38;5;21mapply\u001b[39m(\n\u001b[1;32m   4324\u001b[0m     \u001b[38;5;28mself\u001b[39m,\n\u001b[1;32m   4325\u001b[0m     func: AggFuncType,\n\u001b[0;32m   (...)\u001b[0m\n\u001b[1;32m   4328\u001b[0m     \u001b[38;5;241m*\u001b[39m\u001b[38;5;241m*\u001b[39mkwargs,\n\u001b[1;32m   4329\u001b[0m ) \u001b[38;5;241m-\u001b[39m\u001b[38;5;241m>\u001b[39m DataFrame \u001b[38;5;241m|\u001b[39m Series:\n\u001b[1;32m   4330\u001b[0m     \u001b[38;5;124;03m\"\"\"\u001b[39;00m\n\u001b[1;32m   4331\u001b[0m \u001b[38;5;124;03m    Invoke function on values of Series.\u001b[39;00m\n\u001b[1;32m   4332\u001b[0m \n\u001b[0;32m   (...)\u001b[0m\n\u001b[1;32m   4431\u001b[0m \u001b[38;5;124;03m    dtype: float64\u001b[39;00m\n\u001b[1;32m   4432\u001b[0m \u001b[38;5;124;03m    \"\"\"\u001b[39;00m\n\u001b[0;32m-> 4433\u001b[0m     \u001b[38;5;28;01mreturn\u001b[39;00m \u001b[43mSeriesApply\u001b[49m\u001b[43m(\u001b[49m\u001b[38;5;28;43mself\u001b[39;49m\u001b[43m,\u001b[49m\u001b[43m \u001b[49m\u001b[43mfunc\u001b[49m\u001b[43m,\u001b[49m\u001b[43m \u001b[49m\u001b[43mconvert_dtype\u001b[49m\u001b[43m,\u001b[49m\u001b[43m \u001b[49m\u001b[43margs\u001b[49m\u001b[43m,\u001b[49m\u001b[43m \u001b[49m\u001b[43mkwargs\u001b[49m\u001b[43m)\u001b[49m\u001b[38;5;241;43m.\u001b[39;49m\u001b[43mapply\u001b[49m\u001b[43m(\u001b[49m\u001b[43m)\u001b[49m\n",
      "File \u001b[0;32m~/.pyenv/versions/3.8.12/envs/3DS/lib/python3.8/site-packages/pandas/core/apply.py:1082\u001b[0m, in \u001b[0;36mSeriesApply.apply\u001b[0;34m(self)\u001b[0m\n\u001b[1;32m   1078\u001b[0m \u001b[38;5;28;01mif\u001b[39;00m \u001b[38;5;28misinstance\u001b[39m(\u001b[38;5;28mself\u001b[39m\u001b[38;5;241m.\u001b[39mf, \u001b[38;5;28mstr\u001b[39m):\n\u001b[1;32m   1079\u001b[0m     \u001b[38;5;66;03m# if we are a string, try to dispatch\u001b[39;00m\n\u001b[1;32m   1080\u001b[0m     \u001b[38;5;28;01mreturn\u001b[39;00m \u001b[38;5;28mself\u001b[39m\u001b[38;5;241m.\u001b[39mapply_str()\n\u001b[0;32m-> 1082\u001b[0m \u001b[38;5;28;01mreturn\u001b[39;00m \u001b[38;5;28;43mself\u001b[39;49m\u001b[38;5;241;43m.\u001b[39;49m\u001b[43mapply_standard\u001b[49m\u001b[43m(\u001b[49m\u001b[43m)\u001b[49m\n",
      "File \u001b[0;32m~/.pyenv/versions/3.8.12/envs/3DS/lib/python3.8/site-packages/pandas/core/apply.py:1137\u001b[0m, in \u001b[0;36mSeriesApply.apply_standard\u001b[0;34m(self)\u001b[0m\n\u001b[1;32m   1131\u001b[0m         values \u001b[38;5;241m=\u001b[39m obj\u001b[38;5;241m.\u001b[39mastype(\u001b[38;5;28mobject\u001b[39m)\u001b[38;5;241m.\u001b[39m_values\n\u001b[1;32m   1132\u001b[0m         \u001b[38;5;66;03m# error: Argument 2 to \"map_infer\" has incompatible type\u001b[39;00m\n\u001b[1;32m   1133\u001b[0m         \u001b[38;5;66;03m# \"Union[Callable[..., Any], str, List[Union[Callable[..., Any], str]],\u001b[39;00m\n\u001b[1;32m   1134\u001b[0m         \u001b[38;5;66;03m# Dict[Hashable, Union[Union[Callable[..., Any], str],\u001b[39;00m\n\u001b[1;32m   1135\u001b[0m         \u001b[38;5;66;03m# List[Union[Callable[..., Any], str]]]]]\"; expected\u001b[39;00m\n\u001b[1;32m   1136\u001b[0m         \u001b[38;5;66;03m# \"Callable[[Any], Any]\"\u001b[39;00m\n\u001b[0;32m-> 1137\u001b[0m         mapped \u001b[38;5;241m=\u001b[39m \u001b[43mlib\u001b[49m\u001b[38;5;241;43m.\u001b[39;49m\u001b[43mmap_infer\u001b[49m\u001b[43m(\u001b[49m\n\u001b[1;32m   1138\u001b[0m \u001b[43m            \u001b[49m\u001b[43mvalues\u001b[49m\u001b[43m,\u001b[49m\n\u001b[1;32m   1139\u001b[0m \u001b[43m            \u001b[49m\u001b[43mf\u001b[49m\u001b[43m,\u001b[49m\u001b[43m  \u001b[49m\u001b[38;5;66;43;03m# type: ignore[arg-type]\u001b[39;49;00m\n\u001b[1;32m   1140\u001b[0m \u001b[43m            \u001b[49m\u001b[43mconvert\u001b[49m\u001b[38;5;241;43m=\u001b[39;49m\u001b[38;5;28;43mself\u001b[39;49m\u001b[38;5;241;43m.\u001b[39;49m\u001b[43mconvert_dtype\u001b[49m\u001b[43m,\u001b[49m\n\u001b[1;32m   1141\u001b[0m \u001b[43m        \u001b[49m\u001b[43m)\u001b[49m\n\u001b[1;32m   1143\u001b[0m \u001b[38;5;28;01mif\u001b[39;00m \u001b[38;5;28mlen\u001b[39m(mapped) \u001b[38;5;129;01mand\u001b[39;00m \u001b[38;5;28misinstance\u001b[39m(mapped[\u001b[38;5;241m0\u001b[39m], ABCSeries):\n\u001b[1;32m   1144\u001b[0m     \u001b[38;5;66;03m# GH#43986 Need to do list(mapped) in order to get treated as nested\u001b[39;00m\n\u001b[1;32m   1145\u001b[0m     \u001b[38;5;66;03m#  See also GH#25959 regarding EA support\u001b[39;00m\n\u001b[1;32m   1146\u001b[0m     \u001b[38;5;28;01mreturn\u001b[39;00m obj\u001b[38;5;241m.\u001b[39m_constructor_expanddim(\u001b[38;5;28mlist\u001b[39m(mapped), index\u001b[38;5;241m=\u001b[39mobj\u001b[38;5;241m.\u001b[39mindex)\n",
      "File \u001b[0;32m~/.pyenv/versions/3.8.12/envs/3DS/lib/python3.8/site-packages/pandas/_libs/lib.pyx:2870\u001b[0m, in \u001b[0;36mpandas._libs.lib.map_infer\u001b[0;34m()\u001b[0m\n",
      "File \u001b[0;32m~/code/Jackfn96/3DS/DDDS/hrv.py:110\u001b[0m, in \u001b[0;36mHRV.timestamp_formatting.<locals>.<lambda>\u001b[0;34m(x)\u001b[0m\n\u001b[1;32m    108\u001b[0m \u001b[38;5;28;01mfor\u001b[39;00m timestamp \u001b[38;5;129;01min\u001b[39;00m args:\n\u001b[1;32m    109\u001b[0m     \u001b[38;5;28;01mif\u001b[39;00m timestamp \u001b[38;5;129;01min\u001b[39;00m df\u001b[38;5;241m.\u001b[39mcolumns:\n\u001b[0;32m--> 110\u001b[0m         df[timestamp] \u001b[38;5;241m=\u001b[39m df[timestamp]\u001b[38;5;241m.\u001b[39mapply(\u001b[38;5;28;01mlambda\u001b[39;00m x: \u001b[43mpd\u001b[49m\u001b[38;5;241;43m.\u001b[39;49m\u001b[43mTimestamp\u001b[49m\u001b[43m(\u001b[49m\u001b[43mx\u001b[49m\u001b[43m,\u001b[49m\u001b[43m \u001b[49m\u001b[43munit\u001b[49m\u001b[38;5;241;43m=\u001b[39;49m\u001b[38;5;124;43m\"\u001b[39;49m\u001b[38;5;124;43mms\u001b[39;49m\u001b[38;5;124;43m\"\u001b[39;49m\u001b[43m)\u001b[49m)\n\u001b[1;32m    111\u001b[0m \u001b[38;5;28;01mreturn\u001b[39;00m df\n",
      "File \u001b[0;32m~/.pyenv/versions/3.8.12/envs/3DS/lib/python3.8/site-packages/pandas/_libs/tslibs/timestamps.pyx:1399\u001b[0m, in \u001b[0;36mpandas._libs.tslibs.timestamps.Timestamp.__new__\u001b[0;34m()\u001b[0m\n",
      "File \u001b[0;32m~/.pyenv/versions/3.8.12/envs/3DS/lib/python3.8/site-packages/pandas/_libs/tslibs/conversion.pyx:408\u001b[0m, in \u001b[0;36mpandas._libs.tslibs.conversion.convert_to_tsobject\u001b[0;34m()\u001b[0m\n",
      "File \u001b[0;32m~/.pyenv/versions/3.8.12/envs/3DS/lib/python3.8/site-packages/pandas/_libs/tslibs/conversion.pyx:652\u001b[0m, in \u001b[0;36mpandas._libs.tslibs.conversion._convert_str_to_tsobject\u001b[0;34m()\u001b[0m\n",
      "\u001b[0;31mValueError\u001b[0m: could not convert string to Timestamp"
     ]
    }
   ],
   "source": [
    "dataframes = hrv.get_dataframes()"
   ]
  },
  {
   "cell_type": "code",
   "execution_count": 32,
   "id": "4face8fe",
   "metadata": {},
   "outputs": [
    {
     "ename": "NameError",
     "evalue": "name 'dataframes' is not defined",
     "output_type": "error",
     "traceback": [
      "\u001b[0;31m---------------------------------------------------------------------------\u001b[0m",
      "\u001b[0;31mNameError\u001b[0m                                 Traceback (most recent call last)",
      "Input \u001b[0;32mIn [32]\u001b[0m, in \u001b[0;36m<module>\u001b[0;34m\u001b[0m\n\u001b[1;32m      1\u001b[0m keys \u001b[38;5;241m=\u001b[39m []\n\u001b[1;32m      2\u001b[0m \u001b[38;5;28;01mfor\u001b[39;00m i \u001b[38;5;129;01min\u001b[39;00m \u001b[38;5;28mrange\u001b[39m(\u001b[38;5;28mlen\u001b[39m(dates_drivers)):\n\u001b[0;32m----> 3\u001b[0m     keys\u001b[38;5;241m.\u001b[39mappend(\u001b[43mget_hrv_id\u001b[49m\u001b[43m(\u001b[49m\u001b[38;5;241;43m*\u001b[39;49m\u001b[43mdates_drivers\u001b[49m\u001b[43m[\u001b[49m\u001b[43mi\u001b[49m\u001b[43m]\u001b[49m\u001b[43m)\u001b[49m)\n\u001b[1;32m      5\u001b[0m hrv_dataframes \u001b[38;5;241m=\u001b[39m [dataframes[key] \u001b[38;5;28;01mfor\u001b[39;00m key \u001b[38;5;129;01min\u001b[39;00m keys]\n\u001b[1;32m      7\u001b[0m annotation_dataframes \u001b[38;5;241m=\u001b[39m []\n",
      "Input \u001b[0;32mIn [20]\u001b[0m, in \u001b[0;36mget_hrv_id\u001b[0;34m(date, driver)\u001b[0m\n\u001b[1;32m      1\u001b[0m \u001b[38;5;28;01mdef\u001b[39;00m \u001b[38;5;21mget_hrv_id\u001b[39m(date, driver):\n\u001b[1;32m      2\u001b[0m     \u001b[38;5;124;03m\"\"\"\u001b[39;00m\n\u001b[1;32m      3\u001b[0m \u001b[38;5;124;03m    Returns key in hrv.dataframes dictionary corresponding to date and driver\u001b[39;00m\n\u001b[1;32m      4\u001b[0m \u001b[38;5;124;03m    \"\"\"\u001b[39;00m\n\u001b[0;32m----> 5\u001b[0m     \u001b[38;5;28;01mfor\u001b[39;00m key \u001b[38;5;129;01min\u001b[39;00m \u001b[43mdataframes\u001b[49m\u001b[38;5;241m.\u001b[39mkeys():\n\u001b[1;32m      6\u001b[0m         \u001b[38;5;28;01mif\u001b[39;00m date \u001b[38;5;129;01min\u001b[39;00m key \u001b[38;5;129;01mand\u001b[39;00m driver \u001b[38;5;129;01min\u001b[39;00m key:\n\u001b[1;32m      7\u001b[0m             \u001b[38;5;28;01mreturn\u001b[39;00m key\n",
      "\u001b[0;31mNameError\u001b[0m: name 'dataframes' is not defined"
     ]
    }
   ],
   "source": [
    "keys = []\n",
    "for i in range(len(dates_drivers)):\n",
    "    keys.append(get_hrv_id(*dates_drivers[i]))\n",
    "        \n",
    "hrv_dataframes = [dataframes[key] for key in keys]\n",
    "\n",
    "annotation_dataframes = []\n",
    "for i in range(len(annots.annotations)):\n",
    "    annotation_dataframes.append(annots.annotations[i])\n",
    "\n",
    "combined_dfs = []\n",
    "\n",
    "for hrv, annot in zip(hrv_dataframes, annotation_dataframes):\n",
    "    df = pd.concat([hrv, annot], ignore_index=True)\n",
    "    df = df.sort_values('Timestamp_Google')\n",
    "    df = df.reset_index()\n",
    "    df = df.drop(columns=['index', 'Timestamp_Device'], errors='ignore')\n",
    "    combined_dfs.append(df)\n",
    "    "
   ]
  },
  {
   "cell_type": "code",
   "execution_count": null,
   "id": "3622a3ba",
   "metadata": {},
   "outputs": [],
   "source": [
    "combined_dfs[0]"
   ]
  },
  {
   "cell_type": "code",
   "execution_count": null,
   "id": "20ab4b03",
   "metadata": {},
   "outputs": [],
   "source": [
    "# see the indicies of timestamps where an event from annotations occurs\n",
    "import numpy as np\n",
    "np.where(combined_dfs[1]['evenement'].notnull())[0]"
   ]
  },
  {
   "cell_type": "code",
   "execution_count": null,
   "id": "38f1a9ec",
   "metadata": {},
   "outputs": [],
   "source": [
    "# Example to see how annotations are passed into each combined df \n",
    "combined_dfs[1].iloc[436:]"
   ]
  },
  {
   "cell_type": "code",
   "execution_count": null,
   "id": "4e9a89d2",
   "metadata": {},
   "outputs": [],
   "source": []
  }
 ],
 "metadata": {
  "kernelspec": {
   "display_name": "Python 3 (ipykernel)",
   "language": "python",
   "name": "python3"
  },
  "language_info": {
   "codemirror_mode": {
    "name": "ipython",
    "version": 3
   },
   "file_extension": ".py",
   "mimetype": "text/x-python",
   "name": "python",
   "nbconvert_exporter": "python",
   "pygments_lexer": "ipython3",
   "version": "3.8.12"
  },
  "toc": {
   "base_numbering": 1,
   "nav_menu": {},
   "number_sections": true,
   "sideBar": true,
   "skip_h1_title": false,
   "title_cell": "Table of Contents",
   "title_sidebar": "Contents",
   "toc_cell": false,
   "toc_position": {},
   "toc_section_display": true,
   "toc_window_display": false
  }
 },
 "nbformat": 4,
 "nbformat_minor": 5
}
