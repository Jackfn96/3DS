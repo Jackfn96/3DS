{
 "cells": [
  {
   "cell_type": "markdown",
   "id": "gJ0qKYRxYC-g",
   "metadata": {
    "heading_collapsed": true,
    "id": "gJ0qKYRxYC-g"
   },
   "source": [
    "## Imports"
   ]
  },
  {
   "cell_type": "code",
   "execution_count": 1,
   "id": "6IeJ9YOSDevA",
   "metadata": {
    "hidden": true,
    "id": "6IeJ9YOSDevA"
   },
   "outputs": [],
   "source": [
    "import os, glob\n",
    "import pandas as pd"
   ]
  },
  {
   "cell_type": "markdown",
   "id": "61fafa2d",
   "metadata": {
    "heading_collapsed": true
   },
   "source": [
    "## Google Colab - use this part"
   ]
  },
  {
   "cell_type": "markdown",
   "id": "_konY8UYX4fs",
   "metadata": {
    "heading_collapsed": true,
    "hidden": true,
    "id": "_konY8UYX4fs"
   },
   "source": [
    "### Google Drive pre-requisite"
   ]
  },
  {
   "cell_type": "code",
   "execution_count": 19,
   "id": "Kxh8vZQ86hL8",
   "metadata": {
    "colab": {
     "base_uri": "https://localhost:8080/"
    },
    "hidden": true,
    "id": "Kxh8vZQ86hL8",
    "outputId": "9a9df6e0-99ee-4cbf-b599-f398c67ac48f"
   },
   "outputs": [
    {
     "name": "stdout",
     "output_type": "stream",
     "text": [
      "Drive already mounted at /content/drive; to attempt to forcibly remount, call drive.mount(\"/content/drive\", force_remount=True).\n"
     ]
    }
   ],
   "source": [
    "# Only works within Google Colab\n",
    "from google.colab import drive\n",
    "drive.mount('/content/drive')"
   ]
  },
  {
   "cell_type": "markdown",
   "id": "1e3222a2",
   "metadata": {
    "heading_collapsed": true,
    "hidden": true
   },
   "source": [
    "### Loading the list of HRV files"
   ]
  },
  {
   "cell_type": "code",
   "execution_count": 20,
   "id": "kUPaxxvX8C9u",
   "metadata": {
    "hidden": true,
    "id": "kUPaxxvX8C9u"
   },
   "outputs": [],
   "source": [
    "# Change of directory to be in the folder where HRV files are\n",
    "path_to_hrv_files = '/content/drive/MyDrive/core simulateur/data/'\n",
    "os.chdir(path_to_hrv_files)"
   ]
  },
  {
   "cell_type": "code",
   "execution_count": 21,
   "id": "4x8c5aH5C83N",
   "metadata": {
    "hidden": true,
    "id": "4x8c5aH5C83N"
   },
   "outputs": [],
   "source": [
    "# Create a list that contains all of the files present in the \"data\" directory ending with \".txt\"\n",
    "list_hrv_files = []\n",
    "for file in glob.glob(\"*.txt\"):\n",
    "    list_hrv_files.append(file)"
   ]
  },
  {
   "cell_type": "markdown",
   "id": "45b25014",
   "metadata": {},
   "source": [
    "## Jupyter Notebook - use this part"
   ]
  },
  {
   "cell_type": "code",
   "execution_count": 2,
   "id": "5ed57d36",
   "metadata": {},
   "outputs": [],
   "source": [
    "%load_ext autoreload\n",
    "%autoreload 2"
   ]
  },
  {
   "cell_type": "code",
   "execution_count": 3,
   "id": "83698a32",
   "metadata": {},
   "outputs": [],
   "source": [
    "from DDDS.drive import Drive"
   ]
  },
  {
   "cell_type": "code",
   "execution_count": 4,
   "id": "72b99fc1",
   "metadata": {},
   "outputs": [
    {
     "name": "stdout",
     "output_type": "stream",
     "text": [
      "Connected successfully!\n"
     ]
    }
   ],
   "source": [
    "drive = Drive()"
   ]
  },
  {
   "cell_type": "code",
   "execution_count": 8,
   "id": "4214b2e1",
   "metadata": {},
   "outputs": [],
   "source": [
    "files_list = drive.list('txt')"
   ]
  },
  {
   "cell_type": "code",
   "execution_count": 10,
   "id": "3eaaf096",
   "metadata": {},
   "outputs": [],
   "source": [
    "try:\n",
    "    files_list.remove({'id': '1-RP7PFAXBlDnUsWAb2ck9mcJ_6uePpbh', 'name': 'Signaux HRV Garmin.txt'})\n",
    "except:\n",
    "    pass"
   ]
  },
  {
   "cell_type": "code",
   "execution_count": 11,
   "id": "4bd6bce5",
   "metadata": {},
   "outputs": [],
   "source": [
    "try:\n",
    "    files_list.remove({'id': '1-LZsP3Nm4FfSC7jC47NQBBqW1dfYQoJ2', 'name': 'Signaux HRV multi-capteurs.txt'})\n",
    "except:\n",
    "    pass"
   ]
  },
  {
   "cell_type": "code",
   "execution_count": 12,
   "id": "e55eaa61",
   "metadata": {},
   "outputs": [],
   "source": [
    "files_df = pd.DataFrame(files_list)"
   ]
  },
  {
   "cell_type": "code",
   "execution_count": 13,
   "id": "4e4ed778",
   "metadata": {},
   "outputs": [],
   "source": [
    "list_hrv_files = list(files_df.name)"
   ]
  },
  {
   "cell_type": "markdown",
   "id": "e52d3097",
   "metadata": {},
   "source": [
    "## HRV signals"
   ]
  },
  {
   "cell_type": "markdown",
   "id": "TBriksdNYa9a",
   "metadata": {
    "id": "TBriksdNYa9a"
   },
   "source": [
    "### Generating list of HRV files to download\n",
    "\n",
    "*   HRV simple sensor 1\n",
    "*   HRV simple sensor 2\n",
    "*   HRV garmin sensor"
   ]
  },
  {
   "cell_type": "code",
   "execution_count": 14,
   "id": "eGGFi3u2Ll4o",
   "metadata": {
    "id": "eGGFi3u2Ll4o"
   },
   "outputs": [],
   "source": [
    "# Create two lists from the list of HRV files - 1 for simple sensor & 1 for garmin sensor\n",
    "list_hrv_files_simple_sensor = [elem for elem in list_hrv_files if elem.find('garmin') == -1]\n",
    "list_hrv_files_garmin = [elem for elem in list_hrv_files if elem.find('garmin') != -1]"
   ]
  },
  {
   "cell_type": "code",
   "execution_count": 15,
   "id": "G9PqpG8-NNed",
   "metadata": {
    "id": "G9PqpG8-NNed"
   },
   "outputs": [],
   "source": [
    "# Create a list that would be needed to split the simple sensor list into two lists\n",
    "# It is due to differences in the output of simple sensor files\n",
    "key_list = []\n",
    "for key in range(25,31):\n",
    "    key_list.append(str(key) + '_10_2021')"
   ]
  },
  {
   "cell_type": "code",
   "execution_count": 16,
   "id": "xAgwBTe3OT9q",
   "metadata": {
    "id": "xAgwBTe3OT9q"
   },
   "outputs": [],
   "source": [
    "# Create the two lists from the simple sensor list\n",
    "list_hrv_files_simple_sensor_1 = []\n",
    "list_hrv_files_simple_sensor_2 = []\n",
    "for file in list_hrv_files_simple_sensor:\n",
    "    if (file[:10] in key_list) and (file != '29_10_2021_13_32 982.txt'):\n",
    "        list_hrv_files_simple_sensor_2.append(file)\n",
    "    else:\n",
    "        list_hrv_files_simple_sensor_1.append(file)"
   ]
  },
  {
   "cell_type": "code",
   "execution_count": 44,
   "id": "umW_YyMWExnW",
   "metadata": {
    "id": "umW_YyMWExnW"
   },
   "outputs": [],
   "source": [
    "# Create list of Headers for each type of HRV files\n",
    "headers_list_simple_sensor = ['Timestamp_Google', 'Timestamp_Device', 'Device_id', 'Heart_Rate', 'RR_rate']\n",
    "headers_list_garmin_sensor = ['Timestamp_Google', 'Timestamp_Device', 'RR_rate']\n",
    "headers_list_simple_sensor_2 = ['Timestamp_Google', 'Device_id', 'Heart_Rate', 'RR_rate']"
   ]
  },
  {
   "cell_type": "code",
   "execution_count": 45,
   "id": "DvV2x1yGagpZ",
   "metadata": {
    "id": "DvV2x1yGagpZ"
   },
   "outputs": [],
   "source": [
    "# Create a dictionary to match each HRV file with its associated Headers\n",
    "dict_hrv_files = {\n",
    "    'sensors_list':[list_hrv_files_simple_sensor_1,list_hrv_files_simple_sensor_2,list_hrv_files_garmin],\n",
    "    'headers_type':[headers_list_simple_sensor, headers_list_simple_sensor_2, headers_list_garmin_sensor]\n",
    "}"
   ]
  },
  {
   "cell_type": "markdown",
   "id": "1cdb0569",
   "metadata": {},
   "source": [
    "### Create the list of dataframes"
   ]
  },
  {
   "cell_type": "markdown",
   "id": "192c236b",
   "metadata": {
    "heading_collapsed": true
   },
   "source": [
    "#### Within Google Colab"
   ]
  },
  {
   "cell_type": "code",
   "execution_count": 27,
   "id": "Av74m4oQVW7u",
   "metadata": {
    "hidden": true,
    "id": "Av74m4oQVW7u"
   },
   "outputs": [],
   "source": [
    "# Create the list of dataframes of all the HRV files\n",
    "def list_dataframes(path_to_hrv_files, dict_hrv_files):\n",
    "    df_list = []\n",
    "    index = 0\n",
    "\n",
    "    for sensor_list in dict_hrv_files['sensors_list']:\n",
    "        for sensor in sensor_list:\n",
    "            df = pd.read_csv(path_to_hrv_files + sensor, sep=\";\", header=None, names=dict_hrv_files['headers_type'][index])\n",
    "            df['file_name'] = sensor\n",
    "            if sensor.find('garmin') != -1:\n",
    "                df['Garmin'] = 1\n",
    "            else:\n",
    "                df['Garmin'] = 0\n",
    "            df_list.append(df)\n",
    "        index += 1\n",
    "\n",
    "    return df_list"
   ]
  },
  {
   "cell_type": "code",
   "execution_count": 28,
   "id": "09w_luG9vyxz",
   "metadata": {
    "hidden": true,
    "id": "09w_luG9vyxz"
   },
   "outputs": [],
   "source": [
    "dataframes = list_dataframes(path_to_hrv_files, dict_hrv_files)"
   ]
  },
  {
   "cell_type": "markdown",
   "id": "219357a6",
   "metadata": {},
   "source": [
    "#### Within Jupyter Notebook"
   ]
  },
  {
   "cell_type": "code",
   "execution_count": 19,
   "id": "ad6d10b6",
   "metadata": {},
   "outputs": [],
   "source": [
    "sensor = dict_hrv_files['sensors_list'][0][1]"
   ]
  },
  {
   "cell_type": "code",
   "execution_count": 20,
   "id": "e64396b8",
   "metadata": {},
   "outputs": [
    {
     "data": {
      "text/plain": [
       "'07_01_2022_13_56.txt'"
      ]
     },
     "execution_count": 20,
     "metadata": {},
     "output_type": "execute_result"
    }
   ],
   "source": [
    "sensor"
   ]
  },
  {
   "cell_type": "code",
   "execution_count": 21,
   "id": "85398fff",
   "metadata": {},
   "outputs": [
    {
     "data": {
      "text/plain": [
       "2    17G_KneZjeL5-wII3iDOcHFMSmcnJ09RZ\n",
       "Name: id, dtype: object"
      ]
     },
     "execution_count": 21,
     "metadata": {},
     "output_type": "execute_result"
    }
   ],
   "source": [
    "files_df[files_df.name == '07_01_2022_13_56.txt'].id"
   ]
  },
  {
   "cell_type": "code",
   "execution_count": 22,
   "id": "273f21f4",
   "metadata": {},
   "outputs": [],
   "source": [
    "# Create the list of dataframes of all the HRV files\n",
    "def list_dataframes(files_df, dict_hrv_files):\n",
    "    df_list = []\n",
    "    index = 0\n",
    "\n",
    "    for sensor_list in dict_hrv_files['sensors_list']:\n",
    "        for sensor in sensor_list:\n",
    "            file_id = list(files_df[files_df.name == sensor].id)[0]\n",
    "            file = drive.download(file_id)\n",
    "            df = pd.read_csv(file, sep=\";\", header=None, names=dict_hrv_files['headers_type'][index])\n",
    "            df['file_name'] = sensor\n",
    "            if sensor.find('garmin') != -1:\n",
    "                df['Garmin'] = 1\n",
    "            else:\n",
    "                df['Garmin'] = 0\n",
    "            df_list.append(df)\n",
    "        index += 1\n",
    "\n",
    "    return df_list"
   ]
  },
  {
   "cell_type": "code",
   "execution_count": 23,
   "id": "c1cfefd2",
   "metadata": {},
   "outputs": [
    {
     "name": "stdout",
     "output_type": "stream",
     "text": [
      "Download 100%.\n",
      "Download 100%.\n",
      "Download 100%.\n",
      "Download 100%.\n",
      "Download 100%.\n",
      "Download 100%.\n",
      "Download 100%.\n",
      "Download 100%.\n",
      "Download 100%.\n",
      "Download 100%.\n",
      "Download 100%.\n",
      "Download 100%.\n",
      "Download 100%.\n",
      "Download 100%.\n",
      "Download 100%.\n",
      "Download 100%.\n",
      "Download 100%.\n",
      "Download 100%.\n",
      "Download 100%.\n",
      "Download 100%.\n",
      "Download 100%.\n",
      "Download 100%.\n",
      "Download 100%.\n",
      "Download 100%.\n",
      "Download 100%.\n",
      "Download 100%.\n",
      "Download 100%.\n",
      "Download 100%.\n",
      "Download 100%.\n",
      "Download 100%.\n",
      "Download 100%.\n",
      "Download 100%.\n",
      "Download 100%.\n",
      "Download 100%.\n",
      "Download 100%.\n",
      "Download 100%.\n",
      "Download 100%.\n",
      "Download 100%.\n",
      "Download 100%.\n",
      "Download 100%.\n",
      "Download 100%.\n",
      "Download 100%.\n",
      "Download 100%.\n",
      "Download 100%.\n",
      "Download 100%.\n",
      "Download 100%.\n",
      "Download 100%.\n",
      "Download 100%.\n",
      "Download 100%.\n",
      "Download 100%.\n",
      "Download 100%.\n",
      "Download 100%.\n",
      "Download 100%.\n",
      "Download 100%.\n",
      "Download 100%.\n",
      "Download 100%.\n",
      "Download 100%.\n",
      "Download 100%.\n"
     ]
    }
   ],
   "source": [
    "dataframes = list_dataframes(files_df, dict_hrv_files)"
   ]
  },
  {
   "cell_type": "markdown",
   "id": "ITaucWDJTEOk",
   "metadata": {
    "id": "ITaucWDJTEOk"
   },
   "source": [
    "### Combined all HRV dataframes into a main one (HRV_df)"
   ]
  },
  {
   "cell_type": "code",
   "execution_count": 24,
   "id": "WDgUfrJj-iJK",
   "metadata": {
    "id": "WDgUfrJj-iJK"
   },
   "outputs": [],
   "source": [
    "# Create a main dataframe containing all HRV dataframes combined\n",
    "def combine_df(df_list):\n",
    "    for index, df in enumerate(df_list):\n",
    "        if index == 0:\n",
    "            HRV_df = df.copy()\n",
    "        if index != 0:\n",
    "            HRV_df = pd.concat([HRV_df,df], axis=0, ignore_index=True)\n",
    "    return HRV_df"
   ]
  },
  {
   "cell_type": "code",
   "execution_count": 41,
   "id": "kmvDRvEKu71W",
   "metadata": {
    "id": "kmvDRvEKu71W"
   },
   "outputs": [],
   "source": [
    "HRV_df = combine_df(dataframes)"
   ]
  },
  {
   "cell_type": "markdown",
   "id": "rsGjRF5-hccY",
   "metadata": {
    "id": "rsGjRF5-hccY"
   },
   "source": [
    "### Formatting"
   ]
  },
  {
   "cell_type": "code",
   "execution_count": 26,
   "id": "RENxrvyNhnWj",
   "metadata": {
    "id": "RENxrvyNhnWj"
   },
   "outputs": [],
   "source": [
    "# Format the Timestamp features\n",
    "def timestamp_formatting(df, *args):\n",
    "    for timestamp in args:\n",
    "        df[timestamp] = df[timestamp].apply(lambda x: pd.Timestamp(x, unit=\"ms\"))\n",
    "    return df"
   ]
  },
  {
   "cell_type": "code",
   "execution_count": 27,
   "id": "3RzEarWriul3",
   "metadata": {
    "id": "3RzEarWriul3"
   },
   "outputs": [],
   "source": [
    "# Allow to drop useless columns\n",
    "def drop_columns(df, *args):\n",
    "    for column in args:\n",
    "        df.drop(column, axis=1, inplace=True)\n",
    "    return df"
   ]
  },
  {
   "cell_type": "code",
   "execution_count": 42,
   "id": "_OJh-9eXiVoN",
   "metadata": {
    "id": "_OJh-9eXiVoN"
   },
   "outputs": [],
   "source": [
    "HRV_df = timestamp_formatting(HRV_df, 'Timestamp_Google', 'Timestamp_Device')\n",
    "HRV_df = drop_columns(HRV_df)"
   ]
  },
  {
   "cell_type": "markdown",
   "id": "91f462c2",
   "metadata": {},
   "source": [
    "### Combined DataFrame"
   ]
  },
  {
   "cell_type": "code",
   "execution_count": 80,
   "id": "Vs9mBkwDd2xK",
   "metadata": {
    "colab": {
     "base_uri": "https://localhost:8080/",
     "height": 423
    },
    "id": "Vs9mBkwDd2xK",
    "outputId": "35d8a7fe-c168-471a-c246-6f59982a015d"
   },
   "outputs": [],
   "source": [
    "ddf = HRV_df[(HRV_df.file_name == '22_11_2021_15_38 eb0.txt') & (HRV_df.Device_id == 'CA:93:07:67:1E:FF')]"
   ]
  },
  {
   "cell_type": "code",
   "execution_count": 82,
   "id": "bbb2881d",
   "metadata": {},
   "outputs": [
    {
     "data": {
      "text/plain": [
       "1        [779, 743]\n",
       "5             [773]\n",
       "9             [806]\n",
       "13            [847]\n",
       "17       [799, 779]\n",
       "            ...    \n",
       "16699            []\n",
       "16703            []\n",
       "16706            []\n",
       "16710            []\n",
       "16714            []\n",
       "Name: RR_rate, Length: 4156, dtype: object"
      ]
     },
     "execution_count": 82,
     "metadata": {},
     "output_type": "execute_result"
    }
   ],
   "source": [
    "ddf.RR_rate"
   ]
  },
  {
   "cell_type": "code",
   "execution_count": 83,
   "id": "522f1d77",
   "metadata": {},
   "outputs": [],
   "source": [
    "list_RR = []\n",
    "for i in ddf.RR_rate:\n",
    "    if len(i) == 5:\n",
    "        list_RR.append(int(i[1:4]))\n",
    "    elif len(i) == 10:\n",
    "        list_RR.append(int(i[1:4]))\n",
    "        list_RR.append(int(i[6:9]))\n",
    "    else:\n",
    "        pass"
   ]
  },
  {
   "cell_type": "code",
   "execution_count": 89,
   "id": "dbfeaaf2",
   "metadata": {},
   "outputs": [],
   "source": [
    "x_RR = []\n",
    "cumul = 0\n",
    "for i in list_RR:\n",
    "    cumul += i\n",
    "    x_RR.append(cumul)"
   ]
  },
  {
   "cell_type": "code",
   "execution_count": 84,
   "id": "14d30e2b",
   "metadata": {},
   "outputs": [],
   "source": [
    "series_RR = pd.Series(list_RR)"
   ]
  },
  {
   "cell_type": "code",
   "execution_count": 85,
   "id": "de9b9cb2",
   "metadata": {},
   "outputs": [
    {
     "data": {
      "text/plain": [
       "5367"
      ]
     },
     "execution_count": 85,
     "metadata": {},
     "output_type": "execute_result"
    }
   ],
   "source": [
    "len(series_RR)"
   ]
  },
  {
   "cell_type": "code",
   "execution_count": 77,
   "id": "23217cd1",
   "metadata": {},
   "outputs": [],
   "source": [
    "import matplotlib.pyplot as plt"
   ]
  },
  {
   "cell_type": "code",
   "execution_count": 100,
   "id": "783d194a",
   "metadata": {},
   "outputs": [
    {
     "data": {
      "text/plain": [
       "[<matplotlib.lines.Line2D at 0x12f73fe80>]"
      ]
     },
     "execution_count": 100,
     "metadata": {},
     "output_type": "execute_result"
    },
    {
     "data": {
      "image/png": "[encoded data removed]",
      "text/plain": [
       "<Figure size 432x288 with 1 Axes>"
      ]
     },
     "metadata": {
      "needs_background": "light"
     },
     "output_type": "display_data"
    }
   ],
   "source": [
    "window_start, window_end = 40, 60\n",
    "plt.plot(x_RR[window_start:window_end], series_RR[window_start:window_end])"
   ]
  }
 ],
 "metadata": {
  "colab": {
   "collapsed_sections": [],
   "name": "Simon.ipynb",
   "provenance": [],
   "toc_visible": true
  },
  "kernelspec": {
   "display_name": "Python 3 (ipykernel)",
   "language": "python",
   "name": "python3"
  },
  "language_info": {
   "codemirror_mode": {
    "name": "ipython",
    "version": 3
   },
   "file_extension": ".py",
   "mimetype": "text/x-python",
   "name": "python",
   "nbconvert_exporter": "python",
   "pygments_lexer": "ipython3",
   "version": "3.8.12"
  },
  "toc": {
   "base_numbering": 1,
   "nav_menu": {},
   "number_sections": true,
   "sideBar": true,
   "skip_h1_title": false,
   "title_cell": "Table of Contents",
   "title_sidebar": "Contents",
   "toc_cell": false,
   "toc_position": {},
   "toc_section_display": true,
   "toc_window_display": false
  }
 },
 "nbformat": 4,
 "nbformat_minor": 5
}
