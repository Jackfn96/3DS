{
 "cells": [
  {
   "cell_type": "markdown",
   "id": "gJ0qKYRxYC-g",
   "metadata": {
    "heading_collapsed": true,
    "id": "gJ0qKYRxYC-g"
   },
   "source": [
    "## Imports"
   ]
  },
  {
   "cell_type": "code",
   "execution_count": 27,
   "id": "6IeJ9YOSDevA",
   "metadata": {
    "hidden": true,
    "id": "6IeJ9YOSDevA"
   },
   "outputs": [],
   "source": [
    "import os, glob\n",
    "import pandas as pd"
   ]
  },
  {
   "cell_type": "markdown",
   "id": "61fafa2d",
   "metadata": {
    "heading_collapsed": true
   },
   "source": [
    "## Google Colab - use this part"
   ]
  },
  {
   "cell_type": "markdown",
   "id": "_konY8UYX4fs",
   "metadata": {
    "heading_collapsed": true,
    "hidden": true,
    "id": "_konY8UYX4fs"
   },
   "source": [
    "### Google Drive pre-requisite"
   ]
  },
  {
   "cell_type": "code",
   "execution_count": 19,
   "id": "Kxh8vZQ86hL8",
   "metadata": {
    "colab": {
     "base_uri": "https://localhost:8080/"
    },
    "hidden": true,
    "id": "Kxh8vZQ86hL8",
    "outputId": "9a9df6e0-99ee-4cbf-b599-f398c67ac48f"
   },
   "outputs": [
    {
     "name": "stdout",
     "output_type": "stream",
     "text": [
      "Drive already mounted at /content/drive; to attempt to forcibly remount, call drive.mount(\"/content/drive\", force_remount=True).\n"
     ]
    }
   ],
   "source": [
    "# Only works within Google Colab\n",
    "from google.colab import drive\n",
    "drive.mount('/content/drive')"
   ]
  },
  {
   "cell_type": "markdown",
   "id": "1e3222a2",
   "metadata": {
    "heading_collapsed": true,
    "hidden": true
   },
   "source": [
    "### Loading the list of HRV files"
   ]
  },
  {
   "cell_type": "code",
   "execution_count": 20,
   "id": "kUPaxxvX8C9u",
   "metadata": {
    "hidden": true,
    "id": "kUPaxxvX8C9u"
   },
   "outputs": [],
   "source": [
    "# Change of directory to be in the folder where HRV files are\n",
    "path_to_hrv_files = '/content/drive/MyDrive/core simulateur/data/'\n",
    "os.chdir(path_to_hrv_files)"
   ]
  },
  {
   "cell_type": "code",
   "execution_count": 21,
   "id": "4x8c5aH5C83N",
   "metadata": {
    "hidden": true,
    "id": "4x8c5aH5C83N"
   },
   "outputs": [],
   "source": [
    "# Create a list that contains all of the files present in the \"data\" directory ending with \".txt\"\n",
    "list_hrv_files = []\n",
    "for file in glob.glob(\"*.txt\"):\n",
    "    list_hrv_files.append(file)"
   ]
  },
  {
   "cell_type": "markdown",
   "id": "45b25014",
   "metadata": {
    "heading_collapsed": true
   },
   "source": [
    "## Jupyter Notebook - use this part"
   ]
  },
  {
   "cell_type": "code",
   "execution_count": 96,
   "id": "5ed57d36",
   "metadata": {
    "hidden": true
   },
   "outputs": [
    {
     "name": "stdout",
     "output_type": "stream",
     "text": [
      "The autoreload extension is already loaded. To reload it, use:\n",
      "  %reload_ext autoreload\n"
     ]
    }
   ],
   "source": [
    "%load_ext autoreload\n",
    "%autoreload 2"
   ]
  },
  {
   "cell_type": "code",
   "execution_count": 97,
   "id": "83698a32",
   "metadata": {
    "hidden": true
   },
   "outputs": [],
   "source": [
    "from DDDS.drive import Drive"
   ]
  },
  {
   "cell_type": "code",
   "execution_count": 98,
   "id": "72b99fc1",
   "metadata": {
    "hidden": true
   },
   "outputs": [
    {
     "name": "stdout",
     "output_type": "stream",
     "text": [
      "Connected successfully!\n"
     ]
    }
   ],
   "source": [
    "drive = Drive()"
   ]
  },
  {
   "cell_type": "code",
   "execution_count": 99,
   "id": "4214b2e1",
   "metadata": {
    "hidden": true
   },
   "outputs": [],
   "source": [
    "files_list = drive.list('txt')"
   ]
  },
  {
   "cell_type": "code",
   "execution_count": 100,
   "id": "3eaaf096",
   "metadata": {
    "hidden": true
   },
   "outputs": [],
   "source": [
    "try:\n",
    "    files_list.remove({'id': '1-RP7PFAXBlDnUsWAb2ck9mcJ_6uePpbh', 'name': 'Signaux HRV Garmin.txt'})\n",
    "except:\n",
    "    pass"
   ]
  },
  {
   "cell_type": "code",
   "execution_count": 101,
   "id": "4bd6bce5",
   "metadata": {
    "hidden": true
   },
   "outputs": [],
   "source": [
    "try:\n",
    "    files_list.remove({'id': '1-LZsP3Nm4FfSC7jC47NQBBqW1dfYQoJ2', 'name': 'Signaux HRV multi-capteurs.txt'})\n",
    "except:\n",
    "    pass"
   ]
  },
  {
   "cell_type": "code",
   "execution_count": 102,
   "id": "e55eaa61",
   "metadata": {
    "hidden": true
   },
   "outputs": [],
   "source": [
    "files_df = pd.DataFrame(files_list)"
   ]
  },
  {
   "cell_type": "code",
   "execution_count": 103,
   "id": "4e4ed778",
   "metadata": {
    "hidden": true
   },
   "outputs": [],
   "source": [
    "list_hrv_files = list(files_df.name)"
   ]
  },
  {
   "cell_type": "markdown",
   "id": "e52d3097",
   "metadata": {
    "heading_collapsed": true
   },
   "source": [
    "## HRV signals"
   ]
  },
  {
   "cell_type": "markdown",
   "id": "TBriksdNYa9a",
   "metadata": {
    "heading_collapsed": true,
    "hidden": true,
    "id": "TBriksdNYa9a"
   },
   "source": [
    "### Generating list of HRV files to download\n",
    "\n",
    "*   HRV simple sensor 1\n",
    "*   HRV simple sensor 2\n",
    "*   HRV garmin sensor"
   ]
  },
  {
   "cell_type": "code",
   "execution_count": 104,
   "id": "eGGFi3u2Ll4o",
   "metadata": {
    "hidden": true,
    "id": "eGGFi3u2Ll4o"
   },
   "outputs": [],
   "source": [
    "# Create two lists from the list of HRV files - 1 for simple sensor & 1 for garmin sensor\n",
    "list_hrv_files_simple_sensor = [elem for elem in list_hrv_files if elem.find('garmin') == -1]\n",
    "list_hrv_files_garmin = [elem for elem in list_hrv_files if elem.find('garmin') != -1]"
   ]
  },
  {
   "cell_type": "code",
   "execution_count": 105,
   "id": "G9PqpG8-NNed",
   "metadata": {
    "hidden": true,
    "id": "G9PqpG8-NNed"
   },
   "outputs": [],
   "source": [
    "# Create a list that would be needed to split the simple sensor list into two lists\n",
    "# It is due to differences in the output of simple sensor files\n",
    "key_list = []\n",
    "for key in range(25,31):\n",
    "    key_list.append(str(key) + '_10_2021')"
   ]
  },
  {
   "cell_type": "code",
   "execution_count": 106,
   "id": "xAgwBTe3OT9q",
   "metadata": {
    "hidden": true,
    "id": "xAgwBTe3OT9q"
   },
   "outputs": [],
   "source": [
    "# Create the two lists from the simple sensor list\n",
    "list_hrv_files_simple_sensor_1 = []\n",
    "list_hrv_files_simple_sensor_2 = []\n",
    "for file in list_hrv_files_simple_sensor:\n",
    "    if (file[:10] in key_list) and (file != '29_10_2021_13_32 982.txt'):\n",
    "        list_hrv_files_simple_sensor_2.append(file)\n",
    "    else:\n",
    "        list_hrv_files_simple_sensor_1.append(file)"
   ]
  },
  {
   "cell_type": "code",
   "execution_count": 107,
   "id": "umW_YyMWExnW",
   "metadata": {
    "hidden": true,
    "id": "umW_YyMWExnW"
   },
   "outputs": [],
   "source": [
    "# Create list of Headers for each type of HRV files\n",
    "headers_list_simple_sensor = ['Timestamp_Google', 'Timestamp_Device', 'Device_id', 'TBD', 'RR_rate']\n",
    "headers_list_garmin_sensor = ['Timestamp_Google', 'Timestamp_Device', 'RR_rate']\n",
    "headers_list_simple_sensor_2 = ['Timestamp_Google', 'Device_id', 'TBD', 'RR_rate']"
   ]
  },
  {
   "cell_type": "code",
   "execution_count": 108,
   "id": "DvV2x1yGagpZ",
   "metadata": {
    "hidden": true,
    "id": "DvV2x1yGagpZ"
   },
   "outputs": [],
   "source": [
    "# Create a dictionary to match each HRV file with its associated Headers\n",
    "dict_hrv_files = {\n",
    "    'sensors_list':[list_hrv_files_simple_sensor_1,list_hrv_files_simple_sensor_2,list_hrv_files_garmin],\n",
    "    'headers_type':[headers_list_simple_sensor, headers_list_simple_sensor_2, headers_list_garmin_sensor]\n",
    "}"
   ]
  },
  {
   "cell_type": "markdown",
   "id": "1cdb0569",
   "metadata": {
    "heading_collapsed": true,
    "hidden": true
   },
   "source": [
    "### Create the list of dataframes"
   ]
  },
  {
   "cell_type": "markdown",
   "id": "192c236b",
   "metadata": {
    "heading_collapsed": true,
    "hidden": true
   },
   "source": [
    "#### Within Google Colab"
   ]
  },
  {
   "cell_type": "code",
   "execution_count": 27,
   "id": "Av74m4oQVW7u",
   "metadata": {
    "hidden": true,
    "id": "Av74m4oQVW7u"
   },
   "outputs": [],
   "source": [
    "# Create the list of dataframes of all the HRV files\n",
    "def list_dataframes(path_to_hrv_files, dict_hrv_files):\n",
    "    df_list = []\n",
    "    index = 0\n",
    "\n",
    "    for sensor_list in dict_hrv_files['sensors_list']:\n",
    "        for sensor in sensor_list:\n",
    "            df = pd.read_csv(path_to_hrv_files + sensor, sep=\";\", header=None, names=dict_hrv_files['headers_type'][index])\n",
    "            df['file_name'] = sensor\n",
    "            if sensor.find('garmin') != -1:\n",
    "                df['Garmin'] = 1\n",
    "            else:\n",
    "                df['Garmin'] = 0\n",
    "            df_list.append(df)\n",
    "        index += 1\n",
    "\n",
    "    return df_list"
   ]
  },
  {
   "cell_type": "code",
   "execution_count": 28,
   "id": "09w_luG9vyxz",
   "metadata": {
    "hidden": true,
    "id": "09w_luG9vyxz"
   },
   "outputs": [],
   "source": [
    "dataframes = list_dataframes(path_to_hrv_files, dict_hrv_files)"
   ]
  },
  {
   "cell_type": "markdown",
   "id": "219357a6",
   "metadata": {
    "hidden": true
   },
   "source": [
    "#### Within Jupyter Notebook"
   ]
  },
  {
   "cell_type": "code",
   "execution_count": 133,
   "id": "ad6d10b6",
   "metadata": {
    "hidden": true
   },
   "outputs": [],
   "source": [
    "sensor = dict_hrv_files['sensors_list'][0][1]"
   ]
  },
  {
   "cell_type": "code",
   "execution_count": 134,
   "id": "e64396b8",
   "metadata": {
    "hidden": true
   },
   "outputs": [
    {
     "data": {
      "text/plain": [
       "'07_01_2022_13_56.txt'"
      ]
     },
     "execution_count": 134,
     "metadata": {},
     "output_type": "execute_result"
    }
   ],
   "source": [
    "sensor"
   ]
  },
  {
   "cell_type": "code",
   "execution_count": 140,
   "id": "85398fff",
   "metadata": {
    "hidden": true
   },
   "outputs": [
    {
     "data": {
      "text/plain": [
       "2    17G_KneZjeL5-wII3iDOcHFMSmcnJ09RZ\n",
       "Name: id, dtype: object"
      ]
     },
     "execution_count": 140,
     "metadata": {},
     "output_type": "execute_result"
    }
   ],
   "source": [
    "files_df[files_df.name == '07_01_2022_13_56.txt'].id"
   ]
  },
  {
   "cell_type": "code",
   "execution_count": 141,
   "id": "273f21f4",
   "metadata": {
    "hidden": true
   },
   "outputs": [],
   "source": [
    "# Create the list of dataframes of all the HRV files\n",
    "def list_dataframes(files_df, dict_hrv_files):\n",
    "    df_list = []\n",
    "    index = 0\n",
    "\n",
    "    for sensor_list in dict_hrv_files['sensors_list']:\n",
    "        for sensor in sensor_list:\n",
    "            file_id = list(files_df[files_df.name == sensor].id)[0]\n",
    "            file = drive.download(file_id)\n",
    "            df = pd.read_csv(file, sep=\";\", header=None, names=dict_hrv_files['headers_type'][index])\n",
    "            df['file_name'] = sensor\n",
    "            if sensor.find('garmin') != -1:\n",
    "                df['Garmin'] = 1\n",
    "            else:\n",
    "                df['Garmin'] = 0\n",
    "            df_list.append(df)\n",
    "        index += 1\n",
    "\n",
    "    return df_list"
   ]
  },
  {
   "cell_type": "code",
   "execution_count": 142,
   "id": "c1cfefd2",
   "metadata": {
    "hidden": true
   },
   "outputs": [
    {
     "name": "stdout",
     "output_type": "stream",
     "text": [
      "Download 100%.\n",
      "Download 100%.\n",
      "Download 100%.\n",
      "Download 100%.\n",
      "Download 100%.\n",
      "Download 100%.\n",
      "Download 100%.\n",
      "Download 100%.\n",
      "Download 100%.\n",
      "Download 100%.\n",
      "Download 100%.\n",
      "Download 100%.\n",
      "Download 100%.\n",
      "Download 100%.\n",
      "Download 100%.\n",
      "Download 100%.\n",
      "Download 100%.\n",
      "Download 100%.\n",
      "Download 100%.\n",
      "Download 100%.\n",
      "Download 100%.\n",
      "Download 100%.\n",
      "Download 100%.\n",
      "Download 100%.\n",
      "Download 100%.\n",
      "Download 100%.\n",
      "Download 100%.\n",
      "Download 100%.\n",
      "Download 100%.\n",
      "Download 100%.\n",
      "Download 100%.\n",
      "Download 100%.\n",
      "Download 100%.\n",
      "Download 100%.\n",
      "Download 100%.\n",
      "Download 100%.\n",
      "Download 100%.\n",
      "Download 100%.\n",
      "Download 100%.\n",
      "Download 100%.\n",
      "Download 100%.\n",
      "Download 100%.\n",
      "Download 100%.\n",
      "Download 100%.\n",
      "Download 100%.\n",
      "Download 100%.\n",
      "Download 100%.\n",
      "Download 100%.\n",
      "Download 100%.\n",
      "Download 100%.\n",
      "Download 100%.\n",
      "Download 100%.\n",
      "Download 100%.\n",
      "Download 100%.\n",
      "Download 100%.\n",
      "Download 100%.\n",
      "Download 100%.\n",
      "Download 100%.\n"
     ]
    }
   ],
   "source": [
    "dataframes = list_dataframes(files_df, dict_hrv_files)"
   ]
  },
  {
   "cell_type": "markdown",
   "id": "ITaucWDJTEOk",
   "metadata": {
    "heading_collapsed": true,
    "hidden": true,
    "id": "ITaucWDJTEOk"
   },
   "source": [
    "### Combined all HRV dataframes into a main one (HRV_df)"
   ]
  },
  {
   "cell_type": "code",
   "execution_count": 143,
   "id": "WDgUfrJj-iJK",
   "metadata": {
    "hidden": true,
    "id": "WDgUfrJj-iJK"
   },
   "outputs": [],
   "source": [
    "# Create a main dataframe containing all HRV dataframes combined\n",
    "def combine_df(df_list):\n",
    "    for index, df in enumerate(df_list):\n",
    "        if index == 0:\n",
    "            HRV_df = df.copy()\n",
    "        if index != 0:\n",
    "            HRV_df = pd.concat([HRV_df,df], axis=0, ignore_index=True)\n",
    "    return HRV_df"
   ]
  },
  {
   "cell_type": "code",
   "execution_count": 144,
   "id": "kmvDRvEKu71W",
   "metadata": {
    "hidden": true,
    "id": "kmvDRvEKu71W"
   },
   "outputs": [],
   "source": [
    "HRV_df = combine_df(dataframes)"
   ]
  },
  {
   "cell_type": "markdown",
   "id": "rsGjRF5-hccY",
   "metadata": {
    "heading_collapsed": true,
    "hidden": true,
    "id": "rsGjRF5-hccY"
   },
   "source": [
    "### Formatting"
   ]
  },
  {
   "cell_type": "code",
   "execution_count": 145,
   "id": "RENxrvyNhnWj",
   "metadata": {
    "hidden": true,
    "id": "RENxrvyNhnWj"
   },
   "outputs": [],
   "source": [
    "# Format the Timestamp features\n",
    "def timestamp_formatting(df, *args):\n",
    "    for timestamp in args:\n",
    "        df[timestamp] = df[timestamp].apply(lambda x: pd.Timestamp(x, unit=\"ms\"))\n",
    "    return df"
   ]
  },
  {
   "cell_type": "code",
   "execution_count": 146,
   "id": "3RzEarWriul3",
   "metadata": {
    "hidden": true,
    "id": "3RzEarWriul3"
   },
   "outputs": [],
   "source": [
    "# Allow to drop useless columns\n",
    "def drop_columns(df, *args):\n",
    "    for column in args:\n",
    "        df.drop(column, axis=1, inplace=True)\n",
    "    return df"
   ]
  },
  {
   "cell_type": "code",
   "execution_count": 147,
   "id": "_OJh-9eXiVoN",
   "metadata": {
    "hidden": true,
    "id": "_OJh-9eXiVoN"
   },
   "outputs": [],
   "source": [
    "HRV_df = timestamp_formatting(HRV_df, 'Timestamp_Google', 'Timestamp_Device')\n",
    "HRV_df = drop_columns(HRV_df, 'Device_id', 'TBD')"
   ]
  },
  {
   "cell_type": "markdown",
   "id": "91f462c2",
   "metadata": {
    "heading_collapsed": true,
    "hidden": true
   },
   "source": [
    "### Combined DataFrame"
   ]
  },
  {
   "cell_type": "code",
   "execution_count": 148,
   "id": "Vs9mBkwDd2xK",
   "metadata": {
    "colab": {
     "base_uri": "https://localhost:8080/",
     "height": 423
    },
    "hidden": true,
    "id": "Vs9mBkwDd2xK",
    "outputId": "35d8a7fe-c168-471a-c246-6f59982a015d"
   },
   "outputs": [
    {
     "data": {
      "text/html": [
       "<div>\n",
       "<style scoped>\n",
       "    .dataframe tbody tr th:only-of-type {\n",
       "        vertical-align: middle;\n",
       "    }\n",
       "\n",
       "    .dataframe tbody tr th {\n",
       "        vertical-align: top;\n",
       "    }\n",
       "\n",
       "    .dataframe thead th {\n",
       "        text-align: right;\n",
       "    }\n",
       "</style>\n",
       "<table border=\"1\" class=\"dataframe\">\n",
       "  <thead>\n",
       "    <tr style=\"text-align: right;\">\n",
       "      <th></th>\n",
       "      <th>Timestamp_Google</th>\n",
       "      <th>Timestamp_Device</th>\n",
       "      <th>RR_rate</th>\n",
       "      <th>file_name</th>\n",
       "      <th>Garmin</th>\n",
       "    </tr>\n",
       "  </thead>\n",
       "  <tbody>\n",
       "    <tr>\n",
       "      <th>0</th>\n",
       "      <td>2021-11-22 14:39:25.428</td>\n",
       "      <td>2021-11-22 14:39:25.655</td>\n",
       "      <td>[]</td>\n",
       "      <td>22_11_2021_15_38 eb0.txt</td>\n",
       "      <td>0</td>\n",
       "    </tr>\n",
       "    <tr>\n",
       "      <th>1</th>\n",
       "      <td>2021-11-22 14:39:25.599</td>\n",
       "      <td>2021-11-22 14:39:25.827</td>\n",
       "      <td>[779, 743]</td>\n",
       "      <td>22_11_2021_15_38 eb0.txt</td>\n",
       "      <td>0</td>\n",
       "    </tr>\n",
       "    <tr>\n",
       "      <th>2</th>\n",
       "      <td>2021-11-22 14:39:25.832</td>\n",
       "      <td>2021-11-22 14:39:26.046</td>\n",
       "      <td>[724, 832]</td>\n",
       "      <td>22_11_2021_15_38 eb0.txt</td>\n",
       "      <td>0</td>\n",
       "    </tr>\n",
       "    <tr>\n",
       "      <th>3</th>\n",
       "      <td>2021-11-22 14:39:25.867</td>\n",
       "      <td>2021-11-22 14:39:26.093</td>\n",
       "      <td>[]</td>\n",
       "      <td>22_11_2021_15_38 eb0.txt</td>\n",
       "      <td>0</td>\n",
       "    </tr>\n",
       "    <tr>\n",
       "      <th>4</th>\n",
       "      <td>2021-11-22 14:39:26.391</td>\n",
       "      <td>2021-11-22 14:39:26.608</td>\n",
       "      <td>[794]</td>\n",
       "      <td>22_11_2021_15_38 eb0.txt</td>\n",
       "      <td>0</td>\n",
       "    </tr>\n",
       "    <tr>\n",
       "      <th>...</th>\n",
       "      <td>...</td>\n",
       "      <td>...</td>\n",
       "      <td>...</td>\n",
       "      <td>...</td>\n",
       "      <td>...</td>\n",
       "    </tr>\n",
       "    <tr>\n",
       "      <th>1363841</th>\n",
       "      <td>2021-11-05 14:06:56.219</td>\n",
       "      <td>2021-11-05 14:06:55.489</td>\n",
       "      <td>809</td>\n",
       "      <td>05_11_2021_13_34_garmin ea9.txt</td>\n",
       "      <td>1</td>\n",
       "    </tr>\n",
       "    <tr>\n",
       "      <th>1363842</th>\n",
       "      <td>2021-11-05 14:06:57.182</td>\n",
       "      <td>2021-11-05 14:06:56.452</td>\n",
       "      <td>951</td>\n",
       "      <td>05_11_2021_13_34_garmin ea9.txt</td>\n",
       "      <td>1</td>\n",
       "    </tr>\n",
       "    <tr>\n",
       "      <th>1363843</th>\n",
       "      <td>2021-11-05 14:06:57.188</td>\n",
       "      <td>2021-11-05 14:06:56.458</td>\n",
       "      <td>951</td>\n",
       "      <td>05_11_2021_13_34_garmin ea9.txt</td>\n",
       "      <td>1</td>\n",
       "    </tr>\n",
       "    <tr>\n",
       "      <th>1363844</th>\n",
       "      <td>2021-11-05 14:06:58.155</td>\n",
       "      <td>2021-11-05 14:06:57.425</td>\n",
       "      <td>838</td>\n",
       "      <td>05_11_2021_13_34_garmin ea9.txt</td>\n",
       "      <td>1</td>\n",
       "    </tr>\n",
       "    <tr>\n",
       "      <th>1363845</th>\n",
       "      <td>2021-11-05 14:06:58.160</td>\n",
       "      <td>2021-11-05 14:06:57.430</td>\n",
       "      <td>838</td>\n",
       "      <td>05_11_2021_13_34_garmin ea9.txt</td>\n",
       "      <td>1</td>\n",
       "    </tr>\n",
       "  </tbody>\n",
       "</table>\n",
       "<p>1363846 rows × 5 columns</p>\n",
       "</div>"
      ],
      "text/plain": [
       "               Timestamp_Google        Timestamp_Device     RR_rate  \\\n",
       "0       2021-11-22 14:39:25.428 2021-11-22 14:39:25.655          []   \n",
       "1       2021-11-22 14:39:25.599 2021-11-22 14:39:25.827  [779, 743]   \n",
       "2       2021-11-22 14:39:25.832 2021-11-22 14:39:26.046  [724, 832]   \n",
       "3       2021-11-22 14:39:25.867 2021-11-22 14:39:26.093          []   \n",
       "4       2021-11-22 14:39:26.391 2021-11-22 14:39:26.608       [794]   \n",
       "...                         ...                     ...         ...   \n",
       "1363841 2021-11-05 14:06:56.219 2021-11-05 14:06:55.489         809   \n",
       "1363842 2021-11-05 14:06:57.182 2021-11-05 14:06:56.452         951   \n",
       "1363843 2021-11-05 14:06:57.188 2021-11-05 14:06:56.458         951   \n",
       "1363844 2021-11-05 14:06:58.155 2021-11-05 14:06:57.425         838   \n",
       "1363845 2021-11-05 14:06:58.160 2021-11-05 14:06:57.430         838   \n",
       "\n",
       "                               file_name  Garmin  \n",
       "0               22_11_2021_15_38 eb0.txt       0  \n",
       "1               22_11_2021_15_38 eb0.txt       0  \n",
       "2               22_11_2021_15_38 eb0.txt       0  \n",
       "3               22_11_2021_15_38 eb0.txt       0  \n",
       "4               22_11_2021_15_38 eb0.txt       0  \n",
       "...                                  ...     ...  \n",
       "1363841  05_11_2021_13_34_garmin ea9.txt       1  \n",
       "1363842  05_11_2021_13_34_garmin ea9.txt       1  \n",
       "1363843  05_11_2021_13_34_garmin ea9.txt       1  \n",
       "1363844  05_11_2021_13_34_garmin ea9.txt       1  \n",
       "1363845  05_11_2021_13_34_garmin ea9.txt       1  \n",
       "\n",
       "[1363846 rows x 5 columns]"
      ]
     },
     "execution_count": 148,
     "metadata": {},
     "output_type": "execute_result"
    }
   ],
   "source": [
    "HRV_df"
   ]
  }
 ],
 "metadata": {
  "colab": {
   "collapsed_sections": [],
   "name": "Simon.ipynb",
   "provenance": [],
   "toc_visible": true
  },
  "kernelspec": {
   "display_name": "Python 3 (ipykernel)",
   "language": "python",
   "name": "python3"
  },
  "language_info": {
   "codemirror_mode": {
    "name": "ipython",
    "version": 3
   },
   "file_extension": ".py",
   "mimetype": "text/x-python",
   "name": "python",
   "nbconvert_exporter": "python",
   "pygments_lexer": "ipython3",
   "version": "3.8.12"
  },
  "toc": {
   "base_numbering": 1,
   "nav_menu": {},
   "number_sections": true,
   "sideBar": true,
   "skip_h1_title": false,
   "title_cell": "Table of Contents",
   "title_sidebar": "Contents",
   "toc_cell": false,
   "toc_position": {},
   "toc_section_display": true,
   "toc_window_display": false
  }
 },
 "nbformat": 4,
 "nbformat_minor": 5
}
