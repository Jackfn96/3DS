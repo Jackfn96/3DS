{
  "cells": [
    {
      "cell_type": "markdown",
      "id": "gJ0qKYRxYC-g",
      "metadata": {
        "id": "gJ0qKYRxYC-g"
      },
      "source": [
        "### Imports"
      ]
    },
    {
      "cell_type": "code",
      "execution_count": 1,
      "id": "6IeJ9YOSDevA",
      "metadata": {
        "id": "6IeJ9YOSDevA"
      },
      "outputs": [],
      "source": [
        "import os, glob\n",
        "import pandas as pd"
      ]
    },
    {
      "cell_type": "markdown",
      "id": "_konY8UYX4fs",
      "metadata": {
        "id": "_konY8UYX4fs"
      },
      "source": [
        "### Google Drive pre-requisite"
      ]
    },
    {
      "cell_type": "code",
      "execution_count": 2,
      "id": "Kxh8vZQ86hL8",
      "metadata": {
        "colab": {
          "base_uri": "https://localhost:8080/"
        },
        "id": "Kxh8vZQ86hL8",
        "outputId": "ed2790fd-f103-4252-ac0f-da209bed9b3d"
      },
      "outputs": [
        {
          "name": "stdout",
          "output_type": "stream",
          "text": [
            "Drive already mounted at /content/drive; to attempt to forcibly remount, call drive.mount(\"/content/drive\", force_remount=True).\n"
          ]
        }
      ],
      "source": [
        "# Only works within Google Colab\n",
        "from google.colab import drive\n",
        "drive.mount('/content/drive')"
      ]
    },
    {
      "cell_type": "markdown",
      "id": "TBriksdNYa9a",
      "metadata": {
        "id": "TBriksdNYa9a"
      },
      "source": [
        "### Generating list of HRV files to download\n",
        "\n",
        "*   HRV simple sensor 1\n",
        "*   HRV simple sensor 2\n",
        "*   HRV garmin sensor"
      ]
    },
    {
      "cell_type": "code",
      "execution_count": 3,
      "id": "kUPaxxvX8C9u",
      "metadata": {
        "id": "kUPaxxvX8C9u"
      },
      "outputs": [],
      "source": [
        "# Change of directory to be in the folder where HRV files are\n",
        "path_to_hrv_files = '/content/drive/MyDrive/core simulateur/data/'\n",
        "os.chdir(path_to_hrv_files)"
      ]
    },
    {
      "cell_type": "code",
      "execution_count": 4,
      "id": "4x8c5aH5C83N",
      "metadata": {
        "id": "4x8c5aH5C83N"
      },
      "outputs": [],
      "source": [
        "# Create a list that contains all of the files present in the \"data\" directory ending with \".txt\"\n",
        "list_hrv_files = []\n",
        "for file in glob.glob(\"*.txt\"):\n",
        "    list_hrv_files.append(file)"
      ]
    },
    {
      "cell_type": "code",
      "execution_count": 5,
      "id": "eGGFi3u2Ll4o",
      "metadata": {
        "id": "eGGFi3u2Ll4o"
      },
      "outputs": [],
      "source": [
        "# Create two lists from the list of HRV files - 1 for simple sensor & 1 for garmin sensor\n",
        "list_hrv_files_simple_sensor = [elem for elem in list_hrv_files if elem.find('garmin') == -1]\n",
        "list_hrv_files_garmin = [elem for elem in list_hrv_files if elem.find('garmin') != -1]"
      ]
    },
    {
      "cell_type": "code",
      "execution_count": 6,
      "id": "G9PqpG8-NNed",
      "metadata": {
        "id": "G9PqpG8-NNed"
      },
      "outputs": [],
      "source": [
        "# Create a list that would be needed to split the simple sensor list into two lists\n",
        "# It is due to differences in the output of simple sensor files\n",
        "key_list = []\n",
        "for key in range(25,31):\n",
        "  key_list.append(str(key) + '_10')"
      ]
    },
    {
      "cell_type": "code",
      "execution_count": 7,
      "id": "xAgwBTe3OT9q",
      "metadata": {
        "id": "xAgwBTe3OT9q"
      },
      "outputs": [],
      "source": [
        "# Create the two lists from the simple sensor list\n",
        "list_hrv_files_simple_sensor_1 = []\n",
        "list_hrv_files_simple_sensor_2 = []\n",
        "for file in list_hrv_files_simple_sensor:\n",
        "  if file[:5] in key_list:\n",
        "    list_hrv_files_simple_sensor_2.append(file)\n",
        "  else:\n",
        "    list_hrv_files_simple_sensor_1.append(file)"
      ]
    },
    {
      "cell_type": "code",
      "execution_count": 8,
      "id": "umW_YyMWExnW",
      "metadata": {
        "id": "umW_YyMWExnW"
      },
      "outputs": [],
      "source": [
        "# Create list of Headers for each type of HRV files\n",
        "headers_list_simple_sensor = ['Timestamp1', 'Timestamp2', 'Device_id', 'TBD', 'TBD2']\n",
        "headers_list_garmin_sensor = ['Timestamp1', 'Timestamp2', 'TBD2']\n",
        "headers_list_simple_sensor_2 = ['Timestamp1', 'Device_id', 'TBD', 'TBD2']"
      ]
    },
    {
      "cell_type": "code",
      "execution_count": 9,
      "id": "DvV2x1yGagpZ",
      "metadata": {
        "id": "DvV2x1yGagpZ"
      },
      "outputs": [],
      "source": [
        "# Create a dictionary to match each HRV file with its associated Headers\n",
        "dict_hrv_files = {\n",
        "    'sensors_list':[list_hrv_files_simple_sensor_1,list_hrv_files_simple_sensor_2,list_hrv_files_garmin],\n",
        "    'headers_type':[headers_list_simple_sensor, headers_list_simple_sensor_2, headers_list_garmin_sensor]\n",
        "}"
      ]
    },
    {
      "cell_type": "code",
      "execution_count": 10,
      "id": "Av74m4oQVW7u",
      "metadata": {
        "id": "Av74m4oQVW7u"
      },
      "outputs": [],
      "source": [
        "# Create the list of dataframes of all the HRV files\n",
        "def list_dataframes(path_to_hrv_files, dict_hrv_files):\n",
        "  df_list = []\n",
        "  index = 0\n",
        "\n",
        "  for sensor_list in dict_hrv_files['sensors_list']:\n",
        "    for sensor in sensor_list:\n",
        "      df = pd.read_csv(path_to_hrv_files + sensor, sep=\";\", header=None, names=dict_hrv_files['headers_type'][index])\n",
        "      df['file_name'] = sensor\n",
        "      if sensor.find('garmin') != -1:\n",
        "        df['Garmin'] = 1\n",
        "      else:\n",
        "        df['Garmin'] = 0\n",
        "      df_list.append(df)\n",
        "    index += 1\n",
        "  \n",
        "  return df_list"
      ]
    },
    {
      "cell_type": "code",
      "execution_count": 11,
      "id": "09w_luG9vyxz",
      "metadata": {
        "id": "09w_luG9vyxz"
      },
      "outputs": [],
      "source": [
        "dataframes = list_dataframes(path_to_hrv_files, dict_hrv_files)"
      ]
    },
    {
      "cell_type": "markdown",
      "id": "ITaucWDJTEOk",
      "metadata": {
        "id": "ITaucWDJTEOk"
      },
      "source": [
        "### Combined all HRV dataframes into a main one (HRV_df)"
      ]
    },
    {
      "cell_type": "code",
      "execution_count": 12,
      "id": "WDgUfrJj-iJK",
      "metadata": {
        "id": "WDgUfrJj-iJK"
      },
      "outputs": [],
      "source": [
        "# Create a main dataframe containing all HRV dataframes combined\n",
        "def combine_df(df_list):\n",
        "    for index, df in enumerate(df_list):\n",
        "      if index == 0:\n",
        "        HRV_df = df.copy()\n",
        "      if index != 0:\n",
        "          HRV_df = pd.concat([HRV_df,df], axis=0, ignore_index=True)\n",
        "    return HRV_df"
      ]
    },
    {
      "cell_type": "code",
      "execution_count": 13,
      "id": "kmvDRvEKu71W",
      "metadata": {
        "id": "kmvDRvEKu71W"
      },
      "outputs": [],
      "source": [
        "HRV_df = combine_df(dataframes)"
      ]
    },
    {
      "cell_type": "markdown",
      "id": "rsGjRF5-hccY",
      "metadata": {
        "id": "rsGjRF5-hccY"
      },
      "source": [
        "### Formatting"
      ]
    },
    {
      "cell_type": "code",
      "execution_count": 14,
      "id": "RENxrvyNhnWj",
      "metadata": {
        "id": "RENxrvyNhnWj"
      },
      "outputs": [],
      "source": [
        "# Format the Timestamp features\n",
        "def timestamp_formatting(df, *args):\n",
        "  for timestamp in args:\n",
        "    df[timestamp] = df[timestamp].apply(lambda x: pd.Timestamp(x, unit=\"ms\"))\n",
        "  return df"
      ]
    },
    {
      "cell_type": "code",
      "execution_count": 15,
      "id": "3RzEarWriul3",
      "metadata": {
        "id": "3RzEarWriul3"
      },
      "outputs": [],
      "source": [
        "# Allow to drop useless columns\n",
        "def drop_columns(df, *args):\n",
        "  for column in args:\n",
        "    df.drop(column, axis=1, inplace=True)\n",
        "  return df"
      ]
    },
    {
      "cell_type": "code",
      "execution_count": 16,
      "id": "_OJh-9eXiVoN",
      "metadata": {
        "id": "_OJh-9eXiVoN"
      },
      "outputs": [],
      "source": [
        "HRV_df = timestamp_formatting(HRV_df, 'Timestamp1', 'Timestamp2')\n",
        "HRV_df = drop_columns(HRV_df, 'Device_id')"
      ]
    },
    {
      "cell_type": "code",
      "execution_count": 17,
      "id": "Vs9mBkwDd2xK",
      "metadata": {
        "colab": {
          "base_uri": "https://localhost:8080/",
          "height": 423
        },
        "id": "Vs9mBkwDd2xK",
        "outputId": "440ece0a-c2cb-4500-fc31-24f6a2d23f3e"
      },
      "outputs": [
        {
          "data": {
            "text/html": [
              "\n",
              "  <div id=\"df-a0b00ddb-7740-4995-bf91-a469dc750140\">\n",
              "    <div class=\"colab-df-container\">\n",
              "      <div>\n",
              "<style scoped>\n",
              "    .dataframe tbody tr th:only-of-type {\n",
              "        vertical-align: middle;\n",
              "    }\n",
              "\n",
              "    .dataframe tbody tr th {\n",
              "        vertical-align: top;\n",
              "    }\n",
              "\n",
              "    .dataframe thead th {\n",
              "        text-align: right;\n",
              "    }\n",
              "</style>\n",
              "<table border=\"1\" class=\"dataframe\">\n",
              "  <thead>\n",
              "    <tr style=\"text-align: right;\">\n",
              "      <th></th>\n",
              "      <th>Timestamp1</th>\n",
              "      <th>Timestamp2</th>\n",
              "      <th>TBD</th>\n",
              "      <th>TBD2</th>\n",
              "      <th>file_name</th>\n",
              "      <th>Garmin</th>\n",
              "    </tr>\n",
              "  </thead>\n",
              "  <tbody>\n",
              "    <tr>\n",
              "      <th>0</th>\n",
              "      <td>2021-11-05 09:50:25.764</td>\n",
              "      <td>2021-11-05 09:50:26.650</td>\n",
              "      <td>57.0</td>\n",
              "      <td>[]</td>\n",
              "      <td>05_11_2021_10_44 ed2.txt</td>\n",
              "      <td>0</td>\n",
              "    </tr>\n",
              "    <tr>\n",
              "      <th>1</th>\n",
              "      <td>2021-11-05 09:50:25.794</td>\n",
              "      <td>2021-11-05 09:50:26.681</td>\n",
              "      <td>70.0</td>\n",
              "      <td>[2272]</td>\n",
              "      <td>05_11_2021_10_44 ed2.txt</td>\n",
              "      <td>0</td>\n",
              "    </tr>\n",
              "    <tr>\n",
              "      <th>2</th>\n",
              "      <td>2021-11-05 09:50:25.996</td>\n",
              "      <td>2021-11-05 09:50:26.881</td>\n",
              "      <td>56.0</td>\n",
              "      <td>[]</td>\n",
              "      <td>05_11_2021_10_44 ed2.txt</td>\n",
              "      <td>0</td>\n",
              "    </tr>\n",
              "    <tr>\n",
              "      <th>3</th>\n",
              "      <td>2021-11-05 09:50:26.475</td>\n",
              "      <td>2021-11-05 09:50:27.367</td>\n",
              "      <td>56.0</td>\n",
              "      <td>[]</td>\n",
              "      <td>05_11_2021_10_44 ed2.txt</td>\n",
              "      <td>0</td>\n",
              "    </tr>\n",
              "    <tr>\n",
              "      <th>4</th>\n",
              "      <td>2021-11-05 09:50:26.602</td>\n",
              "      <td>2021-11-05 09:50:27.499</td>\n",
              "      <td>70.0</td>\n",
              "      <td>[]</td>\n",
              "      <td>05_11_2021_10_44 ed2.txt</td>\n",
              "      <td>0</td>\n",
              "    </tr>\n",
              "    <tr>\n",
              "      <th>...</th>\n",
              "      <td>...</td>\n",
              "      <td>...</td>\n",
              "      <td>...</td>\n",
              "      <td>...</td>\n",
              "      <td>...</td>\n",
              "      <td>...</td>\n",
              "    </tr>\n",
              "    <tr>\n",
              "      <th>1363841</th>\n",
              "      <td>2021-11-23 14:27:02.968</td>\n",
              "      <td>2021-11-23 14:27:01.824</td>\n",
              "      <td>NaN</td>\n",
              "      <td>830</td>\n",
              "      <td>22_11_2021_15_38_garmin eb0.txt</td>\n",
              "      <td>1</td>\n",
              "    </tr>\n",
              "    <tr>\n",
              "      <th>1363842</th>\n",
              "      <td>2021-11-23 14:27:02.976</td>\n",
              "      <td>2021-11-23 14:27:01.833</td>\n",
              "      <td>NaN</td>\n",
              "      <td>830</td>\n",
              "      <td>22_11_2021_15_38_garmin eb0.txt</td>\n",
              "      <td>1</td>\n",
              "    </tr>\n",
              "    <tr>\n",
              "      <th>1363843</th>\n",
              "      <td>2021-11-23 14:27:02.983</td>\n",
              "      <td>2021-11-23 14:27:01.840</td>\n",
              "      <td>NaN</td>\n",
              "      <td>830</td>\n",
              "      <td>22_11_2021_15_38_garmin eb0.txt</td>\n",
              "      <td>1</td>\n",
              "    </tr>\n",
              "    <tr>\n",
              "      <th>1363844</th>\n",
              "      <td>2021-11-23 14:27:02.990</td>\n",
              "      <td>2021-11-23 14:27:01.846</td>\n",
              "      <td>NaN</td>\n",
              "      <td>830</td>\n",
              "      <td>22_11_2021_15_38_garmin eb0.txt</td>\n",
              "      <td>1</td>\n",
              "    </tr>\n",
              "    <tr>\n",
              "      <th>1363845</th>\n",
              "      <td>2021-11-23 14:27:02.995</td>\n",
              "      <td>2021-11-23 14:27:01.851</td>\n",
              "      <td>NaN</td>\n",
              "      <td>830</td>\n",
              "      <td>22_11_2021_15_38_garmin eb0.txt</td>\n",
              "      <td>1</td>\n",
              "    </tr>\n",
              "  </tbody>\n",
              "</table>\n",
              "<p>1363846 rows × 6 columns</p>\n",
              "</div>\n",
              "      <button class=\"colab-df-convert\" onclick=\"convertToInteractive('df-a0b00ddb-7740-4995-bf91-a469dc750140')\"\n",
              "              title=\"Convert this dataframe to an interactive table.\"\n",
              "              style=\"display:none;\">\n",
              "        \n",
              "  <svg xmlns=\"http://www.w3.org/2000/svg\" height=\"24px\"viewBox=\"0 0 24 24\"\n",
              "       width=\"24px\">\n",
              "    <path d=\"M0 0h24v24H0V0z\" fill=\"none\"/>\n",
              "    <path d=\"M18.56 5.44l.94 2.06.94-2.06 2.06-.94-2.06-.94-.94-2.06-.94 2.06-2.06.94zm-11 1L8.5 8.5l.94-2.06 2.06-.94-2.06-.94L8.5 2.5l-.94 2.06-2.06.94zm10 10l.94 2.06.94-2.06 2.06-.94-2.06-.94-.94-2.06-.94 2.06-2.06.94z\"/><path d=\"M17.41 7.96l-1.37-1.37c-.4-.4-.92-.59-1.43-.59-.52 0-1.04.2-1.43.59L10.3 9.45l-7.72 7.72c-.78.78-.78 2.05 0 2.83L4 21.41c.39.39.9.59 1.41.59.51 0 1.02-.2 1.41-.59l7.78-7.78 2.81-2.81c.8-.78.8-2.07 0-2.86zM5.41 20L4 18.59l7.72-7.72 1.47 1.35L5.41 20z\"/>\n",
              "  </svg>\n",
              "      </button>\n",
              "      \n",
              "  <style>\n",
              "    .colab-df-container {\n",
              "      display:flex;\n",
              "      flex-wrap:wrap;\n",
              "      gap: 12px;\n",
              "    }\n",
              "\n",
              "    .colab-df-convert {\n",
              "      background-color: #E8F0FE;\n",
              "      border: none;\n",
              "      border-radius: 50%;\n",
              "      cursor: pointer;\n",
              "      display: none;\n",
              "      fill: #1967D2;\n",
              "      height: 32px;\n",
              "      padding: 0 0 0 0;\n",
              "      width: 32px;\n",
              "    }\n",
              "\n",
              "    .colab-df-convert:hover {\n",
              "      background-color: #E2EBFA;\n",
              "      box-shadow: 0px 1px 2px rgba(60, 64, 67, 0.3), 0px 1px 3px 1px rgba(60, 64, 67, 0.15);\n",
              "      fill: #174EA6;\n",
              "    }\n",
              "\n",
              "    [theme=dark] .colab-df-convert {\n",
              "      background-color: #3B4455;\n",
              "      fill: #D2E3FC;\n",
              "    }\n",
              "\n",
              "    [theme=dark] .colab-df-convert:hover {\n",
              "      background-color: #434B5C;\n",
              "      box-shadow: 0px 1px 3px 1px rgba(0, 0, 0, 0.15);\n",
              "      filter: drop-shadow(0px 1px 2px rgba(0, 0, 0, 0.3));\n",
              "      fill: #FFFFFF;\n",
              "    }\n",
              "  </style>\n",
              "\n",
              "      <script>\n",
              "        const buttonEl =\n",
              "          document.querySelector('#df-a0b00ddb-7740-4995-bf91-a469dc750140 button.colab-df-convert');\n",
              "        buttonEl.style.display =\n",
              "          google.colab.kernel.accessAllowed ? 'block' : 'none';\n",
              "\n",
              "        async function convertToInteractive(key) {\n",
              "          const element = document.querySelector('#df-a0b00ddb-7740-4995-bf91-a469dc750140');\n",
              "          const dataTable =\n",
              "            await google.colab.kernel.invokeFunction('convertToInteractive',\n",
              "                                                     [key], {});\n",
              "          if (!dataTable) return;\n",
              "\n",
              "          const docLinkHtml = 'Like what you see? Visit the ' +\n",
              "            '<a target=\"_blank\" href=https://colab.research.google.com/notebooks/data_table.ipynb>data table notebook</a>'\n",
              "            + ' to learn more about interactive tables.';\n",
              "          element.innerHTML = '';\n",
              "          dataTable['output_type'] = 'display_data';\n",
              "          await google.colab.output.renderOutput(dataTable, element);\n",
              "          const docLink = document.createElement('div');\n",
              "          docLink.innerHTML = docLinkHtml;\n",
              "          element.appendChild(docLink);\n",
              "        }\n",
              "      </script>\n",
              "    </div>\n",
              "  </div>\n",
              "  "
            ],
            "text/plain": [
              "                     Timestamp1  ... Garmin\n",
              "0       2021-11-05 09:50:25.764  ...      0\n",
              "1       2021-11-05 09:50:25.794  ...      0\n",
              "2       2021-11-05 09:50:25.996  ...      0\n",
              "3       2021-11-05 09:50:26.475  ...      0\n",
              "4       2021-11-05 09:50:26.602  ...      0\n",
              "...                         ...  ...    ...\n",
              "1363841 2021-11-23 14:27:02.968  ...      1\n",
              "1363842 2021-11-23 14:27:02.976  ...      1\n",
              "1363843 2021-11-23 14:27:02.983  ...      1\n",
              "1363844 2021-11-23 14:27:02.990  ...      1\n",
              "1363845 2021-11-23 14:27:02.995  ...      1\n",
              "\n",
              "[1363846 rows x 6 columns]"
            ]
          },
          "execution_count": 17,
          "metadata": {},
          "output_type": "execute_result"
        }
      ],
      "source": [
        "HRV_df"
      ]
    }
  ],
  "metadata": {
    "colab": {
      "collapsed_sections": [
        "gJ0qKYRxYC-g",
        "_konY8UYX4fs",
        "TBriksdNYa9a",
        "ITaucWDJTEOk",
        "rsGjRF5-hccY"
      ],
      "name": "Simon.ipynb",
      "provenance": []
    },
    "kernelspec": {
      "display_name": "Python 3 (ipykernel)",
      "language": "python",
      "name": "python3"
    },
    "language_info": {
      "codemirror_mode": {
        "name": "ipython",
        "version": 3
      },
      "file_extension": ".py",
      "mimetype": "text/x-python",
      "name": "python",
      "nbconvert_exporter": "python",
      "pygments_lexer": "ipython3",
      "version": "3.8.12"
    }
  },
  "nbformat": 4,
  "nbformat_minor": 5
}
