{
 "cells": [
  {
   "cell_type": "code",
   "execution_count": 5,
   "id": "9becb580-9f2d-490f-8d6f-55ccc47fe462",
   "metadata": {},
   "outputs": [],
   "source": [
    "from __future__ import print_function"
   ]
  },
  {
   "cell_type": "code",
   "execution_count": 6,
   "id": "7fedf9cf-09eb-4d8c-b445-b00193bf356a",
   "metadata": {},
   "outputs": [],
   "source": [
    "import os.path\n",
    "\n",
    "from google.auth.transport.requests import Request\n",
    "from google.oauth2.credentials import Credentials\n",
    "from google_auth_oauthlib.flow import InstalledAppFlow\n",
    "from googleapiclient.discovery import build\n",
    "from googleapiclient.errors import HttpError"
   ]
  },
  {
   "cell_type": "code",
   "execution_count": 33,
   "id": "93cb77f0-7144-4fac-80d9-b9c54e6c7cae",
   "metadata": {},
   "outputs": [],
   "source": [
    "SCOPES = ['https://www.googleapis.com/auth/drive.metadata.readonly']"
   ]
  },
  {
   "cell_type": "code",
   "execution_count": 73,
   "id": "11fefa59-da52-4797-838b-0e00484472df",
   "metadata": {},
   "outputs": [],
   "source": [
    "def google_auth():\n",
    "    \"\"\"Shows basic usage of the Drive v3 API.\n",
    "    Prints the names and ids of the first 10 files the user has access to.\n",
    "    \"\"\"\n",
    "    creds = None\n",
    "    # The file token.json stores the user's access and refresh tokens, and is\n",
    "    # created automatically when the authorization flow completes for the first\n",
    "    # time.\n",
    "    if os.path.exists('token.json'):\n",
    "        creds = Credentials.from_authorized_user_file('token.json', SCOPES)\n",
    "    # If there are no (valid) credentials available, let the user log in.\n",
    "    if not creds or not creds.valid:\n",
    "        if creds and creds.expired and creds.refresh_token:\n",
    "            creds.refresh(Request())\n",
    "        else:\n",
    "            flow = InstalledAppFlow.from_client_secrets_file(\n",
    "                os.path.join('..', '3ds_gcloud_api.json'), SCOPES)\n",
    "            creds = flow.run_local_server(port=0)\n",
    "        # Save the credentials for the next run\n",
    "        with open('token.json', 'w') as token:\n",
    "            token.write(creds.to_json())\n",
    "\n",
    "    try:\n",
    "        service = build('drive', 'v3', credentials=creds)\n",
    "        print('Connected successfully!')\n",
    "        return service\n",
    "    except HttpError as error:\n",
    "        # TODO(developer) - Handle errors from drive API.\n",
    "        print(f'An error occurred: {error}')"
   ]
  },
  {
   "cell_type": "code",
   "execution_count": 74,
   "id": "1cdeff21-0b8a-4430-bdb2-6e9347e1b4d9",
   "metadata": {},
   "outputs": [
    {
     "name": "stdout",
     "output_type": "stream",
     "text": [
      "Connected successfully!\n"
     ]
    }
   ],
   "source": [
    "service = google_auth()"
   ]
  },
  {
   "cell_type": "code",
   "execution_count": 75,
   "id": "4dc7ca4a-5979-4f6b-9d5e-8666dbf4dbb2",
   "metadata": {},
   "outputs": [],
   "source": [
    "def get_files(extension, debug=False):\n",
    "    page_token = None\n",
    "    records = []\n",
    "    while True:\n",
    "        response = service.files().list(q=f\"name contains '{extension}'\",\n",
    "                                              spaces='drive',\n",
    "                                              fields='nextPageToken, files(id, name)',\n",
    "                                              pageToken=page_token).execute()\n",
    "        for file in response.get('files', []):\n",
    "            if file.get('name').endswith('.'+extension):\n",
    "                records.append(file)\n",
    "                if debug:\n",
    "                    print(file.get('name'))\n",
    "        page_token = response.get('nextPageToken', None)\n",
    "        \n",
    "        if page_token is None:\n",
    "            break\n",
    "    \n",
    "    return records"
   ]
  },
  {
   "cell_type": "code",
   "execution_count": 76,
   "id": "e137fc21-9eb6-4053-9821-87ca8938d746",
   "metadata": {},
   "outputs": [],
   "source": [
    "files = get_files('flv')"
   ]
  },
  {
   "cell_type": "code",
   "execution_count": 77,
   "id": "2858f349-7ac2-413b-a8ea-60688c47259e",
   "metadata": {},
   "outputs": [
    {
     "data": {
      "text/plain": [
       "[{'id': '10FTLZ8pGHu692A4wqzh_nIrMbLqoRV0b',\n",
       "  'name': '2021-10-28 15-04-13 1c3.flv'},\n",
       " {'id': '11y7Pr0ReW52BdlMLaldDszIwMF6dk6x6',\n",
       "  'name': '2021-11-25 13-45-12 ed2.flv'},\n",
       " {'id': '10BoqHoVDYVLA0AkT5BlPyZr7MfoNJHh_',\n",
       "  'name': '2021-10-26 13-32-50 c27.flv'},\n",
       " {'id': '10t63VrYa__mUw5rE8MOT-DE7969UmUOl',\n",
       "  'name': '2021-11-04 13-51-55 ed2.flv'},\n",
       " {'id': '1-TYkV_Ydo-H1YRe0vm5ZT4TeDDLmGK6B', 'name': 'Vidéo simulation.flv'},\n",
       " {'id': '10Cx6et5WNSxJMxqbHJBGrW1EdKe7JaN-',\n",
       "  'name': '2021-10-28 09-28-56 844.flv'},\n",
       " {'id': '12kalNd2raRQPitBsAmcf6kt1O9jnpcRL',\n",
       "  'name': '2022-01-07 14-02-27.flv'},\n",
       " {'id': '12k_Yrd0dx_BrYVf8gBHW5S0b0a9YmKFk',\n",
       "  'name': '2022-01-05 15-25-18.flv'},\n",
       " {'id': '12gNozAgp19j6u1q6rIiC8ijqsHDaDlm9',\n",
       "  'name': '2021-12-15 11-26-42.flv'},\n",
       " {'id': '12ejnUlqYZOAUEiRI33NwAx0CceTw8xKK',\n",
       "  'name': '2021-12-07 14-35-11 ea9.flv'},\n",
       " {'id': '12WiN6TUbp1keipbxQPnbEJDBfuo_rgSh',\n",
       "  'name': '2021-12-07 14-21-09.flv'},\n",
       " {'id': '12Uy3owaQ4Uy8Pf4lP3i838V4QY0AouW3',\n",
       "  'name': '2021-12-07 14-15-29.flv'},\n",
       " {'id': '12UQi6bqRd8xXSwVZ5-yIF7hmb0LAmu2n',\n",
       "  'name': '2021-12-01 13-20-00 e99.flv'},\n",
       " {'id': '12RjWALHt3J2RMilmfGKhtkgCBrMKZxkc',\n",
       "  'name': '2021-11-30 16-16-03 ece.flv'},\n",
       " {'id': '12HrXnHpuSEE7mRp5d3EP889JjZPM6I13',\n",
       "  'name': '2021-11-30 12-34-51 eb0.flv'},\n",
       " {'id': '12DMc_pfxeR96_WWXCuu8lfesQLsl5ElJ',\n",
       "  'name': '2021-11-29 13-48-17 eca.flv'},\n",
       " {'id': '126m3cXptsn6H3HuYpE0rqN03yBHH6fzi',\n",
       "  'name': '2021-11-26 15-16-28 ea9.flv'},\n",
       " {'id': '1244aIEAt4Rtt3lxcw6U_7Ih62fmmAfz4',\n",
       "  'name': '2021-11-26 12-34-32 1c3.flv'},\n",
       " {'id': '121raT1gcc_QrXG5vgoiMY-eCT9sIUdz8',\n",
       "  'name': '2021-11-26 10-50-59 ed2.flv'},\n",
       " {'id': '11onFEY49IpJzfIPkpMwT1LnujmZaxV1n',\n",
       "  'name': '2021-11-25 10-41-47 038.flv'},\n",
       " {'id': '11lofHYg-x_27x60Yqx7GMiseBPfjQBr-',\n",
       "  'name': '2021-11-24 15-36-04 e99.flv'},\n",
       " {'id': '11fIZBgdYxysyhCll-e9Jb0JJhotHea6L',\n",
       "  'name': '2021-11-24 13-46-43 038.flv'},\n",
       " {'id': '11e7AGfO0JH6eXHcCpXYAc8R5H4I9xJkE',\n",
       "  'name': '2021-11-24 11-01-03 eca.flv'},\n",
       " {'id': '11fPxA2s7Y1ewxf-vHFmXcDJ6GMbIcV03',\n",
       "  'name': '2021-11-24 15-21-16.flv'},\n",
       " {'id': '11Y5sJjDqlhcoIKvEav8zn_ZEMVRtogEQ',\n",
       "  'name': '2021-11-22 15-40-50 eb0.flv'},\n",
       " {'id': '11BVYXWE4eYd9QoEyohmxHUzSo6jok-5V',\n",
       "  'name': '2021-11-19 13-38-33 ece.flv'},\n",
       " {'id': '118et1n6nacvKpRQ9ilCj-p_RbuuxaXHW',\n",
       "  'name': '2021-11-18 13-21-41 e99.flv'},\n",
       " {'id': '11Gk9hgmothAR3CsfCNxwtCQmHDBAC7yj',\n",
       "  'name': '2021-11-22 11-26-24 ea9.flv'},\n",
       " {'id': '114UXR9ql5sro0ZcfxYEHL-vBwa0NAYtY',\n",
       "  'name': '2021-11-18 13-20-30.flv'},\n",
       " {'id': '1128U8xnQPYUvDPMdIevygBaprbGHWjhL',\n",
       "  'name': '2021-11-17 10-58-38 e99.flv'},\n",
       " {'id': '111f-0lAgpuLYxsVEdTMXOIjj2T3Koh-9',\n",
       "  'name': '2021-11-05 13-59-29 ea9.flv'},\n",
       " {'id': '10nxOuiWb6Z_TybIEyYqURth6b51uOt3-',\n",
       "  'name': '2021-11-02 15-23-39 1c3.flv'},\n",
       " {'id': '10i8bzy3GrhxXiwDEgJ9luCVvqzU444ZX',\n",
       "  'name': '2021-11-02 14-03-50 eb0.flv'},\n",
       " {'id': '10snMNZ9rm2BjS99yEHi5sU6yCxfIT0Eh',\n",
       "  'name': '2021-11-04 11-01-00 eca.flv'},\n",
       " {'id': '10wg0tj0RahZq32TtaYW3X5cWPvvSu24K',\n",
       "  'name': '2021-11-05 10-51-58 ed2.flv'},\n",
       " {'id': '10aRBHelNP3dosqagKwrAj01_TNInSxNe',\n",
       "  'name': '2021-10-29 11-36-20 87e.flv'},\n",
       " {'id': '10DpGsA1Gf9oUg8WHXMVP9NtNDZ8RU9en',\n",
       "  'name': '2021-10-27 13-49-59 87e.flv'},\n",
       " {'id': '10DhGP4gqwyAqbElQxuczprDpSWwnoZmF',\n",
       "  'name': '2021-10-27 15-07-46 844.flv'},\n",
       " {'id': '10EIoiT23odz6zzaK44G7yapKoWhtBbSv',\n",
       "  'name': '2021-10-28 10-52-59 982.flv'},\n",
       " {'id': '10gVIliyKC5obhcOUQ--Xm-oNkpnE2gNB',\n",
       "  'name': '2021-10-29 13-32-34 982.flv'},\n",
       " {'id': '10b5Xv55L3V8uToYioiYXwzv7yjGTksij',\n",
       "  'name': '2021-10-29 13-28-16.flv'},\n",
       " {'id': '101Ngi2vsBbKUKz5k5fO-Cq5laO-wRKvd',\n",
       "  'name': '2021-10-25 10-31-58 c27.flv'},\n",
       " {'id': '105AT7P91WvGfyaIIMLHd0XUF_Lj4lZNn',\n",
       "  'name': '2021-10-26 10-58-19 c04.flv'},\n",
       " {'id': '1-qFxkQyp6VxRdn5rpwvOnfITtaRCy2Br',\n",
       "  'name': '2021-10-25 15-01-22 c04.flv'},\n",
       " {'id': '10-wVPQWnk91UDeC_Oirv_kJn9gYgfjWv',\n",
       "  'name': '2021-10-25 10-31-54.flv'},\n",
       " {'id': '1-H0yi8wfvsawwTlI-bjg98JQ1NGRkOKm',\n",
       "  'name': '2021-10-22 12-35-46.flv'},\n",
       " {'id': '1-G9JWPOPmEbOshAtuyXGL2u6EIK5vArr',\n",
       "  'name': '2021-10-22 11-30-35.flv'},\n",
       " {'id': '1-Ffzid7dvr4AHJndPZ_qv4SL9CELHXze',\n",
       "  'name': '2021-10-22 09-47-01.flv'}]"
      ]
     },
     "execution_count": 77,
     "metadata": {},
     "output_type": "execute_result"
    }
   ],
   "source": [
    "files"
   ]
  },
  {
   "cell_type": "code",
   "execution_count": null,
   "id": "24dede83-c516-4f90-89a7-920e3369381c",
   "metadata": {},
   "outputs": [],
   "source": []
  }
 ],
 "metadata": {
  "kernelspec": {
   "display_name": "Python 3 (ipykernel)",
   "language": "python",
   "name": "python3"
  },
  "language_info": {
   "codemirror_mode": {
    "name": "ipython",
    "version": 3
   },
   "file_extension": ".py",
   "mimetype": "text/x-python",
   "name": "python",
   "nbconvert_exporter": "python",
   "pygments_lexer": "ipython3",
   "version": "3.8.12"
  }
 },
 "nbformat": 4,
 "nbformat_minor": 5
}
