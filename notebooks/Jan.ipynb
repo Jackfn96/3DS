{
 "cells": [
  {
   "cell_type": "code",
   "execution_count": 1,
   "id": "2d0e02db-99da-4f25-9ba4-489241ec332d",
   "metadata": {},
   "outputs": [],
   "source": [
    "%load_ext autoreload\n",
    "%autoreload 2"
   ]
  },
  {
   "cell_type": "code",
   "execution_count": 2,
   "id": "a26dc904-8917-4e8c-b336-dcd5f6d7fa06",
   "metadata": {},
   "outputs": [],
   "source": [
    "from DDDS.drive import Drive"
   ]
  },
  {
   "cell_type": "code",
   "execution_count": 7,
   "id": "dc71ef76-1c6f-4fc6-aa75-436b6cea6105",
   "metadata": {},
   "outputs": [],
   "source": [
    "drive = Drive()"
   ]
  },
  {
   "cell_type": "markdown",
   "id": "820b158d-4f93-40ab-9afb-b7427ece96cd",
   "metadata": {},
   "source": [
    "# Test"
   ]
  },
  {
   "cell_type": "code",
   "execution_count": 34,
   "id": "fc5a3322-b906-4ebc-9dcc-45aee1135654",
   "metadata": {},
   "outputs": [
    {
     "data": {
      "text/plain": [
       "'1-APZj6zAxkiyXdNO4RbdIWOsADzV5g3S'"
      ]
     },
     "execution_count": 34,
     "metadata": {},
     "output_type": "execute_result"
    }
   ],
   "source": [
    "drive.list('folder', query=\"name = 'core simulateur'\")[0]['id']"
   ]
  },
  {
   "cell_type": "code",
   "execution_count": 8,
   "id": "4d4cd7ce-dbfb-4907-b9ea-2ec776ce030c",
   "metadata": {},
   "outputs": [
    {
     "ename": "LookupError",
     "evalue": "Unable to find Google Drive parent folder",
     "output_type": "error",
     "traceback": [
      "\u001b[0;31m---------------------------------------------------------------------------\u001b[0m",
      "\u001b[0;31mLookupError\u001b[0m                               Traceback (most recent call last)",
      "Input \u001b[0;32mIn [8]\u001b[0m, in \u001b[0;36m<module>\u001b[0;34m\u001b[0m\n\u001b[0;32m----> 1\u001b[0m \u001b[43mdrive\u001b[49m\u001b[38;5;241;43m.\u001b[39;49m\u001b[43mget_partent_id\u001b[49m\u001b[43m(\u001b[49m\u001b[43m)\u001b[49m\n",
      "File \u001b[0;32m~/code/Jackfn96/3DS/DDDS/drive.py:110\u001b[0m, in \u001b[0;36mDrive.get_partent_id\u001b[0;34m(self)\u001b[0m\n\u001b[1;32m    107\u001b[0m folder_list \u001b[38;5;241m=\u001b[39m \u001b[38;5;28mself\u001b[39m\u001b[38;5;241m.\u001b[39mlist(\u001b[38;5;124m'\u001b[39m\u001b[38;5;124mfolder\u001b[39m\u001b[38;5;124m'\u001b[39m, query\u001b[38;5;241m=\u001b[39m\u001b[38;5;124m\"\u001b[39m\u001b[38;5;124mname = \u001b[39m\u001b[38;5;124m'\u001b[39m\u001b[38;5;124mcore simulateur\u001b[39m\u001b[38;5;124m'\u001b[39m\u001b[38;5;124m\"\u001b[39m)\n\u001b[1;32m    109\u001b[0m \u001b[38;5;28;01mif\u001b[39;00m \u001b[38;5;28mlen\u001b[39m(folder_list) \u001b[38;5;241m!=\u001b[39m \u001b[38;5;241m1\u001b[39m:\n\u001b[0;32m--> 110\u001b[0m     \u001b[38;5;28;01mraise\u001b[39;00m \u001b[38;5;167;01mLookupError\u001b[39;00m(\u001b[38;5;124m'\u001b[39m\u001b[38;5;124mUnable to find parent folder\u001b[39m\u001b[38;5;124m'\u001b[39m)\n\u001b[1;32m    112\u001b[0m \u001b[38;5;28mself\u001b[39m\u001b[38;5;241m.\u001b[39mparent \u001b[38;5;241m=\u001b[39m folder_list[\u001b[38;5;241m0\u001b[39m][\u001b[38;5;124m'\u001b[39m\u001b[38;5;124mid\u001b[39m\u001b[38;5;124m'\u001b[39m]\n",
      "\u001b[0;31mLookupError\u001b[0m: Unable to find Google Drive parent folder"
     ]
    }
   ],
   "source": [
    "drive.get_partent_id()"
   ]
  },
  {
   "cell_type": "code",
   "execution_count": 39,
   "id": "ef797c0d-3f44-4b40-89d3-8523c426e954",
   "metadata": {},
   "outputs": [
    {
     "data": {
      "text/plain": [
       "'1-APZj6zAxkiyXdNO4RbdIWOsADzV5g3S'"
      ]
     },
     "execution_count": 39,
     "metadata": {},
     "output_type": "execute_result"
    }
   ],
   "source": [
    "drive.parent"
   ]
  },
  {
   "cell_type": "code",
   "execution_count": 5,
   "id": "492dbdc7-34fe-4506-bea3-9eb396f23997",
   "metadata": {},
   "outputs": [],
   "source": [
    "file_id = '1-Ffzid7dvr4AHJndPZ_qv4SL9CELHXze'"
   ]
  },
  {
   "cell_type": "code",
   "execution_count": null,
   "id": "4dc7ca4a-5979-4f6b-9d5e-8666dbf4dbb2",
   "metadata": {},
   "outputs": [],
   "source": [
    "def list_items(file_type, service=drive.service, query=None):\n",
    "    mime = {'flv': 'video/flv',\n",
    "            'csv': 'text/csv',\n",
    "            'xlsx': 'application/vnd.openxmlformats-officedocument.spreadsheetml.sheet',\n",
    "            'txt': 'text/plain',\n",
    "            'folder': 'application/vnd.google-apps.folder'}\n",
    "    \n",
    "    if file_type not in mime.keys():\n",
    "        print(f\"Wrong file type - {file_type}!\")\n",
    "        return\n",
    "    \n",
    "    page_token = None\n",
    "    records = []\n",
    "    \n",
    "    if query:\n",
    "        query = f\"mimeType = '{mime[file_type]}' and \" + query\n",
    "    else:\n",
    "        query = f\"mimeType = '{mime[file_type]}'\"\n",
    "\n",
    "    while True:\n",
    "        response = service.files().list(q=query,\n",
    "                                              spaces='drive',\n",
    "                                              fields='nextPageToken, files(id, name)',\n",
    "                                              pageToken=page_token).execute()\n",
    "        for file in response.get('files', []):\n",
    "            records.append(file)\n",
    "            \n",
    "        page_token = response.get('nextPageToken', None)\n",
    "        \n",
    "        if page_token is None:\n",
    "            break\n",
    "    \n",
    "    return records"
   ]
  },
  {
   "cell_type": "code",
   "execution_count": 9,
   "id": "e137fc21-9eb6-4053-9821-87ca8938d746",
   "metadata": {},
   "outputs": [],
   "source": [
    "files = get_files('flv')"
   ]
  },
  {
   "cell_type": "code",
   "execution_count": 113,
   "id": "24dede83-c516-4f90-89a7-920e3369381c",
   "metadata": {},
   "outputs": [
    {
     "name": "stdout",
     "output_type": "stream",
     "text": [
      "Download 100%.\n"
     ]
    }
   ],
   "source": [
    "request = service.files().get_media(fileId=file_id)\n",
    "fh = io.BytesIO()\n",
    "downloader = MediaIoBaseDownload(fh, request)\n",
    "done = False\n",
    "while done is False:\n",
    "    status, done = downloader.next_chunk()\n",
    "    print(\"Download %d%%.\" % int(status.progress() * 100))"
   ]
  },
  {
   "cell_type": "code",
   "execution_count": 114,
   "id": "f1d2de75-5ff5-4d56-80bf-cfe636efa3d3",
   "metadata": {},
   "outputs": [],
   "source": [
    "with open('test.flv', 'wb') as file:\n",
    "    file.write(fh.getvalue())"
   ]
  },
  {
   "cell_type": "code",
   "execution_count": null,
   "id": "38b6a41c-987b-4139-8882-8e54670375f2",
   "metadata": {},
   "outputs": [],
   "source": []
  }
 ],
 "metadata": {
  "kernelspec": {
   "display_name": "Python 3 (ipykernel)",
   "language": "python",
   "name": "python3"
  },
  "language_info": {
   "codemirror_mode": {
    "name": "ipython",
    "version": 3
   },
   "file_extension": ".py",
   "mimetype": "text/x-python",
   "name": "python",
   "nbconvert_exporter": "python",
   "pygments_lexer": "ipython3",
   "version": "3.8.12"
  }
 },
 "nbformat": 4,
 "nbformat_minor": 5
}
