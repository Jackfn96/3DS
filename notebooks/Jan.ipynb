{
 "cells": [
  {
   "cell_type": "markdown",
   "id": "gJ0qKYRxYC-g",
   "metadata": {
    "id": "gJ0qKYRxYC-g"
   },
   "source": [
    "## Imports"
   ]
  },
  {
   "cell_type": "code",
   "execution_count": 1,
   "id": "5ed57d36",
   "metadata": {},
   "outputs": [],
   "source": [
    "%load_ext autoreload\n",
    "%autoreload 2"
   ]
  },
  {
   "cell_type": "code",
   "execution_count": 2,
   "id": "6IeJ9YOSDevA",
   "metadata": {
    "id": "6IeJ9YOSDevA"
   },
   "outputs": [],
   "source": [
    "import os, glob\n",
    "import pandas as pd"
   ]
  },
  {
   "cell_type": "markdown",
   "id": "e52d3097",
   "metadata": {},
   "source": [
    "## HRV signals"
   ]
  },
  {
   "cell_type": "code",
   "execution_count": 21,
   "id": "0ce32884-f2f6-42ce-95e8-ec530378ae95",
   "metadata": {},
   "outputs": [],
   "source": [
    "from DDDS.hrv import HRV"
   ]
  },
  {
   "cell_type": "code",
   "execution_count": 59,
   "id": "549e9e35-461f-46bd-a690-bf9f63ac1f25",
   "metadata": {},
   "outputs": [
    {
     "name": "stdout",
     "output_type": "stream",
     "text": [
      "Connected successfully!\n"
     ]
    }
   ],
   "source": [
    "hrv = HRV()"
   ]
  },
  {
   "cell_type": "code",
   "execution_count": 90,
   "id": "a36203ab-b8e9-4c8f-abb9-ec2c02bd3348",
   "metadata": {},
   "outputs": [
    {
     "name": "stdout",
     "output_type": "stream",
     "text": [
      "Progress: |██████████████████████████████████████████████████| 100.0% Complete\n"
     ]
    }
   ],
   "source": [
    "dataframes = hrv.get_dataframes()"
   ]
  },
  {
   "cell_type": "markdown",
   "id": "91f462c2",
   "metadata": {},
   "source": [
    "### Combined DataFrame"
   ]
  },
  {
   "cell_type": "code",
   "execution_count": 91,
   "id": "Vs9mBkwDd2xK",
   "metadata": {
    "colab": {
     "base_uri": "https://localhost:8080/",
     "height": 423
    },
    "id": "Vs9mBkwDd2xK",
    "outputId": "35d8a7fe-c168-471a-c246-6f59982a015d"
   },
   "outputs": [],
   "source": [
    "ddf = dataframes['22_11_2021_15_38 eb0']"
   ]
  },
  {
   "cell_type": "code",
   "execution_count": 92,
   "id": "95ed84f0-6728-4065-9ed5-8248f65a7ba0",
   "metadata": {},
   "outputs": [
    {
     "data": {
      "text/html": [
       "<div>\n",
       "<style scoped>\n",
       "    .dataframe tbody tr th:only-of-type {\n",
       "        vertical-align: middle;\n",
       "    }\n",
       "\n",
       "    .dataframe tbody tr th {\n",
       "        vertical-align: top;\n",
       "    }\n",
       "\n",
       "    .dataframe thead th {\n",
       "        text-align: right;\n",
       "    }\n",
       "</style>\n",
       "<table border=\"1\" class=\"dataframe\">\n",
       "  <thead>\n",
       "    <tr style=\"text-align: right;\">\n",
       "      <th></th>\n",
       "      <th>Timestamp_Google</th>\n",
       "      <th>Timestamp_Device</th>\n",
       "      <th>Device_id</th>\n",
       "      <th>Heart_Rate</th>\n",
       "      <th>RR_rate</th>\n",
       "      <th>Garmin</th>\n",
       "    </tr>\n",
       "  </thead>\n",
       "  <tbody>\n",
       "    <tr>\n",
       "      <th>0</th>\n",
       "      <td>2021-11-22 14:39:25.428</td>\n",
       "      <td>2021-11-22 14:39:25.655</td>\n",
       "      <td>FD:9E:84:03:87:71</td>\n",
       "      <td>77</td>\n",
       "      <td>[]</td>\n",
       "      <td>1</td>\n",
       "    </tr>\n",
       "    <tr>\n",
       "      <th>1</th>\n",
       "      <td>2021-11-22 14:39:25.599</td>\n",
       "      <td>2021-11-22 14:39:25.827</td>\n",
       "      <td>CA:93:07:67:1E:FF</td>\n",
       "      <td>80</td>\n",
       "      <td>[779, 743]</td>\n",
       "      <td>1</td>\n",
       "    </tr>\n",
       "    <tr>\n",
       "      <th>2</th>\n",
       "      <td>2021-11-22 14:39:25.832</td>\n",
       "      <td>2021-11-22 14:39:26.046</td>\n",
       "      <td>CD:87:AB:E8:05:12</td>\n",
       "      <td>88</td>\n",
       "      <td>[724, 832]</td>\n",
       "      <td>1</td>\n",
       "    </tr>\n",
       "    <tr>\n",
       "      <th>3</th>\n",
       "      <td>2021-11-22 14:39:25.867</td>\n",
       "      <td>2021-11-22 14:39:26.093</td>\n",
       "      <td>FD:9E:84:03:87:71</td>\n",
       "      <td>77</td>\n",
       "      <td>[]</td>\n",
       "      <td>1</td>\n",
       "    </tr>\n",
       "    <tr>\n",
       "      <th>4</th>\n",
       "      <td>2021-11-22 14:39:26.391</td>\n",
       "      <td>2021-11-22 14:39:26.608</td>\n",
       "      <td>FD:9E:84:03:87:71</td>\n",
       "      <td>78</td>\n",
       "      <td>[794]</td>\n",
       "      <td>1</td>\n",
       "    </tr>\n",
       "    <tr>\n",
       "      <th>...</th>\n",
       "      <td>...</td>\n",
       "      <td>...</td>\n",
       "      <td>...</td>\n",
       "      <td>...</td>\n",
       "      <td>...</td>\n",
       "      <td>...</td>\n",
       "    </tr>\n",
       "    <tr>\n",
       "      <th>16725</th>\n",
       "      <td>2021-11-22 15:48:44.599</td>\n",
       "      <td>2021-11-22 15:48:44.821</td>\n",
       "      <td>FD:9E:84:03:87:71</td>\n",
       "      <td>0</td>\n",
       "      <td>[]</td>\n",
       "      <td>1</td>\n",
       "    </tr>\n",
       "    <tr>\n",
       "      <th>16726</th>\n",
       "      <td>2021-11-22 15:48:44.676</td>\n",
       "      <td>2021-11-22 15:48:44.899</td>\n",
       "      <td>CD:87:AB:E8:05:12</td>\n",
       "      <td>97</td>\n",
       "      <td>[1240, 621]</td>\n",
       "      <td>1</td>\n",
       "    </tr>\n",
       "    <tr>\n",
       "      <th>16727</th>\n",
       "      <td>2021-11-22 15:48:45.129</td>\n",
       "      <td>2021-11-22 15:48:45.352</td>\n",
       "      <td>FD:9E:84:03:87:71</td>\n",
       "      <td>0</td>\n",
       "      <td>[]</td>\n",
       "      <td>1</td>\n",
       "    </tr>\n",
       "    <tr>\n",
       "      <th>16728</th>\n",
       "      <td>2021-11-22 15:48:45.612</td>\n",
       "      <td>2021-11-22 15:48:45.852</td>\n",
       "      <td>FD:9E:84:03:87:71</td>\n",
       "      <td>0</td>\n",
       "      <td>[]</td>\n",
       "      <td>1</td>\n",
       "    </tr>\n",
       "    <tr>\n",
       "      <th>16729</th>\n",
       "      <td>2021-11-22 15:48:45.642</td>\n",
       "      <td>2021-11-22 15:48:45.868</td>\n",
       "      <td>CD:87:AB:E8:05:12</td>\n",
       "      <td>97</td>\n",
       "      <td>[638, 602]</td>\n",
       "      <td>1</td>\n",
       "    </tr>\n",
       "  </tbody>\n",
       "</table>\n",
       "<p>16730 rows × 6 columns</p>\n",
       "</div>"
      ],
      "text/plain": [
       "             Timestamp_Google        Timestamp_Device          Device_id  \\\n",
       "0     2021-11-22 14:39:25.428 2021-11-22 14:39:25.655  FD:9E:84:03:87:71   \n",
       "1     2021-11-22 14:39:25.599 2021-11-22 14:39:25.827  CA:93:07:67:1E:FF   \n",
       "2     2021-11-22 14:39:25.832 2021-11-22 14:39:26.046  CD:87:AB:E8:05:12   \n",
       "3     2021-11-22 14:39:25.867 2021-11-22 14:39:26.093  FD:9E:84:03:87:71   \n",
       "4     2021-11-22 14:39:26.391 2021-11-22 14:39:26.608  FD:9E:84:03:87:71   \n",
       "...                       ...                     ...                ...   \n",
       "16725 2021-11-22 15:48:44.599 2021-11-22 15:48:44.821  FD:9E:84:03:87:71   \n",
       "16726 2021-11-22 15:48:44.676 2021-11-22 15:48:44.899  CD:87:AB:E8:05:12   \n",
       "16727 2021-11-22 15:48:45.129 2021-11-22 15:48:45.352  FD:9E:84:03:87:71   \n",
       "16728 2021-11-22 15:48:45.612 2021-11-22 15:48:45.852  FD:9E:84:03:87:71   \n",
       "16729 2021-11-22 15:48:45.642 2021-11-22 15:48:45.868  CD:87:AB:E8:05:12   \n",
       "\n",
       "       Heart_Rate      RR_rate  Garmin  \n",
       "0              77           []       1  \n",
       "1              80   [779, 743]       1  \n",
       "2              88   [724, 832]       1  \n",
       "3              77           []       1  \n",
       "4              78        [794]       1  \n",
       "...           ...          ...     ...  \n",
       "16725           0           []       1  \n",
       "16726          97  [1240, 621]       1  \n",
       "16727           0           []       1  \n",
       "16728           0           []       1  \n",
       "16729          97   [638, 602]       1  \n",
       "\n",
       "[16730 rows x 6 columns]"
      ]
     },
     "execution_count": 92,
     "metadata": {},
     "output_type": "execute_result"
    }
   ],
   "source": [
    "ddf"
   ]
  },
  {
   "cell_type": "code",
   "execution_count": 93,
   "id": "522f1d77",
   "metadata": {},
   "outputs": [],
   "source": [
    "list_RR = []\n",
    "for i in ddf.RR_rate:\n",
    "    if len(i) == 5:\n",
    "        list_RR.append(int(i[1:4]))\n",
    "    elif len(i) == 10:\n",
    "        list_RR.append(int(i[1:4]))\n",
    "        list_RR.append(int(i[6:9]))\n",
    "    else:\n",
    "        pass"
   ]
  },
  {
   "cell_type": "code",
   "execution_count": 100,
   "id": "5986197e-dfde-4bd4-b84f-83c89e135ce4",
   "metadata": {},
   "outputs": [],
   "source": [
    "import numpy as np"
   ]
  },
  {
   "cell_type": "code",
   "execution_count": 102,
   "id": "dbfeaaf2",
   "metadata": {},
   "outputs": [],
   "source": [
    "x_RR = np.cumsum(list_RR)"
   ]
  },
  {
   "cell_type": "code",
   "execution_count": 103,
   "id": "14d30e2b",
   "metadata": {},
   "outputs": [],
   "source": [
    "series_RR = pd.Series(list_RR)"
   ]
  },
  {
   "cell_type": "code",
   "execution_count": 104,
   "id": "de9b9cb2",
   "metadata": {},
   "outputs": [
    {
     "data": {
      "text/plain": [
       "14970"
      ]
     },
     "execution_count": 104,
     "metadata": {},
     "output_type": "execute_result"
    }
   ],
   "source": [
    "len(series_RR)"
   ]
  },
  {
   "cell_type": "code",
   "execution_count": 105,
   "id": "23217cd1",
   "metadata": {},
   "outputs": [],
   "source": [
    "import matplotlib.pyplot as plt"
   ]
  },
  {
   "cell_type": "code",
   "execution_count": 106,
   "id": "783d194a",
   "metadata": {},
   "outputs": [
    {
     "data": {
      "text/plain": [
       "[<matplotlib.lines.Line2D at 0x7fdd5b830490>]"
      ]
     },
     "execution_count": 106,
     "metadata": {},
     "output_type": "execute_result"
    },
    {
     "data": {
      "image/png": "[encoded data removed]",
      "text/plain": [
       "<Figure size 432x288 with 1 Axes>"
      ]
     },
     "metadata": {
      "needs_background": "light"
     },
     "output_type": "display_data"
    }
   ],
   "source": [
    "window_start, window_end = 40, 60\n",
    "plt.plot(x_RR[window_start:window_end], series_RR[window_start:window_end])"
   ]
  },
  {
   "cell_type": "code",
   "execution_count": null,
   "id": "6a3a7853-846d-4999-aee8-a899d847772c",
   "metadata": {},
   "outputs": [],
   "source": []
  }
 ],
 "metadata": {
  "colab": {
   "collapsed_sections": [],
   "name": "Simon.ipynb",
   "provenance": [],
   "toc_visible": true
  },
  "kernelspec": {
   "display_name": "Python 3 (ipykernel)",
   "language": "python",
   "name": "python3"
  },
  "language_info": {
   "codemirror_mode": {
    "name": "ipython",
    "version": 3
   },
   "file_extension": ".py",
   "mimetype": "text/x-python",
   "name": "python",
   "nbconvert_exporter": "python",
   "pygments_lexer": "ipython3",
   "version": "3.8.12"
  },
  "toc": {
   "base_numbering": 1,
   "nav_menu": {},
   "number_sections": true,
   "sideBar": true,
   "skip_h1_title": false,
   "title_cell": "Table of Contents",
   "title_sidebar": "Contents",
   "toc_cell": false,
   "toc_position": {},
   "toc_section_display": true,
   "toc_window_display": false
  }
 },
 "nbformat": 4,
 "nbformat_minor": 5
}
