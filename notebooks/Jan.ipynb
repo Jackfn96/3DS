{
 "cells": [
  {
   "cell_type": "code",
   "execution_count": 1,
   "id": "9c5683bd-9e5b-43dd-8515-dd822c47d2cd",
   "metadata": {},
   "outputs": [],
   "source": [
    "%load_ext autoreload\n",
    "%autoreload 2"
   ]
  },
  {
   "cell_type": "code",
   "execution_count": 2,
   "id": "9d9f371b-7063-4b76-894c-b9f6371e667c",
   "metadata": {},
   "outputs": [],
   "source": [
    "from DDDS.combined_df import CombinedDFs\n",
    "import numpy as np\n",
    "import pandas as pd"
   ]
  },
  {
   "cell_type": "code",
   "execution_count": null,
   "id": "ad1bf9c4-30c6-45f4-8da5-b9f8a255655f",
   "metadata": {},
   "outputs": [
    {
     "name": "stdout",
     "output_type": "stream",
     "text": [
      "-- Loading annotations --\n",
      "Connected successfully!\n",
      "Searching sync files... |██████████████████████████████████████████████████| 100.0% Completed\n"
     ]
    }
   ],
   "source": [
    "dfs = CombinedDFs()"
   ]
  },
  {
   "cell_type": "code",
   "execution_count": 4,
   "id": "51382e50-2fdb-4a20-93a8-cc5de3472921",
   "metadata": {},
   "outputs": [],
   "source": [
    "df = dfs.combined_dfs[1]"
   ]
  },
  {
   "cell_type": "code",
   "execution_count": 28,
   "id": "5357794a-1900-4096-8c4e-069cece41239",
   "metadata": {},
   "outputs": [],
   "source": [
    "data = dfs.hrv.get_RR_series('22_11_2021_15_38 eb0')"
   ]
  },
  {
   "cell_type": "code",
   "execution_count": 29,
   "id": "ad24a1b8-0400-44b5-90fb-785d3dbcfe99",
   "metadata": {},
   "outputs": [],
   "source": [
    "data = pd.DataFrame({'RR':data[0], 'CumSum':data[1]})\n",
    "\n",
    "# Timestamp Google for instant=0\n",
    "ts_google = df[- df['Instant'].isna()].index[0]\n",
    "instant = df[- df['Instant'].isna()].iloc[0]['Instant']\n",
    "ts_google_zero = ts_google - pd.Timedelta(instant, unit='ms')\n",
    "\n",
    "# Calculating offset\n",
    "ts_google_first = df[df['RR_rate'] != '[]'].index[0]\n",
    "offset = ts_google_zero - ts_google_first\n",
    "instant_offset = round(offset.total_seconds()*1_000)\n",
    "\n",
    "data['CumSum'] = data['CumSum'] - instant_offset\n",
    "data = data.set_index('CumSum').loc[0:]"
   ]
  },
  {
   "cell_type": "code",
   "execution_count": 30,
   "id": "69f38651-d0df-466a-bc0f-e114517af494",
   "metadata": {},
   "outputs": [
    {
     "data": {
      "text/html": [
       "<div>\n",
       "<style scoped>\n",
       "    .dataframe tbody tr th:only-of-type {\n",
       "        vertical-align: middle;\n",
       "    }\n",
       "\n",
       "    .dataframe tbody tr th {\n",
       "        vertical-align: top;\n",
       "    }\n",
       "\n",
       "    .dataframe thead th {\n",
       "        text-align: right;\n",
       "    }\n",
       "</style>\n",
       "<table border=\"1\" class=\"dataframe\">\n",
       "  <thead>\n",
       "    <tr style=\"text-align: right;\">\n",
       "      <th></th>\n",
       "      <th>RR</th>\n",
       "    </tr>\n",
       "    <tr>\n",
       "      <th>CumSum</th>\n",
       "      <th></th>\n",
       "    </tr>\n",
       "  </thead>\n",
       "  <tbody>\n",
       "    <tr>\n",
       "      <th>497</th>\n",
       "      <td>827</td>\n",
       "    </tr>\n",
       "    <tr>\n",
       "      <th>1323</th>\n",
       "      <td>826</td>\n",
       "    </tr>\n",
       "    <tr>\n",
       "      <th>2162</th>\n",
       "      <td>839</td>\n",
       "    </tr>\n",
       "    <tr>\n",
       "      <th>2968</th>\n",
       "      <td>806</td>\n",
       "    </tr>\n",
       "    <tr>\n",
       "      <th>3788</th>\n",
       "      <td>820</td>\n",
       "    </tr>\n",
       "    <tr>\n",
       "      <th>...</th>\n",
       "      <td>...</td>\n",
       "    </tr>\n",
       "    <tr>\n",
       "      <th>12114254</th>\n",
       "      <td>1088</td>\n",
       "    </tr>\n",
       "    <tr>\n",
       "      <th>12115494</th>\n",
       "      <td>1240</td>\n",
       "    </tr>\n",
       "    <tr>\n",
       "      <th>12116115</th>\n",
       "      <td>621</td>\n",
       "    </tr>\n",
       "    <tr>\n",
       "      <th>12116753</th>\n",
       "      <td>638</td>\n",
       "    </tr>\n",
       "    <tr>\n",
       "      <th>12117355</th>\n",
       "      <td>602</td>\n",
       "    </tr>\n",
       "  </tbody>\n",
       "</table>\n",
       "<p>15260 rows × 1 columns</p>\n",
       "</div>"
      ],
      "text/plain": [
       "            RR\n",
       "CumSum        \n",
       "497        827\n",
       "1323       826\n",
       "2162       839\n",
       "2968       806\n",
       "3788       820\n",
       "...        ...\n",
       "12114254  1088\n",
       "12115494  1240\n",
       "12116115   621\n",
       "12116753   638\n",
       "12117355   602\n",
       "\n",
       "[15260 rows x 1 columns]"
      ]
     },
     "execution_count": 30,
     "metadata": {},
     "output_type": "execute_result"
    }
   ],
   "source": [
    "data"
   ]
  },
  {
   "cell_type": "code",
   "execution_count": null,
   "id": "220b0ec9-7ccb-4124-a33d-594bff2e1851",
   "metadata": {},
   "outputs": [],
   "source": []
  },
  {
   "cell_type": "code",
   "execution_count": null,
   "id": "d4f6ea24-7f7e-4ca3-b7b5-6ebbeb5d9dcc",
   "metadata": {},
   "outputs": [],
   "source": []
  },
  {
   "cell_type": "code",
   "execution_count": null,
   "id": "d6e09066-e2db-4587-acce-c224f8a2368c",
   "metadata": {},
   "outputs": [],
   "source": []
  },
  {
   "cell_type": "code",
   "execution_count": null,
   "id": "d7834463-9631-482c-a58b-f6a7026ce13a",
   "metadata": {},
   "outputs": [],
   "source": []
  },
  {
   "cell_type": "code",
   "execution_count": null,
   "id": "7c7ad9ba-8421-4a79-8a11-d759bf29a6be",
   "metadata": {},
   "outputs": [],
   "source": []
  },
  {
   "cell_type": "code",
   "execution_count": 9,
   "id": "c3256889-2149-40e1-b738-df8379a5dfe4",
   "metadata": {},
   "outputs": [],
   "source": [
    "data = pd.DataFrame({'RR':data[0], 'CumSum':data[1]})"
   ]
  },
  {
   "cell_type": "markdown",
   "id": "0315b47b-e5c2-4c70-b412-3d3f6f9c0850",
   "metadata": {},
   "source": [
    "Get function to calculate intant from Timestamp Google"
   ]
  },
  {
   "cell_type": "code",
   "execution_count": 11,
   "id": "218b119d-b5b7-4bad-a342-8a390bde59bf",
   "metadata": {},
   "outputs": [],
   "source": [
    "# Timestamp google\n",
    "ts_google = df[- df['Instant'].isna()].index[0]"
   ]
  },
  {
   "cell_type": "code",
   "execution_count": 12,
   "id": "d26eacae-0016-4027-a8d9-d813131ba644",
   "metadata": {},
   "outputs": [],
   "source": [
    "# Corresponding instant\n",
    "instant = df[- df['Instant'].isna()].iloc[0]['Instant']"
   ]
  },
  {
   "cell_type": "code",
   "execution_count": 13,
   "id": "84fd7d12-182b-4aae-86ee-3cfe2b48c759",
   "metadata": {},
   "outputs": [],
   "source": [
    "# Timestamp google for instant 0\n",
    "ts_google_zero = ts_google - pd.Timedelta(instant, unit='ms')"
   ]
  },
  {
   "cell_type": "code",
   "execution_count": 14,
   "id": "6acf4b8a-fb24-428b-8c09-a0dbe79129a9",
   "metadata": {},
   "outputs": [
    {
     "data": {
      "text/plain": [
       "Timestamp('2021-11-22 14:39:25.599000')"
      ]
     },
     "execution_count": 14,
     "metadata": {},
     "output_type": "execute_result"
    }
   ],
   "source": [
    "# Timestamp google of first cell including HRV data\n",
    "ts_google_first = df[df['RR_rate'] != '[]'].index[0]\n",
    "ts_google_first"
   ]
  },
  {
   "cell_type": "code",
   "execution_count": 15,
   "id": "d3117458-e891-4c87-894c-98a8cc75f160",
   "metadata": {},
   "outputs": [],
   "source": [
    "offset = ts_google_zero - ts_google_first"
   ]
  },
  {
   "cell_type": "code",
   "execution_count": 16,
   "id": "ebbdfa0e-d91e-4ee3-a417-93777aa5d196",
   "metadata": {},
   "outputs": [
    {
     "data": {
      "text/plain": [
       "85448"
      ]
     },
     "execution_count": 16,
     "metadata": {},
     "output_type": "execute_result"
    }
   ],
   "source": [
    "instant_offset = round(offset.total_seconds()*1_000)\n",
    "instant_offset"
   ]
  },
  {
   "cell_type": "code",
   "execution_count": 17,
   "id": "69d0b0a4-ec0c-41a8-839f-6381254a46d8",
   "metadata": {},
   "outputs": [],
   "source": [
    "data['CumSum'] = data['CumSum'] - instant_offset"
   ]
  },
  {
   "cell_type": "code",
   "execution_count": 18,
   "id": "b75ff5aa-b165-4024-b03e-9d55b6e6cb2e",
   "metadata": {},
   "outputs": [
    {
     "data": {
      "text/html": [
       "<div>\n",
       "<style scoped>\n",
       "    .dataframe tbody tr th:only-of-type {\n",
       "        vertical-align: middle;\n",
       "    }\n",
       "\n",
       "    .dataframe tbody tr th {\n",
       "        vertical-align: top;\n",
       "    }\n",
       "\n",
       "    .dataframe thead th {\n",
       "        text-align: right;\n",
       "    }\n",
       "</style>\n",
       "<table border=\"1\" class=\"dataframe\">\n",
       "  <thead>\n",
       "    <tr style=\"text-align: right;\">\n",
       "      <th></th>\n",
       "      <th>RR</th>\n",
       "    </tr>\n",
       "    <tr>\n",
       "      <th>CumSum</th>\n",
       "      <th></th>\n",
       "    </tr>\n",
       "  </thead>\n",
       "  <tbody>\n",
       "    <tr>\n",
       "      <th>497</th>\n",
       "      <td>827</td>\n",
       "    </tr>\n",
       "    <tr>\n",
       "      <th>1323</th>\n",
       "      <td>826</td>\n",
       "    </tr>\n",
       "    <tr>\n",
       "      <th>2162</th>\n",
       "      <td>839</td>\n",
       "    </tr>\n",
       "    <tr>\n",
       "      <th>2968</th>\n",
       "      <td>806</td>\n",
       "    </tr>\n",
       "    <tr>\n",
       "      <th>3788</th>\n",
       "      <td>820</td>\n",
       "    </tr>\n",
       "    <tr>\n",
       "      <th>...</th>\n",
       "      <td>...</td>\n",
       "    </tr>\n",
       "    <tr>\n",
       "      <th>12114254</th>\n",
       "      <td>1088</td>\n",
       "    </tr>\n",
       "    <tr>\n",
       "      <th>12115494</th>\n",
       "      <td>1240</td>\n",
       "    </tr>\n",
       "    <tr>\n",
       "      <th>12116115</th>\n",
       "      <td>621</td>\n",
       "    </tr>\n",
       "    <tr>\n",
       "      <th>12116753</th>\n",
       "      <td>638</td>\n",
       "    </tr>\n",
       "    <tr>\n",
       "      <th>12117355</th>\n",
       "      <td>602</td>\n",
       "    </tr>\n",
       "  </tbody>\n",
       "</table>\n",
       "<p>15260 rows × 1 columns</p>\n",
       "</div>"
      ],
      "text/plain": [
       "            RR\n",
       "CumSum        \n",
       "497        827\n",
       "1323       826\n",
       "2162       839\n",
       "2968       806\n",
       "3788       820\n",
       "...        ...\n",
       "12114254  1088\n",
       "12115494  1240\n",
       "12116115   621\n",
       "12116753   638\n",
       "12117355   602\n",
       "\n",
       "[15260 rows x 1 columns]"
      ]
     },
     "execution_count": 18,
     "metadata": {},
     "output_type": "execute_result"
    }
   ],
   "source": [
    "data.set_index('CumSum').loc[0:]"
   ]
  },
  {
   "cell_type": "code",
   "execution_count": null,
   "id": "69f3ed36-60af-4549-994f-8e1c6b7b9d79",
   "metadata": {},
   "outputs": [],
   "source": []
  }
 ],
 "metadata": {
  "kernelspec": {
   "display_name": "Python 3 (ipykernel)",
   "language": "python",
   "name": "python3"
  },
  "language_info": {
   "codemirror_mode": {
    "name": "ipython",
    "version": 3
   },
   "file_extension": ".py",
   "mimetype": "text/x-python",
   "name": "python",
   "nbconvert_exporter": "python",
   "pygments_lexer": "ipython3",
   "version": "3.8.12"
  }
 },
 "nbformat": 4,
 "nbformat_minor": 5
}
