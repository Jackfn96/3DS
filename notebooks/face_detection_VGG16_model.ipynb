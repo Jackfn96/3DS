{
 "cells": [
  {
   "cell_type": "code",
   "execution_count": null,
   "metadata": {
    "colab": {
     "base_uri": "https://localhost:8080/"
    },
    "id": "ThWMahWQAxKD",
    "outputId": "afdc24c1-4a64-46f3-96a4-46c57830729b"
   },
   "outputs": [
    {
     "name": "stdout",
     "output_type": "stream",
     "text": [
      "Mounted at /content/drive\n"
     ]
    }
   ],
   "source": [
    "import os\n",
    "import shutil\n",
    "import glob\n",
    "from operator import ne\n",
    "import pandas as pd\n",
    "import numpy as np\n",
    "import math\n",
    "import matplotlib.pyplot as plt   \n",
    "%matplotlib inline\n",
    "\n",
    "from google.colab import drive\n",
    "from google.colab import files\n",
    "from google.colab import files\n",
    "\n",
    "drive.mount('/content/drive')\n",
    "# uploaded = files.upload()\n",
    "# for fn in uploaded.keys():\n",
    "#     print('User uploaded file \"{name}\" with length {length} bytes'.format(\n",
    "#         name=fn, length=len(uploaded[fn])))"
   ]
  },
  {
   "cell_type": "code",
   "execution_count": null,
   "metadata": {
    "colab": {
     "base_uri": "https://localhost:8080/",
     "height": 1000
    },
    "id": "CP517LmWFkPI",
    "outputId": "54407958-3349-468b-e224-24ecd387d4ea"
   },
   "outputs": [
    {
     "name": "stdout",
     "output_type": "stream",
     "text": [
      "Requirement already satisfied: pip>=9 in /usr/local/lib/python3.7/dist-packages (from -r requirements.txt (line 2)) (21.1.3)\n",
      "Requirement already satisfied: setuptools>=26 in /usr/local/lib/python3.7/dist-packages (from -r requirements.txt (line 3)) (57.4.0)\n",
      "Collecting twine\n",
      "  Downloading twine-3.8.0-py3-none-any.whl (36 kB)\n",
      "Requirement already satisfied: wheel>=0.29 in /usr/local/lib/python3.7/dist-packages (from -r requirements.txt (line 5)) (0.37.1)\n",
      "Requirement already satisfied: opencv-python in /usr/local/lib/python3.7/dist-packages (from -r requirements.txt (line 6)) (4.1.2.30)\n",
      "Requirement already satisfied: openpyxl in /usr/local/lib/python3.7/dist-packages (from -r requirements.txt (line 7)) (3.0.9)\n",
      "Requirement already satisfied: pydot in /usr/local/lib/python3.7/dist-packages (from -r requirements.txt (line 10)) (1.3.0)\n",
      "Collecting ffmpeg\n",
      "  Downloading ffmpeg-1.4.tar.gz (5.1 kB)\n",
      "Requirement already satisfied: cmake in /usr/local/lib/python3.7/dist-packages (from -r requirements.txt (line 12)) (3.12.0)\n",
      "Requirement already satisfied: dlib in /usr/local/lib/python3.7/dist-packages (from -r requirements.txt (line 13)) (19.18.0)\n",
      "Requirement already satisfied: mlxtend in /usr/local/lib/python3.7/dist-packages (from -r requirements.txt (line 14)) (0.14.0)\n",
      "Collecting mtcnn_opencv\n",
      "  Downloading mtcnn_opencv-1.0.2-py3-none-any.whl (1.9 MB)\n",
      "\u001b[K     |████████████████████████████████| 1.9 MB 20.4 MB/s \n",
      "\u001b[?25hRequirement already satisfied: imageio in /usr/local/lib/python3.7/dist-packages (from -r requirements.txt (line 16)) (2.4.1)\n",
      "Requirement already satisfied: scikit-image in /usr/local/lib/python3.7/dist-packages (from -r requirements.txt (line 17)) (0.18.3)\n",
      "Requirement already satisfied: numpy in /usr/local/lib/python3.7/dist-packages (from -r requirements.txt (line 20)) (1.21.5)\n",
      "Requirement already satisfied: pandas in /usr/local/lib/python3.7/dist-packages (from -r requirements.txt (line 21)) (1.3.5)\n",
      "Requirement already satisfied: scikit-learn in /usr/local/lib/python3.7/dist-packages (from -r requirements.txt (line 22)) (1.0.2)\n",
      "Requirement already satisfied: jupyter in /usr/local/lib/python3.7/dist-packages (from -r requirements.txt (line 23)) (1.0.0)\n",
      "Collecting black\n",
      "  Downloading black-22.1.0-cp37-cp37m-manylinux_2_17_x86_64.manylinux2014_x86_64.whl (1.4 MB)\n",
      "\u001b[K     |████████████████████████████████| 1.4 MB 46.1 MB/s \n",
      "\u001b[?25hRequirement already satisfied: coverage in /usr/local/lib/python3.7/dist-packages (from -r requirements.txt (line 27)) (3.7.1)\n",
      "Collecting flake8\n",
      "  Downloading flake8-4.0.1-py2.py3-none-any.whl (64 kB)\n",
      "\u001b[K     |████████████████████████████████| 64 kB 1.5 MB/s \n",
      "\u001b[?25hRequirement already satisfied: pytest in /usr/local/lib/python3.7/dist-packages (from -r requirements.txt (line 29)) (3.6.4)\n",
      "Collecting yapf\n",
      "  Downloading yapf-0.32.0-py2.py3-none-any.whl (190 kB)\n",
      "\u001b[K     |████████████████████████████████| 190 kB 80.5 MB/s \n",
      "\u001b[?25hRequirement already satisfied: bleach in /usr/local/lib/python3.7/dist-packages (from -r requirements.txt (line 49)) (4.1.0)\n",
      "Requirement already satisfied: cachetools in /usr/local/lib/python3.7/dist-packages (from -r requirements.txt (line 50)) (4.2.4)\n",
      "Requirement already satisfied: certifi in /usr/local/lib/python3.7/dist-packages (from -r requirements.txt (line 51)) (2021.10.8)\n",
      "Requirement already satisfied: cffi in /usr/local/lib/python3.7/dist-packages (from -r requirements.txt (line 52)) (1.15.0)\n",
      "Requirement already satisfied: charset-normalizer in /usr/local/lib/python3.7/dist-packages (from -r requirements.txt (line 53)) (2.0.12)\n",
      "Collecting colorama\n",
      "  Downloading colorama-0.4.4-py2.py3-none-any.whl (16 kB)\n",
      "Collecting cryptography\n",
      "  Downloading cryptography-36.0.1-cp36-abi3-manylinux_2_24_x86_64.whl (3.6 MB)\n",
      "\u001b[K     |████████████████████████████████| 3.6 MB 56.4 MB/s \n",
      "\u001b[?25hRequirement already satisfied: docutils in /usr/local/lib/python3.7/dist-packages (from -r requirements.txt (line 56)) (0.17.1)\n",
      "Collecting python-dotenv\n",
      "  Downloading python_dotenv-0.19.2-py2.py3-none-any.whl (17 kB)\n",
      "Requirement already satisfied: google-api-core in /usr/local/lib/python3.7/dist-packages (from -r requirements.txt (line 58)) (1.26.3)\n",
      "Requirement already satisfied: google-api-python-client in /usr/local/lib/python3.7/dist-packages (from -r requirements.txt (line 59)) (1.12.10)\n",
      "Requirement already satisfied: google-auth in /usr/local/lib/python3.7/dist-packages (from -r requirements.txt (line 60)) (1.35.0)\n",
      "Requirement already satisfied: google-auth-httplib2 in /usr/local/lib/python3.7/dist-packages (from -r requirements.txt (line 61)) (0.0.4)\n",
      "Requirement already satisfied: google-auth-oauthlib in /usr/local/lib/python3.7/dist-packages (from -r requirements.txt (line 62)) (0.4.6)\n",
      "Requirement already satisfied: googleapis-common-protos in /usr/local/lib/python3.7/dist-packages (from -r requirements.txt (line 63)) (1.55.0)\n",
      "Requirement already satisfied: httplib2 in /usr/local/lib/python3.7/dist-packages (from -r requirements.txt (line 64)) (0.17.4)\n",
      "Requirement already satisfied: idna in /usr/local/lib/python3.7/dist-packages (from -r requirements.txt (line 65)) (2.10)\n",
      "Requirement already satisfied: importlib-metadata in /usr/local/lib/python3.7/dist-packages (from -r requirements.txt (line 66)) (4.11.2)\n",
      "Collecting jeepney\n",
      "  Downloading jeepney-0.7.1-py3-none-any.whl (54 kB)\n",
      "\u001b[K     |████████████████████████████████| 54 kB 2.3 MB/s \n",
      "\u001b[?25hRequirement already satisfied: joblib in /usr/local/lib/python3.7/dist-packages (from -r requirements.txt (line 68)) (1.1.0)\n",
      "Collecting keyring\n",
      "  Downloading keyring-23.5.0-py3-none-any.whl (33 kB)\n",
      "Requirement already satisfied: oauthlib in /usr/local/lib/python3.7/dist-packages (from -r requirements.txt (line 70)) (3.2.0)\n",
      "Requirement already satisfied: packaging in /usr/local/lib/python3.7/dist-packages (from -r requirements.txt (line 71)) (21.3)\n",
      "Collecting pkginfo\n",
      "  Downloading pkginfo-1.8.2-py2.py3-none-any.whl (26 kB)\n",
      "Requirement already satisfied: protobuf in /usr/local/lib/python3.7/dist-packages (from -r requirements.txt (line 73)) (3.17.3)\n",
      "Requirement already satisfied: pyasn1 in /usr/local/lib/python3.7/dist-packages (from -r requirements.txt (line 74)) (0.4.8)\n",
      "Requirement already satisfied: pyasn1-modules in /usr/local/lib/python3.7/dist-packages (from -r requirements.txt (line 75)) (0.2.8)\n",
      "Requirement already satisfied: pycparser in /usr/local/lib/python3.7/dist-packages (from -r requirements.txt (line 76)) (2.21)\n",
      "Requirement already satisfied: Pygments in /usr/local/lib/python3.7/dist-packages (from -r requirements.txt (line 77)) (2.6.1)\n",
      "Requirement already satisfied: pyparsing in /usr/local/lib/python3.7/dist-packages (from -r requirements.txt (line 78)) (3.0.7)\n",
      "Requirement already satisfied: python-dateutil in /usr/local/lib/python3.7/dist-packages (from -r requirements.txt (line 79)) (2.8.2)\n",
      "Requirement already satisfied: pytz in /usr/local/lib/python3.7/dist-packages (from -r requirements.txt (line 80)) (2018.9)\n",
      "Collecting readme-renderer\n",
      "  Downloading readme_renderer-34.0-py3-none-any.whl (16 kB)\n",
      "Requirement already satisfied: requests in /usr/local/lib/python3.7/dist-packages (from -r requirements.txt (line 82)) (2.23.0)\n",
      "Requirement already satisfied: requests-oauthlib in /usr/local/lib/python3.7/dist-packages (from -r requirements.txt (line 83)) (1.3.1)\n",
      "Collecting requests-toolbelt\n",
      "  Downloading requests_toolbelt-0.9.1-py2.py3-none-any.whl (54 kB)\n",
      "\u001b[K     |████████████████████████████████| 54 kB 3.1 MB/s \n",
      "\u001b[?25hCollecting rfc3986\n",
      "  Downloading rfc3986-2.0.0-py2.py3-none-any.whl (31 kB)\n",
      "Requirement already satisfied: rsa in /usr/local/lib/python3.7/dist-packages (from -r requirements.txt (line 86)) (4.8)\n",
      "Requirement already satisfied: scipy in /usr/local/lib/python3.7/dist-packages (from -r requirements.txt (line 87)) (1.4.1)\n",
      "Collecting SecretStorage\n",
      "  Downloading SecretStorage-3.3.1-py3-none-any.whl (15 kB)\n",
      "Requirement already satisfied: six in /usr/local/lib/python3.7/dist-packages (from -r requirements.txt (line 89)) (1.15.0)\n",
      "Requirement already satisfied: threadpoolctl in /usr/local/lib/python3.7/dist-packages (from -r requirements.txt (line 90)) (3.1.0)\n",
      "Requirement already satisfied: tqdm in /usr/local/lib/python3.7/dist-packages (from -r requirements.txt (line 91)) (4.63.0)\n",
      "Requirement already satisfied: uritemplate in /usr/local/lib/python3.7/dist-packages (from -r requirements.txt (line 92)) (3.0.1)\n",
      "Requirement already satisfied: urllib3 in /usr/local/lib/python3.7/dist-packages (from -r requirements.txt (line 93)) (1.24.3)\n",
      "Requirement already satisfied: webencodings in /usr/local/lib/python3.7/dist-packages (from -r requirements.txt (line 94)) (0.5.1)\n",
      "Requirement already satisfied: zipp in /usr/local/lib/python3.7/dist-packages (from -r requirements.txt (line 95)) (3.7.0)\n",
      "Collecting urllib3\n",
      "  Downloading urllib3-1.26.8-py2.py3-none-any.whl (138 kB)\n",
      "\u001b[K     |████████████████████████████████| 138 kB 76.9 MB/s \n",
      "\u001b[?25hRequirement already satisfied: typing-extensions>=3.6.4 in /usr/local/lib/python3.7/dist-packages (from importlib-metadata->-r requirements.txt (line 66)) (3.10.0.2)\n",
      "Collecting requests\n",
      "  Downloading requests-2.27.1-py2.py3-none-any.whl (63 kB)\n",
      "\u001b[K     |████████████████████████████████| 63 kB 2.0 MB/s \n",
      "\u001b[?25hRequirement already satisfied: et-xmlfile in /usr/local/lib/python3.7/dist-packages (from openpyxl->-r requirements.txt (line 7)) (1.1.0)\n",
      "Requirement already satisfied: matplotlib>=1.5.1 in /usr/local/lib/python3.7/dist-packages (from mlxtend->-r requirements.txt (line 14)) (3.2.2)\n",
      "Requirement already satisfied: cycler>=0.10 in /usr/local/lib/python3.7/dist-packages (from matplotlib>=1.5.1->mlxtend->-r requirements.txt (line 14)) (0.11.0)\n",
      "Requirement already satisfied: kiwisolver>=1.0.1 in /usr/local/lib/python3.7/dist-packages (from matplotlib>=1.5.1->mlxtend->-r requirements.txt (line 14)) (1.3.2)\n",
      "Requirement already satisfied: pillow in /usr/local/lib/python3.7/dist-packages (from imageio->-r requirements.txt (line 16)) (7.1.2)\n",
      "Requirement already satisfied: tifffile>=2019.7.26 in /usr/local/lib/python3.7/dist-packages (from scikit-image->-r requirements.txt (line 17)) (2021.11.2)\n",
      "Requirement already satisfied: networkx>=2.0 in /usr/local/lib/python3.7/dist-packages (from scikit-image->-r requirements.txt (line 17)) (2.6.3)\n",
      "Requirement already satisfied: PyWavelets>=1.1.1 in /usr/local/lib/python3.7/dist-packages (from scikit-image->-r requirements.txt (line 17)) (1.2.0)\n",
      "Requirement already satisfied: ipykernel in /usr/local/lib/python3.7/dist-packages (from jupyter->-r requirements.txt (line 23)) (4.10.1)\n",
      "Requirement already satisfied: ipywidgets in /usr/local/lib/python3.7/dist-packages (from jupyter->-r requirements.txt (line 23)) (7.6.5)\n",
      "Requirement already satisfied: qtconsole in /usr/local/lib/python3.7/dist-packages (from jupyter->-r requirements.txt (line 23)) (5.2.2)\n",
      "Requirement already satisfied: notebook in /usr/local/lib/python3.7/dist-packages (from jupyter->-r requirements.txt (line 23)) (5.3.1)\n",
      "Requirement already satisfied: nbconvert in /usr/local/lib/python3.7/dist-packages (from jupyter->-r requirements.txt (line 23)) (5.6.1)\n",
      "Requirement already satisfied: jupyter-console in /usr/local/lib/python3.7/dist-packages (from jupyter->-r requirements.txt (line 23)) (5.2.0)\n",
      "Collecting mypy-extensions>=0.4.3\n",
      "  Downloading mypy_extensions-0.4.3-py2.py3-none-any.whl (4.5 kB)\n",
      "Requirement already satisfied: tomli>=1.1.0 in /usr/local/lib/python3.7/dist-packages (from black->-r requirements.txt (line 26)) (2.0.1)\n",
      "Collecting platformdirs>=2\n",
      "  Downloading platformdirs-2.5.1-py3-none-any.whl (14 kB)\n",
      "Collecting pathspec>=0.9.0\n",
      "  Downloading pathspec-0.9.0-py2.py3-none-any.whl (31 kB)\n",
      "Collecting click>=8.0.0\n",
      "  Downloading click-8.0.4-py3-none-any.whl (97 kB)\n",
      "\u001b[K     |████████████████████████████████| 97 kB 8.2 MB/s \n",
      "\u001b[?25hCollecting typed-ast>=1.4.2\n",
      "  Downloading typed_ast-1.5.2-cp37-cp37m-manylinux_2_5_x86_64.manylinux1_x86_64.manylinux_2_12_x86_64.manylinux2010_x86_64.whl (843 kB)\n",
      "\u001b[K     |████████████████████████████████| 843 kB 57.7 MB/s \n",
      "\u001b[?25hCollecting pyflakes<2.5.0,>=2.4.0\n",
      "  Downloading pyflakes-2.4.0-py2.py3-none-any.whl (69 kB)\n",
      "\u001b[K     |████████████████████████████████| 69 kB 8.2 MB/s \n",
      "\u001b[?25hCollecting pycodestyle<2.9.0,>=2.8.0\n",
      "  Downloading pycodestyle-2.8.0-py2.py3-none-any.whl (42 kB)\n",
      "\u001b[K     |████████████████████████████████| 42 kB 1.0 MB/s \n",
      "\u001b[?25hCollecting mccabe<0.7.0,>=0.6.0\n",
      "  Downloading mccabe-0.6.1-py2.py3-none-any.whl (8.6 kB)\n",
      "Collecting importlib-metadata\n",
      "  Downloading importlib_metadata-4.2.0-py3-none-any.whl (16 kB)\n",
      "Requirement already satisfied: attrs>=17.4.0 in /usr/local/lib/python3.7/dist-packages (from pytest->-r requirements.txt (line 29)) (21.4.0)\n",
      "Requirement already satisfied: py>=1.5.0 in /usr/local/lib/python3.7/dist-packages (from pytest->-r requirements.txt (line 29)) (1.11.0)\n",
      "Requirement already satisfied: pluggy<0.8,>=0.5 in /usr/local/lib/python3.7/dist-packages (from pytest->-r requirements.txt (line 29)) (0.7.1)\n",
      "Requirement already satisfied: atomicwrites>=1.0 in /usr/local/lib/python3.7/dist-packages (from pytest->-r requirements.txt (line 29)) (1.4.0)\n",
      "Requirement already satisfied: more-itertools>=4.0.0 in /usr/local/lib/python3.7/dist-packages (from pytest->-r requirements.txt (line 29)) (8.12.0)\n",
      "Requirement already satisfied: tornado>=4.0 in /usr/local/lib/python3.7/dist-packages (from ipykernel->jupyter->-r requirements.txt (line 23)) (5.1.1)\n",
      "Requirement already satisfied: traitlets>=4.1.0 in /usr/local/lib/python3.7/dist-packages (from ipykernel->jupyter->-r requirements.txt (line 23)) (5.1.1)\n",
      "Requirement already satisfied: ipython>=4.0.0 in /usr/local/lib/python3.7/dist-packages (from ipykernel->jupyter->-r requirements.txt (line 23)) (5.5.0)\n",
      "Requirement already satisfied: jupyter-client in /usr/local/lib/python3.7/dist-packages (from ipykernel->jupyter->-r requirements.txt (line 23)) (5.3.5)\n",
      "Requirement already satisfied: decorator in /usr/local/lib/python3.7/dist-packages (from ipython>=4.0.0->ipykernel->jupyter->-r requirements.txt (line 23)) (4.4.2)\n",
      "Requirement already satisfied: simplegeneric>0.8 in /usr/local/lib/python3.7/dist-packages (from ipython>=4.0.0->ipykernel->jupyter->-r requirements.txt (line 23)) (0.8.1)\n",
      "Requirement already satisfied: prompt-toolkit<2.0.0,>=1.0.4 in /usr/local/lib/python3.7/dist-packages (from ipython>=4.0.0->ipykernel->jupyter->-r requirements.txt (line 23)) (1.0.18)\n",
      "Requirement already satisfied: pexpect in /usr/local/lib/python3.7/dist-packages (from ipython>=4.0.0->ipykernel->jupyter->-r requirements.txt (line 23)) (4.8.0)\n",
      "Requirement already satisfied: pickleshare in /usr/local/lib/python3.7/dist-packages (from ipython>=4.0.0->ipykernel->jupyter->-r requirements.txt (line 23)) (0.7.5)\n",
      "Requirement already satisfied: wcwidth in /usr/local/lib/python3.7/dist-packages (from prompt-toolkit<2.0.0,>=1.0.4->ipython>=4.0.0->ipykernel->jupyter->-r requirements.txt (line 23)) (0.2.5)\n",
      "Requirement already satisfied: widgetsnbextension~=3.5.0 in /usr/local/lib/python3.7/dist-packages (from ipywidgets->jupyter->-r requirements.txt (line 23)) (3.5.2)\n",
      "Requirement already satisfied: jupyterlab-widgets>=1.0.0 in /usr/local/lib/python3.7/dist-packages (from ipywidgets->jupyter->-r requirements.txt (line 23)) (1.0.2)\n",
      "Requirement already satisfied: ipython-genutils~=0.2.0 in /usr/local/lib/python3.7/dist-packages (from ipywidgets->jupyter->-r requirements.txt (line 23)) (0.2.0)\n",
      "Requirement already satisfied: nbformat>=4.2.0 in /usr/local/lib/python3.7/dist-packages (from ipywidgets->jupyter->-r requirements.txt (line 23)) (5.1.3)\n",
      "Requirement already satisfied: jsonschema!=2.5.0,>=2.4 in /usr/local/lib/python3.7/dist-packages (from nbformat>=4.2.0->ipywidgets->jupyter->-r requirements.txt (line 23)) (4.3.3)\n",
      "Requirement already satisfied: jupyter-core in /usr/local/lib/python3.7/dist-packages (from nbformat>=4.2.0->ipywidgets->jupyter->-r requirements.txt (line 23)) (4.9.2)\n",
      "Requirement already satisfied: pyrsistent!=0.17.0,!=0.17.1,!=0.17.2,>=0.14.0 in /usr/local/lib/python3.7/dist-packages (from jsonschema!=2.5.0,>=2.4->nbformat>=4.2.0->ipywidgets->jupyter->-r requirements.txt (line 23)) (0.18.1)\n",
      "Requirement already satisfied: importlib-resources>=1.4.0 in /usr/local/lib/python3.7/dist-packages (from jsonschema!=2.5.0,>=2.4->nbformat>=4.2.0->ipywidgets->jupyter->-r requirements.txt (line 23)) (5.4.0)\n",
      "Requirement already satisfied: terminado>=0.8.1 in /usr/local/lib/python3.7/dist-packages (from notebook->jupyter->-r requirements.txt (line 23)) (0.13.3)\n",
      "Requirement already satisfied: jinja2 in /usr/local/lib/python3.7/dist-packages (from notebook->jupyter->-r requirements.txt (line 23)) (2.11.3)\n",
      "Requirement already satisfied: Send2Trash in /usr/local/lib/python3.7/dist-packages (from notebook->jupyter->-r requirements.txt (line 23)) (1.8.0)\n",
      "Requirement already satisfied: pyzmq>=13 in /usr/local/lib/python3.7/dist-packages (from jupyter-client->ipykernel->jupyter->-r requirements.txt (line 23)) (22.3.0)\n",
      "Requirement already satisfied: ptyprocess in /usr/local/lib/python3.7/dist-packages (from terminado>=0.8.1->notebook->jupyter->-r requirements.txt (line 23)) (0.7.0)\n",
      "Requirement already satisfied: MarkupSafe>=0.23 in /usr/local/lib/python3.7/dist-packages (from jinja2->notebook->jupyter->-r requirements.txt (line 23)) (2.0.1)\n",
      "Requirement already satisfied: mistune<2,>=0.8.1 in /usr/local/lib/python3.7/dist-packages (from nbconvert->jupyter->-r requirements.txt (line 23)) (0.8.4)\n",
      "Requirement already satisfied: pandocfilters>=1.4.1 in /usr/local/lib/python3.7/dist-packages (from nbconvert->jupyter->-r requirements.txt (line 23)) (1.5.0)\n",
      "Requirement already satisfied: defusedxml in /usr/local/lib/python3.7/dist-packages (from nbconvert->jupyter->-r requirements.txt (line 23)) (0.7.1)\n",
      "Requirement already satisfied: testpath in /usr/local/lib/python3.7/dist-packages (from nbconvert->jupyter->-r requirements.txt (line 23)) (0.6.0)\n",
      "Requirement already satisfied: entrypoints>=0.2.2 in /usr/local/lib/python3.7/dist-packages (from nbconvert->jupyter->-r requirements.txt (line 23)) (0.4)\n",
      "Requirement already satisfied: qtpy in /usr/local/lib/python3.7/dist-packages (from qtconsole->jupyter->-r requirements.txt (line 23)) (2.0.1)\n",
      "Building wheels for collected packages: ffmpeg\n",
      "  Building wheel for ffmpeg (setup.py) ... \u001b[?25l\u001b[?25hdone\n",
      "  Created wheel for ffmpeg: filename=ffmpeg-1.4-py3-none-any.whl size=6084 sha256=0e72652d110566144c40c9aabeca7b469533bc19c4ffe93b2658c05440e5e514\n",
      "  Stored in directory: /root/.cache/pip/wheels/64/80/6e/caa3e16deb0267c3cbfd36862058a724144e19fdb9eb03af0f\n",
      "Successfully built ffmpeg\n",
      "Installing collected packages: importlib-metadata, urllib3, jeepney, cryptography, SecretStorage, requests, typed-ast, rfc3986, requests-toolbelt, readme-renderer, pyflakes, pycodestyle, platformdirs, pkginfo, pathspec, mypy-extensions, mccabe, keyring, colorama, click, yapf, twine, python-dotenv, mtcnn-opencv, flake8, ffmpeg, black\n",
      "  Attempting uninstall: importlib-metadata\n",
      "    Found existing installation: importlib-metadata 4.11.2\n",
      "    Uninstalling importlib-metadata-4.11.2:\n",
      "      Successfully uninstalled importlib-metadata-4.11.2\n",
      "  Attempting uninstall: urllib3\n",
      "    Found existing installation: urllib3 1.24.3\n",
      "    Uninstalling urllib3-1.24.3:\n",
      "      Successfully uninstalled urllib3-1.24.3\n",
      "  Attempting uninstall: requests\n",
      "    Found existing installation: requests 2.23.0\n",
      "    Uninstalling requests-2.23.0:\n",
      "      Successfully uninstalled requests-2.23.0\n",
      "  Attempting uninstall: click\n",
      "    Found existing installation: click 7.1.2\n",
      "    Uninstalling click-7.1.2:\n",
      "      Successfully uninstalled click-7.1.2\n",
      "\u001b[31mERROR: pip's dependency resolver does not currently take into account all the packages that are installed. This behaviour is the source of the following dependency conflicts.\n",
      "markdown 3.3.6 requires importlib-metadata>=4.4; python_version < \"3.10\", but you have importlib-metadata 4.2.0 which is incompatible.\n",
      "google-colab 1.0.0 requires requests~=2.23.0, but you have requests 2.27.1 which is incompatible.\n",
      "flask 1.1.4 requires click<8.0,>=5.1, but you have click 8.0.4 which is incompatible.\n",
      "datascience 0.10.6 requires folium==0.2.1, but you have folium 0.8.3 which is incompatible.\u001b[0m\n",
      "Successfully installed SecretStorage-3.3.1 black-22.1.0 click-8.0.4 colorama-0.4.4 cryptography-36.0.1 ffmpeg-1.4 flake8-4.0.1 importlib-metadata-4.2.0 jeepney-0.7.1 keyring-23.5.0 mccabe-0.6.1 mtcnn-opencv-1.0.2 mypy-extensions-0.4.3 pathspec-0.9.0 pkginfo-1.8.2 platformdirs-2.5.1 pycodestyle-2.8.0 pyflakes-2.4.0 python-dotenv-0.19.2 readme-renderer-34.0 requests-2.27.1 requests-toolbelt-0.9.1 rfc3986-2.0.0 twine-3.8.0 typed-ast-1.5.2 urllib3-1.26.8 yapf-0.32.0\n"
     ]
    },
    {
     "data": {
      "application/vnd.colab-display-data+json": {
       "pip_warning": {
        "packages": [
         "requests",
         "urllib3"
        ]
       }
      }
     },
     "metadata": {},
     "output_type": "display_data"
    }
   ],
   "source": [
    "!pip install -r requirements.txt"
   ]
  },
  {
   "cell_type": "code",
   "execution_count": null,
   "metadata": {
    "id": "cxtJkFAZ9Gt6"
   },
   "outputs": [],
   "source": [
    "from sklearn.model_selection import train_test_split\n",
    "from sklearn.metrics import classification_report\n",
    "import keras\n",
    "from keras.preprocessing import image   # for preprocessing the images\n",
    "from keras.utils import np_utils\n",
    "from keras.models import Sequential\n",
    "from keras.applications.vgg16 import VGG16\n",
    "from keras.layers import Dense, InputLayer, Dropout, Flatten\n",
    "from keras.layers import Conv2D, MaxPooling2D, GlobalMaxPooling2D\n",
    "from keras.preprocessing import image\n",
    "from keras.models import Sequential\n",
    "from keras.layers import Conv2D, MaxPooling2D\n",
    "from keras.layers import Activation, Dropout, Flatten, Dense\n",
    "from keras.regularizers import l2\n",
    "from keras.preprocessing.image import ImageDataGenerator, array_to_img, img_to_array, load_img\n",
    "from sklearn.model_selection import train_test_split\n",
    "from tensorflow.keras.preprocessing.image import ImageDataGenerator\n",
    "from tensorflow.keras.applications import VGG16\n",
    "from tensorflow.keras.layers import Dropout, Flatten, Dense, Input\n",
    "from tensorflow.keras.models import Model\n",
    "from tensorflow.keras.optimizers import SGD\n"
   ]
  },
  {
   "cell_type": "code",
   "execution_count": null,
   "metadata": {
    "id": "tTTex-uxBGq3"
   },
   "outputs": [],
   "source": [
    "validation_path = '/content/drive/MyDrive/core simulateur/Video validations'\n",
    "video_path = '/content/drive/MyDrive/core simulateur'\n",
    "kss_path = '/content/drive/MyDrive/DDDS/KSS'\n",
    "root_path = '/content/drive/MyDrive/DDDS'\n",
    "validation_df_path= '/content/drive/MyDrive/DDDS/dataframes'"
   ]
  },
  {
   "cell_type": "code",
   "execution_count": null,
   "metadata": {
    "id": "HeIS_3SfBOkz"
   },
   "outputs": [],
   "source": [
    "my_file = open(f'{kss_path}/kss_files.txt', 'r')\n",
    "content = my_file.read()\n",
    "kss_files = content.split(\"\\n\")[:-1]\n",
    "my_file.close()\n",
    "kss_list = [kss[:-5].replace(' ', '_') for kss in kss_files]"
   ]
  },
  {
   "cell_type": "markdown",
   "metadata": {
    "id": "sQEfVJ8Nv9Bg"
   },
   "source": [
    "## converting videos to frame"
   ]
  },
  {
   "cell_type": "code",
   "execution_count": null,
   "metadata": {
    "colab": {
     "base_uri": "https://localhost:8080/"
    },
    "id": "TEyg4EbFbEuL",
    "outputId": "0cea4d22-901b-49cd-ed5a-357a285426a6"
   },
   "outputs": [
    {
     "name": "stdout",
     "output_type": "stream",
     "text": [
      "2021-10-28\\ 15-04-13\\ 1c3.xlsx\n",
      "2021-10-28_15-04-13_1c3\n",
      "folder /content/drive/MyDrive/DDDS/dataset/frames/2021-10-28_15-04-13_1c3\n",
      "ffmpeg -i 2021-10-28\\ 15-04-13\\ 1c3.flv -vf fps=1 /content/drive/MyDrive/DDDS/dataset/frames/2021-10-28_15-04-13_1c3/2021-10-28_15-04-13_1c3_frame-%05d.jpg\n"
     ]
    }
   ],
   "source": [
    "fps = 1\n",
    "os.chdir(video_path)\n",
    "\n",
    "for file_name in kss_files[2:3]: #kss_files[8:]: # first and 2nd videos have benn already coverted.\n",
    "    file_ = file_name.replace(\" \", \"\\\\ \" )\n",
    "    print(file_)\n",
    "    frame_name = file_[:-5].replace(\"\\\\ \", \"_\" ) #removing xlsx\n",
    "    print(frame_name)\n",
    "    os.mkdir(f\"/content/drive/MyDrive/DDDS/dataset/frames/{frame_name}\")\n",
    "    frame_path = f'/content/drive/MyDrive/DDDS/dataset/frames/{frame_name}'\n",
    "    print(f'folder', frame_path)\n",
    "    # command = f'ffmpeg -i {file_} -c:v libx264 -crf 19 -strict experimental /content/drive/MyDrive/DDDS/videos/{file_[:-4]}.mp4'\n",
    "    command = f'ffmpeg -i {file_[:-5]}.flv -vf fps={fps} {frame_path}/{frame_name}_frame-%05d.jpg'\n",
    "    print(command)\n",
    "    os.system(command)"
   ]
  },
  {
   "cell_type": "markdown",
   "metadata": {
    "id": "GsmPQxInOT6R"
   },
   "source": [
    "## face detection"
   ]
  },
  {
   "cell_type": "code",
   "execution_count": null,
   "metadata": {
    "id": "Ue_WwyTFNutg"
   },
   "outputs": [],
   "source": [
    "def bounding_box_check(faces, x, y):\n",
    "    # check the center\n",
    "    for face in faces:\n",
    "        bounding_box = face['box']\n",
    "        if (bounding_box[1] < 0):\n",
    "            bounding_box[1] = 0\n",
    "        if (bounding_box[0] < 0):\n",
    "            bounding_box[0] = 0\n",
    "        if (bounding_box[0] - 100 > x\n",
    "                or bounding_box[0] + bounding_box[2] + 100 < x):\n",
    "            print('change person from')\n",
    "            print(bounding_box)\n",
    "            print('to')\n",
    "            continue\n",
    "        if (bounding_box[1] - 100 > y\n",
    "                or bounding_box[1] + bounding_box[3] + 100 < y):\n",
    "            print('change person from')\n",
    "            print(bounding_box)\n",
    "            print('to')\n",
    "            continue\n",
    "        return bounding_box\n",
    "\n",
    "def face_detect(file, detector, frame_path, x_pos, y_pos):\n",
    "    name = file.replace('.jpg', '').split('-')\n",
    "\n",
    "    x = x_pos\n",
    "    y = y_pos\n",
    "    img = cv2.imread('%s%s' % (frame_path, file ))\n",
    "    faces = detector.detect_faces(img)\n",
    "    # check if detected faces\n",
    "    if (len(faces) == 0):\n",
    "        print('no face detect: ' + file)\n",
    "        return  #no face\n",
    "    bounding_box = bounding_box_check(faces, x, y)\n",
    "    if (bounding_box == None):\n",
    "        print('face is not related to given coord: ' + file)\n",
    "        return\n",
    "    print(file, \" \", bounding_box)\n",
    "    print(file, \" \", x, y)\n",
    "    crop_img = img[bounding_box[1]:bounding_box[1] + bounding_box[3],\n",
    "                   bounding_box[0]:bounding_box[0] + bounding_box[2]]\n",
    "    crop_img = cv2.resize(crop_img, (244, 244))\n",
    "    print(f\"saving {file}\")\n",
    "    cv2.imwrite(f'{output_dir}{file}', crop_img)\n",
    "    # cv2.imwrite('%s/frame_' % output_dir + name[0] + '_' + name[1] + '.jpg',\n",
    "    #             crop_img)\n",
    "    "
   ]
  },
  {
   "cell_type": "code",
   "execution_count": null,
   "metadata": {
    "id": "n9p0M8l6rE5c"
   },
   "outputs": [],
   "source": [
    "kss_list = [f[:-4] for f in os.listdir(kss_path) \n",
    "             if os.path.isfile(os.path.join(kss_path, f)) and 'kss_' in f][1:]\n",
    "kss_list.sort()\n",
    "print(f'The are {len(kss_list)} kss df.')"
   ]
  },
  {
   "cell_type": "code",
   "execution_count": null,
   "metadata": {
    "colab": {
     "base_uri": "https://localhost:8080/"
    },
    "id": "utarDkDCCQ-a",
    "outputId": "c25ed5e6-8e53-4ae7-c3c1-bdcd343337cf"
   },
   "outputs": [
    {
     "name": "stdout",
     "output_type": "stream",
     "text": [
      "2021-10-28_15-04-13_1c3\n",
      "===============================================================\n",
      "detected faces will be stored in  /content/drive/MyDrive/DDDS/dataset/faces/2021-10-28_15-04-13_1c3/\n",
      "===============================================================\n",
      "\n",
      "laoding 2021-10-28_15-04-13_1c3 .........................\n",
      "\n",
      "\n",
      "number of frames 4104\n",
      "\n",
      "4104 frames are used for face detection.\n",
      "===============================================================\n",
      "\n",
      "loading  kss_2021-10-28 15-04-13 1c3\n",
      " \n",
      "for 2021-10-28 15-04-13 1c3.xlsx there are 4104 frames\n",
      " \n",
      "(4104, 3)\n",
      "(4104, 3)\n",
      " \n",
      " \n",
      "-------------------face-------------------\n",
      "for 2021-10-28 15-04-13 1c3.xlsx there are 4076 faces\n",
      " \n",
      " \n",
      "(4104, 4)\n"
     ]
    }
   ],
   "source": [
    "root_path = '/content/drive/MyDrive/DDDS/dataset'\n",
    "os.chdir(root_path)\n",
    "# proper way would be to assign an exact (x, y) position of the face center.\n",
    "x = 1100\n",
    "y = 200\n",
    "\n",
    "\n",
    "detector = MTCNN()\n",
    "\n",
    "for file_name in kss_files[2:3]: # 3rd one 2021-11-02 seems to be corrupted.\n",
    "                                 # check what's wrong with the 2nd one.\n",
    "    file_ = file_name.replace(\" \", \"\\\\ \" )\n",
    "    frame_name = file_[:-5].replace(\"\\\\ \", \"_\" )\n",
    "    print(frame_name)\n",
    "    # command = f'unzip frames/{frame_name}.zip -d frames/'\n",
    "    # os.system(command)\n",
    "    frame_path = f'/content/drive/MyDrive/DDDS/dataset/frames/{frame_name}/'\n",
    "    output_dir = f'/content/drive/MyDrive/DDDS/dataset/faces/{frame_name}/'\n",
    "    face_dir = f'/content/drive/MyDrive/DDDS/dataset/faces/{frame_name}'\n",
    "    frame_dir = f'/content/drive/MyDrive/DDDS/dataset/frames/{frame_name}'\n",
    "    print('===============================================================')\n",
    "    print('detected faces will be stored in ', output_dir)\n",
    "    print('===============================================================')\n",
    "    print('')\n",
    "    print(f'laoding {frame_name} .........................')\n",
    "    print('')\n",
    "    print('')\n",
    "    # grouped_frames = [i for i in os.listdir(frame_path) if os.path.isfile(os.path.join(frame_path, i)) and frame_name in i]\n",
    "    frame_list = os.listdir(frame_dir)\n",
    "    frame_list.sort()\n",
    "    # detect_range = 100\n",
    "    detect_range = len(frame_list)\n",
    "    print('number of frames',len(frame_list))\n",
    "    print('')\n",
    "    print(f'{detect_range} frames are used for face detection.')\n",
    "    print('===============================================================')\n",
    "    print('')\n",
    "    \n",
    "    for frame_ in frame_list[:detect_range]:\n",
    "\n",
    "      if (not os.path.exists('%s%s' % (frame_path, frame_))):\n",
    "        print('cannot find input: ' + '%s%s' % (frame_path, frame_))\n",
    "        print('===============================================================')\n",
    "        print('')\n",
    "        continue\n",
    "        \n",
    "      # if (not os.path.exists('%s%s' % (output_dir, frame_))):\n",
    "      print('')\n",
    "      print(f'face detection in {frame_}')\n",
    "      face_detect(frame_, detector, frame_path, x, y)\n",
    "      print('===============================================================')\n",
    "      print('')\n",
    "\n",
    "    # file_name = kss_list[4:].replace(' ', '_') # removing kss_ form the begining of the file \n",
    "    kss_file = f'kss_{file_name[:-5]}'\n",
    "    print('loading ', kss_file)\n",
    "    print(' ')\n",
    "    # frame_list = os.listdir(f'frame_path/{file_name}')\n",
    "    print(f'for {file_name} there are {len(frame_list)} frames') # frames of a video\n",
    "    print(' ')\n",
    "\n",
    "    kss_df = pd.read_csv(f'{kss_path}/{kss_file}.csv')\n",
    "    print(kss_df.shape)\n",
    "\n",
    "    image_kss_dic = {'time_points': kss_df.time_points, \n",
    "                    'kss_value': kss_df.kss_value, \n",
    "                    'frame_id': frame_list}\n",
    "\n",
    "    image_kss_df = pd.DataFrame.from_dict(image_kss_dic)\n",
    "    print(image_kss_df.shape)\n",
    "    print(' ')\n",
    "    print(' ')\n",
    "\n",
    "    # face_list = [frame_name for frame_name in face_list if file_name in frame_name]\n",
    "    face_list = os.listdir(face_dir)\n",
    "    image_kss_df['face_frame_id']= None\n",
    "    print('-------------------face-------------------')\n",
    "    print(f'for {file_name} there are {len(face_list)} faces' )\n",
    "    print(' ')\n",
    "    print(' ')\n",
    "    print(image_kss_df.shape)\n",
    "    image_kss_df.head()\n",
    "    for i in range(len(face_list)):\n",
    "        ind_= int(face_list[i][-9:-4])-1\n",
    "        if ind_< image_kss_df.shape[0]:\n",
    "          image_kss_df.iloc[ind_, 3] = face_list[i]\n",
    "        else:\n",
    "          print('ind_ exceeded with number', ind_)\n",
    "          print(face_list[i])\n",
    "          print(';;;;;;;;;;;;;;;;;;;;;;;;')\n",
    "\n",
    "    ## saving\n",
    "    image_kss_df.to_csv(f'{validation_df_path}/image_kss_{frame_name}.csv')\n",
    "    image_kss_df = pd.DataFrame(None)\n",
    "    \n",
    "    # print('Removing', frame_dir)\n",
    "    # try:\n",
    "    #     shutil.rmtree(frame_dir)\n",
    "    # except OSError as e:\n",
    "    #     print(\"Error: %s - %s.\" % (e.filename, e.strerror))\n",
    "    # print(\"******************************************************************\")\n",
    "    # print(\"******************************************************************\")\n"
   ]
  },
  {
   "cell_type": "markdown",
   "metadata": {
    "id": "NtxppsILN0Ob"
   },
   "source": [
    "## Combining kss with images id"
   ]
  },
  {
   "cell_type": "code",
   "execution_count": null,
   "metadata": {
    "colab": {
     "base_uri": "https://localhost:8080/"
    },
    "id": "8SKftKEWOdxw",
    "outputId": "e7be9ce3-0512-42e4-acf0-62dfcf64a11e"
   },
   "outputs": [
    {
     "name": "stdout",
     "output_type": "stream",
     "text": [
      "There are 18 kss df.\n"
     ]
    },
    {
     "data": {
      "text/plain": [
       "['kss_2021-10-25 10-31-58 c27',\n",
       " 'kss_2021-10-26 13-32-50 c27',\n",
       " 'kss_2021-10-28 15-04-13 1c3',\n",
       " 'kss_2021-11-02 15-23-39 1c3',\n",
       " 'kss_2021-11-04 11-01-00 eca',\n",
       " 'kss_2021-11-05 13-59-29 ea9',\n",
       " 'kss_2021-11-17 10-58-38 e99',\n",
       " 'kss_2021-11-18 13-21-41 e99',\n",
       " 'kss_2021-11-19 13-38-33 ece',\n",
       " 'kss_2021-11-22 11-26-24 ea9',\n",
       " 'kss_2021-11-24 11-01-03 eca',\n",
       " 'kss_2021-11-24 15-36-04 e99',\n",
       " 'kss_2021-11-26 12-34-32 1c3',\n",
       " 'kss_2021-11-26 15-16-28 ea9',\n",
       " 'kss_2021-11-29 13-48-17 eca',\n",
       " 'kss_2021-11-30 16-16-03 ece',\n",
       " 'kss_2021-12-01 13-20-00 e99',\n",
       " 'kss_2021-12-07 14-35-11 ea9']"
      ]
     },
     "execution_count": 263,
     "metadata": {},
     "output_type": "execute_result"
    }
   ],
   "source": [
    "frame_path = '/content/drive/MyDrive/DDDS/dataset/frames'\n",
    "face_path = '/content/drive/MyDrive/DDDS/dataset/faces'\n",
    "validation_df_path = '/content/drive/MyDrive/DDDS/dataframes'\n",
    "kss_path = '/content/drive/MyDrive/DDDS/KSS'\n",
    "\n",
    "kss_list = [f[:-4] for f in os.listdir(kss_path) \n",
    "             if os.path.isfile(os.path.join(kss_path, f)) and 'kss_' in f][1:]\n",
    "kss_list.sort()\n",
    "print(f'There are {len(kss_list)} kss df.')\n",
    "kss_list\n",
    "\n",
    "# frame_list = [f[:-4] for f in os.listdir(frame_path) \n",
    "#               if os.path.isfile(os.path.join(frame_path, f))]\n",
    "# frame_list.sort()\n",
    "# print(f'The are {len(frame_list)} frames')\n",
    "\n",
    "# face_list = [f[:-4] for f in os.listdir(face_path) \n",
    "#              if os.path.isfile(os.path.join(face_path, f))]\n",
    "# face_list.sort()\n",
    "# print(f'The are {len(face_list)} face')"
   ]
  },
  {
   "cell_type": "code",
   "execution_count": null,
   "metadata": {
    "colab": {
     "base_uri": "https://localhost:8080/"
    },
    "id": "5Aa-nOjmQWNm",
    "outputId": "abe628ea-5b4a-426c-faf1-f142d19d7469"
   },
   "outputs": [
    {
     "name": "stdout",
     "output_type": "stream",
     "text": [
      "['image_kss_2021-12-01_13-20-00_e99.csv', 'image_kss_2021-12-07_14-35-11_ea9.csv', 'image_kss_2021-10-26_13-32-50_c27.csv', 'image_kss_2021-11-04_11-01-00_eca.csv', 'image_kss_2021-11-24_11-01-03_eca.csv', 'image_kss_2021-10-25_10-31-58_c27.csv', 'image_kss_2021-11-24_15-36-04_e99.csv', 'image_kss_2021-11-17_10-58-38_e99.csv', 'image_kss_2021-11-26_15-16-28_ea9.csv', 'image_kss_2021-11-29_13-48-17_eca.csv', 'image_kss_2021-11-30_16-16-03_ece.csv', 'image_kss_2021-11-02_15-23-39_1c3.csv', 'image_kss_2021-11-26_12-34-32_1c3.csv', 'image_kss_2021-11-18_13-21-41_e99.csv', 'image_kss_2021-11-19_13-38-33_ece.csv', 'image_kss_2021-11-22_11-26-24_ea9.csv', 'image_kss_2021-11-05_13-59-29_ea9.csv', 'image_kss_2021-10-28_15-04-13_1c3.csv']\n",
      "Empty DataFrame\n",
      "Columns: [time_points, kss_value, frame_id, face_frame_id, video_id]\n",
      "Index: []\n",
      "loading /content/drive/MyDrive/DDDS/dataframes/image_kss_2021-12-01_13-20-00_e99.csv\n",
      "loading /content/drive/MyDrive/DDDS/dataframes/image_kss_2021-12-07_14-35-11_ea9.csv\n",
      "loading /content/drive/MyDrive/DDDS/dataframes/image_kss_2021-10-26_13-32-50_c27.csv\n",
      "loading /content/drive/MyDrive/DDDS/dataframes/image_kss_2021-11-04_11-01-00_eca.csv\n",
      "loading /content/drive/MyDrive/DDDS/dataframes/image_kss_2021-11-24_11-01-03_eca.csv\n",
      "loading /content/drive/MyDrive/DDDS/dataframes/image_kss_2021-10-25_10-31-58_c27.csv\n",
      "loading /content/drive/MyDrive/DDDS/dataframes/image_kss_2021-11-24_15-36-04_e99.csv\n",
      "loading /content/drive/MyDrive/DDDS/dataframes/image_kss_2021-11-17_10-58-38_e99.csv\n",
      "loading /content/drive/MyDrive/DDDS/dataframes/image_kss_2021-11-26_15-16-28_ea9.csv\n",
      "loading /content/drive/MyDrive/DDDS/dataframes/image_kss_2021-11-29_13-48-17_eca.csv\n",
      "loading /content/drive/MyDrive/DDDS/dataframes/image_kss_2021-11-30_16-16-03_ece.csv\n",
      "loading /content/drive/MyDrive/DDDS/dataframes/image_kss_2021-11-02_15-23-39_1c3.csv\n",
      "loading /content/drive/MyDrive/DDDS/dataframes/image_kss_2021-11-26_12-34-32_1c3.csv\n",
      "loading /content/drive/MyDrive/DDDS/dataframes/image_kss_2021-11-18_13-21-41_e99.csv\n",
      "loading /content/drive/MyDrive/DDDS/dataframes/image_kss_2021-11-19_13-38-33_ece.csv\n",
      "loading /content/drive/MyDrive/DDDS/dataframes/image_kss_2021-11-22_11-26-24_ea9.csv\n",
      "loading /content/drive/MyDrive/DDDS/dataframes/image_kss_2021-11-05_13-59-29_ea9.csv\n",
      "loading /content/drive/MyDrive/DDDS/dataframes/image_kss_2021-10-28_15-04-13_1c3.csv\n"
     ]
    }
   ],
   "source": [
    "kss_list = [f for f in os.listdir(validation_df_path) \n",
    "              if os.path.isfile(os.path.join(validation_df_path, f)) and 'image_kss' in f]\n",
    "print(kss_list)\n",
    "\n",
    "combined_kss_image_df = pd.DataFrame(columns = ['time_points', 'kss_value', 'frame_id', 'face_frame_id', 'video_id'])\n",
    "print(combined_kss_image_df.head())\n",
    "for f in kss_list:\n",
    "    df = pd.read_csv(f'{validation_df_path}/{f}')\n",
    "    df['video_id'] = f[10:-4]\n",
    "    print(f'loading {validation_df_path}/{f}')\n",
    "    df.drop(columns='Unnamed: 0', inplace = True, axis = 1)\n",
    "    combined_kss_image_df = pd.concat([combined_kss_image_df, df], ignore_index=True)\n",
    "    \n",
    "combined_kss_image_df.to_csv(f'{validation_df_path}/combined_kss_image.csv')"
   ]
  },
  {
   "cell_type": "markdown",
   "metadata": {
    "id": "OqKW8aY9fETA"
   },
   "source": [
    "## Preparing the dataset"
   ]
  },
  {
   "cell_type": "code",
   "execution_count": null,
   "metadata": {
    "id": "q4LriEa3ZGYy"
   },
   "outputs": [],
   "source": [
    "root_dir = '/content/drive/MyDrive/DDDS/'\n",
    "os.chdir(root_dir)\n",
    "\n",
    "df = pd.read_csv(f'{validation_df_path}/combined_kss_image.csv')\n",
    "dataset_df = df.dropna()\n",
    "n_cat = dataset_df['kss_value'].unique()\n",
    "n_cat.sort()\n",
    "n_cat = [str(int(i)) for i in n_cat]\n",
    "\n",
    "if not os.path.exists('data'):\n",
    "  os.mkdir('data')\n",
    "\n",
    "train_path = os.path.join('data', 'train')\n",
    "if not os.path.exists(train_path):\n",
    "  os.mkdir(train_path)\n",
    "  for cat in n_cat:\n",
    "    os.mkdir(os.path.join(train_path, cat))\n",
    "\n",
    "test_path = os.path.join('data', 'test')\n",
    "if not os.path.exists(test_path):\n",
    "  os.mkdir(test_path)\n",
    "  for cat in n_cat:\n",
    "    os.mkdir(os.path.join(test_path, cat))\n",
    "\n",
    "validation_path = os.path.join('data', 'validation')\n",
    "if not os.path.exists(validation_path):\n",
    "  os.mkdir(validation_path)\n",
    "  for cat in n_cat:\n",
    "    os.mkdir(os.path.join(validation_path, cat))"
   ]
  },
  {
   "cell_type": "code",
   "execution_count": null,
   "metadata": {
    "colab": {
     "base_uri": "https://localhost:8080/"
    },
    "id": "g8iaQEl6j_zD",
    "outputId": "40e6ea8c-bcac-4ff5-ad1d-9322ef731088"
   },
   "outputs": [
    {
     "name": "stdout",
     "output_type": "stream",
     "text": [
      "9    2696\n",
      "8     593\n",
      "4     294\n",
      "5      65\n",
      "0       1\n",
      "Name: kss_value, dtype: int64\n",
      "\n",
      "Images will be copied from dataset/faces/2021-12-07_14-35-11_ea9\n",
      "Images were all copied\n",
      "\n",
      "Removing dataset/faces/2021-12-07_14-35-11_ea9\n",
      "******************************************************************\n",
      "******************************************************************\n",
      "7    1186\n",
      "9     890\n",
      "8     885\n",
      "5     316\n",
      "3     255\n",
      "2     175\n",
      "0      42\n",
      "Name: kss_value, dtype: int64\n",
      "\n",
      "Images will be copied from dataset/faces/2021-10-26_13-32-50_c27\n",
      "Images were all copied\n",
      "\n",
      "Removing dataset/faces/2021-10-26_13-32-50_c27\n",
      "******************************************************************\n",
      "******************************************************************\n",
      "7    1475\n",
      "8     890\n",
      "2     577\n",
      "6     509\n",
      "3     300\n",
      "4     300\n",
      "0       9\n",
      "Name: kss_value, dtype: int64\n",
      "\n",
      "Images will be copied from dataset/faces/2021-11-04_11-01-00_eca\n",
      "Images were all copied\n",
      "\n",
      "Removing dataset/faces/2021-11-04_11-01-00_eca\n",
      "******************************************************************\n",
      "******************************************************************\n",
      "6    1173\n",
      "5     867\n",
      "3     644\n",
      "2     512\n",
      "7     295\n",
      "4     283\n",
      "0      24\n",
      "Name: kss_value, dtype: int64\n",
      "\n",
      "Images will be copied from dataset/faces/2021-11-24_11-01-03_eca\n",
      "Images were all copied\n",
      "\n",
      "Removing dataset/faces/2021-11-24_11-01-03_eca\n",
      "******************************************************************\n",
      "******************************************************************\n",
      "6    754\n",
      "5    257\n",
      "3     40\n",
      "0     18\n",
      "2      2\n",
      "Name: kss_value, dtype: int64\n",
      "\n",
      "Images will be copied from dataset/faces/2021-10-25_10-31-58_c27\n",
      "Images were all copied\n",
      "\n",
      "Removing dataset/faces/2021-10-25_10-31-58_c27\n",
      "******************************************************************\n",
      "******************************************************************\n",
      "9    1489\n",
      "8    1194\n",
      "7     598\n",
      "6     300\n",
      "2      47\n",
      "5      43\n",
      "0       4\n",
      "Name: kss_value, dtype: int64\n",
      "\n",
      "Images will be copied from dataset/faces/2021-11-24_15-36-04_e99\n",
      "Images were all copied\n",
      "\n",
      "Removing dataset/faces/2021-11-24_15-36-04_e99\n",
      "******************************************************************\n",
      "******************************************************************\n",
      "5    950\n",
      "7    889\n",
      "8    600\n",
      "3    598\n",
      "2    409\n",
      "9    299\n",
      "0      9\n",
      "Name: kss_value, dtype: int64\n",
      "\n",
      "Images will be copied from dataset/faces/2021-11-17_10-58-38_e99\n",
      "Images were all copied\n",
      "\n",
      "Removing dataset/faces/2021-11-17_10-58-38_e99\n",
      "******************************************************************\n",
      "******************************************************************\n",
      "9    2699\n",
      "8     383\n",
      "4     300\n",
      "6     300\n",
      "3     289\n",
      "0      40\n",
      "Name: kss_value, dtype: int64\n",
      "\n",
      "Images will be copied from dataset/faces/2021-11-26_15-16-28_ea9\n",
      "Images were all copied\n",
      "\n",
      "Removing dataset/faces/2021-11-26_15-16-28_ea9\n",
      "******************************************************************\n",
      "******************************************************************\n",
      "9    1367\n",
      "8    1077\n",
      "4     300\n",
      "6     295\n",
      "7     272\n",
      "3     207\n",
      "0       1\n",
      "Name: kss_value, dtype: int64\n",
      "\n",
      "Images will be copied from dataset/faces/2021-11-29_13-48-17_eca\n",
      "Images were all copied\n",
      "\n",
      "Removing dataset/faces/2021-11-29_13-48-17_eca\n",
      "******************************************************************\n",
      "******************************************************************\n",
      "7    754\n",
      "9    455\n",
      "6    353\n",
      "8    322\n",
      "4    265\n",
      "2    181\n",
      "0      8\n",
      "Name: kss_value, dtype: int64\n",
      "\n",
      "Images will be copied from dataset/faces/2021-11-30_16-16-03_ece\n",
      "Images were all copied\n",
      "\n",
      "Removing dataset/faces/2021-11-30_16-16-03_ece\n",
      "******************************************************************\n",
      "******************************************************************\n"
     ]
    }
   ],
   "source": [
    "root_dir = '/content/drive/MyDrive/DDDS/'\n",
    "os.chdir(root_dir)\n",
    "\n",
    "face_folder = [f[10:-4] for f in kss_list]\n",
    "train_list = face_folder[:11]\n",
    "kss_train_list = kss_list[:11]\n",
    "\n",
    "val_list = face_folder[11:14]\n",
    "kss_val_list = kss_list[11:14]\n",
    "\n",
    "test_list = face_folder[14:]\n",
    "kss_test_list = kss_list[14:]\n",
    "\n",
    "\n",
    "image_folders = train_list[1:]\n",
    "kss_files = kss_train_list[1:]\n",
    "#print(image_folders)\n",
    "for kss_file, image_folder in zip(kss_files, image_folders):\n",
    "  df = pd.read_csv(f'{validation_df_path}/{kss_file}')\n",
    "  df.drop(columns = ['Unnamed: 0', 'time_points', 'frame_id'], inplace = True, axis = 1)\n",
    "  df.dropna(inplace = True)\n",
    "  df['kss_value'] = df['kss_value'].astype(int).astype(str)\n",
    "  print(df['kss_value'].value_counts())\n",
    "  print('')\n",
    "  source_dir = os.path.join('dataset','faces', image_folder)\n",
    "  print(f'Images will be copied from {source_dir}')\n",
    "  for index, row in df.iterrows():\n",
    "      cat = row['kss_value']\n",
    "      image_name = row['face_frame_id']\n",
    "      source_ = os.path.join(source_dir, image_name)\n",
    "      target = os.path.join('data', 'train', str(cat), image_name)\n",
    "      # print(f'moving {image_name} from {source_} to {target}')\n",
    "      shutil.copyfile(source_, target)\n",
    "\n",
    "  print(f'Images were all copied')\n",
    "  print('')\n",
    "\n",
    "  print('Removing', source_dir)\n",
    "  try:\n",
    "      shutil.rmtree(source_dir)\n",
    "  except OSError as e:\n",
    "      print(\"Error: %s - %s.\" % (e.filename, e.strerror))\n",
    "  print(\"******************************************************************\")\n",
    "  print(\"******************************************************************\")"
   ]
  },
  {
   "cell_type": "code",
   "execution_count": null,
   "metadata": {
    "id": "nN1TG44dunch"
   },
   "outputs": [],
   "source": [
    "# saving the order of dataframe and folders\n",
    "files_to_save = [kss_list, face_folder]\n",
    "\n",
    "with open('dataset_order.txt', 'w') as filehandle:\n",
    "    for variable in files_to_save:\n",
    "        filehandle.write('%s\\n' % variable)"
   ]
  },
  {
   "cell_type": "code",
   "execution_count": null,
   "metadata": {
    "id": "s8wMThd-GdaP"
   },
   "outputs": [],
   "source": [
    "# y = dataset_df.kss_value\n",
    "# n_class = dataset_df['kss_value'].nunique()\n",
    "# print(f'There is in total {n_class} differnt kss values.')\n",
    "# print(dataset_df['video_id'].unique())"
   ]
  },
  {
   "cell_type": "markdown",
   "metadata": {
    "id": "6QTi05SY89N8"
   },
   "source": [
    "## Data augmentation"
   ]
  },
  {
   "cell_type": "code",
   "execution_count": null,
   "metadata": {
    "id": "DUhAPUwktHrC"
   },
   "outputs": [],
   "source": [
    "from keras.preprocessing.image import ImageDataGenerator\n",
    "root_path = '/content/drive/MyDrive/DDDS/'\n",
    "os.chdir(root_path)\n",
    "batch_size = 32\n",
    "n_cat = 9\n",
    "# augmentation configuration we will use for training and test\n",
    "train_datagen = ImageDataGenerator(\n",
    "        rescale=1./255,\n",
    "        shear_range=0.2,\n",
    "        zoom_range=0.2,\n",
    "        horizontal_flip=True)\n",
    "\n",
    "test_datagen = ImageDataGenerator(rescale=1./255)"
   ]
  },
  {
   "cell_type": "code",
   "execution_count": null,
   "metadata": {
    "colab": {
     "base_uri": "https://localhost:8080/"
    },
    "id": "R_bTYES68KPX",
    "outputId": "5572192a-5f6c-4e9f-b239-cab3f012bcd4"
   },
   "outputs": [
    {
     "name": "stdout",
     "output_type": "stream",
     "text": [
      "Found 15804 images belonging to 9 classes.\n",
      "Found 37430 images belonging to 9 classes.\n",
      "Found 8202 images belonging to 9 classes.\n"
     ]
    }
   ],
   "source": [
    "test_generator = test_datagen.flow_from_directory('data/test/',\n",
    "                                                  class_mode='categorical',\n",
    "                                                  batch_size=batch_size)\n",
    "# train and validation generator\n",
    "train_generator = train_datagen.flow_from_directory(\n",
    "        'data/train',  # this is the target directory\n",
    "        target_size=(224, 224),  # all images will be resized to 224 x 224\n",
    "        batch_size=batch_size,\n",
    "        class_mode='categorical')  \n",
    "\n",
    "# prepare an iterators for each dataset\n",
    "validation_generator = train_datagen.flow_from_directory(\n",
    "        'data/validation',\n",
    "        target_size=(224, 224),\n",
    "        batch_size=batch_size,\n",
    "        class_mode='categorical')\n",
    "\n",
    "# # confirm the iterator works\n",
    "# batchX, batchy = train_generator.next()\n",
    "# print('Batch shape=%s, min=%.3f, max=%.3f' % (batchX.shape, batchX.min(), batchX.max()))\n"
   ]
  },
  {
   "cell_type": "markdown",
   "metadata": {
    "id": "1AkiQO9qwiFn"
   },
   "source": [
    "## VGG16 model"
   ]
  },
  {
   "cell_type": "code",
   "execution_count": null,
   "metadata": {
    "colab": {
     "base_uri": "https://localhost:8080/"
    },
    "id": "JSgB8PTK9BOZ",
    "outputId": "bf4d3a0e-887f-42b1-f30e-f800b16a442a"
   },
   "outputs": [
    {
     "name": "stdout",
     "output_type": "stream",
     "text": [
      "Model: \"vgg16\"\n",
      "_________________________________________________________________\n",
      " Layer (type)                Output Shape              Param #   \n",
      "=================================================================\n",
      " input_2 (InputLayer)        [(None, 224, 224, 3)]     0         \n",
      "                                                                 \n",
      " block1_conv1 (Conv2D)       (None, 224, 224, 64)      1792      \n",
      "                                                                 \n",
      " block1_conv2 (Conv2D)       (None, 224, 224, 64)      36928     \n",
      "                                                                 \n",
      " block1_pool (MaxPooling2D)  (None, 112, 112, 64)      0         \n",
      "                                                                 \n",
      " block2_conv1 (Conv2D)       (None, 112, 112, 128)     73856     \n",
      "                                                                 \n",
      " block2_conv2 (Conv2D)       (None, 112, 112, 128)     147584    \n",
      "                                                                 \n",
      " block2_pool (MaxPooling2D)  (None, 56, 56, 128)       0         \n",
      "                                                                 \n",
      " block3_conv1 (Conv2D)       (None, 56, 56, 256)       295168    \n",
      "                                                                 \n",
      " block3_conv2 (Conv2D)       (None, 56, 56, 256)       590080    \n",
      "                                                                 \n",
      " block3_conv3 (Conv2D)       (None, 56, 56, 256)       590080    \n",
      "                                                                 \n",
      " block3_pool (MaxPooling2D)  (None, 28, 28, 256)       0         \n",
      "                                                                 \n",
      " block4_conv1 (Conv2D)       (None, 28, 28, 512)       1180160   \n",
      "                                                                 \n",
      " block4_conv2 (Conv2D)       (None, 28, 28, 512)       2359808   \n",
      "                                                                 \n",
      " block4_conv3 (Conv2D)       (None, 28, 28, 512)       2359808   \n",
      "                                                                 \n",
      " block4_pool (MaxPooling2D)  (None, 14, 14, 512)       0         \n",
      "                                                                 \n",
      " block5_conv1 (Conv2D)       (None, 14, 14, 512)       2359808   \n",
      "                                                                 \n",
      " block5_conv2 (Conv2D)       (None, 14, 14, 512)       2359808   \n",
      "                                                                 \n",
      " block5_conv3 (Conv2D)       (None, 14, 14, 512)       2359808   \n",
      "                                                                 \n",
      " block5_pool (MaxPooling2D)  (None, 7, 7, 512)         0         \n",
      "                                                                 \n",
      " flatten (Flatten)           (None, 25088)             0         \n",
      "                                                                 \n",
      " fc1 (Dense)                 (None, 4096)              102764544 \n",
      "                                                                 \n",
      " fc2 (Dense)                 (None, 4096)              16781312  \n",
      "                                                                 \n",
      " predictions (Dense)         (None, 1000)              4097000   \n",
      "                                                                 \n",
      "=================================================================\n",
      "Total params: 138,357,544\n",
      "Trainable params: 138,357,544\n",
      "Non-trainable params: 0\n",
      "_________________________________________________________________\n"
     ]
    }
   ],
   "source": [
    "from keras.applications.vgg16 import VGG16\n",
    "vggmodel = VGG16(weights='imagenet', include_top=True)\n",
    "vggmodel.summary()"
   ]
  },
  {
   "cell_type": "code",
   "execution_count": null,
   "metadata": {
    "colab": {
     "base_uri": "https://localhost:8080/"
    },
    "id": "TKXPW6MStowS",
    "outputId": "b92b325d-48d6-40c9-8eb1-791c43795b6d"
   },
   "outputs": [
    {
     "name": "stdout",
     "output_type": "stream",
     "text": [
      "<keras.engine.input_layer.InputLayer object at 0x7fdab7f6b910>\n",
      "<keras.layers.convolutional.Conv2D object at 0x7fdab7f6b350>\n",
      "<keras.layers.convolutional.Conv2D object at 0x7fdb3e36f110>\n",
      "<keras.layers.pooling.MaxPooling2D object at 0x7fdc6791b750>\n",
      "<keras.layers.convolutional.Conv2D object at 0x7fdc6791efd0>\n",
      "<keras.layers.convolutional.Conv2D object at 0x7fdc6791b350>\n",
      "<keras.layers.pooling.MaxPooling2D object at 0x7fdc679972d0>\n",
      "<keras.layers.convolutional.Conv2D object at 0x7fdc6792a350>\n",
      "<keras.layers.convolutional.Conv2D object at 0x7fdc6792f0d0>\n",
      "<keras.layers.convolutional.Conv2D object at 0x7fdc67922c10>\n",
      "<keras.layers.pooling.MaxPooling2D object at 0x7fdc679357d0>\n",
      "<keras.layers.convolutional.Conv2D object at 0x7fdc6793b910>\n",
      "<keras.layers.convolutional.Conv2D object at 0x7fdc6793b5d0>\n",
      "<keras.layers.convolutional.Conv2D object at 0x7fdc67922850>\n",
      "<keras.layers.pooling.MaxPooling2D object at 0x7fdc6794e410>\n",
      "<keras.layers.convolutional.Conv2D object at 0x7fdc67948ad0>\n",
      "<keras.layers.convolutional.Conv2D object at 0x7fdc67935110>\n",
      "<keras.layers.convolutional.Conv2D object at 0x7fdc67958350>\n",
      "<keras.layers.pooling.MaxPooling2D object at 0x7fdc678df2d0>\n"
     ]
    }
   ],
   "source": [
    "for layers in (vggmodel.layers)[:19]:\n",
    "    print(layers)\n",
    "    layers.trainable = False"
   ]
  },
  {
   "cell_type": "code",
   "execution_count": null,
   "metadata": {
    "id": "-o90d7BItxUZ"
   },
   "outputs": [],
   "source": [
    "X= vggmodel.layers[-2].output\n",
    "predictions = Dense(n_cat, activation=\"softmax\")(X)\n",
    "model_final = Model(inputs = vggmodel.input, outputs = predictions)"
   ]
  },
  {
   "cell_type": "code",
   "execution_count": null,
   "metadata": {
    "colab": {
     "base_uri": "https://localhost:8080/"
    },
    "id": "4W2W0ok4t1ar",
    "outputId": "a7976ca7-6595-4248-fb7b-a0c4a33b187f"
   },
   "outputs": [
    {
     "name": "stdout",
     "output_type": "stream",
     "text": [
      "Model: \"model\"\n",
      "_________________________________________________________________\n",
      " Layer (type)                Output Shape              Param #   \n",
      "=================================================================\n",
      " input_2 (InputLayer)        [(None, 224, 224, 3)]     0         \n",
      "                                                                 \n",
      " block1_conv1 (Conv2D)       (None, 224, 224, 64)      1792      \n",
      "                                                                 \n",
      " block1_conv2 (Conv2D)       (None, 224, 224, 64)      36928     \n",
      "                                                                 \n",
      " block1_pool (MaxPooling2D)  (None, 112, 112, 64)      0         \n",
      "                                                                 \n",
      " block2_conv1 (Conv2D)       (None, 112, 112, 128)     73856     \n",
      "                                                                 \n",
      " block2_conv2 (Conv2D)       (None, 112, 112, 128)     147584    \n",
      "                                                                 \n",
      " block2_pool (MaxPooling2D)  (None, 56, 56, 128)       0         \n",
      "                                                                 \n",
      " block3_conv1 (Conv2D)       (None, 56, 56, 256)       295168    \n",
      "                                                                 \n",
      " block3_conv2 (Conv2D)       (None, 56, 56, 256)       590080    \n",
      "                                                                 \n",
      " block3_conv3 (Conv2D)       (None, 56, 56, 256)       590080    \n",
      "                                                                 \n",
      " block3_pool (MaxPooling2D)  (None, 28, 28, 256)       0         \n",
      "                                                                 \n",
      " block4_conv1 (Conv2D)       (None, 28, 28, 512)       1180160   \n",
      "                                                                 \n",
      " block4_conv2 (Conv2D)       (None, 28, 28, 512)       2359808   \n",
      "                                                                 \n",
      " block4_conv3 (Conv2D)       (None, 28, 28, 512)       2359808   \n",
      "                                                                 \n",
      " block4_pool (MaxPooling2D)  (None, 14, 14, 512)       0         \n",
      "                                                                 \n",
      " block5_conv1 (Conv2D)       (None, 14, 14, 512)       2359808   \n",
      "                                                                 \n",
      " block5_conv2 (Conv2D)       (None, 14, 14, 512)       2359808   \n",
      "                                                                 \n",
      " block5_conv3 (Conv2D)       (None, 14, 14, 512)       2359808   \n",
      "                                                                 \n",
      " block5_pool (MaxPooling2D)  (None, 7, 7, 512)         0         \n",
      "                                                                 \n",
      " flatten (Flatten)           (None, 25088)             0         \n",
      "                                                                 \n",
      " fc1 (Dense)                 (None, 4096)              102764544 \n",
      "                                                                 \n",
      " fc2 (Dense)                 (None, 4096)              16781312  \n",
      "                                                                 \n",
      " dense (Dense)               (None, 9)                 36873     \n",
      "                                                                 \n",
      "=================================================================\n",
      "Total params: 134,297,417\n",
      "Trainable params: 119,582,729\n",
      "Non-trainable params: 14,714,688\n",
      "_________________________________________________________________\n"
     ]
    },
    {
     "name": "stderr",
     "output_type": "stream",
     "text": [
      "/usr/local/lib/python3.7/dist-packages/keras/optimizer_v2/gradient_descent.py:102: UserWarning: The `lr` argument is deprecated, use `learning_rate` instead.\n",
      "  super(SGD, self).__init__(name, **kwargs)\n"
     ]
    }
   ],
   "source": [
    "from tensorflow.keras import optimizers\n",
    "model_final.compile(loss = 'categorical_crossentropy', \n",
    "                    optimizer = optimizers.SGD(lr=0.0001, momentum=0.9), \n",
    "                    metrics=[\"accuracy\"])\n",
    "model_final.summary()"
   ]
  },
  {
   "cell_type": "code",
   "execution_count": null,
   "metadata": {
    "id": "BC-mJWvE3gy4"
   },
   "outputs": [],
   "source": [
    "# from tensorflow.keras import optimizers\n",
    "# initial_learning_rate = 0.001\n",
    "# lr_schedule = optimizers.schedules.ExponentialDecay(\n",
    "# initial_learning_rate,\n",
    "# decay_steps = 5000,\n",
    "# decay_rate  = 0.7\n",
    "# )\n",
    "# opt = optimizers.Adam(learning_rate = lr_schedule)\n",
    "\n",
    "# model_fianl.compile(loss = 'categorical_crossentropy', \n",
    "#               optimizer = 'adam', metrics= ['accuracy'])"
   ]
  },
  {
   "cell_type": "markdown",
   "metadata": {
    "id": "wpmG1abbv2jh"
   },
   "source": [
    "## training the model"
   ]
  },
  {
   "cell_type": "code",
   "execution_count": null,
   "metadata": {
    "id": "rl9brpbnDqxC"
   },
   "outputs": [],
   "source": [
    "# loading the mdoel from the last checkpoint\n",
    "from tensorflow.keras.models import load_model\n",
    "model_final = load_model('models/VGG/vgg16_model_4.h5')"
   ]
  },
  {
   "cell_type": "code",
   "execution_count": null,
   "metadata": {
    "id": "mOilmM-2935E"
   },
   "outputs": [],
   "source": [
    "from tensorflow.keras.callbacks import ModelCheckpoint, EarlyStopping\n",
    "metric = 'val_accuracy'\n",
    "steps_per_epoch = validation_generator.samples//validation_generator.batch_size\n",
    "\n",
    "checkpoint = ModelCheckpoint(filepath=\"models/vgg16_model.h5\",\n",
    "                             monitor = metric,\n",
    "                             verbose=1, save_best_only=True, \n",
    "                             save_weights_only=False, \n",
    "                             mode='auto', \n",
    "                             save_freq=steps_per_epoch)\n",
    "\n",
    "early = EarlyStopping(monitor=metric, patience=40,\n",
    "                      verbose=1, mode='auto')\n"
   ]
  },
  {
   "cell_type": "code",
   "execution_count": null,
   "metadata": {
    "colab": {
     "base_uri": "https://localhost:8080/"
    },
    "id": "o_TMKK9G_VdH",
    "outputId": "ba4aebd4-8561-4a8d-ea61-26a02081a387"
   },
   "outputs": [
    {
     "name": "stdout",
     "output_type": "stream",
     "text": [
      "Epoch 1/100\n",
      "2/2 [==============================] - 22s 16s/step - loss: 2.0007 - accuracy: 0.3594 - val_loss: 2.3024 - val_accuracy: 0.2188\n",
      "Epoch 2/100\n",
      "2/2 [==============================] - 29s 19s/step - loss: 1.9001 - accuracy: 0.3125 - val_loss: 2.2256 - val_accuracy: 0.1562\n",
      "Epoch 3/100\n",
      "2/2 [==============================] - 26s 17s/step - loss: 1.9500 - accuracy: 0.3125 - val_loss: 2.3643 - val_accuracy: 0.1250\n",
      "Epoch 4/100\n",
      "2/2 [==============================] - 24s 16s/step - loss: 1.9188 - accuracy: 0.3125 - val_loss: 2.1428 - val_accuracy: 0.2500\n",
      "Epoch 5/100\n",
      "2/2 [==============================] - 26s 19s/step - loss: 1.9715 - accuracy: 0.2500 - val_loss: 1.8913 - val_accuracy: 0.2188\n",
      "Epoch 6/100\n",
      "2/2 [==============================] - 26s 17s/step - loss: 1.9942 - accuracy: 0.2344 - val_loss: 2.0605 - val_accuracy: 0.0938\n",
      "Epoch 7/100\n",
      "2/2 [==============================] - 25s 18s/step - loss: 1.9623 - accuracy: 0.3125 - val_loss: 2.0465 - val_accuracy: 0.2188\n",
      "Epoch 8/100\n",
      "2/2 [==============================] - 27s 19s/step - loss: 1.8347 - accuracy: 0.3438 - val_loss: 2.0481 - val_accuracy: 0.2812\n",
      "Epoch 9/100\n",
      "2/2 [==============================] - 27s 18s/step - loss: 1.9962 - accuracy: 0.2656 - val_loss: 2.2837 - val_accuracy: 0.0938\n",
      "Epoch 10/100\n",
      "2/2 [==============================] - 25s 18s/step - loss: 2.1400 - accuracy: 0.3438 - val_loss: 2.6932 - val_accuracy: 0.0938\n",
      "Epoch 11/100\n",
      "2/2 [==============================] - 29s 18s/step - loss: 2.0315 - accuracy: 0.2656 - val_loss: 2.1232 - val_accuracy: 0.0625\n",
      "Epoch 12/100\n",
      "2/2 [==============================] - 26s 17s/step - loss: 1.8751 - accuracy: 0.3438 - val_loss: 2.1047 - val_accuracy: 0.1562\n",
      "Epoch 13/100\n",
      "2/2 [==============================] - 25s 16s/step - loss: 1.9156 - accuracy: 0.2812 - val_loss: 1.8834 - val_accuracy: 0.1875\n",
      "Epoch 14/100\n",
      "2/2 [==============================] - 23s 17s/step - loss: 1.9426 - accuracy: 0.2969 - val_loss: 1.8199 - val_accuracy: 0.2188\n",
      "Epoch 15/100\n",
      "2/2 [==============================] - 27s 18s/step - loss: 1.9540 - accuracy: 0.2812 - val_loss: 2.1553 - val_accuracy: 0.1875\n",
      "Epoch 16/100\n",
      "2/2 [==============================] - 25s 16s/step - loss: 1.9776 - accuracy: 0.2656 - val_loss: 2.1343 - val_accuracy: 0.2188\n",
      "Epoch 17/100\n",
      "2/2 [==============================] - 24s 17s/step - loss: 1.9585 - accuracy: 0.1875 - val_loss: 2.1400 - val_accuracy: 0.1250\n",
      "Epoch 18/100\n",
      "2/2 [==============================] - 21s 13s/step - loss: 2.1175 - accuracy: 0.1719 - val_loss: 2.2309 - val_accuracy: 0.1250\n",
      "Epoch 19/100\n",
      "2/2 [==============================] - 26s 19s/step - loss: 1.9852 - accuracy: 0.2656 - val_loss: 2.0071 - val_accuracy: 0.2188\n",
      "Epoch 20/100\n",
      "2/2 [==============================] - 25s 16s/step - loss: 1.8422 - accuracy: 0.2500 - val_loss: 2.2177 - val_accuracy: 0.0625\n",
      "Epoch 21/100\n",
      "2/2 [==============================] - 21s 14s/step - loss: 2.0147 - accuracy: 0.3438 - val_loss: 2.2940 - val_accuracy: 0.2500\n",
      "Epoch 22/100\n",
      "2/2 [==============================] - 25s 16s/step - loss: 2.1909 - accuracy: 0.2500 - val_loss: 2.2716 - val_accuracy: 0.1875\n",
      "Epoch 23/100\n",
      "2/2 [==============================] - 24s 16s/step - loss: 2.0044 - accuracy: 0.2344 - val_loss: 2.2159 - val_accuracy: 0.0938\n",
      "Epoch 24/100\n",
      "2/2 [==============================] - 24s 16s/step - loss: 2.1258 - accuracy: 0.0625 - val_loss: 2.0822 - val_accuracy: 0.2500\n",
      "Epoch 25/100\n",
      "2/2 [==============================] - 23s 16s/step - loss: 1.9719 - accuracy: 0.1406 - val_loss: 2.2082 - val_accuracy: 0.1250\n",
      "Epoch 26/100\n",
      "1/2 [==============>...............] - ETA: 8s - loss: 2.2483 - accuracy: 0.1250WARNING:tensorflow:Can save best model only with val_accuracy available, skipping.\n",
      "2/2 [==============================] - 25s 17s/step - loss: 2.1527 - accuracy: 0.2031 - val_loss: 2.1228 - val_accuracy: 0.1562\n",
      "Epoch 27/100\n",
      "2/2 [==============================] - 25s 15s/step - loss: 1.8902 - accuracy: 0.3438 - val_loss: 2.2429 - val_accuracy: 0.1875\n",
      "Epoch 28/100\n",
      "2/2 [==============================] - 25s 16s/step - loss: 1.8708 - accuracy: 0.4062 - val_loss: 2.1357 - val_accuracy: 0.1562\n",
      "Epoch 29/100\n",
      "2/2 [==============================] - 24s 17s/step - loss: 1.9189 - accuracy: 0.3594 - val_loss: 2.0838 - val_accuracy: 0.1875\n",
      "Epoch 30/100\n",
      "2/2 [==============================] - 25s 17s/step - loss: 1.9550 - accuracy: 0.3125 - val_loss: 1.8237 - val_accuracy: 0.2812\n",
      "Epoch 31/100\n",
      "2/2 [==============================] - 19s 13s/step - loss: 1.8367 - accuracy: 0.3438 - val_loss: 2.0897 - val_accuracy: 0.1875\n",
      "Epoch 32/100\n",
      "2/2 [==============================] - 26s 18s/step - loss: 1.9618 - accuracy: 0.2812 - val_loss: 2.3854 - val_accuracy: 0.1875\n",
      "Epoch 33/100\n",
      "2/2 [==============================] - 23s 16s/step - loss: 1.8874 - accuracy: 0.2969 - val_loss: 2.1275 - val_accuracy: 0.1562\n",
      "Epoch 34/100\n",
      "2/2 [==============================] - 24s 16s/step - loss: 2.1219 - accuracy: 0.2969 - val_loss: 2.1008 - val_accuracy: 0.1562\n",
      "Epoch 35/100\n",
      "2/2 [==============================] - 20s 14s/step - loss: 1.9743 - accuracy: 0.2344 - val_loss: 2.2049 - val_accuracy: 0.1875\n",
      "Epoch 36/100\n",
      "2/2 [==============================] - 25s 16s/step - loss: 1.8564 - accuracy: 0.3438 - val_loss: 2.0653 - val_accuracy: 0.1250\n",
      "Epoch 37/100\n",
      "2/2 [==============================] - 23s 16s/step - loss: 2.0673 - accuracy: 0.2969 - val_loss: 2.1972 - val_accuracy: 0.1875\n",
      "Epoch 38/100\n",
      "2/2 [==============================] - 23s 16s/step - loss: 2.0931 - accuracy: 0.3125 - val_loss: 1.8731 - val_accuracy: 0.3438\n",
      "Epoch 39/100\n",
      "2/2 [==============================] - 22s 15s/step - loss: 1.8381 - accuracy: 0.2656 - val_loss: 1.8811 - val_accuracy: 0.1875\n",
      "Epoch 40/100\n",
      "2/2 [==============================] - 23s 16s/step - loss: 2.0826 - accuracy: 0.2812 - val_loss: 2.0922 - val_accuracy: 0.2500\n",
      "Epoch 41/100\n",
      "2/2 [==============================] - 25s 16s/step - loss: 1.8668 - accuracy: 0.2656 - val_loss: 1.9941 - val_accuracy: 0.1562\n",
      "Epoch 42/100\n",
      "2/2 [==============================] - 22s 13s/step - loss: 1.9317 - accuracy: 0.2812 - val_loss: 1.9412 - val_accuracy: 0.2188\n",
      "Epoch 43/100\n",
      "2/2 [==============================] - 21s 13s/step - loss: 1.7883 - accuracy: 0.4844 - val_loss: 2.1858 - val_accuracy: 0.1250\n",
      "Epoch 44/100\n",
      "2/2 [==============================] - 22s 14s/step - loss: 1.9824 - accuracy: 0.3594 - val_loss: 2.2375 - val_accuracy: 0.2500\n",
      "Epoch 45/100\n",
      "2/2 [==============================] - 18s 10s/step - loss: 2.0169 - accuracy: 0.2969 - val_loss: 1.9004 - val_accuracy: 0.3125\n",
      "Epoch 46/100\n",
      "2/2 [==============================] - 28s 19s/step - loss: 1.9261 - accuracy: 0.2812 - val_loss: 2.0080 - val_accuracy: 0.1875\n",
      "Epoch 47/100\n",
      "2/2 [==============================] - 21s 14s/step - loss: 1.9404 - accuracy: 0.1875 - val_loss: 1.9954 - val_accuracy: 0.1562\n",
      "Epoch 48/100\n",
      "2/2 [==============================] - 25s 15s/step - loss: 1.9702 - accuracy: 0.1406 - val_loss: 1.9411 - val_accuracy: 0.1875\n",
      "Epoch 49/100\n",
      "2/2 [==============================] - 22s 15s/step - loss: 2.1325 - accuracy: 0.2344 - val_loss: 1.9715 - val_accuracy: 0.1875\n",
      "Epoch 50/100\n",
      "2/2 [==============================] - 21s 13s/step - loss: 2.0086 - accuracy: 0.3125 - val_loss: 2.0234 - val_accuracy: 0.2188\n",
      "Epoch 51/100\n",
      "2/2 [==============================] - 19s 12s/step - loss: 1.9572 - accuracy: 0.1562 - val_loss: 1.9885 - val_accuracy: 0.1875\n",
      "Epoch 52/100\n",
      "2/2 [==============================] - 21s 13s/step - loss: 1.8931 - accuracy: 0.2500 - val_loss: 2.1674 - val_accuracy: 0.1562\n",
      "Epoch 53/100\n",
      "2/2 [==============================] - 27s 19s/step - loss: 2.2300 - accuracy: 0.1562 - val_loss: 2.1648 - val_accuracy: 0.0000e+00\n",
      "Epoch 54/100\n",
      "2/2 [==============================] - 24s 15s/step - loss: 2.0338 - accuracy: 0.1406 - val_loss: 1.9695 - val_accuracy: 0.1875\n",
      "Epoch 55/100\n",
      "2/2 [==============================] - 21s 15s/step - loss: 1.9893 - accuracy: 0.3125 - val_loss: 2.2476 - val_accuracy: 0.0938\n",
      "Epoch 56/100\n",
      "2/2 [==============================] - 19s 12s/step - loss: 1.8369 - accuracy: 0.3750 - val_loss: 2.3654 - val_accuracy: 0.0938\n",
      "Epoch 57/100\n",
      "2/2 [==============================] - 21s 14s/step - loss: 1.9488 - accuracy: 0.3125 - val_loss: 2.3213 - val_accuracy: 0.1250\n",
      "Epoch 58/100\n",
      "2/2 [==============================] - 19s 11s/step - loss: 1.9103 - accuracy: 0.3125 - val_loss: 2.1255 - val_accuracy: 0.1250\n",
      "Epoch 59/100\n",
      "2/2 [==============================] - 23s 15s/step - loss: 2.0528 - accuracy: 0.1875 - val_loss: 1.8366 - val_accuracy: 0.2500\n",
      "Epoch 60/100\n",
      "2/2 [==============================] - 19s 12s/step - loss: 1.8844 - accuracy: 0.2188 - val_loss: 2.0047 - val_accuracy: 0.2500\n",
      "Epoch 61/100\n",
      "2/2 [==============================] - 24s 17s/step - loss: 1.8595 - accuracy: 0.1719 - val_loss: 2.1668 - val_accuracy: 0.0625\n",
      "Epoch 62/100\n",
      "2/2 [==============================] - 26s 17s/step - loss: 1.8969 - accuracy: 0.3438 - val_loss: 2.6137 - val_accuracy: 0.0938\n",
      "Epoch 63/100\n",
      "2/2 [==============================] - 19s 13s/step - loss: 2.1058 - accuracy: 0.2812 - val_loss: 2.1692 - val_accuracy: 0.2188\n",
      "Epoch 64/100\n",
      "2/2 [==============================] - 22s 15s/step - loss: 1.9802 - accuracy: 0.3125 - val_loss: 2.0688 - val_accuracy: 0.2188\n",
      "Epoch 65/100\n",
      "2/2 [==============================] - 19s 11s/step - loss: 1.8067 - accuracy: 0.3750 - val_loss: 2.1453 - val_accuracy: 0.2812\n",
      "Epoch 66/100\n",
      "2/2 [==============================] - 16s 10s/step - loss: 2.0156 - accuracy: 0.2812 - val_loss: 1.9884 - val_accuracy: 0.1562\n",
      "Epoch 67/100\n",
      "2/2 [==============================] - 20s 12s/step - loss: 1.8282 - accuracy: 0.3906 - val_loss: 1.9511 - val_accuracy: 0.2500\n",
      "Epoch 68/100\n",
      "2/2 [==============================] - 19s 12s/step - loss: 2.1367 - accuracy: 0.1875 - val_loss: 2.1658 - val_accuracy: 0.1250\n",
      "Epoch 69/100\n",
      "2/2 [==============================] - 20s 12s/step - loss: 2.0377 - accuracy: 0.2500 - val_loss: 2.0659 - val_accuracy: 0.1562\n",
      "Epoch 70/100\n",
      "2/2 [==============================] - 24s 16s/step - loss: 1.9223 - accuracy: 0.3438 - val_loss: 2.0625 - val_accuracy: 0.1250\n",
      "Epoch 71/100\n",
      "2/2 [==============================] - 18s 12s/step - loss: 1.9700 - accuracy: 0.3438 - val_loss: 2.0530 - val_accuracy: 0.2500\n",
      "Epoch 72/100\n",
      "2/2 [==============================] - 24s 15s/step - loss: 1.9479 - accuracy: 0.2500 - val_loss: 2.1744 - val_accuracy: 0.1875\n",
      "Epoch 73/100\n",
      "2/2 [==============================] - 19s 13s/step - loss: 1.9168 - accuracy: 0.2969 - val_loss: 2.1372 - val_accuracy: 0.2188\n",
      "Epoch 74/100\n",
      "2/2 [==============================] - 18s 11s/step - loss: 1.9413 - accuracy: 0.2812 - val_loss: 2.0347 - val_accuracy: 0.1875\n",
      "Epoch 75/100\n",
      "2/2 [==============================] - 22s 14s/step - loss: 1.8977 - accuracy: 0.3750 - val_loss: 2.1466 - val_accuracy: 0.2500\n",
      "Epoch 76/100\n",
      "2/2 [==============================] - 18s 11s/step - loss: 1.9868 - accuracy: 0.2656 - val_loss: 2.1665 - val_accuracy: 0.1250\n",
      "Epoch 77/100\n",
      "2/2 [==============================] - 20s 12s/step - loss: 1.9866 - accuracy: 0.2344 - val_loss: 2.0523 - val_accuracy: 0.0938\n",
      "Epoch 78/100\n",
      "2/2 [==============================] - 21s 14s/step - loss: 1.8122 - accuracy: 0.3125 - val_loss: 2.0125 - val_accuracy: 0.0625\n",
      "Epoch 78: early stopping\n"
     ]
    }
   ],
   "source": [
    "# now model.fit do the same job as model.fit_generator\n",
    "history_vgg = model_final.fit(train_generator,\n",
    "                              steps_per_epoch= 2, #train_generator.samples//train_generator.batch_size, \n",
    "                              epochs= 100,\n",
    "                              validation_data= validation_generator,\n",
    "                              validation_steps=1, #validation_generator.samples//validation_generator.batch_size,\n",
    "                              callbacks=[checkpoint, early],\n",
    "                              verbose = 1\n",
    "                              )\n",
    "model_final.save('models/VGG/vgg16_model_7.h5')"
   ]
  },
  {
   "cell_type": "markdown",
   "metadata": {
    "id": "Oh9WzIHEwNwt"
   },
   "source": [
    "## Visualization"
   ]
  },
  {
   "cell_type": "code",
   "execution_count": null,
   "metadata": {
    "id": "wtJ06lMG0ywn"
   },
   "outputs": [],
   "source": [
    "def plot_history(history, title='', axs=None, exp_name=\"\"):\n",
    "    if axs is not None:\n",
    "        ax1, ax2 = axs\n",
    "    else:\n",
    "        f, (ax1, ax2) = plt.subplots(1, 2, figsize=(12, 4))\n",
    "    \n",
    "    if len(exp_name) > 0 and exp_name[0] != '_':\n",
    "        exp_name = '_' + exp_name\n",
    "    ax1.plot(history.history['loss'], label='train' + exp_name)\n",
    "    ax1.plot(history.history['val_loss'], label='val' + exp_name)\n",
    "    ax1.set_ylim(0., 2.2)\n",
    "    ax1.set_title('loss')\n",
    "    ax1.legend()\n",
    "\n",
    "    ax2.plot(history.history['accuracy'], label='train accuracy'  + exp_name)\n",
    "    ax2.plot(history.history['val_accuracy'], label='val accuracy'  + exp_name)\n",
    "    ax2.set_ylim(0.1, 1.)\n",
    "    ax2.set_title('Accuracy')\n",
    "    ax2.legend()\n",
    "    return (ax1, ax2)"
   ]
  },
  {
   "cell_type": "code",
   "execution_count": null,
   "metadata": {
    "colab": {
     "base_uri": "https://localhost:8080/",
     "height": 317
    },
    "id": "MjpPMqff0xws",
    "outputId": "5f92acd0-26d9-4955-9b37-3687d42c375a"
   },
   "outputs": [
    {
     "data": {
      "text/plain": [
       "(<matplotlib.axes._subplots.AxesSubplot at 0x7fdab6c77e10>,\n",
       " <matplotlib.axes._subplots.AxesSubplot at 0x7fdbd4d37d50>)"
      ]
     },
     "execution_count": 26,
     "metadata": {},
     "output_type": "execute_result"
    },
    {
     "data": {
      "image/png": "[encoded data removed]",
      "text/plain": [
       "<Figure size 864x288 with 2 Axes>"
      ]
     },
     "metadata": {
      "needs_background": "light"
     },
     "output_type": "display_data"
    }
   ],
   "source": [
    "# learning curves\n",
    "plot_history(history_vgg, title='', axs=None, exp_name=\"\")"
   ]
  },
  {
   "cell_type": "code",
   "execution_count": null,
   "metadata": {
    "id": "8gtbXCv6wWEj"
   },
   "outputs": [],
   "source": [
    "import seaborn as sns\n",
    "import matplotlib as mpl\n",
    "mpl.style.use('seaborn')\n",
    "\n",
    "fig, axes = plt.subplots(1, 2, figsize = (10, 5))\n",
    "axes[0].plot(range(1, len(model_final.history_vgg.history['accuracy']) + 1), model_final.history_vgg.history['accuracy'], linestyle = 'solid', marker = 'o', color = 'crimson', label = 'Training Accuracy')\n",
    "axes[0].plot(range(1, len(model_final.history_vgg.history['val_accuracy']) + 1), model_final.history_vgg.history['val_accuracy'], linestyle = 'solid', marker = 'o', color = 'dodgerblue', label = 'Validation Accuracy')\n",
    "axes[0].set_xlabel('Epochs', fontsize = 14)\n",
    "axes[0].set_ylabel('Accuracy',fontsize = 14)\n",
    "axes[0].set_title('CNN Dropout Accuracy Trainig VS Validation', fontsize = 14)\n",
    "axes[0].legend(loc = 'best')\n",
    "axes[1].plot(range(1, len(model_final.history_vgg.history['loss']) + 1), model_final.history_vgg.history['loss'], linestyle = 'solid', marker = 'o', color = 'crimson', label = 'Training Loss')\n",
    "axes[1].plot(range(1, len(model_final.history_vgg.history['val_loss']) + 1), model_final.history_vgg.history['val_loss'], linestyle = 'solid', marker = 'o', color = 'dodgerblue', label = 'Validation Loss')\n",
    "axes[1].set_xlabel('Epochs', fontsize = 14)\n",
    "axes[1].set_ylabel('Loss',fontsize = 14)\n",
    "axes[1].set_title('CNN Dropout Loss Trainig VS Validation', fontsize = 14)\n",
    "axes[1].legend(loc = 'best')"
   ]
  },
  {
   "cell_type": "code",
   "execution_count": null,
   "metadata": {
    "id": "FYiEMKyOwWqo"
   },
   "outputs": [],
   "source": [
    "plt.plot(history_vgg.history[\"accuracy\"])\n",
    "plt.plot(history_vgg.history['val_accuracy'])\n",
    "plt.plot(history_vgg.history['loss'])\n",
    "plt.plot(history_vgg.history['val_loss'])\n",
    "plt.title(\"model accuracy\")\n",
    "plt.ylabel(\"Accuracy\")\n",
    "plt.xlabel(\"Epoch\")\n",
    "plt.legend([\"Accuracy\",\"Validation Accuracy\",\"loss\",\"Validation Loss\"])\n",
    "plt.show()"
   ]
  },
  {
   "cell_type": "markdown",
   "metadata": {
    "id": "kxchgryxzoke"
   },
   "source": [
    "## Evaluating the model"
   ]
  },
  {
   "cell_type": "code",
   "execution_count": null,
   "metadata": {
    "colab": {
     "base_uri": "https://localhost:8080/",
     "height": 1000
    },
    "id": "el7gMoLKzq_R",
    "outputId": "4474a6fa-7457-4d71-a917-bbde2b9dff7e"
   },
   "outputs": [
    {
     "name": "stdout",
     "output_type": "stream",
     "text": [
      "Found 15804 images belonging to 9 classes.\n"
     ]
    },
    {
     "ename": "InvalidArgumentError",
     "evalue": "ignored",
     "output_type": "error",
     "traceback": [
      "\u001b[0;31m---------------------------------------------------------------------------\u001b[0m",
      "\u001b[0;31mInvalidArgumentError\u001b[0m                      Traceback (most recent call last)",
      "\u001b[0;32m<ipython-input-27-7cd834774d3b>\u001b[0m in \u001b[0;36m<module>\u001b[0;34m()\u001b[0m\n\u001b[1;32m      3\u001b[0m                                                   batch_size=batch_size)\n\u001b[1;32m      4\u001b[0m \u001b[0;34m\u001b[0m\u001b[0m\n\u001b[0;32m----> 5\u001b[0;31m \u001b[0m_\u001b[0m\u001b[0;34m,\u001b[0m \u001b[0macc\u001b[0m \u001b[0;34m=\u001b[0m \u001b[0mmodel_final\u001b[0m\u001b[0;34m.\u001b[0m\u001b[0mevaluate\u001b[0m\u001b[0;34m(\u001b[0m\u001b[0mtest_generator\u001b[0m\u001b[0;34m,\u001b[0m \u001b[0msteps\u001b[0m \u001b[0;34m=\u001b[0m\u001b[0;36m100\u001b[0m\u001b[0;34m,\u001b[0m  \u001b[0mverbose\u001b[0m\u001b[0;34m=\u001b[0m\u001b[0;36m1\u001b[0m\u001b[0;34m)\u001b[0m\u001b[0;34m\u001b[0m\u001b[0;34m\u001b[0m\u001b[0m\n\u001b[0m\u001b[1;32m      6\u001b[0m \u001b[0;34m\u001b[0m\u001b[0m\n\u001b[1;32m      7\u001b[0m \u001b[0mprint\u001b[0m\u001b[0;34m(\u001b[0m\u001b[0;34m'> %.3f'\u001b[0m \u001b[0;34m%\u001b[0m \u001b[0;34m(\u001b[0m\u001b[0macc\u001b[0m \u001b[0;34m*\u001b[0m \u001b[0;36m100.0\u001b[0m\u001b[0;34m)\u001b[0m\u001b[0;34m)\u001b[0m\u001b[0;34m\u001b[0m\u001b[0;34m\u001b[0m\u001b[0m\n",
      "\u001b[0;32m/usr/local/lib/python3.7/dist-packages/keras/utils/traceback_utils.py\u001b[0m in \u001b[0;36merror_handler\u001b[0;34m(*args, **kwargs)\u001b[0m\n\u001b[1;32m     65\u001b[0m     \u001b[0;32mexcept\u001b[0m \u001b[0mException\u001b[0m \u001b[0;32mas\u001b[0m \u001b[0me\u001b[0m\u001b[0;34m:\u001b[0m  \u001b[0;31m# pylint: disable=broad-except\u001b[0m\u001b[0;34m\u001b[0m\u001b[0;34m\u001b[0m\u001b[0m\n\u001b[1;32m     66\u001b[0m       \u001b[0mfiltered_tb\u001b[0m \u001b[0;34m=\u001b[0m \u001b[0m_process_traceback_frames\u001b[0m\u001b[0;34m(\u001b[0m\u001b[0me\u001b[0m\u001b[0;34m.\u001b[0m\u001b[0m__traceback__\u001b[0m\u001b[0;34m)\u001b[0m\u001b[0;34m\u001b[0m\u001b[0;34m\u001b[0m\u001b[0m\n\u001b[0;32m---> 67\u001b[0;31m       \u001b[0;32mraise\u001b[0m \u001b[0me\u001b[0m\u001b[0;34m.\u001b[0m\u001b[0mwith_traceback\u001b[0m\u001b[0;34m(\u001b[0m\u001b[0mfiltered_tb\u001b[0m\u001b[0;34m)\u001b[0m \u001b[0;32mfrom\u001b[0m \u001b[0;32mNone\u001b[0m\u001b[0;34m\u001b[0m\u001b[0;34m\u001b[0m\u001b[0m\n\u001b[0m\u001b[1;32m     68\u001b[0m     \u001b[0;32mfinally\u001b[0m\u001b[0;34m:\u001b[0m\u001b[0;34m\u001b[0m\u001b[0;34m\u001b[0m\u001b[0m\n\u001b[1;32m     69\u001b[0m       \u001b[0;32mdel\u001b[0m \u001b[0mfiltered_tb\u001b[0m\u001b[0;34m\u001b[0m\u001b[0;34m\u001b[0m\u001b[0m\n",
      "\u001b[0;32m/usr/local/lib/python3.7/dist-packages/tensorflow/python/eager/execute.py\u001b[0m in \u001b[0;36mquick_execute\u001b[0;34m(op_name, num_outputs, inputs, attrs, ctx, name)\u001b[0m\n\u001b[1;32m     53\u001b[0m     \u001b[0mctx\u001b[0m\u001b[0;34m.\u001b[0m\u001b[0mensure_initialized\u001b[0m\u001b[0;34m(\u001b[0m\u001b[0;34m)\u001b[0m\u001b[0;34m\u001b[0m\u001b[0;34m\u001b[0m\u001b[0m\n\u001b[1;32m     54\u001b[0m     tensors = pywrap_tfe.TFE_Py_Execute(ctx._handle, device_name, op_name,\n\u001b[0;32m---> 55\u001b[0;31m                                         inputs, attrs, num_outputs)\n\u001b[0m\u001b[1;32m     56\u001b[0m   \u001b[0;32mexcept\u001b[0m \u001b[0mcore\u001b[0m\u001b[0;34m.\u001b[0m\u001b[0m_NotOkStatusException\u001b[0m \u001b[0;32mas\u001b[0m \u001b[0me\u001b[0m\u001b[0;34m:\u001b[0m\u001b[0;34m\u001b[0m\u001b[0;34m\u001b[0m\u001b[0m\n\u001b[1;32m     57\u001b[0m     \u001b[0;32mif\u001b[0m \u001b[0mname\u001b[0m \u001b[0;32mis\u001b[0m \u001b[0;32mnot\u001b[0m \u001b[0;32mNone\u001b[0m\u001b[0;34m:\u001b[0m\u001b[0;34m\u001b[0m\u001b[0;34m\u001b[0m\u001b[0m\n",
      "\u001b[0;31mInvalidArgumentError\u001b[0m: Graph execution error:\n\nDetected at node 'model/flatten/Reshape' defined at (most recent call last):\n    File \"/usr/lib/python3.7/runpy.py\", line 193, in _run_module_as_main\n      \"__main__\", mod_spec)\n    File \"/usr/lib/python3.7/runpy.py\", line 85, in _run_code\n      exec(code, run_globals)\n    File \"/usr/local/lib/python3.7/dist-packages/ipykernel_launcher.py\", line 16, in <module>\n      app.launch_new_instance()\n    File \"/usr/local/lib/python3.7/dist-packages/traitlets/config/application.py\", line 846, in launch_instance\n      app.start()\n    File \"/usr/local/lib/python3.7/dist-packages/ipykernel/kernelapp.py\", line 499, in start\n      self.io_loop.start()\n    File \"/usr/local/lib/python3.7/dist-packages/tornado/platform/asyncio.py\", line 132, in start\n      self.asyncio_loop.run_forever()\n    File \"/usr/lib/python3.7/asyncio/base_events.py\", line 541, in run_forever\n      self._run_once()\n    File \"/usr/lib/python3.7/asyncio/base_events.py\", line 1786, in _run_once\n      handle._run()\n    File \"/usr/lib/python3.7/asyncio/events.py\", line 88, in _run\n      self._context.run(self._callback, *self._args)\n    File \"/usr/local/lib/python3.7/dist-packages/tornado/platform/asyncio.py\", line 122, in _handle_events\n      handler_func(fileobj, events)\n    File \"/usr/local/lib/python3.7/dist-packages/tornado/stack_context.py\", line 300, in null_wrapper\n      return fn(*args, **kwargs)\n    File \"/usr/local/lib/python3.7/dist-packages/zmq/eventloop/zmqstream.py\", line 452, in _handle_events\n      self._handle_recv()\n    File \"/usr/local/lib/python3.7/dist-packages/zmq/eventloop/zmqstream.py\", line 481, in _handle_recv\n      self._run_callback(callback, msg)\n    File \"/usr/local/lib/python3.7/dist-packages/zmq/eventloop/zmqstream.py\", line 431, in _run_callback\n      callback(*args, **kwargs)\n    File \"/usr/local/lib/python3.7/dist-packages/tornado/stack_context.py\", line 300, in null_wrapper\n      return fn(*args, **kwargs)\n    File \"/usr/local/lib/python3.7/dist-packages/ipykernel/kernelbase.py\", line 283, in dispatcher\n      return self.dispatch_shell(stream, msg)\n    File \"/usr/local/lib/python3.7/dist-packages/ipykernel/kernelbase.py\", line 233, in dispatch_shell\n      handler(stream, idents, msg)\n    File \"/usr/local/lib/python3.7/dist-packages/ipykernel/kernelbase.py\", line 399, in execute_request\n      user_expressions, allow_stdin)\n    File \"/usr/local/lib/python3.7/dist-packages/ipykernel/ipkernel.py\", line 208, in do_execute\n      res = shell.run_cell(code, store_history=store_history, silent=silent)\n    File \"/usr/local/lib/python3.7/dist-packages/ipykernel/zmqshell.py\", line 537, in run_cell\n      return super(ZMQInteractiveShell, self).run_cell(*args, **kwargs)\n    File \"/usr/local/lib/python3.7/dist-packages/IPython/core/interactiveshell.py\", line 2718, in run_cell\n      interactivity=interactivity, compiler=compiler, result=result)\n    File \"/usr/local/lib/python3.7/dist-packages/IPython/core/interactiveshell.py\", line 2822, in run_ast_nodes\n      if self.run_code(code, result):\n    File \"/usr/local/lib/python3.7/dist-packages/IPython/core/interactiveshell.py\", line 2882, in run_code\n      exec(code_obj, self.user_global_ns, self.user_ns)\n    File \"<ipython-input-18-59eefa81bb14>\", line 8, in <module>\n      verbose = 1\n    File \"/usr/local/lib/python3.7/dist-packages/keras/utils/traceback_utils.py\", line 64, in error_handler\n      return fn(*args, **kwargs)\n    File \"/usr/local/lib/python3.7/dist-packages/keras/engine/training.py\", line 1431, in fit\n      _use_cached_eval_dataset=True)\n    File \"/usr/local/lib/python3.7/dist-packages/keras/utils/traceback_utils.py\", line 64, in error_handler\n      return fn(*args, **kwargs)\n    File \"/usr/local/lib/python3.7/dist-packages/keras/engine/training.py\", line 1716, in evaluate\n      tmp_logs = self.test_function(iterator)\n    File \"/usr/local/lib/python3.7/dist-packages/keras/engine/training.py\", line 1525, in test_function\n      return step_function(self, iterator)\n    File \"/usr/local/lib/python3.7/dist-packages/keras/engine/training.py\", line 1514, in step_function\n      outputs = model.distribute_strategy.run(run_step, args=(data,))\n    File \"/usr/local/lib/python3.7/dist-packages/keras/engine/training.py\", line 1507, in run_step\n      outputs = model.test_step(data)\n    File \"/usr/local/lib/python3.7/dist-packages/keras/engine/training.py\", line 1471, in test_step\n      y_pred = self(x, training=False)\n    File \"/usr/local/lib/python3.7/dist-packages/keras/utils/traceback_utils.py\", line 64, in error_handler\n      return fn(*args, **kwargs)\n    File \"/usr/local/lib/python3.7/dist-packages/keras/engine/base_layer.py\", line 1096, in __call__\n      outputs = call_fn(inputs, *args, **kwargs)\n    File \"/usr/local/lib/python3.7/dist-packages/keras/utils/traceback_utils.py\", line 92, in error_handler\n      return fn(*args, **kwargs)\n    File \"/usr/local/lib/python3.7/dist-packages/keras/engine/functional.py\", line 452, in call\n      inputs, training=training, mask=mask)\n    File \"/usr/local/lib/python3.7/dist-packages/keras/engine/functional.py\", line 589, in _run_internal_graph\n      outputs = node.layer(*args, **kwargs)\n    File \"/usr/local/lib/python3.7/dist-packages/keras/utils/traceback_utils.py\", line 64, in error_handler\n      return fn(*args, **kwargs)\n    File \"/usr/local/lib/python3.7/dist-packages/keras/engine/base_layer.py\", line 1096, in __call__\n      outputs = call_fn(inputs, *args, **kwargs)\n    File \"/usr/local/lib/python3.7/dist-packages/keras/utils/traceback_utils.py\", line 92, in error_handler\n      return fn(*args, **kwargs)\n    File \"/usr/local/lib/python3.7/dist-packages/keras/layers/core/flatten.py\", line 96, in call\n      return tf.reshape(inputs, flattened_shape)\nNode: 'model/flatten/Reshape'\nInput to reshape is a tensor with 1048576 values, but the requested shape requires a multiple of 25088\n\t [[{{node model/flatten/Reshape}}]] [Op:__inference_test_function_2054]"
     ]
    }
   ],
   "source": [
    "test_generator = test_datagen.flow_from_directory('data/test/',\n",
    "                                                  class_mode='categorical',\n",
    "                                                  batch_size=batch_size)\n",
    "\n",
    "_, acc = model_final.evaluate(test_generator, steps =100,  verbose=1)\n",
    "\n",
    "print('> %.3f' % (acc * 100.0))"
   ]
  },
  {
   "cell_type": "markdown",
   "metadata": {
    "id": "MvTOfg7o0_c8"
   },
   "source": [
    "## Model prediction"
   ]
  },
  {
   "cell_type": "code",
   "execution_count": null,
   "metadata": {
    "id": "UsBO-kIo1BXL"
   },
   "outputs": [],
   "source": [
    "yhat = model_final.predict_generator(test_generator, steps=100, verbose=1)"
   ]
  }
 ],
 "metadata": {
  "colab": {
   "collapsed_sections": [
    "sQEfVJ8Nv9Bg",
    "GsmPQxInOT6R",
    "NtxppsILN0Ob",
    "OqKW8aY9fETA",
    "1AkiQO9qwiFn"
   ],
   "machine_shape": "hm",
   "name": "DDDS_VGG16.ipynb",
   "provenance": []
  },
  "kernelspec": {
   "display_name": "Python 3 (ipykernel)",
   "language": "python",
   "name": "python3"
  },
  "language_info": {
   "codemirror_mode": {
    "name": "ipython",
    "version": 3
   },
   "file_extension": ".py",
   "mimetype": "text/x-python",
   "name": "python",
   "nbconvert_exporter": "python",
   "pygments_lexer": "ipython3",
   "version": "3.8.12"
  },
  "toc": {
   "base_numbering": 1,
   "nav_menu": {},
   "number_sections": true,
   "sideBar": true,
   "skip_h1_title": false,
   "title_cell": "Table of Contents",
   "title_sidebar": "Contents",
   "toc_cell": false,
   "toc_position": {},
   "toc_section_display": true,
   "toc_window_display": false
  }
 },
 "nbformat": 4,
 "nbformat_minor": 1
}
