{
 "cells": [
  {
   "cell_type": "code",
   "execution_count": 1,
   "id": "39fd8bf8-65da-4bb0-b09e-011e3bef686b",
   "metadata": {},
   "outputs": [],
   "source": [
    "%load_ext autoreload\n",
    "%autoreload 2"
   ]
  },
  {
   "cell_type": "code",
   "execution_count": 13,
   "id": "a6993072-87e0-4e80-bb2d-671f65c0a7fa",
   "metadata": {},
   "outputs": [],
   "source": [
    "from DDDS import face\n",
    "import cv2\n",
    "import numpy as np"
   ]
  },
  {
   "cell_type": "code",
   "execution_count": 9,
   "id": "250f8258-2f54-4c8a-bc6b-86e3b5f542ce",
   "metadata": {},
   "outputs": [],
   "source": [
    "model = face.build_model()"
   ]
  },
  {
   "cell_type": "code",
   "execution_count": 10,
   "id": "fb9a8476-ab9a-4f5f-bea5-0ee1ef0fad5b",
   "metadata": {},
   "outputs": [],
   "source": [
    "frame = cv2.imread('../data/frames/f-029.jpg')"
   ]
  },
  {
   "cell_type": "code",
   "execution_count": 11,
   "id": "57dc2d58-db84-4458-88b8-07ab334cace5",
   "metadata": {},
   "outputs": [
    {
     "name": "stdout",
     "output_type": "stream",
     "text": [
      "WARNING:tensorflow:5 out of the last 14 calls to <function Model.make_predict_function.<locals>.predict_function at 0x7f7800664940> triggered tf.function retracing. Tracing is expensive and the excessive number of tracings could be due to (1) creating @tf.function repeatedly in a loop, (2) passing tensors with different shapes, (3) passing Python objects instead of tensors. For (1), please define your @tf.function outside of the loop. For (2), @tf.function has experimental_relax_shapes=True option that relaxes argument shapes that can avoid unnecessary retracing. For (3), please refer to https://www.tensorflow.org/guide/function#controlling_retracing and https://www.tensorflow.org/api_docs/python/tf/function for  more details.\n",
      "WARNING:tensorflow:6 out of the last 15 calls to <function Model.make_predict_function.<locals>.predict_function at 0x7f7800664940> triggered tf.function retracing. Tracing is expensive and the excessive number of tracings could be due to (1) creating @tf.function repeatedly in a loop, (2) passing tensors with different shapes, (3) passing Python objects instead of tensors. For (1), please define your @tf.function outside of the loop. For (2), @tf.function has experimental_relax_shapes=True option that relaxes argument shapes that can avoid unnecessary retracing. For (3), please refer to https://www.tensorflow.org/guide/function#controlling_retracing and https://www.tensorflow.org/api_docs/python/tf/function for  more details.\n",
      "[1055, 155, 138, 166]\n",
      "(1100, 200)\n"
     ]
    }
   ],
   "source": [
    "crop = face_knn.face_detect(frame)"
   ]
  },
  {
   "cell_type": "code",
   "execution_count": 14,
   "id": "63907c3c-faa7-4a5c-9f4f-98f9e946e2e9",
   "metadata": {},
   "outputs": [],
   "source": [
    "X_pred = np.expand_dims(crop, axis=0)"
   ]
  },
  {
   "cell_type": "code",
   "execution_count": 15,
   "id": "ea5d610f-840a-4494-a60a-132ee1bf38d9",
   "metadata": {},
   "outputs": [
    {
     "data": {
      "text/plain": [
       "array([[0.00695841, 0.00193589, 0.02526542, 0.23824106, 0.10624173,\n",
       "        0.12739828, 0.1404126 , 0.1318026 , 0.10217046, 0.11957355]],\n",
       "      dtype=float32)"
      ]
     },
     "execution_count": 15,
     "metadata": {},
     "output_type": "execute_result"
    }
   ],
   "source": [
    "model.predict(X_pred)"
   ]
  },
  {
   "cell_type": "markdown",
   "id": "467d7cfe-45f8-442a-8e1c-c98e56979d6a",
   "metadata": {},
   "source": [
    "# Video"
   ]
  },
  {
   "cell_type": "code",
   "execution_count": 120,
   "id": "d29596d4-ae88-43ae-9b06-d73e28f2b53d",
   "metadata": {},
   "outputs": [],
   "source": [
    "import os\n",
    "import cv2 as cv\n",
    "from PIL import Image\n",
    "from mtcnn import MTCNN"
   ]
  },
  {
   "cell_type": "code",
   "execution_count": 136,
   "id": "ab6de5a5-f98c-425f-a057-0f21e249c1a2",
   "metadata": {},
   "outputs": [
    {
     "data": {
      "text/plain": [
       "'/home/jan/code/Jackfn96/3DS/data/2021-10-25 10-31-58 c27.flv'"
      ]
     },
     "execution_count": 136,
     "metadata": {},
     "output_type": "execute_result"
    }
   ],
   "source": [
    "video_path = os.path.abspath(os.path.join('..', 'data', '2021-10-25 10-31-58 c27.flv'))\n",
    "video_path"
   ]
  },
  {
   "cell_type": "code",
   "execution_count": 137,
   "id": "fbd9586a-0bd5-4242-adfc-219d366da328",
   "metadata": {},
   "outputs": [],
   "source": [
    "capture = cv.VideoCapture(video_path)"
   ]
  },
  {
   "cell_type": "code",
   "execution_count": 138,
   "id": "46c8bc35-8397-40c2-b7ea-a4a345f2383d",
   "metadata": {},
   "outputs": [],
   "source": [
    "mtcnn = MTCNN()"
   ]
  },
  {
   "cell_type": "code",
   "execution_count": 167,
   "id": "33246629-169b-4144-9513-9684da34eff5",
   "metadata": {},
   "outputs": [],
   "source": [
    "play, frame = capture.read()\n",
    "frame_image = Image.fromarray(frame)"
   ]
  },
  {
   "cell_type": "code",
   "execution_count": 168,
   "id": "658a51eb-7f0e-43ec-b683-2d99eff9c754",
   "metadata": {},
   "outputs": [
    {
     "name": "stdout",
     "output_type": "stream",
     "text": [
      "CPU times: user 1.12 s, sys: 77.3 ms, total: 1.2 s\n",
      "Wall time: 628 ms\n"
     ]
    }
   ],
   "source": [
    "%%time\n",
    "crop_frame = face.face_detect(frame, mtcnn)"
   ]
  },
  {
   "cell_type": "code",
   "execution_count": 169,
   "id": "43baae27-9da7-4218-83a9-d4d4238988eb",
   "metadata": {},
   "outputs": [
    {
     "data": {
      "text/plain": [
       "array([[[252, 252, 252],\n",
       "        [252, 252, 252],\n",
       "        [252, 252, 252],\n",
       "        ...,\n",
       "        [ 52,  52,  52],\n",
       "        [ 52,  52,  52],\n",
       "        [ 52,  52,  52]],\n",
       "\n",
       "       [[252, 252, 252],\n",
       "        [252, 252, 252],\n",
       "        [252, 252, 252],\n",
       "        ...,\n",
       "        [ 52,  52,  52],\n",
       "        [ 52,  52,  52],\n",
       "        [ 52,  52,  52]],\n",
       "\n",
       "       [[252, 252, 252],\n",
       "        [252, 252, 252],\n",
       "        [252, 252, 252],\n",
       "        ...,\n",
       "        [ 52,  52,  52],\n",
       "        [ 52,  52,  52],\n",
       "        [ 52,  52,  52]],\n",
       "\n",
       "       ...,\n",
       "\n",
       "       [[ 60,  60,  60],\n",
       "        [ 59,  59,  59],\n",
       "        [ 57,  57,  57],\n",
       "        ...,\n",
       "        [ 25,  25,  25],\n",
       "        [ 25,  25,  25],\n",
       "        [ 25,  25,  25]],\n",
       "\n",
       "       [[ 60,  60,  60],\n",
       "        [ 59,  59,  59],\n",
       "        [ 57,  57,  57],\n",
       "        ...,\n",
       "        [ 25,  25,  25],\n",
       "        [ 25,  25,  25],\n",
       "        [ 25,  25,  25]],\n",
       "\n",
       "       [[ 60,  60,  60],\n",
       "        [ 59,  59,  59],\n",
       "        [ 57,  57,  57],\n",
       "        ...,\n",
       "        [ 25,  25,  25],\n",
       "        [ 25,  25,  25],\n",
       "        [ 25,  25,  25]]], dtype=uint8)"
      ]
     },
     "execution_count": 169,
     "metadata": {},
     "output_type": "execute_result"
    }
   ],
   "source": [
    "crop_frame"
   ]
  },
  {
   "cell_type": "code",
   "execution_count": 170,
   "id": "d5e5d542-057c-48c8-be3e-f732d63c1ed2",
   "metadata": {},
   "outputs": [
    {
     "data": {
      "text/plain": [
       "<matplotlib.image.AxesImage at 0x7f779333aaf0>"
      ]
     },
     "execution_count": 170,
     "metadata": {},
     "output_type": "execute_result"
    },
    {
     "data": {
      "image/png": "[encoded data removed]",
      "text/plain": [
       "<Figure size 432x288 with 1 Axes>"
      ]
     },
     "metadata": {
      "needs_background": "light"
     },
     "output_type": "display_data"
    }
   ],
   "source": [
    "plt.imshow(crop_frame)"
   ]
  },
  {
   "cell_type": "code",
   "execution_count": 171,
   "id": "6c8a2a55-1105-4f16-8461-9ebdc53f9525",
   "metadata": {},
   "outputs": [],
   "source": [
    "KSS_probas = model.predict(np.expand_dims(crop_frame, axis=0))[0]"
   ]
  },
  {
   "cell_type": "code",
   "execution_count": 172,
   "id": "8cdcd5ce-b16f-48b5-8e32-6c3b0a7402ac",
   "metadata": {},
   "outputs": [
    {
     "data": {
      "text/plain": [
       "<BarContainer object of 10 artists>"
      ]
     },
     "execution_count": 172,
     "metadata": {},
     "output_type": "execute_result"
    },
    {
     "data": {
      "image/png": "[encoded data removed]",
      "text/plain": [
       "<Figure size 432x288 with 1 Axes>"
      ]
     },
     "metadata": {
      "needs_background": "light"
     },
     "output_type": "display_data"
    }
   ],
   "source": [
    "plt.bar(range(10), KSS_probas)"
   ]
  },
  {
   "cell_type": "code",
   "execution_count": 111,
   "id": "3e8709d1-1349-425f-b611-be1483748a40",
   "metadata": {},
   "outputs": [
    {
     "data": {
      "text/html": [
       "<div>\n",
       "<style scoped>\n",
       "    .dataframe tbody tr th:only-of-type {\n",
       "        vertical-align: middle;\n",
       "    }\n",
       "\n",
       "    .dataframe tbody tr th {\n",
       "        vertical-align: top;\n",
       "    }\n",
       "\n",
       "    .dataframe thead th {\n",
       "        text-align: right;\n",
       "    }\n",
       "</style>\n",
       "<table border=\"1\" class=\"dataframe\">\n",
       "  <thead>\n",
       "    <tr style=\"text-align: right;\">\n",
       "      <th></th>\n",
       "      <th>0</th>\n",
       "    </tr>\n",
       "  </thead>\n",
       "  <tbody>\n",
       "    <tr>\n",
       "      <th>count</th>\n",
       "      <td>10.000000</td>\n",
       "    </tr>\n",
       "    <tr>\n",
       "      <th>mean</th>\n",
       "      <td>0.100000</td>\n",
       "    </tr>\n",
       "    <tr>\n",
       "      <th>std</th>\n",
       "      <td>0.072104</td>\n",
       "    </tr>\n",
       "    <tr>\n",
       "      <th>min</th>\n",
       "      <td>0.001936</td>\n",
       "    </tr>\n",
       "    <tr>\n",
       "      <th>25%</th>\n",
       "      <td>0.044492</td>\n",
       "    </tr>\n",
       "    <tr>\n",
       "      <th>50%</th>\n",
       "      <td>0.112908</td>\n",
       "    </tr>\n",
       "    <tr>\n",
       "      <th>75%</th>\n",
       "      <td>0.130702</td>\n",
       "    </tr>\n",
       "    <tr>\n",
       "      <th>max</th>\n",
       "      <td>0.238241</td>\n",
       "    </tr>\n",
       "  </tbody>\n",
       "</table>\n",
       "</div>"
      ],
      "text/plain": [
       "               0\n",
       "count  10.000000\n",
       "mean    0.100000\n",
       "std     0.072104\n",
       "min     0.001936\n",
       "25%     0.044492\n",
       "50%     0.112908\n",
       "75%     0.130702\n",
       "max     0.238241"
      ]
     },
     "execution_count": 111,
     "metadata": {},
     "output_type": "execute_result"
    }
   ],
   "source": [
    "pd.DataFrame(KSS_probas).describe()"
   ]
  },
  {
   "cell_type": "code",
   "execution_count": 77,
   "id": "8cd70dda-6cbf-480f-a1a1-a71bf42a3a00",
   "metadata": {},
   "outputs": [],
   "source": [
    "import pandas as pd\n",
    "import matplotlib.pyplot as plt"
   ]
  }
 ],
 "metadata": {
  "kernelspec": {
   "display_name": "Python 3 (ipykernel)",
   "language": "python",
   "name": "python3"
  },
  "language_info": {
   "codemirror_mode": {
    "name": "ipython",
    "version": 3
   },
   "file_extension": ".py",
   "mimetype": "text/x-python",
   "name": "python",
   "nbconvert_exporter": "python",
   "pygments_lexer": "ipython3",
   "version": "3.8.12"
  }
 },
 "nbformat": 4,
 "nbformat_minor": 5
}
